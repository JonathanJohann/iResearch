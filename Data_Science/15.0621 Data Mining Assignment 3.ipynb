{
 "cells": [
  {
   "cell_type": "markdown",
   "metadata": {},
   "source": [
    "# Data Mining Assignment 3"
   ]
  },
  {
   "cell_type": "markdown",
   "metadata": {},
   "source": [
    "### By: Jonathan Johannemann\n",
    "The following is based off of the German Credit case."
   ]
  },
  {
   "cell_type": "code",
   "execution_count": 54,
   "metadata": {
    "collapsed": false
   },
   "outputs": [
    {
     "name": "stdout",
     "output_type": "stream",
     "text": [
      "The predictor variables are: ['CHK_ACCT' 'DURATION' 'HISTORY' 'NEW_CAR' 'USED_CAR' 'FURNITURE'\n",
      " 'RADIO/TV' 'EDUCATION' 'RETRAINING' 'AMOUNT' 'SAV_ACCT' 'EMPLOYMENT'\n",
      " 'INSTALL_RATE' 'MALE_DIV' 'MALE_SINGLE' 'MALE_MAR_or_WID' 'CO-APPLICANT'\n",
      " 'GUARANTOR' 'PRESENT_RESIDENT' 'REAL_ESTATE' 'PROP_UNKN_NONE' 'AGE'\n",
      " 'OTHER_INSTALL' 'RENT' 'OWN_RES' 'NUM_CREDITS' 'JOB' 'NUM_DEPENDENTS'\n",
      " 'TELEPHONE' 'FOREIGN']\n",
      "\n",
      "Training Set Length: 600\n",
      "Cross Validation Set Length: 200\n",
      "Test Set Length: 200\n"
     ]
    }
   ],
   "source": [
    "import pandas as pd,matplotlib.pyplot as plt\n",
    "import warnings; warnings.filterwarnings('ignore')\n",
    "from sklearn import *\n",
    "%matplotlib inline\n",
    "df = pd.read_csv(\"GermanCredit.csv\",sep=',',header=0)\n",
    "predictors,predicted = df.columns.values[1:-1],df.columns.values[-1]\n",
    "train,cv = model_selection.train_test_split(df,test_size=0.4)\n",
    "cv,test = model_selection.train_test_split(cv,test_size=0.5)\n",
    "print \"The predictor variables are:\",predictors\n",
    "print \"\\nTraining Set Length:\",len(train)\n",
    "print \"Cross Validation Set Length:\",len(cv)\n",
    "print \"Test Set Length:\",len(test)"
   ]
  },
  {
   "cell_type": "markdown",
   "metadata": {},
   "source": [
    "Instead, for this assignment, students were told to split the data into training, cross validation and test data. Furthermore, we can also see some of the different predictors listed above."
   ]
  },
  {
   "cell_type": "code",
   "execution_count": 55,
   "metadata": {
    "collapsed": false
   },
   "outputs": [
    {
     "data": {
      "text/html": [
       "<div>\n",
       "<table border=\"1\" class=\"dataframe\">\n",
       "  <thead>\n",
       "    <tr style=\"text-align: right;\">\n",
       "      <th></th>\n",
       "      <th>OBS#</th>\n",
       "      <th>CHK_ACCT</th>\n",
       "      <th>DURATION</th>\n",
       "      <th>HISTORY</th>\n",
       "      <th>NEW_CAR</th>\n",
       "      <th>USED_CAR</th>\n",
       "      <th>FURNITURE</th>\n",
       "      <th>RADIO/TV</th>\n",
       "      <th>EDUCATION</th>\n",
       "      <th>RETRAINING</th>\n",
       "      <th>...</th>\n",
       "      <th>AGE</th>\n",
       "      <th>OTHER_INSTALL</th>\n",
       "      <th>RENT</th>\n",
       "      <th>OWN_RES</th>\n",
       "      <th>NUM_CREDITS</th>\n",
       "      <th>JOB</th>\n",
       "      <th>NUM_DEPENDENTS</th>\n",
       "      <th>TELEPHONE</th>\n",
       "      <th>FOREIGN</th>\n",
       "      <th>RESPONSE</th>\n",
       "    </tr>\n",
       "  </thead>\n",
       "  <tbody>\n",
       "    <tr>\n",
       "      <th>count</th>\n",
       "      <td>1000.000000</td>\n",
       "      <td>1000.000000</td>\n",
       "      <td>1000.000000</td>\n",
       "      <td>1000.00000</td>\n",
       "      <td>1000.000000</td>\n",
       "      <td>1000.000000</td>\n",
       "      <td>1000.000000</td>\n",
       "      <td>1000.000000</td>\n",
       "      <td>1000.000000</td>\n",
       "      <td>1000.000000</td>\n",
       "      <td>...</td>\n",
       "      <td>1000.000000</td>\n",
       "      <td>1000.000000</td>\n",
       "      <td>1000.000000</td>\n",
       "      <td>1000.000000</td>\n",
       "      <td>1000.000000</td>\n",
       "      <td>1000.000000</td>\n",
       "      <td>1000.000000</td>\n",
       "      <td>1000.000000</td>\n",
       "      <td>1000.000000</td>\n",
       "      <td>1000.000000</td>\n",
       "    </tr>\n",
       "    <tr>\n",
       "      <th>mean</th>\n",
       "      <td>500.500000</td>\n",
       "      <td>1.577000</td>\n",
       "      <td>20.903000</td>\n",
       "      <td>2.54500</td>\n",
       "      <td>0.234000</td>\n",
       "      <td>0.103000</td>\n",
       "      <td>0.181000</td>\n",
       "      <td>0.280000</td>\n",
       "      <td>0.050000</td>\n",
       "      <td>0.097000</td>\n",
       "      <td>...</td>\n",
       "      <td>35.546000</td>\n",
       "      <td>0.186000</td>\n",
       "      <td>0.179000</td>\n",
       "      <td>0.713000</td>\n",
       "      <td>1.407000</td>\n",
       "      <td>1.904000</td>\n",
       "      <td>1.155000</td>\n",
       "      <td>0.404000</td>\n",
       "      <td>0.037000</td>\n",
       "      <td>0.700000</td>\n",
       "    </tr>\n",
       "    <tr>\n",
       "      <th>std</th>\n",
       "      <td>288.819436</td>\n",
       "      <td>1.257638</td>\n",
       "      <td>12.058814</td>\n",
       "      <td>1.08312</td>\n",
       "      <td>0.423584</td>\n",
       "      <td>0.304111</td>\n",
       "      <td>0.385211</td>\n",
       "      <td>0.449224</td>\n",
       "      <td>0.218054</td>\n",
       "      <td>0.296106</td>\n",
       "      <td>...</td>\n",
       "      <td>11.375469</td>\n",
       "      <td>0.389301</td>\n",
       "      <td>0.383544</td>\n",
       "      <td>0.452588</td>\n",
       "      <td>0.577654</td>\n",
       "      <td>0.653614</td>\n",
       "      <td>0.362086</td>\n",
       "      <td>0.490943</td>\n",
       "      <td>0.188856</td>\n",
       "      <td>0.458487</td>\n",
       "    </tr>\n",
       "    <tr>\n",
       "      <th>min</th>\n",
       "      <td>1.000000</td>\n",
       "      <td>0.000000</td>\n",
       "      <td>4.000000</td>\n",
       "      <td>0.00000</td>\n",
       "      <td>0.000000</td>\n",
       "      <td>0.000000</td>\n",
       "      <td>0.000000</td>\n",
       "      <td>0.000000</td>\n",
       "      <td>0.000000</td>\n",
       "      <td>0.000000</td>\n",
       "      <td>...</td>\n",
       "      <td>19.000000</td>\n",
       "      <td>0.000000</td>\n",
       "      <td>0.000000</td>\n",
       "      <td>0.000000</td>\n",
       "      <td>1.000000</td>\n",
       "      <td>0.000000</td>\n",
       "      <td>1.000000</td>\n",
       "      <td>0.000000</td>\n",
       "      <td>0.000000</td>\n",
       "      <td>0.000000</td>\n",
       "    </tr>\n",
       "    <tr>\n",
       "      <th>25%</th>\n",
       "      <td>250.750000</td>\n",
       "      <td>0.000000</td>\n",
       "      <td>12.000000</td>\n",
       "      <td>2.00000</td>\n",
       "      <td>0.000000</td>\n",
       "      <td>0.000000</td>\n",
       "      <td>0.000000</td>\n",
       "      <td>0.000000</td>\n",
       "      <td>0.000000</td>\n",
       "      <td>0.000000</td>\n",
       "      <td>...</td>\n",
       "      <td>27.000000</td>\n",
       "      <td>0.000000</td>\n",
       "      <td>0.000000</td>\n",
       "      <td>0.000000</td>\n",
       "      <td>1.000000</td>\n",
       "      <td>2.000000</td>\n",
       "      <td>1.000000</td>\n",
       "      <td>0.000000</td>\n",
       "      <td>0.000000</td>\n",
       "      <td>0.000000</td>\n",
       "    </tr>\n",
       "    <tr>\n",
       "      <th>50%</th>\n",
       "      <td>500.500000</td>\n",
       "      <td>1.000000</td>\n",
       "      <td>18.000000</td>\n",
       "      <td>2.00000</td>\n",
       "      <td>0.000000</td>\n",
       "      <td>0.000000</td>\n",
       "      <td>0.000000</td>\n",
       "      <td>0.000000</td>\n",
       "      <td>0.000000</td>\n",
       "      <td>0.000000</td>\n",
       "      <td>...</td>\n",
       "      <td>33.000000</td>\n",
       "      <td>0.000000</td>\n",
       "      <td>0.000000</td>\n",
       "      <td>1.000000</td>\n",
       "      <td>1.000000</td>\n",
       "      <td>2.000000</td>\n",
       "      <td>1.000000</td>\n",
       "      <td>0.000000</td>\n",
       "      <td>0.000000</td>\n",
       "      <td>1.000000</td>\n",
       "    </tr>\n",
       "    <tr>\n",
       "      <th>75%</th>\n",
       "      <td>750.250000</td>\n",
       "      <td>3.000000</td>\n",
       "      <td>24.000000</td>\n",
       "      <td>4.00000</td>\n",
       "      <td>0.000000</td>\n",
       "      <td>0.000000</td>\n",
       "      <td>0.000000</td>\n",
       "      <td>1.000000</td>\n",
       "      <td>0.000000</td>\n",
       "      <td>0.000000</td>\n",
       "      <td>...</td>\n",
       "      <td>42.000000</td>\n",
       "      <td>0.000000</td>\n",
       "      <td>0.000000</td>\n",
       "      <td>1.000000</td>\n",
       "      <td>2.000000</td>\n",
       "      <td>2.000000</td>\n",
       "      <td>1.000000</td>\n",
       "      <td>1.000000</td>\n",
       "      <td>0.000000</td>\n",
       "      <td>1.000000</td>\n",
       "    </tr>\n",
       "    <tr>\n",
       "      <th>max</th>\n",
       "      <td>1000.000000</td>\n",
       "      <td>3.000000</td>\n",
       "      <td>72.000000</td>\n",
       "      <td>4.00000</td>\n",
       "      <td>1.000000</td>\n",
       "      <td>1.000000</td>\n",
       "      <td>1.000000</td>\n",
       "      <td>1.000000</td>\n",
       "      <td>1.000000</td>\n",
       "      <td>1.000000</td>\n",
       "      <td>...</td>\n",
       "      <td>75.000000</td>\n",
       "      <td>1.000000</td>\n",
       "      <td>1.000000</td>\n",
       "      <td>1.000000</td>\n",
       "      <td>4.000000</td>\n",
       "      <td>3.000000</td>\n",
       "      <td>2.000000</td>\n",
       "      <td>1.000000</td>\n",
       "      <td>1.000000</td>\n",
       "      <td>1.000000</td>\n",
       "    </tr>\n",
       "  </tbody>\n",
       "</table>\n",
       "<p>8 rows × 32 columns</p>\n",
       "</div>"
      ],
      "text/plain": [
       "              OBS#     CHK_ACCT     DURATION     HISTORY      NEW_CAR  \\\n",
       "count  1000.000000  1000.000000  1000.000000  1000.00000  1000.000000   \n",
       "mean    500.500000     1.577000    20.903000     2.54500     0.234000   \n",
       "std     288.819436     1.257638    12.058814     1.08312     0.423584   \n",
       "min       1.000000     0.000000     4.000000     0.00000     0.000000   \n",
       "25%     250.750000     0.000000    12.000000     2.00000     0.000000   \n",
       "50%     500.500000     1.000000    18.000000     2.00000     0.000000   \n",
       "75%     750.250000     3.000000    24.000000     4.00000     0.000000   \n",
       "max    1000.000000     3.000000    72.000000     4.00000     1.000000   \n",
       "\n",
       "          USED_CAR    FURNITURE     RADIO/TV    EDUCATION   RETRAINING  \\\n",
       "count  1000.000000  1000.000000  1000.000000  1000.000000  1000.000000   \n",
       "mean      0.103000     0.181000     0.280000     0.050000     0.097000   \n",
       "std       0.304111     0.385211     0.449224     0.218054     0.296106   \n",
       "min       0.000000     0.000000     0.000000     0.000000     0.000000   \n",
       "25%       0.000000     0.000000     0.000000     0.000000     0.000000   \n",
       "50%       0.000000     0.000000     0.000000     0.000000     0.000000   \n",
       "75%       0.000000     0.000000     1.000000     0.000000     0.000000   \n",
       "max       1.000000     1.000000     1.000000     1.000000     1.000000   \n",
       "\n",
       "          ...               AGE  OTHER_INSTALL         RENT      OWN_RES  \\\n",
       "count     ...       1000.000000    1000.000000  1000.000000  1000.000000   \n",
       "mean      ...         35.546000       0.186000     0.179000     0.713000   \n",
       "std       ...         11.375469       0.389301     0.383544     0.452588   \n",
       "min       ...         19.000000       0.000000     0.000000     0.000000   \n",
       "25%       ...         27.000000       0.000000     0.000000     0.000000   \n",
       "50%       ...         33.000000       0.000000     0.000000     1.000000   \n",
       "75%       ...         42.000000       0.000000     0.000000     1.000000   \n",
       "max       ...         75.000000       1.000000     1.000000     1.000000   \n",
       "\n",
       "       NUM_CREDITS          JOB  NUM_DEPENDENTS    TELEPHONE      FOREIGN  \\\n",
       "count  1000.000000  1000.000000     1000.000000  1000.000000  1000.000000   \n",
       "mean      1.407000     1.904000        1.155000     0.404000     0.037000   \n",
       "std       0.577654     0.653614        0.362086     0.490943     0.188856   \n",
       "min       1.000000     0.000000        1.000000     0.000000     0.000000   \n",
       "25%       1.000000     2.000000        1.000000     0.000000     0.000000   \n",
       "50%       1.000000     2.000000        1.000000     0.000000     0.000000   \n",
       "75%       2.000000     2.000000        1.000000     1.000000     0.000000   \n",
       "max       4.000000     3.000000        2.000000     1.000000     1.000000   \n",
       "\n",
       "          RESPONSE  \n",
       "count  1000.000000  \n",
       "mean      0.700000  \n",
       "std       0.458487  \n",
       "min       0.000000  \n",
       "25%       0.000000  \n",
       "50%       1.000000  \n",
       "75%       1.000000  \n",
       "max       1.000000  \n",
       "\n",
       "[8 rows x 32 columns]"
      ]
     },
     "execution_count": 55,
     "metadata": {},
     "output_type": "execute_result"
    }
   ],
   "source": [
    "df.describe()"
   ]
  },
  {
   "cell_type": "code",
   "execution_count": 56,
   "metadata": {
    "collapsed": false
   },
   "outputs": [],
   "source": [
    "contin = ['AMOUNT','DURATION','AGE']\n",
    "for c in contin:\n",
    "    train[c] = preprocessing.scale(train[c])\n",
    "    cv[c] = preprocessing.scale(cv[c])\n",
    "    test[c] = preprocessing.scale(test[c])\n"
   ]
  },
  {
   "cell_type": "markdown",
   "metadata": {},
   "source": [
    "Above, I took the three continuous variables that will be used in the model and scaled them using sklearn.preprocessing.scale. The way that this function goes about scaling is centering with respect to the mean and divided by unit variance."
   ]
  },
  {
   "cell_type": "code",
   "execution_count": 57,
   "metadata": {
    "collapsed": false
   },
   "outputs": [
    {
     "name": "stdout",
     "output_type": "stream",
     "text": [
      "(0.13468994025406139, 'CHK_ACCT')\n",
      "(0.13297283513853969, 'AMOUNT')\n",
      "(0.095695297584355257, 'AGE')\n",
      "(0.079595703773167728, 'DURATION')\n",
      "(0.077993426118986658, 'EMPLOYMENT')\n",
      "(0.068567052820036056, 'SAV_ACCT')\n",
      "(0.062118008075839636, 'HISTORY')\n",
      "(0.037592963745094354, 'PRESENT_RESIDENT')\n",
      "(0.03643725621996332, 'INSTALL_RATE')\n",
      "(0.030348000170544509, 'JOB')\n",
      "(0.029506530163748809, 'EDUCATION')\n",
      "(0.028043985402128491, 'USED_CAR')\n",
      "(0.02635488751608478, 'MALE_MAR_or_WID')\n",
      "(0.024568605216975563, 'NUM_DEPENDENTS')\n",
      "(0.021821767696936847, 'RETRAINING')\n",
      "(0.020278208960621807, 'GUARANTOR')\n",
      "(0.016728430088701954, 'OTHER_INSTALL')\n",
      "(0.012854189406280052, 'PROP_UNKN_NONE')\n",
      "(0.010736415352354771, 'RADIO/TV')\n",
      "(0.0090314070359748914, 'RENT')\n",
      "(0.0086146460315679532, 'NEW_CAR')\n",
      "(0.0083314472063119836, 'FURNITURE')\n",
      "(0.0070120607444805073, 'FOREIGN')\n",
      "(0.0064832007948080889, 'TELEPHONE')\n",
      "(0.005008614817486076, 'NUM_CREDITS')\n",
      "(0.0040068918539888608, 'MALE_SINGLE')\n",
      "(0.0025534114755811446, 'MALE_DIV')\n",
      "(0.0020548163353789001, 'REAL_ESTATE')\n",
      "(0.0, 'OWN_RES')\n",
      "(0.0, 'CO-APPLICANT')\n"
     ]
    }
   ],
   "source": [
    "for pair in sorted(zip(tree.DecisionTreeClassifier().fit(train[predictors],train[predicted]).feature_importances_,predictors),reverse=True): \n",
    "    print pair"
   ]
  },
  {
   "cell_type": "markdown",
   "metadata": {},
   "source": [
    "Using the decision tree classifier, I tried to see what the feature importances were for each variable."
   ]
  },
  {
   "cell_type": "code",
   "execution_count": 58,
   "metadata": {
    "collapsed": false
   },
   "outputs": [],
   "source": [
    "variables_selected = ['CHK_ACCT','AMOUNT','DURATION','AGE','PRESENT_RESIDENT',\n",
    "                      'EMPLOYMENT','HISTORY','SAV_ACCT','JOB','OTHER_INSTALL',\n",
    "                      'NUM_DEPENDENTS']"
   ]
  },
  {
   "cell_type": "markdown",
   "metadata": {},
   "source": [
    "Based on the feature importances, I picked the above variables."
   ]
  },
  {
   "cell_type": "code",
   "execution_count": 59,
   "metadata": {
    "collapsed": false
   },
   "outputs": [
    {
     "name": "stdout",
     "output_type": "stream",
     "text": [
      "USED_CAR : 103\n",
      "NEW_CAR : 234\n",
      "RADIO/TV : 280\n",
      "EDUCATION : 50\n",
      "RETRAINING : 97\n",
      "FURNITURE : 181\n",
      "Entire dataframe length: 1000\n"
     ]
    }
   ],
   "source": [
    "purpose = ['USED_CAR','NEW_CAR','RADIO/TV','EDUCATION','RETRAINING','FURNITURE']\n",
    "for col in purpose:\n",
    "    print col, \":\", len(df[df[col]==1])\n",
    "print \"Entire dataframe length:\",len(df)"
   ]
  },
  {
   "cell_type": "markdown",
   "metadata": {},
   "source": [
    "As we can see, these reasons for requesting credit are not consistent and so it will either make sense to combine these reasons into one column or neglect them entirely. For now, given that some of the reasons are represented far more than others (280 for RADIO/TV vs 50 for EDUCATION), I am going to leave this out."
   ]
  },
  {
   "cell_type": "code",
   "execution_count": 60,
   "metadata": {
    "collapsed": false
   },
   "outputs": [],
   "source": [
    "from sklearn.grid_search import GridSearchCV\n",
    "log_reg_params = {'penalty' : ('l1','l2')}\n",
    "log_reg = GridSearchCV(linear_model.LogisticRegression(),log_reg_params)\n",
    "\n",
    "decision_tree_params = {'criterion' : ['gini','entropy'],\n",
    "                        'max_depth' : [3,4,5,6,8,None],\n",
    "                        'min_samples_split' : [2,4,8,16,32,64],\n",
    "                        'min_impurity_split' : [1e-7,1e-6,1e-5,1e-4]}\n",
    "decision_tree = GridSearchCV(tree.DecisionTreeClassifier(),decision_tree_params)\n",
    "neural_network_params = {'activation' : ['relu','logistic','tanh'],\n",
    "                         'hidden_layer_sizes' : [(i) for i in range(1,30)]}\n",
    "neural_net = GridSearchCV(neural_network.MLPClassifier(),neural_network_params)\n",
    "\n",
    "lda_params = {'solver' : ['svd','lsqr','eigen']}\n",
    "lda = GridSearchCV(discriminant_analysis.LinearDiscriminantAnalysis(),lda_params)"
   ]
  },
  {
   "cell_type": "markdown",
   "metadata": {},
   "source": [
    "For the German Credit case, we were requested to use decision trees, neural networks, linear discriminant analysis, and logistic regression. Above, I used a grid search over parameters I was most familiar with in order to figure out what would be the best model."
   ]
  },
  {
   "cell_type": "code",
   "execution_count": 61,
   "metadata": {
    "collapsed": false
   },
   "outputs": [
    {
     "name": "stdout",
     "output_type": "stream",
     "text": [
      "Logistic Regression\n",
      "Train accuracy:  0.775\n",
      "Cross Validation accuracy:  0.735 \n",
      "\n"
     ]
    }
   ],
   "source": [
    "log_reg.fit(train[variables_selected],train[predicted])\n",
    "print \"Logistic Regression\"\n",
    "print \"Train accuracy: \",log_reg.score(train[variables_selected],train[predicted])\n",
    "print \"Cross Validation accuracy: \",log_reg.score(cv[variables_selected],cv[predicted]),\"\\n\""
   ]
  },
  {
   "cell_type": "code",
   "execution_count": 62,
   "metadata": {
    "collapsed": false
   },
   "outputs": [
    {
     "name": "stdout",
     "output_type": "stream",
     "text": [
      "{'penalty': 'l2'}\n",
      "LogisticRegression(C=1.0, class_weight=None, dual=False, fit_intercept=True,\n",
      "          intercept_scaling=1, max_iter=100, multi_class='ovr', n_jobs=1,\n",
      "          penalty='l2', random_state=None, solver='liblinear', tol=0.0001,\n",
      "          verbose=0, warm_start=False)\n"
     ]
    }
   ],
   "source": [
    "print log_reg.best_params_\n",
    "print log_reg.best_estimator_"
   ]
  },
  {
   "cell_type": "code",
   "execution_count": 63,
   "metadata": {
    "collapsed": false
   },
   "outputs": [
    {
     "name": "stdout",
     "output_type": "stream",
     "text": [
      "[[ 17  49]\n",
      " [ 24 110]]\n",
      "Test accuracy:  0.73\n"
     ]
    }
   ],
   "source": [
    "lr_pred = log_reg.predict(test[variables_selected])\n",
    "print metrics.confusion_matrix(cv[predicted],lr_pred)\n",
    "print \"Test accuracy: \",log_reg.score(test[variables_selected],test[predicted])"
   ]
  },
  {
   "cell_type": "code",
   "execution_count": 64,
   "metadata": {
    "collapsed": false
   },
   "outputs": [
    {
     "name": "stdout",
     "output_type": "stream",
     "text": [
      "Decision Tree\n",
      "Train accuracy:  0.791666666667\n",
      "Cross Validation accuracy:  0.73 \n",
      "\n"
     ]
    }
   ],
   "source": [
    "decision_tree.fit(train[variables_selected],train[predicted])\n",
    "print \"Decision Tree\"\n",
    "print \"Train accuracy: \",decision_tree.score(train[variables_selected],train[predicted])\n",
    "print \"Cross Validation accuracy: \",decision_tree.score(cv[variables_selected],cv[predicted]),\"\\n\""
   ]
  },
  {
   "cell_type": "code",
   "execution_count": 65,
   "metadata": {
    "collapsed": false
   },
   "outputs": [
    {
     "name": "stdout",
     "output_type": "stream",
     "text": [
      "{'min_samples_split': 64, 'min_impurity_split': 1e-07, 'criterion': 'gini', 'max_depth': 8}\n",
      "DecisionTreeClassifier(class_weight=None, criterion='gini', max_depth=8,\n",
      "            max_features=None, max_leaf_nodes=None,\n",
      "            min_impurity_split=1e-07, min_samples_leaf=1,\n",
      "            min_samples_split=64, min_weight_fraction_leaf=0.0,\n",
      "            presort=False, random_state=None, splitter='best')\n"
     ]
    }
   ],
   "source": [
    "print decision_tree.best_params_\n",
    "print decision_tree.best_estimator_"
   ]
  },
  {
   "cell_type": "code",
   "execution_count": 66,
   "metadata": {
    "collapsed": false
   },
   "outputs": [
    {
     "name": "stdout",
     "output_type": "stream",
     "text": [
      "[[ 10  56]\n",
      " [ 24 110]]\n",
      "Test accuracy:  0.755\n"
     ]
    }
   ],
   "source": [
    "dt_pred = decision_tree.predict(test[variables_selected])\n",
    "print metrics.confusion_matrix(cv[predicted],dt_pred)\n",
    "print \"Test accuracy: \",decision_tree.score(test[variables_selected],test[predicted])"
   ]
  },
  {
   "cell_type": "code",
   "execution_count": 67,
   "metadata": {
    "collapsed": false
   },
   "outputs": [
    {
     "name": "stdout",
     "output_type": "stream",
     "text": [
      "Neural Network\n",
      "Train accuracy:  0.801666666667\n",
      "Cross Validation accuracy:  0.725 \n",
      "\n"
     ]
    }
   ],
   "source": [
    "neural_net.fit(train[variables_selected],train[predicted])\n",
    "print \"Neural Network\"\n",
    "print \"Train accuracy: \",neural_net.score(train[variables_selected],train[predicted])\n",
    "print \"Cross Validation accuracy: \",neural_net.score(cv[variables_selected],cv[predicted]),\"\\n\""
   ]
  },
  {
   "cell_type": "code",
   "execution_count": 68,
   "metadata": {
    "collapsed": false
   },
   "outputs": [
    {
     "name": "stdout",
     "output_type": "stream",
     "text": [
      "{'activation': 'relu', 'hidden_layer_sizes': 17}\n",
      "MLPClassifier(activation='relu', alpha=0.0001, batch_size='auto', beta_1=0.9,\n",
      "       beta_2=0.999, early_stopping=False, epsilon=1e-08,\n",
      "       hidden_layer_sizes=17, learning_rate='constant',\n",
      "       learning_rate_init=0.001, max_iter=200, momentum=0.9,\n",
      "       nesterovs_momentum=True, power_t=0.5, random_state=None,\n",
      "       shuffle=True, solver='adam', tol=0.0001, validation_fraction=0.1,\n",
      "       verbose=False, warm_start=False)\n"
     ]
    }
   ],
   "source": [
    "print neural_net.best_params_\n",
    "print neural_net.best_estimator_"
   ]
  },
  {
   "cell_type": "code",
   "execution_count": 69,
   "metadata": {
    "collapsed": false
   },
   "outputs": [
    {
     "name": "stdout",
     "output_type": "stream",
     "text": [
      "[[ 16  50]\n",
      " [ 29 105]]\n",
      "Test accuracy:  0.72\n"
     ]
    }
   ],
   "source": [
    "nn_pred = neural_net.predict(test[variables_selected])\n",
    "print metrics.confusion_matrix(cv[predicted],nn_pred)\n",
    "print \"Test accuracy: \",neural_net.score(test[variables_selected],test[predicted])"
   ]
  },
  {
   "cell_type": "code",
   "execution_count": 70,
   "metadata": {
    "collapsed": false
   },
   "outputs": [
    {
     "name": "stdout",
     "output_type": "stream",
     "text": [
      "Linear Discriminant Analysis\n",
      "Train accuracy:  0.775\n",
      "Cross Validation accuracy:  0.735 \n",
      "\n"
     ]
    }
   ],
   "source": [
    "lda.fit(train[variables_selected],train[predicted])\n",
    "print \"Linear Discriminant Analysis\"\n",
    "print \"Train accuracy: \",lda.score(train[variables_selected],train[predicted])\n",
    "print \"Cross Validation accuracy: \",lda.score(cv[variables_selected],cv[predicted]),\"\\n\""
   ]
  },
  {
   "cell_type": "code",
   "execution_count": 71,
   "metadata": {
    "collapsed": false
   },
   "outputs": [
    {
     "name": "stdout",
     "output_type": "stream",
     "text": [
      "{'solver': 'svd'}\n",
      "LinearDiscriminantAnalysis(n_components=None, priors=None, shrinkage=None,\n",
      "              solver='svd', store_covariance=False, tol=0.0001)\n"
     ]
    }
   ],
   "source": [
    "print lda.best_params_\n",
    "print lda.best_estimator_"
   ]
  },
  {
   "cell_type": "code",
   "execution_count": 72,
   "metadata": {
    "collapsed": false
   },
   "outputs": [
    {
     "name": "stdout",
     "output_type": "stream",
     "text": [
      "[[ 18  48]\n",
      " [ 26 108]]\n",
      "Test accuracy:  0.715\n"
     ]
    }
   ],
   "source": [
    "lda_pred = lda.predict(test[variables_selected])\n",
    "print metrics.confusion_matrix(cv[predicted],lda_pred)\n",
    "print \"Test accuracy: \",lda.score(test[variables_selected],test[predicted])"
   ]
  },
  {
   "cell_type": "markdown",
   "metadata": {},
   "source": [
    "Above, we can see the performance of each model with train, cross validation, and test accuracies. Furthermore, the confusion matrices for the cross validation sets are provided. Finally, the configurations for the best model setups are shown."
   ]
  },
  {
   "cell_type": "code",
   "execution_count": 91,
   "metadata": {
    "collapsed": false
   },
   "outputs": [
    {
     "name": "stdout",
     "output_type": "stream",
     "text": [
      "Location of max profit is: 28\n",
      "[[48 18]\n",
      " [41 93]]\n"
     ]
    },
    {
     "data": {
      "image/png": "[encoded data removed]",
      "text/plain": [
       "<matplotlib.figure.Figure at 0x15758f28>"
      ]
     },
     "metadata": {},
     "output_type": "display_data"
    }
   ],
   "source": [
    "import numpy as np\n",
    "profits = []\n",
    "for j in range(100):\n",
    "    pred = []\n",
    "    for i in range(len(log_reg.predict_proba(cv[variables_selected]))):\n",
    "        pred.append(int(log_reg.predict_proba(cv[variables_selected])[i][0]<float(j/100.0)))\n",
    "\n",
    "    profits.append(sum(sum(metrics.confusion_matrix(cv[predicted],pred)*np.array([[1,-5],[-1,1]]))))\n",
    "plt.figure(figsize=(9,9))\n",
    "plt.plot(range(100),profits,'g',range(100),np.zeros(100),'r-')\n",
    "plt.plot(profits.index(max(profits)),max(profits),'b*')\n",
    "plt.title('Max Profit: %s' % max(profits))\n",
    "plt.grid(True)\n",
    "print \"Location of max profit is: %s\" % profits.index(max(profits))\n",
    "pred = []\n",
    "for i in range(len(log_reg.predict_proba(cv[variables_selected]))):\n",
    "    pred.append(int(log_reg.predict_proba(cv[variables_selected])[i][0]<float(profits.index(max(profits))/100.0)))\n",
    "print metrics.confusion_matrix(cv[predicted],pred)"
   ]
  },
  {
   "cell_type": "markdown",
   "metadata": {},
   "source": [
    "For this next section, a profit matrix of [[1 -5], [-1 1]] was provided. Applying this profit matrix to get a decision matrix, we find that it is optimal to have a percentage cutoff of 100-28 = 72% percent probability for maximum profit. After this, all instances below this probability would be predicted as non-response or not creditworthy for logistic regression given that it had one of the best performances on the cross validation data (the data set we were supposed to reference for the decision matrix)."
   ]
  },
  {
   "cell_type": "code",
   "execution_count": 74,
   "metadata": {
    "collapsed": false
   },
   "outputs": [
    {
     "name": "stdout",
     "output_type": "stream",
     "text": [
      "Location of max profit is: 26\n",
      "[[ 41  25]\n",
      " [ 31 103]]\n"
     ]
    },
    {
     "data": {
      "image/png": "[encoded data removed]",
      "text/plain": [
       "<matplotlib.figure.Figure at 0x126de710>"
      ]
     },
     "metadata": {},
     "output_type": "display_data"
    }
   ],
   "source": [
    "import numpy as np\n",
    "profits = []\n",
    "for j in range(100):\n",
    "    lr_pred = []\n",
    "    for i in range(len(lda.predict_proba(cv[variables_selected]))):\n",
    "        lr_pred.append(int(lda.predict_proba(cv[variables_selected])[i][0]<float(j/100.0)))\n",
    "\n",
    "    profits.append(sum(sum(metrics.confusion_matrix(cv[predicted],lr_pred)*np.array([[1,-5],[-1,1]]))))\n",
    "plt.figure(figsize=(9,9))\n",
    "plt.plot(range(100),profits,'g',range(100),np.zeros(100),'r-')\n",
    "plt.plot(profits.index(max(profits)),max(profits),'b*')\n",
    "plt.title('Max Profit: %s' % max(profits))\n",
    "plt.grid(True)\n",
    "print \"Location of max profit is: %s\" % profits.index(max(profits))\n",
    "lr_pred = []\n",
    "for i in range(len(lda.predict_proba(cv[variables_selected]))):\n",
    "    lr_pred.append(int(lda.predict_proba(cv[variables_selected])[i][0]<float(34/100.0)))\n",
    "print metrics.confusion_matrix(cv[predicted],lr_pred)"
   ]
  },
  {
   "cell_type": "markdown",
   "metadata": {},
   "source": [
    "For this next section, a profit matrix of [[1 -5], [-1 1]] was provided. Applying this profit matrix to get a decision matrix, we find that it is optimal to have a percentage cutoff of 100-26 = 74% percent probability for maximum profit. After this, all instances below this probability would be predicted as non-response or not creditworthy for linear discriminant analysis given that it had one of the best performances on the cross validation data (the data set we were supposed to reference for the decision matrix)."
   ]
  },
  {
   "cell_type": "code",
   "execution_count": 92,
   "metadata": {
    "collapsed": false
   },
   "outputs": [
    {
     "name": "stdout",
     "output_type": "stream",
     "text": [
      "Location of max profit is: 76\n",
      "This is the 38.0 percentile\n",
      "The max profit is: 17\n",
      "Total data profit: -50\n",
      "Max profit probability cutoff: 0.839888846699\n"
     ]
    },
    {
     "data": {
      "image/png": "[encoded data removed]",
      "text/plain": [
       "<matplotlib.figure.Figure at 0x15744198>"
      ]
     },
     "metadata": {},
     "output_type": "display_data"
    }
   ],
   "source": [
    "profit_check = []\n",
    "val_zips = sorted(zip([y for (x,y) in log_reg.predict_proba(cv[variables_selected])],cv.RESPONSE),reverse=True)\n",
    "\n",
    "profit = 0\n",
    "for z in range(len(val_zips)):\n",
    "    if (val_zips[z][0] >0.5) and (1 == val_zips[z][1]):\n",
    "        profit+=1\n",
    "    elif (val_zips[z][0] >0.5) and (val_zips[z][1] == 0):\n",
    "        profit-=5\n",
    "    elif (val_zips[z][0]<0.5) and (val_zips[z][1]== 0):\n",
    "        profit+=1\n",
    "    else:\n",
    "        profit-=1\n",
    "    profit_check.append(profit)\n",
    "plt.figure(figsize=(12,12))\n",
    "plt.plot(range(len(profit_check)),profit_check,'g-')\n",
    "plt.plot(range(200),np.zeros(200),'r-')\n",
    "plt.plot(profit_check.index(max(profit_check)),max(profit_check),'b*')\n",
    "plt.ylim([-60,60])\n",
    "print \"Location of max profit is: %s\" % profit_check.index(max(profit_check))\n",
    "print \"This is the %s percentile\" % (100*profit_check.index(max(profit_check))/200.0)\n",
    "print \"The max profit is: %s\" % max(profit_check)\n",
    "print \"Total data profit: %s\" % profit_check[-1]\n",
    "print \"Max profit probability cutoff: %s\" % sorted(zip([y for (x,y) in log_reg.predict_proba(cv[variables_selected])],cv.RESPONSE),reverse=True)[int(2*(100*profit_check.index(max(profit_check))/200.0))][0]"
   ]
  },
  {
   "cell_type": "markdown",
   "metadata": {},
   "source": []
  },
  {
   "cell_type": "markdown",
   "metadata": {},
   "source": [
    "## 2. For the German credit data (ensembles):"
   ]
  },
  {
   "cell_type": "markdown",
   "metadata": {},
   "source": [
    "### 2. a) i. Create a column of average predicted probabilities and use a cutoff of 0.5"
   ]
  },
  {
   "cell_type": "code",
   "execution_count": 77,
   "metadata": {
    "collapsed": false
   },
   "outputs": [],
   "source": [
    "from operator import add\n",
    "temp1 = map(add,log_reg.predict_proba(test[variables_selected]),decision_tree.predict_proba(test[variables_selected]))\n",
    "temp2 = map(add,neural_net.predict_proba(test[variables_selected]),lda.predict_proba(test[variables_selected]))\n",
    "test['average_prob'] =  map(add,temp1,temp2)\n",
    "test['average_prob'] = test.average_prob / 4.0\n",
    "test['ensemble_prediction'] = test.average_prob.apply(lambda x: x.argmax())"
   ]
  },
  {
   "cell_type": "markdown",
   "metadata": {},
   "source": [
    "### 2. a) ii. Create a confusion matrix for the classifications and note the overall rate"
   ]
  },
  {
   "cell_type": "code",
   "execution_count": 78,
   "metadata": {
    "collapsed": false
   },
   "outputs": [
    {
     "name": "stdout",
     "output_type": "stream",
     "text": [
      "[[ 22  35]\n",
      " [ 17 126]]\n"
     ]
    }
   ],
   "source": [
    "print metrics.confusion_matrix(test.RESPONSE,test.ensemble_prediction)"
   ]
  },
  {
   "cell_type": "markdown",
   "metadata": {},
   "source": [
    "### 2. b) Compare error rates on test data for the four individual and then the ensemble method"
   ]
  },
  {
   "cell_type": "code",
   "execution_count": 79,
   "metadata": {
    "collapsed": false
   },
   "outputs": [
    {
     "name": "stdout",
     "output_type": "stream",
     "text": [
      "For logistic regression the confusion matrix is: \n",
      "[[ 22  35]\n",
      " [ 19 124]]\n",
      "For the classification tree the confusion matrix is: \n",
      "[[ 21  36]\n",
      " [ 13 130]]\n",
      "For the neural network the confusion matrix is: \n",
      "[[ 23  34]\n",
      " [ 22 121]]\n",
      "For linear discriminant analysis the confusion matrix is: \n",
      "[[ 22  35]\n",
      " [ 22 121]]\n"
     ]
    }
   ],
   "source": [
    "log_pred = log_reg.predict_proba(test[variables_selected])\n",
    "print \"For logistic regression the confusion matrix is: \\n\",metrics.confusion_matrix(test.RESPONSE,log_pred.argmax(axis=1))\n",
    "dec_pred = decision_tree.predict_proba(test[variables_selected])\n",
    "print \"For the classification tree the confusion matrix is: \\n\",metrics.confusion_matrix(test.RESPONSE,dec_pred.argmax(axis=1))\n",
    "neu_pred = neural_net.predict_proba(test[variables_selected])\n",
    "print \"For the neural network the confusion matrix is: \\n\",metrics.confusion_matrix(test.RESPONSE,neu_pred.argmax(axis=1))\n",
    "lda_pred = lda.predict_proba(test[variables_selected])\n",
    "print \"For linear discriminant analysis the confusion matrix is: \\n\",metrics.confusion_matrix(test.RESPONSE,lda_pred.argmax(axis=1))"
   ]
  },
  {
   "cell_type": "markdown",
   "metadata": {},
   "source": [
    "## 3. For the German credit data (bagging and boosting):"
   ]
  },
  {
   "cell_type": "code",
   "execution_count": 80,
   "metadata": {
    "collapsed": false
   },
   "outputs": [],
   "source": [
    "from ggplot import *\n",
    "default_rf = ensemble.RandomForestClassifier().fit(train[variables_selected],train[predicted])\n",
    "rf_preds = default_rf.predict_proba(test[variables_selected])\n",
    "\n",
    "default_adaboost = ensemble.GradientBoostingClassifier().fit(train[variables_selected],train[predicted])\n",
    "boost_preds = default_adaboost.predict_proba(test[variables_selected])\n",
    "\n",
    "default_decision = tree.DecisionTreeClassifier().fit(train[variables_selected],train[predicted])\n",
    "decision_preds = default_decision.predict_proba(test[variables_selected])"
   ]
  },
  {
   "cell_type": "markdown",
   "metadata": {},
   "source": [
    "### 3. a) Using a classification tree, determine overall test accuracy and lift at 0.10"
   ]
  },
  {
   "cell_type": "code",
   "execution_count": 81,
   "metadata": {
    "collapsed": false,
    "scrolled": false
   },
   "outputs": [
    {
     "data": {
      "image/png": "[encoded data removed]",
      "text/plain": [
       "<matplotlib.figure.Figure at 0x126f03c8>"
      ]
     },
     "metadata": {},
     "output_type": "display_data"
    },
    {
     "data": {
      "text/plain": [
       "<ggplot: (19329102)>"
      ]
     },
     "execution_count": 81,
     "metadata": {},
     "output_type": "execute_result"
    }
   ],
   "source": [
    "fpr, tpr, _ = metrics.roc_curve(test[predicted].as_matrix(), decision_preds.argmax(axis=1))\n",
    "\n",
    "df = pd.DataFrame(dict(fpr=fpr, tpr=tpr))\n",
    "ggplot(df, aes(x='fpr', y='tpr')) +\\\n",
    "    geom_line() +\\\n",
    "    geom_abline(linetype='dashed')"
   ]
  },
  {
   "cell_type": "code",
   "execution_count": 82,
   "metadata": {
    "collapsed": false
   },
   "outputs": [
    {
     "name": "stdout",
     "output_type": "stream",
     "text": [
      "        fpr      tpr\n",
      "0  0.000000  0.00000\n",
      "1  0.473684  0.79021\n",
      "2  1.000000  1.00000\n",
      "Lift at 0.10 is: 66.8220668221 percent\n"
     ]
    }
   ],
   "source": [
    "print df\n",
    "print \"Lift at 0.10 is: %s percent\" % ((100*(df.tpr.ix[1]/df.fpr.ix[1] - 1.0)))"
   ]
  },
  {
   "cell_type": "code",
   "execution_count": 83,
   "metadata": {
    "collapsed": false
   },
   "outputs": [
    {
     "data": {
      "text/plain": [
       "0.71499999999999997"
      ]
     },
     "execution_count": 83,
     "metadata": {},
     "output_type": "execute_result"
    }
   ],
   "source": [
    "default_decision.score(test[variables_selected],test[predicted])"
   ]
  },
  {
   "cell_type": "markdown",
   "metadata": {},
   "source": [
    "The lift at 0.10 is 66.8%. Also, the overall test accuracy is about 71.5 percent."
   ]
  },
  {
   "cell_type": "markdown",
   "metadata": {},
   "source": [
    "### 3. b) Using a Boosted Tree, determine overall test accuracy and lift at 0.10"
   ]
  },
  {
   "cell_type": "code",
   "execution_count": 84,
   "metadata": {
    "collapsed": false
   },
   "outputs": [
    {
     "data": {
      "image/png": "[encoded data removed]",
      "text/plain": [
       "<matplotlib.figure.Figure at 0x1593b5c0>"
      ]
     },
     "metadata": {},
     "output_type": "display_data"
    },
    {
     "data": {
      "text/plain": [
       "<ggplot: (22620115)>"
      ]
     },
     "execution_count": 84,
     "metadata": {},
     "output_type": "execute_result"
    }
   ],
   "source": [
    "fpr, tpr, _ = metrics.roc_curve(test[predicted].as_matrix(), boost_preds.argmax(axis=1))\n",
    "\n",
    "df = pd.DataFrame(dict(fpr=fpr, tpr=tpr))\n",
    "ggplot(df, aes(x='fpr', y='tpr')) +\\\n",
    "    geom_line() +\\\n",
    "    geom_abline(linetype='dashed')"
   ]
  },
  {
   "cell_type": "code",
   "execution_count": 85,
   "metadata": {
    "collapsed": false
   },
   "outputs": [
    {
     "name": "stdout",
     "output_type": "stream",
     "text": [
      "       fpr      tpr\n",
      "0  0.00000  0.00000\n",
      "1  0.54386  0.86014\n",
      "2  1.00000  1.00000\n",
      "Lift at 0.10 is: 58.1547484773 percent\n"
     ]
    }
   ],
   "source": [
    "print df\n",
    "print \"Lift at 0.10 is: %s percent\" % ((100*(df.tpr.ix[1]/df.fpr.ix[1] - 1.0)))"
   ]
  },
  {
   "cell_type": "code",
   "execution_count": 86,
   "metadata": {
    "collapsed": false
   },
   "outputs": [
    {
     "data": {
      "text/plain": [
       "0.745"
      ]
     },
     "execution_count": 86,
     "metadata": {},
     "output_type": "execute_result"
    }
   ],
   "source": [
    "default_adaboost.score(test[variables_selected],test[predicted])"
   ]
  },
  {
   "cell_type": "markdown",
   "metadata": {},
   "source": [
    "The lift at 0.10 is 58.2% and the overall test accuracy is 74.5 percent."
   ]
  },
  {
   "cell_type": "markdown",
   "metadata": {},
   "source": [
    "### 3. c) Using Bootstrap Forest, determine overall test accuracy and lift at 0.10"
   ]
  },
  {
   "cell_type": "code",
   "execution_count": 87,
   "metadata": {
    "collapsed": false
   },
   "outputs": [
    {
     "data": {
      "image/png": "[encoded data removed]",
      "text/plain": [
       "<matplotlib.figure.Figure at 0x15d9acf8>"
      ]
     },
     "metadata": {},
     "output_type": "display_data"
    },
    {
     "data": {
      "text/plain": [
       "<ggplot: (22911601)>"
      ]
     },
     "execution_count": 87,
     "metadata": {},
     "output_type": "execute_result"
    }
   ],
   "source": [
    "fpr, tpr, _ = metrics.roc_curve(test[predicted].as_matrix(), rf_preds.argmax(axis=1))\n",
    "\n",
    "df = pd.DataFrame(dict(fpr=fpr, tpr=tpr))\n",
    "ggplot(df, aes(x='fpr', y='tpr')) +\\\n",
    "    geom_line() +\\\n",
    "    geom_abline(linetype='dashed')"
   ]
  },
  {
   "cell_type": "code",
   "execution_count": 88,
   "metadata": {
    "collapsed": false
   },
   "outputs": [
    {
     "name": "stdout",
     "output_type": "stream",
     "text": [
      "        fpr       tpr\n",
      "0  0.000000  0.000000\n",
      "1  0.491228  0.832168\n",
      "2  1.000000  1.000000\n",
      "Lift at 0.10 is: 69.4055944056 percent\n"
     ]
    }
   ],
   "source": [
    "print df\n",
    "print \"Lift at 0.10 is: %s percent\" % ((100*(df.tpr.ix[1]/df.fpr.ix[1] - 1.0)))"
   ]
  },
  {
   "cell_type": "code",
   "execution_count": 89,
   "metadata": {
    "collapsed": false
   },
   "outputs": [
    {
     "data": {
      "text/plain": [
       "0.73999999999999999"
      ]
     },
     "execution_count": 89,
     "metadata": {},
     "output_type": "execute_result"
    }
   ],
   "source": [
    "default_rf.score(test[variables_selected],test[predicted])"
   ]
  },
  {
   "cell_type": "markdown",
   "metadata": {},
   "source": [
    "The lift at 0.10 is 69.4% and the overall test accuracy is about 74 percent."
   ]
  },
  {
   "cell_type": "markdown",
   "metadata": {},
   "source": [
    "### 3. d) Comparing the models: Which model has the best test accuracy? Compare the lift curves? Which model does the best job?"
   ]
  },
  {
   "cell_type": "markdown",
   "metadata": {},
   "source": [
    "The boosted tree appears to have the best test accuracy of 74.5 percent. The boosted tree leads by a margin of about 0.5 percent over bootstrap forest and a normal classification tree. Furthermore, the lift curve for the boosted tree has the steepest initial lift slope with the classification tree in second and bootstrap forest in last place. Overall, the boosted tree is the model that does the best job based on our observations."
   ]
  }
 ],
 "metadata": {
  "kernelspec": {
   "display_name": "Python 2",
   "language": "python",
   "name": "python2"
  },
  "language_info": {
   "codemirror_mode": {
    "name": "ipython",
    "version": 2
   },
   "file_extension": ".py",
   "mimetype": "text/x-python",
   "name": "python",
   "nbconvert_exporter": "python",
   "pygments_lexer": "ipython2",
   "version": "2.7.11"
  }
 },
 "nbformat": 4,
 "nbformat_minor": 0
}
