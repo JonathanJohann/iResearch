{
 "cells": [
  {
   "cell_type": "code",
   "execution_count": 74,
   "metadata": {
    "collapsed": false
   },
   "outputs": [
    {
     "name": "stdout",
     "output_type": "stream",
     "text": [
      "The predictor variables are: ['CHK_ACCT' 'DURATION' 'HISTORY' 'NEW_CAR' 'USED_CAR' 'FURNITURE'\n",
      " 'RADIO/TV' 'EDUCATION' 'RETRAINING' 'AMOUNT' 'SAV_ACCT' 'EMPLOYMENT'\n",
      " 'INSTALL_RATE' 'MALE_DIV' 'MALE_SINGLE' 'MALE_MAR_or_WID' 'CO-APPLICANT'\n",
      " 'GUARANTOR' 'PRESENT_RESIDENT' 'REAL_ESTATE' 'PROP_UNKN_NONE' 'AGE'\n",
      " 'OTHER_INSTALL' 'RENT' 'OWN_RES' 'NUM_CREDITS' 'JOB' 'NUM_DEPENDENTS'\n",
      " 'TELEPHONE' 'FOREIGN']\n",
      "Training Set Length: 600\n",
      "Cross Validation Set Length: 200\n",
      "Test Set Length: 200\n"
     ]
    }
   ],
   "source": [
    "import pandas as pd,matplotlib.pyplot as plt\n",
    "from sklearn import *\n",
    "%matplotlib inline\n",
    "df = pd.read_csv(\"GermanCredit.csv\",sep=',',header=0)\n",
    "predictors,predicted = df.columns.values[1:-1],df.columns.values[-1]\n",
    "train,cv = model_selection.train_test_split(df,test_size=0.4)\n",
    "cv,test = model_selection.train_test_split(cv,test_size=0.5)\n",
    "print \"The predictor variables are:\",predictors\n",
    "print \"Training Set Length:\",len(train)\n",
    "print \"Cross Validation Set Length:\",len(cv)\n",
    "print \"Test Set Length:\",len(test)"
   ]
  },
  {
   "cell_type": "code",
   "execution_count": 75,
   "metadata": {
    "collapsed": false
   },
   "outputs": [
    {
     "data": {
      "text/html": [
       "<div>\n",
       "<table border=\"1\" class=\"dataframe\">\n",
       "  <thead>\n",
       "    <tr style=\"text-align: right;\">\n",
       "      <th></th>\n",
       "      <th>OBS#</th>\n",
       "      <th>CHK_ACCT</th>\n",
       "      <th>DURATION</th>\n",
       "      <th>HISTORY</th>\n",
       "      <th>NEW_CAR</th>\n",
       "      <th>USED_CAR</th>\n",
       "      <th>FURNITURE</th>\n",
       "      <th>RADIO/TV</th>\n",
       "      <th>EDUCATION</th>\n",
       "      <th>RETRAINING</th>\n",
       "      <th>AMOUNT</th>\n",
       "      <th>SAV_ACCT</th>\n",
       "      <th>EMPLOYMENT</th>\n",
       "      <th>INSTALL_RATE</th>\n",
       "      <th>MALE_DIV</th>\n",
       "      <th>MALE_SINGLE</th>\n",
       "    </tr>\n",
       "  </thead>\n",
       "  <tbody>\n",
       "    <tr>\n",
       "      <th>count</th>\n",
       "      <td>1000.000000</td>\n",
       "      <td>1000.000000</td>\n",
       "      <td>1000.000000</td>\n",
       "      <td>1000.00000</td>\n",
       "      <td>1000.000000</td>\n",
       "      <td>1000.000000</td>\n",
       "      <td>1000.000000</td>\n",
       "      <td>1000.000000</td>\n",
       "      <td>1000.000000</td>\n",
       "      <td>1000.000000</td>\n",
       "      <td>1000.000000</td>\n",
       "      <td>1000.000000</td>\n",
       "      <td>1000.000000</td>\n",
       "      <td>1000.000000</td>\n",
       "      <td>1000.000000</td>\n",
       "      <td>1000.00000</td>\n",
       "    </tr>\n",
       "    <tr>\n",
       "      <th>mean</th>\n",
       "      <td>500.500000</td>\n",
       "      <td>1.577000</td>\n",
       "      <td>20.903000</td>\n",
       "      <td>2.54500</td>\n",
       "      <td>0.234000</td>\n",
       "      <td>0.103000</td>\n",
       "      <td>0.181000</td>\n",
       "      <td>0.280000</td>\n",
       "      <td>0.050000</td>\n",
       "      <td>0.097000</td>\n",
       "      <td>3271.258000</td>\n",
       "      <td>1.105000</td>\n",
       "      <td>2.384000</td>\n",
       "      <td>2.973000</td>\n",
       "      <td>0.050000</td>\n",
       "      <td>0.54800</td>\n",
       "    </tr>\n",
       "    <tr>\n",
       "      <th>std</th>\n",
       "      <td>288.819436</td>\n",
       "      <td>1.257638</td>\n",
       "      <td>12.058814</td>\n",
       "      <td>1.08312</td>\n",
       "      <td>0.423584</td>\n",
       "      <td>0.304111</td>\n",
       "      <td>0.385211</td>\n",
       "      <td>0.449224</td>\n",
       "      <td>0.218054</td>\n",
       "      <td>0.296106</td>\n",
       "      <td>2822.736876</td>\n",
       "      <td>1.580023</td>\n",
       "      <td>1.208306</td>\n",
       "      <td>1.118715</td>\n",
       "      <td>0.218054</td>\n",
       "      <td>0.49794</td>\n",
       "    </tr>\n",
       "    <tr>\n",
       "      <th>min</th>\n",
       "      <td>1.000000</td>\n",
       "      <td>0.000000</td>\n",
       "      <td>4.000000</td>\n",
       "      <td>0.00000</td>\n",
       "      <td>0.000000</td>\n",
       "      <td>0.000000</td>\n",
       "      <td>0.000000</td>\n",
       "      <td>0.000000</td>\n",
       "      <td>0.000000</td>\n",
       "      <td>0.000000</td>\n",
       "      <td>250.000000</td>\n",
       "      <td>0.000000</td>\n",
       "      <td>0.000000</td>\n",
       "      <td>1.000000</td>\n",
       "      <td>0.000000</td>\n",
       "      <td>0.00000</td>\n",
       "    </tr>\n",
       "    <tr>\n",
       "      <th>25%</th>\n",
       "      <td>250.750000</td>\n",
       "      <td>0.000000</td>\n",
       "      <td>12.000000</td>\n",
       "      <td>2.00000</td>\n",
       "      <td>0.000000</td>\n",
       "      <td>0.000000</td>\n",
       "      <td>0.000000</td>\n",
       "      <td>0.000000</td>\n",
       "      <td>0.000000</td>\n",
       "      <td>0.000000</td>\n",
       "      <td>1365.500000</td>\n",
       "      <td>0.000000</td>\n",
       "      <td>2.000000</td>\n",
       "      <td>2.000000</td>\n",
       "      <td>0.000000</td>\n",
       "      <td>0.00000</td>\n",
       "    </tr>\n",
       "    <tr>\n",
       "      <th>50%</th>\n",
       "      <td>500.500000</td>\n",
       "      <td>1.000000</td>\n",
       "      <td>18.000000</td>\n",
       "      <td>2.00000</td>\n",
       "      <td>0.000000</td>\n",
       "      <td>0.000000</td>\n",
       "      <td>0.000000</td>\n",
       "      <td>0.000000</td>\n",
       "      <td>0.000000</td>\n",
       "      <td>0.000000</td>\n",
       "      <td>2319.500000</td>\n",
       "      <td>0.000000</td>\n",
       "      <td>2.000000</td>\n",
       "      <td>3.000000</td>\n",
       "      <td>0.000000</td>\n",
       "      <td>1.00000</td>\n",
       "    </tr>\n",
       "    <tr>\n",
       "      <th>75%</th>\n",
       "      <td>750.250000</td>\n",
       "      <td>3.000000</td>\n",
       "      <td>24.000000</td>\n",
       "      <td>4.00000</td>\n",
       "      <td>0.000000</td>\n",
       "      <td>0.000000</td>\n",
       "      <td>0.000000</td>\n",
       "      <td>1.000000</td>\n",
       "      <td>0.000000</td>\n",
       "      <td>0.000000</td>\n",
       "      <td>3972.250000</td>\n",
       "      <td>2.000000</td>\n",
       "      <td>4.000000</td>\n",
       "      <td>4.000000</td>\n",
       "      <td>0.000000</td>\n",
       "      <td>1.00000</td>\n",
       "    </tr>\n",
       "    <tr>\n",
       "      <th>max</th>\n",
       "      <td>1000.000000</td>\n",
       "      <td>3.000000</td>\n",
       "      <td>72.000000</td>\n",
       "      <td>4.00000</td>\n",
       "      <td>1.000000</td>\n",
       "      <td>1.000000</td>\n",
       "      <td>1.000000</td>\n",
       "      <td>1.000000</td>\n",
       "      <td>1.000000</td>\n",
       "      <td>1.000000</td>\n",
       "      <td>18424.000000</td>\n",
       "      <td>4.000000</td>\n",
       "      <td>4.000000</td>\n",
       "      <td>4.000000</td>\n",
       "      <td>1.000000</td>\n",
       "      <td>1.00000</td>\n",
       "    </tr>\n",
       "  </tbody>\n",
       "</table>\n",
       "</div>"
      ],
      "text/plain": [
       "              OBS#     CHK_ACCT     DURATION     HISTORY      NEW_CAR  \\\n",
       "count  1000.000000  1000.000000  1000.000000  1000.00000  1000.000000   \n",
       "mean    500.500000     1.577000    20.903000     2.54500     0.234000   \n",
       "std     288.819436     1.257638    12.058814     1.08312     0.423584   \n",
       "min       1.000000     0.000000     4.000000     0.00000     0.000000   \n",
       "25%     250.750000     0.000000    12.000000     2.00000     0.000000   \n",
       "50%     500.500000     1.000000    18.000000     2.00000     0.000000   \n",
       "75%     750.250000     3.000000    24.000000     4.00000     0.000000   \n",
       "max    1000.000000     3.000000    72.000000     4.00000     1.000000   \n",
       "\n",
       "          USED_CAR    FURNITURE     RADIO/TV    EDUCATION   RETRAINING  \\\n",
       "count  1000.000000  1000.000000  1000.000000  1000.000000  1000.000000   \n",
       "mean      0.103000     0.181000     0.280000     0.050000     0.097000   \n",
       "std       0.304111     0.385211     0.449224     0.218054     0.296106   \n",
       "min       0.000000     0.000000     0.000000     0.000000     0.000000   \n",
       "25%       0.000000     0.000000     0.000000     0.000000     0.000000   \n",
       "50%       0.000000     0.000000     0.000000     0.000000     0.000000   \n",
       "75%       0.000000     0.000000     1.000000     0.000000     0.000000   \n",
       "max       1.000000     1.000000     1.000000     1.000000     1.000000   \n",
       "\n",
       "             AMOUNT     SAV_ACCT   EMPLOYMENT  INSTALL_RATE     MALE_DIV  \\\n",
       "count   1000.000000  1000.000000  1000.000000   1000.000000  1000.000000   \n",
       "mean    3271.258000     1.105000     2.384000      2.973000     0.050000   \n",
       "std     2822.736876     1.580023     1.208306      1.118715     0.218054   \n",
       "min      250.000000     0.000000     0.000000      1.000000     0.000000   \n",
       "25%     1365.500000     0.000000     2.000000      2.000000     0.000000   \n",
       "50%     2319.500000     0.000000     2.000000      3.000000     0.000000   \n",
       "75%     3972.250000     2.000000     4.000000      4.000000     0.000000   \n",
       "max    18424.000000     4.000000     4.000000      4.000000     1.000000   \n",
       "\n",
       "       MALE_SINGLE  \n",
       "count   1000.00000  \n",
       "mean       0.54800  \n",
       "std        0.49794  \n",
       "min        0.00000  \n",
       "25%        0.00000  \n",
       "50%        1.00000  \n",
       "75%        1.00000  \n",
       "max        1.00000  "
      ]
     },
     "execution_count": 75,
     "metadata": {},
     "output_type": "execute_result"
    }
   ],
   "source": [
    "df[df.columns.values[:(len(df.columns)/2)]].describe()"
   ]
  },
  {
   "cell_type": "code",
   "execution_count": 76,
   "metadata": {
    "collapsed": false
   },
   "outputs": [
    {
     "name": "stdout",
     "output_type": "stream",
     "text": [
      "(0.14122060136793271, 'AMOUNT')\n",
      "(0.13508884082572559, 'AGE')\n",
      "(0.13169244319403337, 'DURATION')\n",
      "(0.1278340951022747, 'CHK_ACCT')\n",
      "(0.077853894745496005, 'EMPLOYMENT')\n",
      "(0.049663292767287481, 'SAV_ACCT')\n",
      "(0.044025917479532467, 'HISTORY')\n",
      "(0.041925041925041928, 'INSTALL_RATE')\n",
      "(0.032508768273917472, 'NUM_CREDITS')\n",
      "(0.022144981170653864, 'OTHER_INSTALL')\n",
      "(0.021949343192866521, 'RETRAINING')\n",
      "(0.019381102956618847, 'CO-APPLICANT')\n",
      "(0.019180494950077395, 'REAL_ESTATE')\n",
      "(0.0166694450587942, 'FURNITURE')\n",
      "(0.016037227530397578, 'GUARANTOR')\n",
      "(0.015913228348461504, 'MALE_SINGLE')\n",
      "(0.014634743621617818, 'NEW_CAR')\n",
      "(0.013145663861908893, 'MALE_DIV')\n",
      "(0.012612583011321458, 'PROP_UNKN_NONE')\n",
      "(0.012590546269302737, 'JOB')\n",
      "(0.012096153041224546, 'PRESENT_RESIDENT')\n",
      "(0.011321490258187739, 'USED_CAR')\n",
      "(0.0050922330715076815, 'TELEPHONE')\n",
      "(0.0050922330715076815, 'MALE_MAR_or_WID')\n",
      "(0.00032563490430958153, 'NUM_DEPENDENTS')\n",
      "(0.0, 'RENT')\n",
      "(0.0, 'RADIO/TV')\n",
      "(0.0, 'OWN_RES')\n",
      "(0.0, 'FOREIGN')\n",
      "(0.0, 'EDUCATION')\n"
     ]
    }
   ],
   "source": [
    "for pair in sorted(zip(tree.DecisionTreeClassifier().fit(train[predictors],train[predicted]).feature_importances_,predictors),reverse=True): \n",
    "    print pair\n"
   ]
  },
  {
   "cell_type": "code",
   "execution_count": 77,
   "metadata": {
    "collapsed": false
   },
   "outputs": [],
   "source": [
    "from sklearn.grid_search import GridSearchCV\n",
    "log_reg_params = {'penalty' : ('l1','l2')}\n",
    "log_reg = GridSearchCV(linear_model.LogisticRegression(),log_reg_params)\n",
    "\n",
    "decision_tree_params = {'criterion' : ['gini','entropy'],\n",
    "                        'max_depth' : [3,4,5,6,8,None],\n",
    "                        'min_samples_split' : [2,4,8,16],\n",
    "                        'min_impurity_split' : [1e-7,1e-6,1e-5,1e-4]}\n",
    "decision_tree = GridSearchCV(tree.DecisionTreeClassifier(),decision_tree_params)\n",
    "neural_network_params = {'activation' : ['relu','logistic','tanh'],\n",
    "                         'hidden_layer_sizes' : [(5,2),(10,2),(3,3),(5,1)]}\n",
    "neural_net = GridSearchCV(neural_network.MLPClassifier(),neural_network_params)\n",
    "\n",
    "lda_params = {'solver' : ['svd','lsqr','eigen']}\n",
    "lda = GridSearchCV(discriminant_analysis.LinearDiscriminantAnalysis(),lda_params)"
   ]
  },
  {
   "cell_type": "code",
   "execution_count": 78,
   "metadata": {
    "collapsed": true
   },
   "outputs": [],
   "source": [
    "chosen = ['AMOUNT','CHK_ACCT','DURATION','AGE','EMPLOYMENT','HISTORY','SAV_ACCT','PRESENT_RESIDENT','REAL_ESTATE','OTHER_INSTALL','SAV_ACCT','FURNITURE','NEW_CAR','JOB','INSTALL_RATE']"
   ]
  },
  {
   "cell_type": "code",
   "execution_count": 79,
   "metadata": {
    "collapsed": false
   },
   "outputs": [
    {
     "name": "stdout",
     "output_type": "stream",
     "text": [
      "Logistic Regression\n",
      "Train accuracy:  0.756666666667\n",
      "Cross Validation accuracy:  0.765 \n",
      "\n",
      "Decision Tree\n",
      "Train accuracy:  0.813333333333\n",
      "Cross Validation accuracy:  0.745 \n",
      "\n",
      "Neural Network\n",
      "Train accuracy:  0.321666666667\n",
      "Cross Validation accuracy:  0.295 \n",
      "\n",
      "Linear Discriminant Analysis\n",
      "Train accuracy:  0.755\n",
      "Cross Validation accuracy:  0.775 \n",
      "\n"
     ]
    }
   ],
   "source": [
    "log_reg.fit(train[chosen],train[predicted])\n",
    "print \"Logistic Regression\"\n",
    "print \"Train accuracy: \",log_reg.score(train[chosen],train[predicted])\n",
    "print \"Cross Validation accuracy: \",log_reg.score(cv[chosen],cv[predicted]),\"\\n\"\n",
    "\n",
    "decision_tree.fit(train[chosen],train[predicted])\n",
    "print \"Decision Tree\"\n",
    "print \"Train accuracy: \",decision_tree.score(train[chosen],train[predicted])\n",
    "print \"Cross Validation accuracy: \",decision_tree.score(cv[chosen],cv[predicted]),\"\\n\"\n",
    "\n",
    "neural_net.fit(train[chosen],train[predicted])\n",
    "print \"Neural Network\"\n",
    "print \"Train accuracy: \",neural_net.score(train[chosen],train[predicted])\n",
    "print \"Cross Validation accuracy: \",neural_net.score(cv[chosen],cv[predicted]),\"\\n\"\n",
    "\n",
    "lda.fit(train[chosen],train[predicted])\n",
    "print \"Linear Discriminant Analysis\"\n",
    "print \"Train accuracy: \",lda.score(train[chosen],train[predicted])\n",
    "print \"Cross Validation accuracy: \",lda.score(cv[chosen],cv[predicted]),\"\\n\"\n"
   ]
  },
  {
   "cell_type": "markdown",
   "metadata": {},
   "source": [
    "## 3. For the German credit data (bagging and boosting):"
   ]
  },
  {
   "cell_type": "markdown",
   "metadata": {},
   "source": [
    "* Do we use all predictors or the ones we selected last time?\n",
    "* Am I using the correct value for lift?\n",
    "* If there are any changes, make sure to change 3. d)!"
   ]
  },
  {
   "cell_type": "code",
   "execution_count": 60,
   "metadata": {
    "collapsed": false
   },
   "outputs": [],
   "source": [
    "from ggplot import *\n",
    "default_rf = ensemble.RandomForestClassifier().fit(train[predictors],train[predicted])\n",
    "rf_preds = default_rf.predict_proba(test[predictors])\n",
    "\n",
    "default_adaboost = ensemble.GradientBoostingClassifier().fit(train[predictors],train[predicted])\n",
    "boost_preds = default_adaboost.predict_proba(test[predictors])\n",
    "\n",
    "default_decision = tree.DecisionTreeClassifier().fit(train[predictors],train[predicted])\n",
    "decision_preds = default_decision.predict_proba(test[predictors])"
   ]
  },
  {
   "cell_type": "markdown",
   "metadata": {},
   "source": [
    "### 3. a) Using a classification tree, determine overall test accuracy and lift at 0.10"
   ]
  },
  {
   "cell_type": "code",
   "execution_count": 62,
   "metadata": {
    "collapsed": false,
    "scrolled": false
   },
   "outputs": [
    {
     "data": {
      "image/png": "[encoded data removed]",
      "text/plain": [
       "<matplotlib.figure.Figure at 0x136af198>"
      ]
     },
     "metadata": {},
     "output_type": "display_data"
    },
    {
     "data": {
      "text/plain": [
       "<ggplot: (20632706)>"
      ]
     },
     "execution_count": 62,
     "metadata": {},
     "output_type": "execute_result"
    }
   ],
   "source": [
    "fpr, tpr, _ = metrics.roc_curve(test[predicted].as_matrix(), decision_preds.argmax(axis=1))\n",
    "\n",
    "df = pd.DataFrame(dict(fpr=fpr, tpr=tpr))\n",
    "ggplot(df, aes(x='fpr', y='tpr')) +\\\n",
    "    geom_line() +\\\n",
    "    geom_abline(linetype='dashed')"
   ]
  },
  {
   "cell_type": "code",
   "execution_count": 63,
   "metadata": {
    "collapsed": false
   },
   "outputs": [
    {
     "name": "stdout",
     "output_type": "stream",
     "text": [
      "        fpr  tpr\n",
      "0  0.000000  0.0\n",
      "1  0.466667  0.8\n",
      "2  1.000000  1.0\n",
      "Lift at 0.10 is:  1.71428571429\n"
     ]
    }
   ],
   "source": [
    "print df\n",
    "print \"Lift at 0.10 is: \", df.tpr.ix[1]/df.fpr.ix[1]"
   ]
  },
  {
   "cell_type": "code",
   "execution_count": 64,
   "metadata": {
    "collapsed": false
   },
   "outputs": [
    {
     "data": {
      "text/plain": [
       "0.71999999999999997"
      ]
     },
     "execution_count": 64,
     "metadata": {},
     "output_type": "execute_result"
    }
   ],
   "source": [
    "default_decision.score(test[predictors],test[predicted])"
   ]
  },
  {
   "cell_type": "markdown",
   "metadata": {},
   "source": [
    "The lift at 0.10 is about 1.7 which means that for every 17 true positives, you are likely to hit 10 false positives. Also, the overall test accuracy is about 72 percent."
   ]
  },
  {
   "cell_type": "markdown",
   "metadata": {},
   "source": [
    "### 3. b) Using a Boosted Tree, determine overall test accuracy and lift at 0.10"
   ]
  },
  {
   "cell_type": "code",
   "execution_count": 65,
   "metadata": {
    "collapsed": false
   },
   "outputs": [
    {
     "data": {
      "image/png": "[encoded data removed]",
      "text/plain": [
       "<matplotlib.figure.Figure at 0x14e310b8>"
      ]
     },
     "metadata": {},
     "output_type": "display_data"
    },
    {
     "data": {
      "text/plain": [
       "<ggplot: (21901793)>"
      ]
     },
     "execution_count": 65,
     "metadata": {},
     "output_type": "execute_result"
    }
   ],
   "source": [
    "fpr, tpr, _ = metrics.roc_curve(test[predicted].as_matrix(), boost_preds.argmax(axis=1))\n",
    "\n",
    "df = pd.DataFrame(dict(fpr=fpr, tpr=tpr))\n",
    "ggplot(df, aes(x='fpr', y='tpr')) +\\\n",
    "    geom_line() +\\\n",
    "    geom_abline(linetype='dashed')"
   ]
  },
  {
   "cell_type": "code",
   "execution_count": 66,
   "metadata": {
    "collapsed": false
   },
   "outputs": [
    {
     "name": "stdout",
     "output_type": "stream",
     "text": [
      "        fpr       tpr\n",
      "0  0.000000  0.000000\n",
      "1  0.533333  0.928571\n",
      "2  1.000000  1.000000\n",
      "Lift at 0.10 is:  1.74107142857\n"
     ]
    }
   ],
   "source": [
    "print df\n",
    "print \"Lift at 0.10 is: \", df.tpr.ix[1]/df.fpr.ix[1]"
   ]
  },
  {
   "cell_type": "code",
   "execution_count": 67,
   "metadata": {
    "collapsed": false
   },
   "outputs": [
    {
     "data": {
      "text/plain": [
       "0.79000000000000004"
      ]
     },
     "execution_count": 67,
     "metadata": {},
     "output_type": "execute_result"
    }
   ],
   "source": [
    "default_adaboost.score(test[predictors],test[predicted])"
   ]
  },
  {
   "cell_type": "markdown",
   "metadata": {},
   "source": [
    "The lift at 0.10 is 1.74 and the overall test accuracy is 79 percent."
   ]
  },
  {
   "cell_type": "markdown",
   "metadata": {},
   "source": [
    "### 3. c) Using Bootstrap Forest, determine overall test accuracy and lift at 0.10"
   ]
  },
  {
   "cell_type": "code",
   "execution_count": 68,
   "metadata": {
    "collapsed": false
   },
   "outputs": [
    {
     "data": {
      "image/png": "[encoded data removed]",
      "text/plain": [
       "<matplotlib.figure.Figure at 0x132ee898>"
      ]
     },
     "metadata": {},
     "output_type": "display_data"
    },
    {
     "data": {
      "text/plain": [
       "<ggplot: (21910332)>"
      ]
     },
     "execution_count": 68,
     "metadata": {},
     "output_type": "execute_result"
    }
   ],
   "source": [
    "fpr, tpr, _ = metrics.roc_curve(test[predicted].as_matrix(), rf_preds.argmax(axis=1))\n",
    "\n",
    "df = pd.DataFrame(dict(fpr=fpr, tpr=tpr))\n",
    "ggplot(df, aes(x='fpr', y='tpr')) +\\\n",
    "    geom_line() +\\\n",
    "    geom_abline(linetype='dashed')"
   ]
  },
  {
   "cell_type": "code",
   "execution_count": 69,
   "metadata": {
    "collapsed": false
   },
   "outputs": [
    {
     "name": "stdout",
     "output_type": "stream",
     "text": [
      "        fpr       tpr\n",
      "0  0.000000  0.000000\n",
      "1  0.516667  0.828571\n",
      "2  1.000000  1.000000\n",
      "Lift at 0.10 is:  1.60368663594\n"
     ]
    }
   ],
   "source": [
    "print df\n",
    "print \"Lift at 0.10 is: \", df.tpr.ix[1]/df.fpr.ix[1]"
   ]
  },
  {
   "cell_type": "code",
   "execution_count": 70,
   "metadata": {
    "collapsed": false
   },
   "outputs": [
    {
     "data": {
      "text/plain": [
       "0.72499999999999998"
      ]
     },
     "execution_count": 70,
     "metadata": {},
     "output_type": "execute_result"
    }
   ],
   "source": [
    "default_rf.score(test[predictors],test[predicted])"
   ]
  },
  {
   "cell_type": "markdown",
   "metadata": {},
   "source": [
    "The lift at 0.10 is 1.60 and the overall test accuracy is about 72.5 percent."
   ]
  },
  {
   "cell_type": "markdown",
   "metadata": {},
   "source": [
    "### 3. d) Comparing the models: Which model has the best test accuracy? Compare the lift curves? Which model does the best job?"
   ]
  },
  {
   "cell_type": "markdown",
   "metadata": {},
   "source": [
    "The boosted tree appears to have the best test accuracy of 79 percent. The boosted tree leads by a margin of about 7 percent over Bootstrap forest and a normal classification tree. Furthermore, the lift curve for the boosted tree has the steepest initial lift slope with the classification tree in second and bootstrap forest in last place. Overall, the boosted tree is the model that does the best job based on our observations."
   ]
  }
 ],
 "metadata": {
  "kernelspec": {
   "display_name": "Python 2",
   "language": "python",
   "name": "python2"
  },
  "language_info": {
   "codemirror_mode": {
    "name": "ipython",
    "version": 2
   },
   "file_extension": ".py",
   "mimetype": "text/x-python",
   "name": "python",
   "nbconvert_exporter": "python",
   "pygments_lexer": "ipython2",
   "version": "2.7.11"
  }
 },
 "nbformat": 4,
 "nbformat_minor": 0
}
