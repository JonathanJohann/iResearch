{
 "cells": [
  {
   "cell_type": "markdown",
   "metadata": {},
   "source": [
    "# Data Mining 15.0621 Homework Assignment 2\n",
    "## Questions 6.1, 7.3, 8.2, 9.3\n",
    "## By: Jonathan Johannemann"
   ]
  },
  {
   "cell_type": "code",
   "execution_count": 7,
   "metadata": {
    "collapsed": false
   },
   "outputs": [],
   "source": [
    "import pandas as pd, numpy as np, matplotlib.pyplot as plt,warnings,random,sklearn\n",
    "random.seed(11152016) #Today's Date\n",
    "warnings.filterwarnings('ignore',category=DeprecationWarning)\n",
    "%matplotlib inline"
   ]
  },
  {
   "cell_type": "markdown",
   "metadata": {},
   "source": [
    "## Question 6.1"
   ]
  },
  {
   "cell_type": "code",
   "execution_count": 8,
   "metadata": {
    "collapsed": false
   },
   "outputs": [
    {
     "data": {
      "text/html": [
       "<div>\n",
       "<table border=\"1\" class=\"dataframe\">\n",
       "  <thead>\n",
       "    <tr style=\"text-align: right;\">\n",
       "      <th></th>\n",
       "      <th>CRIM</th>\n",
       "      <th>ZN</th>\n",
       "      <th>INDUS</th>\n",
       "      <th>CHAS</th>\n",
       "      <th>NOX</th>\n",
       "      <th>RM</th>\n",
       "      <th>AGE</th>\n",
       "      <th>DIS</th>\n",
       "      <th>RAD</th>\n",
       "      <th>TAX</th>\n",
       "      <th>PTRATIO</th>\n",
       "      <th>LSTAT</th>\n",
       "      <th>MEDV</th>\n",
       "      <th>CAT.MEDV</th>\n",
       "    </tr>\n",
       "  </thead>\n",
       "  <tbody>\n",
       "    <tr>\n",
       "      <th>0</th>\n",
       "      <td>0.00632</td>\n",
       "      <td>18.0</td>\n",
       "      <td>2.31</td>\n",
       "      <td>0</td>\n",
       "      <td>0.538</td>\n",
       "      <td>6.575</td>\n",
       "      <td>65.2</td>\n",
       "      <td>4.0900</td>\n",
       "      <td>1</td>\n",
       "      <td>296</td>\n",
       "      <td>15.3</td>\n",
       "      <td>4.98</td>\n",
       "      <td>24.0</td>\n",
       "      <td>0</td>\n",
       "    </tr>\n",
       "    <tr>\n",
       "      <th>1</th>\n",
       "      <td>0.02731</td>\n",
       "      <td>0.0</td>\n",
       "      <td>7.07</td>\n",
       "      <td>0</td>\n",
       "      <td>0.469</td>\n",
       "      <td>6.421</td>\n",
       "      <td>78.9</td>\n",
       "      <td>4.9671</td>\n",
       "      <td>2</td>\n",
       "      <td>242</td>\n",
       "      <td>17.8</td>\n",
       "      <td>9.14</td>\n",
       "      <td>21.6</td>\n",
       "      <td>0</td>\n",
       "    </tr>\n",
       "    <tr>\n",
       "      <th>2</th>\n",
       "      <td>0.02729</td>\n",
       "      <td>0.0</td>\n",
       "      <td>7.07</td>\n",
       "      <td>0</td>\n",
       "      <td>0.469</td>\n",
       "      <td>7.185</td>\n",
       "      <td>61.1</td>\n",
       "      <td>4.9671</td>\n",
       "      <td>2</td>\n",
       "      <td>242</td>\n",
       "      <td>17.8</td>\n",
       "      <td>4.03</td>\n",
       "      <td>34.7</td>\n",
       "      <td>1</td>\n",
       "    </tr>\n",
       "    <tr>\n",
       "      <th>3</th>\n",
       "      <td>0.03237</td>\n",
       "      <td>0.0</td>\n",
       "      <td>2.18</td>\n",
       "      <td>0</td>\n",
       "      <td>0.458</td>\n",
       "      <td>6.998</td>\n",
       "      <td>45.8</td>\n",
       "      <td>6.0622</td>\n",
       "      <td>3</td>\n",
       "      <td>222</td>\n",
       "      <td>18.7</td>\n",
       "      <td>2.94</td>\n",
       "      <td>33.4</td>\n",
       "      <td>1</td>\n",
       "    </tr>\n",
       "    <tr>\n",
       "      <th>4</th>\n",
       "      <td>0.06905</td>\n",
       "      <td>0.0</td>\n",
       "      <td>2.18</td>\n",
       "      <td>0</td>\n",
       "      <td>0.458</td>\n",
       "      <td>7.147</td>\n",
       "      <td>54.2</td>\n",
       "      <td>6.0622</td>\n",
       "      <td>3</td>\n",
       "      <td>222</td>\n",
       "      <td>18.7</td>\n",
       "      <td>5.33</td>\n",
       "      <td>36.2</td>\n",
       "      <td>1</td>\n",
       "    </tr>\n",
       "  </tbody>\n",
       "</table>\n",
       "</div>"
      ],
      "text/plain": [
       "      CRIM    ZN  INDUS  CHAS    NOX     RM   AGE     DIS  RAD  TAX  PTRATIO  \\\n",
       "0  0.00632  18.0   2.31     0  0.538  6.575  65.2  4.0900    1  296     15.3   \n",
       "1  0.02731   0.0   7.07     0  0.469  6.421  78.9  4.9671    2  242     17.8   \n",
       "2  0.02729   0.0   7.07     0  0.469  7.185  61.1  4.9671    2  242     17.8   \n",
       "3  0.03237   0.0   2.18     0  0.458  6.998  45.8  6.0622    3  222     18.7   \n",
       "4  0.06905   0.0   2.18     0  0.458  7.147  54.2  6.0622    3  222     18.7   \n",
       "\n",
       "   LSTAT  MEDV  CAT.MEDV  \n",
       "0   4.98  24.0         0  \n",
       "1   9.14  21.6         0  \n",
       "2   4.03  34.7         1  \n",
       "3   2.94  33.4         1  \n",
       "4   5.33  36.2         1  "
      ]
     },
     "execution_count": 8,
     "metadata": {},
     "output_type": "execute_result"
    }
   ],
   "source": [
    "bostonhousing = pd.read_csv('BostonHousing.csv',sep=',',header=0)\n",
    "bostonhousing.head()"
   ]
  },
  {
   "cell_type": "markdown",
   "metadata": {},
   "source": [
    "### Question 6.1 (a)"
   ]
  },
  {
   "cell_type": "markdown",
   "metadata": {},
   "source": [
    "The data should be partitioned into training and validation sets because it allows the researcher to receive feedback on his or her model without testing on the true, held out data. The training set is for the model to be trained on. The validation set is for the researcher to test the ability of his or her model. A researcher should never introduce datapoints from the validation set into the training set."
   ]
  },
  {
   "cell_type": "markdown",
   "metadata": {},
   "source": [
    "### Question 6.1 (b)"
   ]
  },
  {
   "cell_type": "code",
   "execution_count": 9,
   "metadata": {
    "collapsed": false
   },
   "outputs": [
    {
     "name": "stdout",
     "output_type": "stream",
     "text": [
      "Intercept:  -28.8106825064\n",
      "CRIM coefficient:  -0.260724411231\n",
      "CHAS coefficient:  3.76303705211\n",
      "RM coefficient:  8.27817981154\n",
      "\n",
      "Equation: \n",
      "-28.8106825064  +  -0.260724411231 CRIM +  3.76303705211 CHAS +  8.27817981154 RM = MEDV\n"
     ]
    }
   ],
   "source": [
    "model = sklearn.linear_model.LinearRegression()\n",
    "model.fit(bostonhousing[['CRIM','CHAS','RM']],bostonhousing['MEDV'])\n",
    "print \"Intercept: \",model.intercept_\n",
    "print \"CRIM coefficient: \",model.coef_[0]\n",
    "print \"CHAS coefficient: \",model.coef_[1]\n",
    "print \"RM coefficient: \",model.coef_[2]\n",
    "print \"\\nEquation: \\n\",model.intercept_, \" + \",model.coef_[0],\"CRIM + \",model.coef_[1],\"CHAS + \",model.coef_[2],\"RM = MEDV\""
   ]
  },
  {
   "cell_type": "markdown",
   "metadata": {},
   "source": [
    "### Question 6.1 (c)"
   ]
  },
  {
   "cell_type": "code",
   "execution_count": 10,
   "metadata": {
    "collapsed": false
   },
   "outputs": [
    {
     "name": "stdout",
     "output_type": "stream",
     "text": [
      "The predicted price is:  20.8323239217\n"
     ]
    }
   ],
   "source": [
    "query = pd.DataFrame([['0.1','0','6']],columns=['CRIM','CHAS','RM'])\n",
    "print \"The predicted price is: \",model.predict(query)[0]"
   ]
  },
  {
   "cell_type": "code",
   "execution_count": 11,
   "metadata": {
    "collapsed": false
   },
   "outputs": [
    {
     "name": "stdout",
     "output_type": "stream",
     "text": [
      "The error with respect to the closest value is: 2.06767607827\n"
     ]
    }
   ],
   "source": [
    "tmp = bostonhousing[['CRIM','CHAS','RM']]\n",
    "query_vals = query.values[0].astype('Float64')\n",
    "index_closest = np.abs(tmp.apply(lambda x: x-query_vals,axis=1).sum(axis=1)).ix[np.abs(tmp.apply(lambda x: x-query_vals,axis=1).sum(axis=1))==np.abs(tmp.apply(lambda x: x-query_vals,axis=1).sum(axis=1)).min()].index[0]\n",
    "print \"The error with respect to the closest value is:\", np.abs(bostonhousing.MEDV.ix[index_closest]-model.predict(query)[0])"
   ]
  },
  {
   "cell_type": "markdown",
   "metadata": {},
   "source": [
    "### Question 6.1 (d) i."
   ]
  },
  {
   "cell_type": "code",
   "execution_count": 12,
   "metadata": {
    "collapsed": false
   },
   "outputs": [
    {
     "name": "stdout",
     "output_type": "stream",
     "text": [
      "          INDUS       NOX       TAX\n",
      "INDUS  1.000000  0.763651  0.720760\n",
      "NOX    0.763651  1.000000  0.668023\n",
      "TAX    0.720760  0.668023  1.000000\n"
     ]
    }
   ],
   "source": [
    "corr_mat = bostonhousing[['INDUS','NOX','TAX']].corr()\n",
    "print corr_mat"
   ]
  },
  {
   "cell_type": "markdown",
   "metadata": {},
   "source": [
    "Indus is the proportion of nonretail business acres per town.\n",
    "Nox is nitric oxide concentration.\n",
    "Tax is full-value property-tax rate per $10,000.\n",
    "The potential relationsnip here is that businesses create more nitric oxide and result in higher taxed property. Therefore, there is likely a causal relationship from INDUS to NOX and TAX. While it is not east ro 100% confirm this, it appears to be a likely scenario."
   ]
  },
  {
   "cell_type": "markdown",
   "metadata": {},
   "source": [
    "### Question 6.1 (d) ii."
   ]
  },
  {
   "cell_type": "code",
   "execution_count": 13,
   "metadata": {
    "collapsed": false
   },
   "outputs": [
    {
     "name": "stdout",
     "output_type": "stream",
     "text": [
      "========================================\n",
      "Looking at:  CRIM\n",
      "RAD  :  0.625505145263\n",
      "========================================\n",
      "Looking at:  ZN\n",
      "DIS  :  0.664408222762\n",
      "========================================\n",
      "Looking at:  INDUS\n",
      "NOX  :  0.763651446921\n",
      "AGE  :  0.644778511355\n",
      "DIS  :  -0.708026988743\n",
      "TAX  :  0.720760179952\n",
      "LSTAT  :  0.603799716477\n",
      "========================================\n",
      "Looking at:  NOX\n",
      "INDUS  :  0.763651446921\n",
      "AGE  :  0.731470103786\n",
      "DIS  :  -0.769230113226\n",
      "RAD  :  0.611440563486\n",
      "TAX  :  0.668023200403\n",
      "========================================\n",
      "Looking at:  RM\n",
      "LSTAT  :  -0.613808271866\n",
      "MEDV  :  0.695359947072\n",
      "CAT.MEDV  :  0.641265408301\n",
      "========================================\n",
      "Looking at:  AGE\n",
      "INDUS  :  0.644778511355\n",
      "NOX  :  0.731470103786\n",
      "DIS  :  -0.747880540869\n",
      "LSTAT  :  0.602338528726\n",
      "========================================\n",
      "Looking at:  DIS\n",
      "ZN  :  0.664408222762\n",
      "INDUS  :  -0.708026988743\n",
      "NOX  :  -0.769230113226\n",
      "AGE  :  -0.747880540869\n",
      "========================================\n",
      "Looking at:  RAD\n",
      "CRIM  :  0.625505145263\n",
      "NOX  :  0.611440563486\n",
      "TAX  :  0.910228188533\n",
      "========================================\n",
      "Looking at:  TAX\n",
      "INDUS  :  0.720760179952\n",
      "NOX  :  0.668023200403\n",
      "RAD  :  0.910228188533\n",
      "========================================\n",
      "Looking at:  LSTAT\n",
      "INDUS  :  0.603799716477\n",
      "RM  :  -0.613808271866\n",
      "AGE  :  0.602338528726\n",
      "MEDV  :  -0.737662726174\n",
      "========================================\n",
      "Looking at:  MEDV\n",
      "RM  :  0.695359947072\n",
      "LSTAT  :  -0.737662726174\n",
      "CAT.MEDV  :  0.789788766697\n",
      "========================================\n",
      "Looking at:  CAT.MEDV\n",
      "RM  :  0.641265408301\n",
      "MEDV  :  0.789788766697\n",
      "========================================\n"
     ]
    }
   ],
   "source": [
    "corr_mat = bostonhousing.corr()\n",
    "corr_mat.values[[np.arange(len(corr_mat))]*2]=0\n",
    "corr_mat = corr_mat[np.abs(corr_mat)>0.6].fillna(0).reset_index()\n",
    "\n",
    "for col in corr_mat.columns.values[1:]:\n",
    "    if len(corr_mat[corr_mat[col]!=0][col].index)>0:\n",
    "        print \"=\"*40\n",
    "        print \"Looking at: \",col\n",
    "        for i in corr_mat[corr_mat[col]!=0][col].index:\n",
    "            print corr_mat['index'][i],\" : \",corr_mat[corr_mat[col]!=0][col][i]\n",
    "print \"=\"*40"
   ]
  },
  {
   "cell_type": "markdown",
   "metadata": {},
   "source": [
    "CAT.MEDV is based off of MEDV so we need to remove that. As discussed before, it seems like INDUS may be influencing NOX and TAX a lot which causes the high correlation. Therefore, we shall remove NOX and TAX."
   ]
  },
  {
   "cell_type": "markdown",
   "metadata": {},
   "source": [
    "### Question 6.1 (d) iii."
   ]
  },
  {
   "cell_type": "code",
   "execution_count": 14,
   "metadata": {
    "collapsed": false
   },
   "outputs": [
    {
     "name": "stdout",
     "output_type": "stream",
     "text": [
      "The number of models we need to test:  10\n",
      "['CRIM' 'ZN' 'LSTAT' 'AGE']\n"
     ]
    }
   ],
   "source": [
    "from itertools import combinations\n",
    "predictor_columns = list(set(bostonhousing.columns.values)-set(['MEDV','CAT.MEDV','NOX','TAX']))\n",
    "\n",
    "vars_for_model = []\n",
    "sum_val = 0\n",
    "\n",
    "model = sklearn.linear_model.Lasso().fit(bostonhousing[predictor_columns],bostonhousing.MEDV)\n",
    "\n",
    "for i in range(len(model.coef_[np.abs(model.coef_)>0]),10):\n",
    "    sum_val+= len(list(combinations(predictor_columns,i)))\n",
    "    vars_for_model.append(np.array(list(combinations(predictor_columns,i)))[0])\n",
    "print \"The number of models we need to test: \",sum_val\n",
    "print np.array(list(combinations(predictor_columns,4))[0])"
   ]
  },
  {
   "cell_type": "code",
   "execution_count": 15,
   "metadata": {
    "collapsed": false
   },
   "outputs": [
    {
     "data": {
      "text/html": [
       "<div>\n",
       "<table border=\"1\" class=\"dataframe\">\n",
       "  <thead>\n",
       "    <tr style=\"text-align: right;\">\n",
       "      <th></th>\n",
       "      <th>CRIM</th>\n",
       "      <th>ZN</th>\n",
       "      <th>LSTAT</th>\n",
       "      <th>AGE</th>\n",
       "    </tr>\n",
       "  </thead>\n",
       "  <tbody>\n",
       "    <tr>\n",
       "      <th>0</th>\n",
       "      <td>0.00632</td>\n",
       "      <td>18.0</td>\n",
       "      <td>4.98</td>\n",
       "      <td>65.2</td>\n",
       "    </tr>\n",
       "    <tr>\n",
       "      <th>1</th>\n",
       "      <td>0.02731</td>\n",
       "      <td>0.0</td>\n",
       "      <td>9.14</td>\n",
       "      <td>78.9</td>\n",
       "    </tr>\n",
       "    <tr>\n",
       "      <th>2</th>\n",
       "      <td>0.02729</td>\n",
       "      <td>0.0</td>\n",
       "      <td>4.03</td>\n",
       "      <td>61.1</td>\n",
       "    </tr>\n",
       "    <tr>\n",
       "      <th>3</th>\n",
       "      <td>0.03237</td>\n",
       "      <td>0.0</td>\n",
       "      <td>2.94</td>\n",
       "      <td>45.8</td>\n",
       "    </tr>\n",
       "    <tr>\n",
       "      <th>4</th>\n",
       "      <td>0.06905</td>\n",
       "      <td>0.0</td>\n",
       "      <td>5.33</td>\n",
       "      <td>54.2</td>\n",
       "    </tr>\n",
       "    <tr>\n",
       "      <th>5</th>\n",
       "      <td>0.02985</td>\n",
       "      <td>0.0</td>\n",
       "      <td>5.21</td>\n",
       "      <td>58.7</td>\n",
       "    </tr>\n",
       "    <tr>\n",
       "      <th>6</th>\n",
       "      <td>0.08829</td>\n",
       "      <td>12.5</td>\n",
       "      <td>12.43</td>\n",
       "      <td>66.6</td>\n",
       "    </tr>\n",
       "    <tr>\n",
       "      <th>7</th>\n",
       "      <td>0.14455</td>\n",
       "      <td>12.5</td>\n",
       "      <td>19.15</td>\n",
       "      <td>96.1</td>\n",
       "    </tr>\n",
       "    <tr>\n",
       "      <th>8</th>\n",
       "      <td>0.21124</td>\n",
       "      <td>12.5</td>\n",
       "      <td>29.93</td>\n",
       "      <td>100.0</td>\n",
       "    </tr>\n",
       "    <tr>\n",
       "      <th>9</th>\n",
       "      <td>0.17004</td>\n",
       "      <td>12.5</td>\n",
       "      <td>17.10</td>\n",
       "      <td>85.9</td>\n",
       "    </tr>\n",
       "    <tr>\n",
       "      <th>10</th>\n",
       "      <td>0.22489</td>\n",
       "      <td>12.5</td>\n",
       "      <td>20.45</td>\n",
       "      <td>94.3</td>\n",
       "    </tr>\n",
       "    <tr>\n",
       "      <th>11</th>\n",
       "      <td>0.11747</td>\n",
       "      <td>12.5</td>\n",
       "      <td>13.27</td>\n",
       "      <td>82.9</td>\n",
       "    </tr>\n",
       "    <tr>\n",
       "      <th>12</th>\n",
       "      <td>0.09378</td>\n",
       "      <td>12.5</td>\n",
       "      <td>15.71</td>\n",
       "      <td>39.0</td>\n",
       "    </tr>\n",
       "    <tr>\n",
       "      <th>13</th>\n",
       "      <td>0.62976</td>\n",
       "      <td>0.0</td>\n",
       "      <td>8.26</td>\n",
       "      <td>61.8</td>\n",
       "    </tr>\n",
       "    <tr>\n",
       "      <th>14</th>\n",
       "      <td>0.63796</td>\n",
       "      <td>0.0</td>\n",
       "      <td>10.26</td>\n",
       "      <td>84.5</td>\n",
       "    </tr>\n",
       "    <tr>\n",
       "      <th>15</th>\n",
       "      <td>0.62739</td>\n",
       "      <td>0.0</td>\n",
       "      <td>8.47</td>\n",
       "      <td>56.5</td>\n",
       "    </tr>\n",
       "    <tr>\n",
       "      <th>16</th>\n",
       "      <td>1.05393</td>\n",
       "      <td>0.0</td>\n",
       "      <td>6.58</td>\n",
       "      <td>29.3</td>\n",
       "    </tr>\n",
       "    <tr>\n",
       "      <th>17</th>\n",
       "      <td>0.78420</td>\n",
       "      <td>0.0</td>\n",
       "      <td>14.67</td>\n",
       "      <td>81.7</td>\n",
       "    </tr>\n",
       "    <tr>\n",
       "      <th>18</th>\n",
       "      <td>0.80271</td>\n",
       "      <td>0.0</td>\n",
       "      <td>11.69</td>\n",
       "      <td>36.6</td>\n",
       "    </tr>\n",
       "    <tr>\n",
       "      <th>19</th>\n",
       "      <td>0.72580</td>\n",
       "      <td>0.0</td>\n",
       "      <td>11.28</td>\n",
       "      <td>69.5</td>\n",
       "    </tr>\n",
       "    <tr>\n",
       "      <th>20</th>\n",
       "      <td>1.25179</td>\n",
       "      <td>0.0</td>\n",
       "      <td>21.02</td>\n",
       "      <td>98.1</td>\n",
       "    </tr>\n",
       "    <tr>\n",
       "      <th>21</th>\n",
       "      <td>0.85204</td>\n",
       "      <td>0.0</td>\n",
       "      <td>13.83</td>\n",
       "      <td>89.2</td>\n",
       "    </tr>\n",
       "    <tr>\n",
       "      <th>22</th>\n",
       "      <td>1.23247</td>\n",
       "      <td>0.0</td>\n",
       "      <td>18.72</td>\n",
       "      <td>91.7</td>\n",
       "    </tr>\n",
       "    <tr>\n",
       "      <th>23</th>\n",
       "      <td>0.98843</td>\n",
       "      <td>0.0</td>\n",
       "      <td>19.88</td>\n",
       "      <td>100.0</td>\n",
       "    </tr>\n",
       "    <tr>\n",
       "      <th>24</th>\n",
       "      <td>0.75026</td>\n",
       "      <td>0.0</td>\n",
       "      <td>16.30</td>\n",
       "      <td>94.1</td>\n",
       "    </tr>\n",
       "    <tr>\n",
       "      <th>25</th>\n",
       "      <td>0.84054</td>\n",
       "      <td>0.0</td>\n",
       "      <td>16.51</td>\n",
       "      <td>85.7</td>\n",
       "    </tr>\n",
       "    <tr>\n",
       "      <th>26</th>\n",
       "      <td>0.67191</td>\n",
       "      <td>0.0</td>\n",
       "      <td>14.81</td>\n",
       "      <td>90.3</td>\n",
       "    </tr>\n",
       "    <tr>\n",
       "      <th>27</th>\n",
       "      <td>0.95577</td>\n",
       "      <td>0.0</td>\n",
       "      <td>17.28</td>\n",
       "      <td>88.8</td>\n",
       "    </tr>\n",
       "    <tr>\n",
       "      <th>28</th>\n",
       "      <td>0.77299</td>\n",
       "      <td>0.0</td>\n",
       "      <td>12.80</td>\n",
       "      <td>94.4</td>\n",
       "    </tr>\n",
       "    <tr>\n",
       "      <th>29</th>\n",
       "      <td>1.00245</td>\n",
       "      <td>0.0</td>\n",
       "      <td>11.98</td>\n",
       "      <td>87.3</td>\n",
       "    </tr>\n",
       "    <tr>\n",
       "      <th>...</th>\n",
       "      <td>...</td>\n",
       "      <td>...</td>\n",
       "      <td>...</td>\n",
       "      <td>...</td>\n",
       "    </tr>\n",
       "    <tr>\n",
       "      <th>476</th>\n",
       "      <td>4.87141</td>\n",
       "      <td>0.0</td>\n",
       "      <td>18.68</td>\n",
       "      <td>93.6</td>\n",
       "    </tr>\n",
       "    <tr>\n",
       "      <th>477</th>\n",
       "      <td>15.02340</td>\n",
       "      <td>0.0</td>\n",
       "      <td>24.91</td>\n",
       "      <td>97.3</td>\n",
       "    </tr>\n",
       "    <tr>\n",
       "      <th>478</th>\n",
       "      <td>10.23300</td>\n",
       "      <td>0.0</td>\n",
       "      <td>18.03</td>\n",
       "      <td>96.7</td>\n",
       "    </tr>\n",
       "    <tr>\n",
       "      <th>479</th>\n",
       "      <td>14.33370</td>\n",
       "      <td>0.0</td>\n",
       "      <td>13.11</td>\n",
       "      <td>88.0</td>\n",
       "    </tr>\n",
       "    <tr>\n",
       "      <th>480</th>\n",
       "      <td>5.82401</td>\n",
       "      <td>0.0</td>\n",
       "      <td>10.74</td>\n",
       "      <td>64.7</td>\n",
       "    </tr>\n",
       "    <tr>\n",
       "      <th>481</th>\n",
       "      <td>5.70818</td>\n",
       "      <td>0.0</td>\n",
       "      <td>7.74</td>\n",
       "      <td>74.9</td>\n",
       "    </tr>\n",
       "    <tr>\n",
       "      <th>482</th>\n",
       "      <td>5.73116</td>\n",
       "      <td>0.0</td>\n",
       "      <td>7.01</td>\n",
       "      <td>77.0</td>\n",
       "    </tr>\n",
       "    <tr>\n",
       "      <th>483</th>\n",
       "      <td>2.81838</td>\n",
       "      <td>0.0</td>\n",
       "      <td>10.42</td>\n",
       "      <td>40.3</td>\n",
       "    </tr>\n",
       "    <tr>\n",
       "      <th>484</th>\n",
       "      <td>2.37857</td>\n",
       "      <td>0.0</td>\n",
       "      <td>13.34</td>\n",
       "      <td>41.9</td>\n",
       "    </tr>\n",
       "    <tr>\n",
       "      <th>485</th>\n",
       "      <td>3.67367</td>\n",
       "      <td>0.0</td>\n",
       "      <td>10.58</td>\n",
       "      <td>51.9</td>\n",
       "    </tr>\n",
       "    <tr>\n",
       "      <th>486</th>\n",
       "      <td>5.69175</td>\n",
       "      <td>0.0</td>\n",
       "      <td>14.98</td>\n",
       "      <td>79.8</td>\n",
       "    </tr>\n",
       "    <tr>\n",
       "      <th>487</th>\n",
       "      <td>4.83567</td>\n",
       "      <td>0.0</td>\n",
       "      <td>11.45</td>\n",
       "      <td>53.2</td>\n",
       "    </tr>\n",
       "    <tr>\n",
       "      <th>488</th>\n",
       "      <td>0.15086</td>\n",
       "      <td>0.0</td>\n",
       "      <td>18.06</td>\n",
       "      <td>92.7</td>\n",
       "    </tr>\n",
       "    <tr>\n",
       "      <th>489</th>\n",
       "      <td>0.18337</td>\n",
       "      <td>0.0</td>\n",
       "      <td>23.97</td>\n",
       "      <td>98.3</td>\n",
       "    </tr>\n",
       "    <tr>\n",
       "      <th>490</th>\n",
       "      <td>0.20746</td>\n",
       "      <td>0.0</td>\n",
       "      <td>29.68</td>\n",
       "      <td>98.0</td>\n",
       "    </tr>\n",
       "    <tr>\n",
       "      <th>491</th>\n",
       "      <td>0.10574</td>\n",
       "      <td>0.0</td>\n",
       "      <td>18.07</td>\n",
       "      <td>98.8</td>\n",
       "    </tr>\n",
       "    <tr>\n",
       "      <th>492</th>\n",
       "      <td>0.11132</td>\n",
       "      <td>0.0</td>\n",
       "      <td>13.35</td>\n",
       "      <td>83.5</td>\n",
       "    </tr>\n",
       "    <tr>\n",
       "      <th>493</th>\n",
       "      <td>0.17331</td>\n",
       "      <td>0.0</td>\n",
       "      <td>12.01</td>\n",
       "      <td>54.0</td>\n",
       "    </tr>\n",
       "    <tr>\n",
       "      <th>494</th>\n",
       "      <td>0.27957</td>\n",
       "      <td>0.0</td>\n",
       "      <td>13.59</td>\n",
       "      <td>42.6</td>\n",
       "    </tr>\n",
       "    <tr>\n",
       "      <th>495</th>\n",
       "      <td>0.17899</td>\n",
       "      <td>0.0</td>\n",
       "      <td>17.60</td>\n",
       "      <td>28.8</td>\n",
       "    </tr>\n",
       "    <tr>\n",
       "      <th>496</th>\n",
       "      <td>0.28960</td>\n",
       "      <td>0.0</td>\n",
       "      <td>21.14</td>\n",
       "      <td>72.9</td>\n",
       "    </tr>\n",
       "    <tr>\n",
       "      <th>497</th>\n",
       "      <td>0.26838</td>\n",
       "      <td>0.0</td>\n",
       "      <td>14.10</td>\n",
       "      <td>70.6</td>\n",
       "    </tr>\n",
       "    <tr>\n",
       "      <th>498</th>\n",
       "      <td>0.23912</td>\n",
       "      <td>0.0</td>\n",
       "      <td>12.92</td>\n",
       "      <td>65.3</td>\n",
       "    </tr>\n",
       "    <tr>\n",
       "      <th>499</th>\n",
       "      <td>0.17783</td>\n",
       "      <td>0.0</td>\n",
       "      <td>15.10</td>\n",
       "      <td>73.5</td>\n",
       "    </tr>\n",
       "    <tr>\n",
       "      <th>500</th>\n",
       "      <td>0.22438</td>\n",
       "      <td>0.0</td>\n",
       "      <td>14.33</td>\n",
       "      <td>79.7</td>\n",
       "    </tr>\n",
       "    <tr>\n",
       "      <th>501</th>\n",
       "      <td>0.06263</td>\n",
       "      <td>0.0</td>\n",
       "      <td>9.67</td>\n",
       "      <td>69.1</td>\n",
       "    </tr>\n",
       "    <tr>\n",
       "      <th>502</th>\n",
       "      <td>0.04527</td>\n",
       "      <td>0.0</td>\n",
       "      <td>9.08</td>\n",
       "      <td>76.7</td>\n",
       "    </tr>\n",
       "    <tr>\n",
       "      <th>503</th>\n",
       "      <td>0.06076</td>\n",
       "      <td>0.0</td>\n",
       "      <td>5.64</td>\n",
       "      <td>91.0</td>\n",
       "    </tr>\n",
       "    <tr>\n",
       "      <th>504</th>\n",
       "      <td>0.10959</td>\n",
       "      <td>0.0</td>\n",
       "      <td>6.48</td>\n",
       "      <td>89.3</td>\n",
       "    </tr>\n",
       "    <tr>\n",
       "      <th>505</th>\n",
       "      <td>0.04741</td>\n",
       "      <td>0.0</td>\n",
       "      <td>7.88</td>\n",
       "      <td>80.8</td>\n",
       "    </tr>\n",
       "  </tbody>\n",
       "</table>\n",
       "<p>506 rows × 4 columns</p>\n",
       "</div>"
      ],
      "text/plain": [
       "         CRIM    ZN  LSTAT    AGE\n",
       "0     0.00632  18.0   4.98   65.2\n",
       "1     0.02731   0.0   9.14   78.9\n",
       "2     0.02729   0.0   4.03   61.1\n",
       "3     0.03237   0.0   2.94   45.8\n",
       "4     0.06905   0.0   5.33   54.2\n",
       "5     0.02985   0.0   5.21   58.7\n",
       "6     0.08829  12.5  12.43   66.6\n",
       "7     0.14455  12.5  19.15   96.1\n",
       "8     0.21124  12.5  29.93  100.0\n",
       "9     0.17004  12.5  17.10   85.9\n",
       "10    0.22489  12.5  20.45   94.3\n",
       "11    0.11747  12.5  13.27   82.9\n",
       "12    0.09378  12.5  15.71   39.0\n",
       "13    0.62976   0.0   8.26   61.8\n",
       "14    0.63796   0.0  10.26   84.5\n",
       "15    0.62739   0.0   8.47   56.5\n",
       "16    1.05393   0.0   6.58   29.3\n",
       "17    0.78420   0.0  14.67   81.7\n",
       "18    0.80271   0.0  11.69   36.6\n",
       "19    0.72580   0.0  11.28   69.5\n",
       "20    1.25179   0.0  21.02   98.1\n",
       "21    0.85204   0.0  13.83   89.2\n",
       "22    1.23247   0.0  18.72   91.7\n",
       "23    0.98843   0.0  19.88  100.0\n",
       "24    0.75026   0.0  16.30   94.1\n",
       "25    0.84054   0.0  16.51   85.7\n",
       "26    0.67191   0.0  14.81   90.3\n",
       "27    0.95577   0.0  17.28   88.8\n",
       "28    0.77299   0.0  12.80   94.4\n",
       "29    1.00245   0.0  11.98   87.3\n",
       "..        ...   ...    ...    ...\n",
       "476   4.87141   0.0  18.68   93.6\n",
       "477  15.02340   0.0  24.91   97.3\n",
       "478  10.23300   0.0  18.03   96.7\n",
       "479  14.33370   0.0  13.11   88.0\n",
       "480   5.82401   0.0  10.74   64.7\n",
       "481   5.70818   0.0   7.74   74.9\n",
       "482   5.73116   0.0   7.01   77.0\n",
       "483   2.81838   0.0  10.42   40.3\n",
       "484   2.37857   0.0  13.34   41.9\n",
       "485   3.67367   0.0  10.58   51.9\n",
       "486   5.69175   0.0  14.98   79.8\n",
       "487   4.83567   0.0  11.45   53.2\n",
       "488   0.15086   0.0  18.06   92.7\n",
       "489   0.18337   0.0  23.97   98.3\n",
       "490   0.20746   0.0  29.68   98.0\n",
       "491   0.10574   0.0  18.07   98.8\n",
       "492   0.11132   0.0  13.35   83.5\n",
       "493   0.17331   0.0  12.01   54.0\n",
       "494   0.27957   0.0  13.59   42.6\n",
       "495   0.17899   0.0  17.60   28.8\n",
       "496   0.28960   0.0  21.14   72.9\n",
       "497   0.26838   0.0  14.10   70.6\n",
       "498   0.23912   0.0  12.92   65.3\n",
       "499   0.17783   0.0  15.10   73.5\n",
       "500   0.22438   0.0  14.33   79.7\n",
       "501   0.06263   0.0   9.67   69.1\n",
       "502   0.04527   0.0   9.08   76.7\n",
       "503   0.06076   0.0   5.64   91.0\n",
       "504   0.10959   0.0   6.48   89.3\n",
       "505   0.04741   0.0   7.88   80.8\n",
       "\n",
       "[506 rows x 4 columns]"
      ]
     },
     "execution_count": 15,
     "metadata": {},
     "output_type": "execute_result"
    }
   ],
   "source": [
    "bostonhousing[np.array(list(combinations(predictor_columns,4))[0])]"
   ]
  },
  {
   "cell_type": "markdown",
   "metadata": {},
   "source": [
    "As a heuristic for determining the minimum number of variables to find the best model, I used the Lasso to set the lower bound. The Lasso is capable of reducing variable coefficients to 0 if they have no predictive power and so I will use the number of non-zero weights as a lower bound for searching for the best models."
   ]
  },
  {
   "cell_type": "code",
   "execution_count": 16,
   "metadata": {
    "collapsed": false,
    "scrolled": false
   },
   "outputs": [
    {
     "name": "stdout",
     "output_type": "stream",
     "text": [
      "\n",
      "Top 1 model by R^2 measure includes the variables:\n",
      "('CRIM', 'ZN', 'LSTAT', 'AGE', 'CHAS', 'RM', 'INDUS', 'PTRATIO', 'DIS')\n",
      "The training set score is:  0.717762873428\n",
      "\n",
      "Top 2 model by R^2 measure includes the variables:\n",
      "('ZN', 'LSTAT', 'AGE', 'RAD', 'CHAS', 'RM', 'INDUS', 'PTRATIO', 'DIS')\n",
      "The training set score is:  0.715333941469\n",
      "\n",
      "Top 3 model by R^2 measure includes the variables:\n",
      "('ZN', 'LSTAT', 'AGE', 'CHAS', 'RM', 'INDUS', 'PTRATIO', 'DIS')\n",
      "The training set score is:  0.715135771826\n"
     ]
    }
   ],
   "source": [
    "model = sklearn.linear_model.LinearRegression()\n",
    "X,Xt,y,yt = sklearn.cross_validation.train_test_split(bostonhousing[predictor_columns],bostonhousing.MEDV,test_size=0.2)\n",
    "score_arr = []\n",
    "all_models = []\n",
    "for i in range(1,10):\n",
    "    vars_for_model = list(combinations(predictor_columns,i))\n",
    "    all_models+=vars_for_model\n",
    "    for preds in vars_for_model:\n",
    "        preds = np.array(preds)\n",
    "        score_arr.append(model.fit(X[preds],y).score(X[preds],y))\n",
    "vals_zip = sorted(zip(all_models,score_arr),key = lambda t: t[1],reverse=True)\n",
    "for i in range(3):\n",
    "    print \"\\nTop %s model by R^2 measure includes the variables:\\n\" % (i+1),vals_zip[i][0]\n",
    "    print \"The training set score is: \",model.fit(X[np.array(vals_zip[i][0])],y).score(X[np.array(vals_zip[i][0])],y)"
   ]
  },
  {
   "cell_type": "code",
   "execution_count": 17,
   "metadata": {
    "collapsed": false
   },
   "outputs": [
    {
     "name": "stdout",
     "output_type": "stream",
     "text": [
      "\n",
      "Top 1 model includes the variables:\n",
      "('CRIM', 'ZN', 'LSTAT', 'AGE', 'CHAS', 'RM', 'INDUS', 'PTRATIO', 'DIS')\n",
      "The cross validation score is:  0.685465009418\n",
      "\n",
      "Top 2 model includes the variables:\n",
      "('ZN', 'LSTAT', 'AGE', 'RAD', 'CHAS', 'RM', 'INDUS', 'PTRATIO', 'DIS')\n",
      "The cross validation score is:  0.667540808017\n",
      "\n",
      "Top 3 model includes the variables:\n",
      "('ZN', 'LSTAT', 'AGE', 'CHAS', 'RM', 'INDUS', 'PTRATIO', 'DIS')\n",
      "The cross validation score is:  0.667421492589\n"
     ]
    }
   ],
   "source": [
    "for i in range(3):\n",
    "    print \"\\nTop %s model includes the variables:\\n\" % (i+1),vals_zip[i][0]\n",
    "    print \"The cross validation score is: \",model.fit(X[np.array(vals_zip[i][0])],y).score(Xt[np.array(vals_zip[i][0])],yt)"
   ]
  },
  {
   "cell_type": "markdown",
   "metadata": {},
   "source": [
    "So the problem says to choose the top three models but it does not say what it's based on. So from what I can see, it looks like there should be a 20% cross validation set and then an 80% training set. I am assuming that the best model should be determined in terms of accuracy on the training set data via R^2."
   ]
  },
  {
   "cell_type": "markdown",
   "metadata": {},
   "source": [
    "## Question 7.3"
   ]
  },
  {
   "cell_type": "markdown",
   "metadata": {},
   "source": [
    "### Question 7.3 (a)"
   ]
  },
  {
   "cell_type": "code",
   "execution_count": 19,
   "metadata": {
    "collapsed": false
   },
   "outputs": [
    {
     "data": {
      "text/html": [
       "<div>\n",
       "<table border=\"1\" class=\"dataframe\">\n",
       "  <thead>\n",
       "    <tr style=\"text-align: right;\">\n",
       "      <th></th>\n",
       "      <th>CRIM</th>\n",
       "      <th>ZN</th>\n",
       "      <th>INDUS</th>\n",
       "      <th>CHAS</th>\n",
       "      <th>NOX</th>\n",
       "      <th>RM</th>\n",
       "      <th>AGE</th>\n",
       "      <th>DIS</th>\n",
       "      <th>RAD</th>\n",
       "      <th>TAX</th>\n",
       "      <th>PTRATIO</th>\n",
       "      <th>LSTAT</th>\n",
       "      <th>MEDV</th>\n",
       "      <th>CAT.MEDV</th>\n",
       "    </tr>\n",
       "  </thead>\n",
       "  <tbody>\n",
       "    <tr>\n",
       "      <th>0</th>\n",
       "      <td>0.00632</td>\n",
       "      <td>18.0</td>\n",
       "      <td>2.31</td>\n",
       "      <td>0</td>\n",
       "      <td>0.538</td>\n",
       "      <td>6.575</td>\n",
       "      <td>65.2</td>\n",
       "      <td>4.0900</td>\n",
       "      <td>1</td>\n",
       "      <td>296</td>\n",
       "      <td>15.3</td>\n",
       "      <td>4.98</td>\n",
       "      <td>24.0</td>\n",
       "      <td>0</td>\n",
       "    </tr>\n",
       "    <tr>\n",
       "      <th>1</th>\n",
       "      <td>0.02731</td>\n",
       "      <td>0.0</td>\n",
       "      <td>7.07</td>\n",
       "      <td>0</td>\n",
       "      <td>0.469</td>\n",
       "      <td>6.421</td>\n",
       "      <td>78.9</td>\n",
       "      <td>4.9671</td>\n",
       "      <td>2</td>\n",
       "      <td>242</td>\n",
       "      <td>17.8</td>\n",
       "      <td>9.14</td>\n",
       "      <td>21.6</td>\n",
       "      <td>0</td>\n",
       "    </tr>\n",
       "    <tr>\n",
       "      <th>2</th>\n",
       "      <td>0.02729</td>\n",
       "      <td>0.0</td>\n",
       "      <td>7.07</td>\n",
       "      <td>0</td>\n",
       "      <td>0.469</td>\n",
       "      <td>7.185</td>\n",
       "      <td>61.1</td>\n",
       "      <td>4.9671</td>\n",
       "      <td>2</td>\n",
       "      <td>242</td>\n",
       "      <td>17.8</td>\n",
       "      <td>4.03</td>\n",
       "      <td>34.7</td>\n",
       "      <td>1</td>\n",
       "    </tr>\n",
       "    <tr>\n",
       "      <th>3</th>\n",
       "      <td>0.03237</td>\n",
       "      <td>0.0</td>\n",
       "      <td>2.18</td>\n",
       "      <td>0</td>\n",
       "      <td>0.458</td>\n",
       "      <td>6.998</td>\n",
       "      <td>45.8</td>\n",
       "      <td>6.0622</td>\n",
       "      <td>3</td>\n",
       "      <td>222</td>\n",
       "      <td>18.7</td>\n",
       "      <td>2.94</td>\n",
       "      <td>33.4</td>\n",
       "      <td>1</td>\n",
       "    </tr>\n",
       "    <tr>\n",
       "      <th>4</th>\n",
       "      <td>0.06905</td>\n",
       "      <td>0.0</td>\n",
       "      <td>2.18</td>\n",
       "      <td>0</td>\n",
       "      <td>0.458</td>\n",
       "      <td>7.147</td>\n",
       "      <td>54.2</td>\n",
       "      <td>6.0622</td>\n",
       "      <td>3</td>\n",
       "      <td>222</td>\n",
       "      <td>18.7</td>\n",
       "      <td>5.33</td>\n",
       "      <td>36.2</td>\n",
       "      <td>1</td>\n",
       "    </tr>\n",
       "  </tbody>\n",
       "</table>\n",
       "</div>"
      ],
      "text/plain": [
       "      CRIM    ZN  INDUS  CHAS    NOX     RM   AGE     DIS  RAD  TAX  PTRATIO  \\\n",
       "0  0.00632  18.0   2.31     0  0.538  6.575  65.2  4.0900    1  296     15.3   \n",
       "1  0.02731   0.0   7.07     0  0.469  6.421  78.9  4.9671    2  242     17.8   \n",
       "2  0.02729   0.0   7.07     0  0.469  7.185  61.1  4.9671    2  242     17.8   \n",
       "3  0.03237   0.0   2.18     0  0.458  6.998  45.8  6.0622    3  222     18.7   \n",
       "4  0.06905   0.0   2.18     0  0.458  7.147  54.2  6.0622    3  222     18.7   \n",
       "\n",
       "   LSTAT  MEDV  CAT.MEDV  \n",
       "0   4.98  24.0         0  \n",
       "1   9.14  21.6         0  \n",
       "2   4.03  34.7         1  \n",
       "3   2.94  33.4         1  \n",
       "4   5.33  36.2         1  "
      ]
     },
     "execution_count": 19,
     "metadata": {},
     "output_type": "execute_result"
    }
   ],
   "source": [
    "bostonhousing = pd.read_csv('BostonHousing.csv',sep=',',header=0)\n",
    "bostonhousing.head()"
   ]
  },
  {
   "cell_type": "code",
   "execution_count": 20,
   "metadata": {
    "collapsed": false
   },
   "outputs": [
    {
     "name": "stdout",
     "output_type": "stream",
     "text": [
      "       CRIM        ZN     INDUS      CHAS       NOX        RM       AGE  \\\n",
      "0 -0.419782  0.284830 -1.287909 -0.272599 -0.144217  0.413672 -0.120013   \n",
      "1 -0.417339 -0.487722 -0.593381 -0.272599 -0.740262  0.194274  0.367166   \n",
      "2 -0.417342 -0.487722 -0.593381 -0.272599 -0.740262  1.282714 -0.265812   \n",
      "3 -0.416750 -0.487722 -1.306878 -0.272599 -0.835284  1.016303 -0.809889   \n",
      "4 -0.412482 -0.487722 -1.306878 -0.272599 -0.835284  1.228577 -0.511180   \n",
      "\n",
      "        DIS       RAD       TAX   PTRATIO     LSTAT  MEDV  CAT.MEDV  \n",
      "0  0.140214 -0.982843 -0.666608 -1.459000 -1.075562  24.0         0  \n",
      "1  0.557160 -0.867883 -0.987329 -0.303094 -0.492439  21.6         0  \n",
      "2  0.557160 -0.867883 -0.987329 -0.303094 -1.208727  34.7         1  \n",
      "3  1.077737 -0.752922 -1.106115  0.113032 -1.361517  33.4         1  \n",
      "4  1.077737 -0.752922 -1.106115  0.113032 -1.026501  36.2         1  \n"
     ]
    }
   ],
   "source": [
    "scaler = sklearn.preprocessing.StandardScaler()\n",
    "columns = list(set(bostonhousing.columns.values)-set(['MEDV','CAT.MEDV']))\n",
    "for col in columns:\n",
    "    bostonhousing[col] = scaler.fit_transform(bostonhousing[col])\n",
    "\n",
    "print bostonhousing.head()\n",
    "\n",
    "X,Xt,y,yt = sklearn.cross_validation.train_test_split(bostonhousing[columns],bostonhousing.MEDV,test_size=0.4)"
   ]
  },
  {
   "cell_type": "code",
   "execution_count": 21,
   "metadata": {
    "collapsed": false
   },
   "outputs": [
    {
     "name": "stdout",
     "output_type": "stream",
     "text": [
      "For k =  1 , R^2 value is: 0.688810576034\n",
      "For k =  2 , R^2 value is: 0.731833948465\n",
      "For k =  3 , R^2 value is: 0.704432166734\n",
      "For k =  4 , R^2 value is: 0.710606592954\n",
      "For k =  5 , R^2 value is: 0.700079447868\n"
     ]
    }
   ],
   "source": [
    "for i in range(1,6):\n",
    "    knn_model = sklearn.neighbors.KNeighborsRegressor(n_neighbors=i)\n",
    "    knn_model.fit(X,y)\n",
    "    print \"For k = \",i,\", R^2 value is:\",knn_model.score(Xt,yt)"
   ]
  },
  {
   "cell_type": "markdown",
   "metadata": {},
   "source": [
    "Using 12 variables, it looks like k = 2 has the best performance with respect to R^2 value. This means that the prediction is based on the bucket/leaf that is indicated from the closest 2 observations."
   ]
  },
  {
   "cell_type": "markdown",
   "metadata": {},
   "source": [
    "###  Question 7.3 (b)"
   ]
  },
  {
   "cell_type": "code",
   "execution_count": 22,
   "metadata": {
    "collapsed": false
   },
   "outputs": [
    {
     "name": "stdout",
     "output_type": "stream",
     "text": [
      "For k = 2 , predicted value is: [ 10.3]\n"
     ]
    }
   ],
   "source": [
    "query = pd.DataFrame([[0.2,0,7,0,0.538,6,62,4.7,4,307,21,10]],columns=list(bostonhousing.columns.values[:12]))\n",
    "knn_model = sklearn.neighbors.KNeighborsRegressor(n_neighbors=2)\n",
    "knn_model.fit(X,y)\n",
    "print \"For k =\",2,\", predicted value is:\",knn_model.predict(query)"
   ]
  },
  {
   "cell_type": "markdown",
   "metadata": {},
   "source": [
    "### Question 7.3 (c)"
   ]
  },
  {
   "cell_type": "markdown",
   "metadata": {},
   "source": [
    "The validation error is still optimistic because we tweak the original model on this data. So, we get an idea of what works and does not work. In an indirect way, we are getting a feel for what works and does not work in the validation set. We, of course, do not get this chance for the test set which is suppose to be our final evaluation. Hence, over time, as we make changes to the model that was trained on the training set based on our evaluation of the validation set, we start to introduce an almost look-ahead bias. This essentially means that we are looking at data and coming up with a model that will of course do well on this set because we have tried multiple things that work and do not work which is something that is not allowed for the test set. Thus, the error for the validation set ends up being overly optimistic because we've taken steps to improve the error on the validation set."
   ]
  },
  {
   "cell_type": "markdown",
   "metadata": {},
   "source": [
    "### Question 7.3 (d)"
   ]
  },
  {
   "cell_type": "code",
   "execution_count": 23,
   "metadata": {
    "collapsed": false
   },
   "outputs": [
    {
     "name": "stdout",
     "output_type": "stream",
     "text": [
      "       CRIM        ZN     INDUS  CHAS       NOX        RM       AGE       DIS  \\\n",
      "0 -0.419782  0.284830 -1.287909     0 -0.144217  0.413672 -0.120013  0.140214   \n",
      "1 -0.417339 -0.487722 -0.593381     0 -0.740262  0.194274  0.367166  0.557160   \n",
      "2 -0.417342 -0.487722 -0.593381     0 -0.740262  1.282714 -0.265812  0.557160   \n",
      "3 -0.416750 -0.487722 -1.306878     0 -0.835284  1.016303 -0.809889  1.077737   \n",
      "4 -0.412482 -0.487722 -1.306878     0 -0.835284  1.228577 -0.511180  1.077737   \n",
      "\n",
      "        RAD       TAX   PTRATIO     LSTAT  MEDV  CAT.MEDV  \n",
      "0 -0.982843 -0.666608 -1.459000 -1.075562  24.0         0  \n",
      "1 -0.867883 -0.987329 -0.303094 -0.492439  21.6         0  \n",
      "2 -0.867883 -0.987329 -0.303094 -1.208727  34.7         1  \n",
      "3 -0.752922 -1.106115  0.113032 -1.361517  33.4         1  \n",
      "4 -0.752922 -1.106115  0.113032 -1.026501  36.2         1   \n",
      "\n",
      "For k =  1 , R^2 value is: 0.710915183285\n",
      "For k =  2 , R^2 value is: 0.745797512212\n",
      "For k =  3 , R^2 value is: 0.714353267799\n",
      "For k =  4 , R^2 value is: 0.713726693547\n",
      "For k =  5 , R^2 value is: 0.699522682614\n",
      "\n",
      "For k = 2 , predicted value is: [ 13.76]\n"
     ]
    }
   ],
   "source": [
    "bostonhousing = pd.read_csv('BostonHousing.csv',sep=',',header=0)\n",
    "scaler = sklearn.preprocessing.StandardScaler()\n",
    "continuous_columns = list(set(bostonhousing.columns.values)-set(['CHAS','MEDV','CAT.MEDV',]))\n",
    "for col in continuous_columns:\n",
    "    bostonhousing[col] = scaler.fit_transform(bostonhousing[col])\n",
    "\n",
    "print bostonhousing.head(),\"\\n\"\n",
    "\n",
    "X,Xt,y,yt = sklearn.cross_validation.train_test_split(bostonhousing[columns],bostonhousing.MEDV,test_size=0.4)\n",
    "\n",
    "for i in range(1,6):\n",
    "    knn_model = sklearn.neighbors.KNeighborsRegressor(n_neighbors=i)\n",
    "    knn_model = knn_model.fit(X,y)\n",
    "    print \"For k = \",i,\", R^2 value is:\",knn_model.score(Xt,yt)\n",
    "    \n",
    "print \"\\nFor k =\",2,\", predicted value is:\",knn_model.predict(query)"
   ]
  },
  {
   "cell_type": "markdown",
   "metadata": {},
   "source": [
    "###  Question 7.3 (e)\n",
    "The disadvantage of using the k-NN prediction is that k-NN suffers already from the curse of dimensionality. The way k-NN makes regression predictions is a weighted average of the k nearest neighbors. However, in our model above, we have incorporated 12 predictors. So, already, there is no guarantee that there are always going to be close datapoints that are adequately capable of providing informative contributions to k-NN's prediction process. Also, even though we've made some improvement to normalize the data, k-NN is nonparametric and so it cannot tell when one variable has more impact than another. CRIM may be a huge factor and the a significant difference in value may drive huge changes in MEDV. However, if multiple of the other less significant factors are grouped close together, k-NN may incorrectly make the assumption that the datapoints are very similar in regression outcomes."
   ]
  },
  {
   "cell_type": "markdown",
   "metadata": {},
   "source": [
    "## Question 8.2"
   ]
  },
  {
   "cell_type": "markdown",
   "metadata": {},
   "source": [
    "### Question 8.2 (a)"
   ]
  },
  {
   "cell_type": "code",
   "execution_count": 24,
   "metadata": {
    "collapsed": false
   },
   "outputs": [
    {
     "data": {
      "text/html": [
       "<div>\n",
       "<table border=\"1\" class=\"dataframe\">\n",
       "  <thead>\n",
       "    <tr style=\"text-align: right;\">\n",
       "      <th></th>\n",
       "      <th>HOUR_I_R</th>\n",
       "      <th>ALCHL_I</th>\n",
       "      <th>ALIGN_I</th>\n",
       "      <th>STRATUM_R</th>\n",
       "      <th>WRK_ZONE</th>\n",
       "      <th>WKDY_I_R</th>\n",
       "      <th>INT_HWY</th>\n",
       "      <th>LGTCON_I_R</th>\n",
       "      <th>MANCOL_I_R</th>\n",
       "      <th>PED_ACC_R</th>\n",
       "      <th>...</th>\n",
       "      <th>TRAF_CON_R</th>\n",
       "      <th>TRAF_WAY</th>\n",
       "      <th>VEH_INVL</th>\n",
       "      <th>WEATHER_R</th>\n",
       "      <th>INJURY_CRASH</th>\n",
       "      <th>NO_INJ_I</th>\n",
       "      <th>PRPTYDMG_CRASH</th>\n",
       "      <th>FATALITIES</th>\n",
       "      <th>MAX_SEV_IR</th>\n",
       "      <th>INJURY</th>\n",
       "    </tr>\n",
       "  </thead>\n",
       "  <tbody>\n",
       "    <tr>\n",
       "      <th>0</th>\n",
       "      <td>0</td>\n",
       "      <td>2</td>\n",
       "      <td>2</td>\n",
       "      <td>1</td>\n",
       "      <td>0</td>\n",
       "      <td>1</td>\n",
       "      <td>0</td>\n",
       "      <td>3</td>\n",
       "      <td>0</td>\n",
       "      <td>0</td>\n",
       "      <td>...</td>\n",
       "      <td>0</td>\n",
       "      <td>3</td>\n",
       "      <td>1</td>\n",
       "      <td>1</td>\n",
       "      <td>1</td>\n",
       "      <td>1</td>\n",
       "      <td>0</td>\n",
       "      <td>0</td>\n",
       "      <td>1</td>\n",
       "      <td>True</td>\n",
       "    </tr>\n",
       "    <tr>\n",
       "      <th>1</th>\n",
       "      <td>1</td>\n",
       "      <td>2</td>\n",
       "      <td>1</td>\n",
       "      <td>0</td>\n",
       "      <td>0</td>\n",
       "      <td>1</td>\n",
       "      <td>1</td>\n",
       "      <td>3</td>\n",
       "      <td>2</td>\n",
       "      <td>0</td>\n",
       "      <td>...</td>\n",
       "      <td>0</td>\n",
       "      <td>3</td>\n",
       "      <td>2</td>\n",
       "      <td>2</td>\n",
       "      <td>0</td>\n",
       "      <td>0</td>\n",
       "      <td>1</td>\n",
       "      <td>0</td>\n",
       "      <td>0</td>\n",
       "      <td>False</td>\n",
       "    </tr>\n",
       "    <tr>\n",
       "      <th>2</th>\n",
       "      <td>1</td>\n",
       "      <td>2</td>\n",
       "      <td>1</td>\n",
       "      <td>0</td>\n",
       "      <td>0</td>\n",
       "      <td>1</td>\n",
       "      <td>0</td>\n",
       "      <td>3</td>\n",
       "      <td>2</td>\n",
       "      <td>0</td>\n",
       "      <td>...</td>\n",
       "      <td>1</td>\n",
       "      <td>2</td>\n",
       "      <td>2</td>\n",
       "      <td>2</td>\n",
       "      <td>0</td>\n",
       "      <td>0</td>\n",
       "      <td>1</td>\n",
       "      <td>0</td>\n",
       "      <td>0</td>\n",
       "      <td>False</td>\n",
       "    </tr>\n",
       "    <tr>\n",
       "      <th>3</th>\n",
       "      <td>1</td>\n",
       "      <td>2</td>\n",
       "      <td>1</td>\n",
       "      <td>1</td>\n",
       "      <td>0</td>\n",
       "      <td>0</td>\n",
       "      <td>0</td>\n",
       "      <td>3</td>\n",
       "      <td>2</td>\n",
       "      <td>0</td>\n",
       "      <td>...</td>\n",
       "      <td>1</td>\n",
       "      <td>2</td>\n",
       "      <td>2</td>\n",
       "      <td>1</td>\n",
       "      <td>0</td>\n",
       "      <td>0</td>\n",
       "      <td>1</td>\n",
       "      <td>0</td>\n",
       "      <td>0</td>\n",
       "      <td>False</td>\n",
       "    </tr>\n",
       "    <tr>\n",
       "      <th>4</th>\n",
       "      <td>1</td>\n",
       "      <td>1</td>\n",
       "      <td>1</td>\n",
       "      <td>0</td>\n",
       "      <td>0</td>\n",
       "      <td>1</td>\n",
       "      <td>0</td>\n",
       "      <td>3</td>\n",
       "      <td>2</td>\n",
       "      <td>0</td>\n",
       "      <td>...</td>\n",
       "      <td>0</td>\n",
       "      <td>2</td>\n",
       "      <td>3</td>\n",
       "      <td>1</td>\n",
       "      <td>0</td>\n",
       "      <td>0</td>\n",
       "      <td>1</td>\n",
       "      <td>0</td>\n",
       "      <td>0</td>\n",
       "      <td>False</td>\n",
       "    </tr>\n",
       "  </tbody>\n",
       "</table>\n",
       "<p>5 rows × 25 columns</p>\n",
       "</div>"
      ],
      "text/plain": [
       "   HOUR_I_R  ALCHL_I  ALIGN_I  STRATUM_R  WRK_ZONE  WKDY_I_R  INT_HWY  \\\n",
       "0         0        2        2          1         0         1        0   \n",
       "1         1        2        1          0         0         1        1   \n",
       "2         1        2        1          0         0         1        0   \n",
       "3         1        2        1          1         0         0        0   \n",
       "4         1        1        1          0         0         1        0   \n",
       "\n",
       "   LGTCON_I_R  MANCOL_I_R  PED_ACC_R   ...    TRAF_CON_R  TRAF_WAY  VEH_INVL  \\\n",
       "0           3           0          0   ...             0         3         1   \n",
       "1           3           2          0   ...             0         3         2   \n",
       "2           3           2          0   ...             1         2         2   \n",
       "3           3           2          0   ...             1         2         2   \n",
       "4           3           2          0   ...             0         2         3   \n",
       "\n",
       "   WEATHER_R  INJURY_CRASH  NO_INJ_I  PRPTYDMG_CRASH  FATALITIES  MAX_SEV_IR  \\\n",
       "0          1             1         1               0           0           1   \n",
       "1          2             0         0               1           0           0   \n",
       "2          2             0         0               1           0           0   \n",
       "3          1             0         0               1           0           0   \n",
       "4          1             0         0               1           0           0   \n",
       "\n",
       "   INJURY  \n",
       "0    True  \n",
       "1   False  \n",
       "2   False  \n",
       "3   False  \n",
       "4   False  \n",
       "\n",
       "[5 rows x 25 columns]"
      ]
     },
     "execution_count": 24,
     "metadata": {},
     "output_type": "execute_result"
    }
   ],
   "source": [
    "accidents = pd.read_csv('Accidents.csv',sep=',',header=0)\n",
    "accidents['INJURY'] = accidents.MAX_SEV_IR.apply(lambda x: x>0)\n",
    "accidents.head()"
   ]
  },
  {
   "cell_type": "code",
   "execution_count": 25,
   "metadata": {
    "collapsed": false
   },
   "outputs": [
    {
     "name": "stdout",
     "output_type": "stream",
     "text": [
      "Probability of injury given crash:  0.508783159093\n"
     ]
    }
   ],
   "source": [
    "print \"Probability of injury given crash: \",len(accidents[accidents.INJURY==True])/float(len(accidents))"
   ]
  },
  {
   "cell_type": "markdown",
   "metadata": {},
   "source": [
    "Given that the probability is over 50%, without further knowledge we assume that there is an injury."
   ]
  },
  {
   "cell_type": "markdown",
   "metadata": {},
   "source": [
    "### Question 8.2 (b) i.    NEEDS TO BE LOOKED AT AGAIN"
   ]
  },
  {
   "cell_type": "code",
   "execution_count": 26,
   "metadata": {
    "collapsed": false
   },
   "outputs": [
    {
     "data": {
      "text/html": [
       "<div>\n",
       "<table border=\"1\" class=\"dataframe\">\n",
       "  <thead>\n",
       "    <tr style=\"text-align: right;\">\n",
       "      <th></th>\n",
       "      <th>WEATHER_R</th>\n",
       "      <th>TRAF_CON_R</th>\n",
       "    </tr>\n",
       "  </thead>\n",
       "  <tbody>\n",
       "    <tr>\n",
       "      <th>count</th>\n",
       "      <td>12.000000</td>\n",
       "      <td>12.000000</td>\n",
       "    </tr>\n",
       "    <tr>\n",
       "      <th>mean</th>\n",
       "      <td>1.583333</td>\n",
       "      <td>0.333333</td>\n",
       "    </tr>\n",
       "    <tr>\n",
       "      <th>std</th>\n",
       "      <td>0.514929</td>\n",
       "      <td>0.651339</td>\n",
       "    </tr>\n",
       "    <tr>\n",
       "      <th>min</th>\n",
       "      <td>1.000000</td>\n",
       "      <td>0.000000</td>\n",
       "    </tr>\n",
       "    <tr>\n",
       "      <th>25%</th>\n",
       "      <td>1.000000</td>\n",
       "      <td>0.000000</td>\n",
       "    </tr>\n",
       "    <tr>\n",
       "      <th>50%</th>\n",
       "      <td>2.000000</td>\n",
       "      <td>0.000000</td>\n",
       "    </tr>\n",
       "    <tr>\n",
       "      <th>75%</th>\n",
       "      <td>2.000000</td>\n",
       "      <td>0.250000</td>\n",
       "    </tr>\n",
       "    <tr>\n",
       "      <th>max</th>\n",
       "      <td>2.000000</td>\n",
       "      <td>2.000000</td>\n",
       "    </tr>\n",
       "  </tbody>\n",
       "</table>\n",
       "</div>"
      ],
      "text/plain": [
       "       WEATHER_R  TRAF_CON_R\n",
       "count  12.000000   12.000000\n",
       "mean    1.583333    0.333333\n",
       "std     0.514929    0.651339\n",
       "min     1.000000    0.000000\n",
       "25%     1.000000    0.000000\n",
       "50%     2.000000    0.000000\n",
       "75%     2.000000    0.250000\n",
       "max     2.000000    2.000000"
      ]
     },
     "execution_count": 26,
     "metadata": {},
     "output_type": "execute_result"
    }
   ],
   "source": [
    "q82bi = accidents[['WEATHER_R','TRAF_CON_R','INJURY']].head(12)\n",
    "q82bi.describe()"
   ]
  },
  {
   "cell_type": "markdown",
   "metadata": {},
   "source": [
    "Taking a preliminary look."
   ]
  },
  {
   "cell_type": "code",
   "execution_count": 27,
   "metadata": {
    "collapsed": false
   },
   "outputs": [
    {
     "data": {
      "text/plain": [
       "<matplotlib.axes._subplots.AxesSubplot at 0xcc84cf8>"
      ]
     },
     "execution_count": 27,
     "metadata": {},
     "output_type": "execute_result"
    },
    {
     "data": {
      "image/png": "[encoded data removed]",
      "text/plain": [
       "<matplotlib.figure.Figure at 0xce186d8>"
      ]
     },
     "metadata": {},
     "output_type": "display_data"
    }
   ],
   "source": [
    "fig, axs = plt.subplots(1,2)\n",
    "q82bi.WEATHER_R.value_counts('INJURY').plot(kind='bar',title='WEATHER_R vs. INJURY',ax=axs[0],figsize=(16,6))\n",
    "q82bi.TRAF_CON_R.value_counts('INJURY').plot(kind='bar',title='TRAF_CON_R vs. INJURY',ax=axs[1],figsize=(16,6))"
   ]
  },
  {
   "cell_type": "markdown",
   "metadata": {},
   "source": [
    "### Question 8.2 (b) ii."
   ]
  },
  {
   "cell_type": "code",
   "execution_count": 28,
   "metadata": {
    "collapsed": false
   },
   "outputs": [
    {
     "name": "stdout",
     "output_type": "stream",
     "text": [
      "For WEATHER_R: 1 and TRAF_CON_R: 0,  we get:  0.503111033214\n",
      "For WEATHER_R: 1 and TRAF_CON_R: 1,  we get:  0.553423927525\n",
      "For WEATHER_R: 1 and TRAF_CON_R: 2,  we get:  0.531550068587\n",
      "For WEATHER_R: 2 and TRAF_CON_R: 0,  we get:  0.443616253907\n",
      "For WEATHER_R: 2 and TRAF_CON_R: 1,  we get:  0.500894454383\n",
      "For WEATHER_R: 2 and TRAF_CON_R: 2,  we get:  0.430294906166\n"
     ]
    }
   ],
   "source": [
    "injuries = accidents[accidents.INJURY==True]\n",
    "prob_df = np.zeros((12,3))\n",
    "count = 0\n",
    "for val1 in sorted(pd.unique(injuries['WEATHER_R'])):\n",
    "    weather_adjusted = injuries[injuries.WEATHER_R==val1]\n",
    "    weather_adjusted2 = accidents[accidents.WEATHER_R==val1]\n",
    "    for val2 in sorted(pd.unique(injuries['TRAF_CON_R'])):\n",
    "        traf_adjusted = weather_adjusted[weather_adjusted.TRAF_CON_R==val2]\n",
    "        traf_adjusted2 = weather_adjusted2[weather_adjusted2.TRAF_CON_R==val2]\n",
    "        print \"For WEATHER_R: %s and TRAF_CON_R: %s,\" % (val1,val2),\" we get: \",len(traf_adjusted)/float(len(traf_adjusted2)) \n",
    "        prob_df[count][2] = (len(traf_adjusted)/float(len(traf_adjusted2)))\n",
    "        prob_df[count][1] = val2\n",
    "        prob_df[count][0] = val1\n",
    "        count+=1\n",
    "prob_df = pd.DataFrame(prob_df,columns=['WEATHER_R','TRAF_CON_R','INJURY_PROB'])"
   ]
  },
  {
   "cell_type": "markdown",
   "metadata": {},
   "source": [
    "Do we make these predictions based on the bayesian values on the entire table or just the 12?"
   ]
  },
  {
   "cell_type": "markdown",
   "metadata": {},
   "source": [
    "### Question 8.2 (b) iii."
   ]
  },
  {
   "cell_type": "code",
   "execution_count": 29,
   "metadata": {
    "collapsed": false
   },
   "outputs": [
    {
     "name": "stdout",
     "output_type": "stream",
     "text": [
      "   WEATHER_R  TRAF_CON_R INJURY  INJURY_PROB\n",
      "0          1           0   True     0.503111\n",
      "1          2           0  False     0.443616\n",
      "2          2           1  False     0.500894\n",
      "3          1           1  False     0.553424\n",
      "4          1           0  False     0.503111\n"
     ]
    }
   ],
   "source": [
    "new_df = pd.merge(q82bi,prob_df,on=['WEATHER_R','TRAF_CON_R'],how='left')\n",
    "print new_df.head()"
   ]
  },
  {
   "cell_type": "code",
   "execution_count": 30,
   "metadata": {
    "collapsed": false
   },
   "outputs": [
    {
     "name": "stdout",
     "output_type": "stream",
     "text": [
      "   INJURY Prediction\n",
      "0    True       True\n",
      "1   False      False\n",
      "2   False       True\n",
      "3   False       True\n",
      "4   False       True\n",
      "5    True      False\n",
      "6   False      False\n",
      "7    True       True\n",
      "8   False      False\n",
      "9   False      False\n",
      "10  False      False\n",
      "11  False       True \n",
      "\n",
      "Confusion Matrix: \n",
      "[[5 4]\n",
      " [1 2]]\n",
      "Accuracy:  0.583333333333\n",
      "F1 Score:  0.666666666667\n"
     ]
    }
   ],
   "source": [
    "new_df['Prediction'] = new_df.INJURY_PROB.apply(lambda x: x>0.50)\n",
    "print new_df[['INJURY','Prediction']],\"\\n\"\n",
    "conf_mat = sklearn.metrics.confusion_matrix(new_df.INJURY,new_df.Prediction)\n",
    "print \"Confusion Matrix: \\n\",conf_mat\n",
    "print \"Accuracy: \",(conf_mat[0][0]+conf_mat[1][1])/float(12)\n",
    "print \"F1 Score: \", (2*conf_mat[0][0])/float(2*conf_mat[0][0]+conf_mat[1][0]+conf_mat[0][1])"
   ]
  },
  {
   "cell_type": "markdown",
   "metadata": {},
   "source": [
    "## WHAT ARE VALUE LABELS?"
   ]
  },
  {
   "cell_type": "markdown",
   "metadata": {},
   "source": [
    "### Question 8.2 (b) iv."
   ]
  },
  {
   "cell_type": "code",
   "execution_count": 31,
   "metadata": {
    "collapsed": false
   },
   "outputs": [
    {
     "name": "stdout",
     "output_type": "stream",
     "text": [
      "WEATHER_R = 1 injury probability:  0.872984810363\n",
      "TRAF_CON_R = 1 injury probability:  0.219644021992\n",
      "Multiply these two to get the naive Bayes conditional probability for given both: 0.191745894886\n"
     ]
    }
   ],
   "source": [
    "weather_probability = len(injuries[injuries.WEATHER_R==1])/float(len(injuries))\n",
    "traf_con_probability = len(injuries[injuries.TRAF_CON_R==1])/float(len(injuries))\n",
    "print \"WEATHER_R = 1 injury probability: \",weather_probability\n",
    "print \"TRAF_CON_R = 1 injury probability: \",traf_con_probability\n",
    "print \"Multiply these two to get the naive Bayes conditional probability for given both:\", weather_probability*traf_con_probability"
   ]
  },
  {
   "cell_type": "markdown",
   "metadata": {},
   "source": [
    "# DOUBLE CHECK TO MAKE SURE THIS IS BEING DONE RIGHT"
   ]
  },
  {
   "cell_type": "markdown",
   "metadata": {},
   "source": [
    "### Question 8.2 (b) v."
   ]
  },
  {
   "cell_type": "code",
   "execution_count": 32,
   "metadata": {
    "collapsed": false
   },
   "outputs": [
    {
     "name": "stdout",
     "output_type": "stream",
     "text": [
      "The mean accuracy value is:  0.872984810363\n"
     ]
    }
   ],
   "source": [
    "gnb = sklearn.naive_bayes.GaussianNB()\n",
    "gnb.fit(accidents[['WEATHER_R','TRAF_CON_R']],accidents['INJURY'])\n",
    "print \"The mean accuracy value is: \",gnb.score(injuries[['WEATHER_R','TRAF_CON_R']],injuries['INJURY'])"
   ]
  },
  {
   "cell_type": "markdown",
   "metadata": {},
   "source": [
    "### Question 8.2 (c) i."
   ]
  },
  {
   "cell_type": "code",
   "execution_count": 33,
   "metadata": {
    "collapsed": true
   },
   "outputs": [],
   "source": [
    "#is this a reiteration of the first question?"
   ]
  },
  {
   "cell_type": "markdown",
   "metadata": {},
   "source": [
    "### Question 8.2 (c) ii."
   ]
  },
  {
   "cell_type": "code",
   "execution_count": null,
   "metadata": {
    "collapsed": true
   },
   "outputs": [],
   "source": []
  },
  {
   "cell_type": "markdown",
   "metadata": {},
   "source": [
    "### Question 8.2 (c) iii."
   ]
  },
  {
   "cell_type": "code",
   "execution_count": null,
   "metadata": {
    "collapsed": true
   },
   "outputs": [],
   "source": []
  },
  {
   "cell_type": "markdown",
   "metadata": {},
   "source": [
    "### Question 8.2 (c) iv."
   ]
  },
  {
   "cell_type": "code",
   "execution_count": null,
   "metadata": {
    "collapsed": true
   },
   "outputs": [],
   "source": []
  },
  {
   "cell_type": "markdown",
   "metadata": {},
   "source": [
    "### Question 8.2 (c) v."
   ]
  },
  {
   "cell_type": "code",
   "execution_count": null,
   "metadata": {
    "collapsed": true
   },
   "outputs": [],
   "source": []
  },
  {
   "cell_type": "markdown",
   "metadata": {},
   "source": [
    "### Question 8.2 (c) vi."
   ]
  },
  {
   "cell_type": "code",
   "execution_count": null,
   "metadata": {
    "collapsed": true
   },
   "outputs": [],
   "source": []
  },
  {
   "cell_type": "markdown",
   "metadata": {},
   "source": [
    "## Question 9.3"
   ]
  },
  {
   "cell_type": "markdown",
   "metadata": {},
   "source": [
    "### Question 9.3 (a) i."
   ]
  },
  {
   "cell_type": "code",
   "execution_count": 34,
   "metadata": {
    "collapsed": false
   },
   "outputs": [
    {
     "data": {
      "text/html": [
       "<div>\n",
       "<table border=\"1\" class=\"dataframe\">\n",
       "  <thead>\n",
       "    <tr style=\"text-align: right;\">\n",
       "      <th></th>\n",
       "      <th>﻿Id</th>\n",
       "      <th>Model</th>\n",
       "      <th>Price</th>\n",
       "      <th>Age_08_04</th>\n",
       "      <th>Mfg_Month</th>\n",
       "      <th>Mfg_Year</th>\n",
       "      <th>KM</th>\n",
       "      <th>Fuel_Type</th>\n",
       "      <th>HP</th>\n",
       "      <th>Met_Color</th>\n",
       "      <th>...</th>\n",
       "      <th>Powered_Windows</th>\n",
       "      <th>Power_Steering</th>\n",
       "      <th>Radio</th>\n",
       "      <th>Mistlamps</th>\n",
       "      <th>Sport_Model</th>\n",
       "      <th>Backseat_Divider</th>\n",
       "      <th>Metallic_Rim</th>\n",
       "      <th>Radio_cassette</th>\n",
       "      <th>Tow_Bar</th>\n",
       "      <th>Validation</th>\n",
       "    </tr>\n",
       "  </thead>\n",
       "  <tbody>\n",
       "    <tr>\n",
       "      <th>0</th>\n",
       "      <td>1</td>\n",
       "      <td>TOYOTA Corolla 2.0 D4D HATCHB TERRA 2/3-Doors</td>\n",
       "      <td>13500</td>\n",
       "      <td>23</td>\n",
       "      <td>10</td>\n",
       "      <td>2002</td>\n",
       "      <td>46986</td>\n",
       "      <td>Diesel</td>\n",
       "      <td>90</td>\n",
       "      <td>1</td>\n",
       "      <td>...</td>\n",
       "      <td>1</td>\n",
       "      <td>1</td>\n",
       "      <td>0</td>\n",
       "      <td>0</td>\n",
       "      <td>0</td>\n",
       "      <td>1</td>\n",
       "      <td>0</td>\n",
       "      <td>0</td>\n",
       "      <td>0</td>\n",
       "      <td>Validation</td>\n",
       "    </tr>\n",
       "    <tr>\n",
       "      <th>1</th>\n",
       "      <td>2</td>\n",
       "      <td>TOYOTA Corolla 2.0 D4D HATCHB TERRA 2/3-Doors</td>\n",
       "      <td>13750</td>\n",
       "      <td>23</td>\n",
       "      <td>10</td>\n",
       "      <td>2002</td>\n",
       "      <td>72937</td>\n",
       "      <td>Diesel</td>\n",
       "      <td>90</td>\n",
       "      <td>1</td>\n",
       "      <td>...</td>\n",
       "      <td>0</td>\n",
       "      <td>1</td>\n",
       "      <td>0</td>\n",
       "      <td>0</td>\n",
       "      <td>0</td>\n",
       "      <td>1</td>\n",
       "      <td>0</td>\n",
       "      <td>0</td>\n",
       "      <td>0</td>\n",
       "      <td>Validation</td>\n",
       "    </tr>\n",
       "    <tr>\n",
       "      <th>2</th>\n",
       "      <td>3</td>\n",
       "      <td>TOYOTA Corolla 2.0 D4D HATCHB TERRA 2/3-Doors</td>\n",
       "      <td>13950</td>\n",
       "      <td>24</td>\n",
       "      <td>9</td>\n",
       "      <td>2002</td>\n",
       "      <td>41711</td>\n",
       "      <td>Diesel</td>\n",
       "      <td>90</td>\n",
       "      <td>1</td>\n",
       "      <td>...</td>\n",
       "      <td>0</td>\n",
       "      <td>1</td>\n",
       "      <td>0</td>\n",
       "      <td>0</td>\n",
       "      <td>0</td>\n",
       "      <td>1</td>\n",
       "      <td>0</td>\n",
       "      <td>0</td>\n",
       "      <td>0</td>\n",
       "      <td>Training</td>\n",
       "    </tr>\n",
       "    <tr>\n",
       "      <th>3</th>\n",
       "      <td>4</td>\n",
       "      <td>TOYOTA Corolla 2.0 D4D HATCHB TERRA 2/3-Doors</td>\n",
       "      <td>14950</td>\n",
       "      <td>26</td>\n",
       "      <td>7</td>\n",
       "      <td>2002</td>\n",
       "      <td>48000</td>\n",
       "      <td>Diesel</td>\n",
       "      <td>90</td>\n",
       "      <td>0</td>\n",
       "      <td>...</td>\n",
       "      <td>0</td>\n",
       "      <td>1</td>\n",
       "      <td>0</td>\n",
       "      <td>0</td>\n",
       "      <td>0</td>\n",
       "      <td>1</td>\n",
       "      <td>0</td>\n",
       "      <td>0</td>\n",
       "      <td>0</td>\n",
       "      <td>Training</td>\n",
       "    </tr>\n",
       "    <tr>\n",
       "      <th>4</th>\n",
       "      <td>5</td>\n",
       "      <td>TOYOTA Corolla 2.0 D4D HATCHB SOL 2/3-Doors</td>\n",
       "      <td>13750</td>\n",
       "      <td>30</td>\n",
       "      <td>3</td>\n",
       "      <td>2002</td>\n",
       "      <td>38500</td>\n",
       "      <td>Diesel</td>\n",
       "      <td>90</td>\n",
       "      <td>0</td>\n",
       "      <td>...</td>\n",
       "      <td>1</td>\n",
       "      <td>1</td>\n",
       "      <td>0</td>\n",
       "      <td>1</td>\n",
       "      <td>0</td>\n",
       "      <td>1</td>\n",
       "      <td>0</td>\n",
       "      <td>0</td>\n",
       "      <td>0</td>\n",
       "      <td>Validation</td>\n",
       "    </tr>\n",
       "  </tbody>\n",
       "</table>\n",
       "<p>5 rows × 39 columns</p>\n",
       "</div>"
      ],
      "text/plain": [
       "   ﻿Id                                           Model  Price  Age_08_04  \\\n",
       "0    1   TOYOTA Corolla 2.0 D4D HATCHB TERRA 2/3-Doors  13500         23   \n",
       "1    2   TOYOTA Corolla 2.0 D4D HATCHB TERRA 2/3-Doors  13750         23   \n",
       "2    3   TOYOTA Corolla 2.0 D4D HATCHB TERRA 2/3-Doors  13950         24   \n",
       "3    4   TOYOTA Corolla 2.0 D4D HATCHB TERRA 2/3-Doors  14950         26   \n",
       "4    5     TOYOTA Corolla 2.0 D4D HATCHB SOL 2/3-Doors  13750         30   \n",
       "\n",
       "   Mfg_Month  Mfg_Year     KM Fuel_Type  HP  Met_Color     ...      \\\n",
       "0         10      2002  46986    Diesel  90          1     ...       \n",
       "1         10      2002  72937    Diesel  90          1     ...       \n",
       "2          9      2002  41711    Diesel  90          1     ...       \n",
       "3          7      2002  48000    Diesel  90          0     ...       \n",
       "4          3      2002  38500    Diesel  90          0     ...       \n",
       "\n",
       "  Powered_Windows  Power_Steering  Radio  Mistlamps  Sport_Model  \\\n",
       "0               1               1      0          0            0   \n",
       "1               0               1      0          0            0   \n",
       "2               0               1      0          0            0   \n",
       "3               0               1      0          0            0   \n",
       "4               1               1      0          1            0   \n",
       "\n",
       "   Backseat_Divider  Metallic_Rim  Radio_cassette  Tow_Bar  Validation  \n",
       "0                 1             0               0        0  Validation  \n",
       "1                 1             0               0        0  Validation  \n",
       "2                 1             0               0        0    Training  \n",
       "3                 1             0               0        0    Training  \n",
       "4                 1             0               0        0  Validation  \n",
       "\n",
       "[5 rows x 39 columns]"
      ]
     },
     "execution_count": 34,
     "metadata": {},
     "output_type": "execute_result"
    }
   ],
   "source": [
    "toyota = pd.read_csv('ToyotaCorolla.csv',sep=',',header=0)\n",
    "toyota.head()"
   ]
  },
  {
   "cell_type": "code",
   "execution_count": 35,
   "metadata": {
    "collapsed": false
   },
   "outputs": [
    {
     "name": "stdout",
     "output_type": "stream",
     "text": [
      "Train:  718 CV:  430 Test:  288\n"
     ]
    }
   ],
   "source": [
    "predictors = ['Age_08_04','KM','Fuel_Type','HP','Automatic','Doors','Quarterly_Tax','Mfg_Guarantee',\n",
    "              'Guarantee_Period','Airco','Automatic_airco','CD_Player','Powered_Windows','Sport_Model','Tow_Bar']\n",
    "predicted = ['Price']\n",
    "train_X,cv_X,train_Y,cv_Y = sklearn.cross_validation.train_test_split(toyota[predictors],toyota[predicted],test_size=0.5)\n",
    "cv_X,test_X,cv_Y,test_Y = sklearn.cross_validation.train_test_split(cv_X,cv_Y,test_size=0.4)\n",
    "print \"Train: \",len(train_Y),\"CV: \",len(cv_Y),\"Test: \",len(test_Y)"
   ]
  },
  {
   "cell_type": "code",
   "execution_count": 36,
   "metadata": {
    "collapsed": false
   },
   "outputs": [
    {
     "name": "stdout",
     "output_type": "stream",
     "text": [
      "﻿Id\n",
      "Model\n",
      "Price\n",
      "Age_08_04\n",
      "Mfg_Month\n",
      "Mfg_Year\n",
      "KM\n",
      "Fuel_Type\n",
      "HP\n",
      "Met_Color\n",
      "Color\n",
      "Automatic\n",
      "CC\n",
      "Doors\n",
      "Cylinders\n",
      "Gears\n",
      "Quarterly_Tax\n",
      "Weight\n",
      "Mfg_Guarantee\n",
      "BOVAG_Guarantee\n",
      "Guarantee_Period\n",
      "ABS\n",
      "Airbag_1\n",
      "Airbag_2\n",
      "Airco\n",
      "Automatic_airco\n",
      "Boardcomputer\n",
      "CD_Player\n",
      "Central_Lock\n",
      "Powered_Windows\n",
      "Power_Steering\n",
      "Radio\n",
      "Mistlamps\n",
      "Sport_Model\n",
      "Backseat_Divider\n",
      "Metallic_Rim\n",
      "Radio_cassette\n",
      "Tow_Bar\n",
      "Validation\n"
     ]
    }
   ],
   "source": [
    "for col in toyota.columns.values: print col"
   ]
  },
  {
   "cell_type": "code",
   "execution_count": 37,
   "metadata": {
    "collapsed": false
   },
   "outputs": [
    {
     "data": {
      "text/plain": [
       "﻿Id                  int64\n",
       "Model               object\n",
       "Price                int64\n",
       "Age_08_04            int64\n",
       "Mfg_Month            int64\n",
       "Mfg_Year             int64\n",
       "KM                   int64\n",
       "Fuel_Type           object\n",
       "HP                   int64\n",
       "Met_Color            int64\n",
       "Color               object\n",
       "Automatic            int64\n",
       "CC                   int64\n",
       "Doors                int64\n",
       "Cylinders            int64\n",
       "Gears                int64\n",
       "Quarterly_Tax        int64\n",
       "Weight               int64\n",
       "Mfg_Guarantee        int64\n",
       "BOVAG_Guarantee      int64\n",
       "Guarantee_Period     int64\n",
       "ABS                  int64\n",
       "Airbag_1             int64\n",
       "Airbag_2             int64\n",
       "Airco                int64\n",
       "Automatic_airco      int64\n",
       "Boardcomputer        int64\n",
       "CD_Player            int64\n",
       "Central_Lock         int64\n",
       "Powered_Windows      int64\n",
       "Power_Steering       int64\n",
       "Radio                int64\n",
       "Mistlamps            int64\n",
       "Sport_Model          int64\n",
       "Backseat_Divider     int64\n",
       "Metallic_Rim         int64\n",
       "Radio_cassette       int64\n",
       "Tow_Bar              int64\n",
       "Validation          object\n",
       "dtype: object"
      ]
     },
     "execution_count": 37,
     "metadata": {},
     "output_type": "execute_result"
    }
   ],
   "source": [
    "toyota.dtypes"
   ]
  },
  {
   "cell_type": "code",
   "execution_count": 38,
   "metadata": {
    "collapsed": false
   },
   "outputs": [
    {
     "ename": "ValueError",
     "evalue": "could not convert string to float: Petrol",
     "output_type": "error",
     "traceback": [
      "\u001b[1;31m---------------------------------------------------------------------------\u001b[0m",
      "\u001b[1;31mValueError\u001b[0m                                Traceback (most recent call last)",
      "\u001b[1;32m<ipython-input-38-d09fba5faf98>\u001b[0m in \u001b[0;36m<module>\u001b[1;34m()\u001b[0m\n\u001b[0;32m      3\u001b[0m \u001b[0mmodel\u001b[0m \u001b[1;33m=\u001b[0m \u001b[0msklearn\u001b[0m\u001b[1;33m.\u001b[0m\u001b[0mtree\u001b[0m\u001b[1;33m.\u001b[0m\u001b[0mDecisionTreeRegressor\u001b[0m\u001b[1;33m(\u001b[0m\u001b[1;33m)\u001b[0m \u001b[1;31m#the minimum number of samples for a leaf is\u001b[0m\u001b[1;33m\u001b[0m\u001b[0m\n\u001b[0;32m      4\u001b[0m \u001b[1;31m#automatically set to 1 here\u001b[0m\u001b[1;33m\u001b[0m\u001b[1;33m\u001b[0m\u001b[0m\n\u001b[1;32m----> 5\u001b[1;33m \u001b[0mmodel\u001b[0m \u001b[1;33m=\u001b[0m \u001b[0mmodel\u001b[0m\u001b[1;33m.\u001b[0m\u001b[0mfit\u001b[0m\u001b[1;33m(\u001b[0m\u001b[0mtrain_X\u001b[0m\u001b[1;33m,\u001b[0m\u001b[0mtrain_Y\u001b[0m\u001b[1;33m)\u001b[0m\u001b[1;33m\u001b[0m\u001b[0m\n\u001b[0m",
      "\u001b[1;32mC:\\Users\\Jonathan\\Anaconda2\\lib\\site-packages\\sklearn\\tree\\tree.pyc\u001b[0m in \u001b[0;36mfit\u001b[1;34m(self, X, y, sample_weight, check_input, X_idx_sorted)\u001b[0m\n\u001b[0;32m   1027\u001b[0m             \u001b[0msample_weight\u001b[0m\u001b[1;33m=\u001b[0m\u001b[0msample_weight\u001b[0m\u001b[1;33m,\u001b[0m\u001b[1;33m\u001b[0m\u001b[0m\n\u001b[0;32m   1028\u001b[0m             \u001b[0mcheck_input\u001b[0m\u001b[1;33m=\u001b[0m\u001b[0mcheck_input\u001b[0m\u001b[1;33m,\u001b[0m\u001b[1;33m\u001b[0m\u001b[0m\n\u001b[1;32m-> 1029\u001b[1;33m             X_idx_sorted=X_idx_sorted)\n\u001b[0m\u001b[0;32m   1030\u001b[0m         \u001b[1;32mreturn\u001b[0m \u001b[0mself\u001b[0m\u001b[1;33m\u001b[0m\u001b[0m\n\u001b[0;32m   1031\u001b[0m \u001b[1;33m\u001b[0m\u001b[0m\n",
      "\u001b[1;32mC:\\Users\\Jonathan\\Anaconda2\\lib\\site-packages\\sklearn\\tree\\tree.pyc\u001b[0m in \u001b[0;36mfit\u001b[1;34m(self, X, y, sample_weight, check_input, X_idx_sorted)\u001b[0m\n\u001b[0;32m    120\u001b[0m         \u001b[0mrandom_state\u001b[0m \u001b[1;33m=\u001b[0m \u001b[0mcheck_random_state\u001b[0m\u001b[1;33m(\u001b[0m\u001b[0mself\u001b[0m\u001b[1;33m.\u001b[0m\u001b[0mrandom_state\u001b[0m\u001b[1;33m)\u001b[0m\u001b[1;33m\u001b[0m\u001b[0m\n\u001b[0;32m    121\u001b[0m         \u001b[1;32mif\u001b[0m \u001b[0mcheck_input\u001b[0m\u001b[1;33m:\u001b[0m\u001b[1;33m\u001b[0m\u001b[0m\n\u001b[1;32m--> 122\u001b[1;33m             \u001b[0mX\u001b[0m \u001b[1;33m=\u001b[0m \u001b[0mcheck_array\u001b[0m\u001b[1;33m(\u001b[0m\u001b[0mX\u001b[0m\u001b[1;33m,\u001b[0m \u001b[0mdtype\u001b[0m\u001b[1;33m=\u001b[0m\u001b[0mDTYPE\u001b[0m\u001b[1;33m,\u001b[0m \u001b[0maccept_sparse\u001b[0m\u001b[1;33m=\u001b[0m\u001b[1;34m\"csc\"\u001b[0m\u001b[1;33m)\u001b[0m\u001b[1;33m\u001b[0m\u001b[0m\n\u001b[0m\u001b[0;32m    123\u001b[0m             \u001b[0my\u001b[0m \u001b[1;33m=\u001b[0m \u001b[0mcheck_array\u001b[0m\u001b[1;33m(\u001b[0m\u001b[0my\u001b[0m\u001b[1;33m,\u001b[0m \u001b[0mensure_2d\u001b[0m\u001b[1;33m=\u001b[0m\u001b[0mFalse\u001b[0m\u001b[1;33m,\u001b[0m \u001b[0mdtype\u001b[0m\u001b[1;33m=\u001b[0m\u001b[0mNone\u001b[0m\u001b[1;33m)\u001b[0m\u001b[1;33m\u001b[0m\u001b[0m\n\u001b[0;32m    124\u001b[0m             \u001b[1;32mif\u001b[0m \u001b[0missparse\u001b[0m\u001b[1;33m(\u001b[0m\u001b[0mX\u001b[0m\u001b[1;33m)\u001b[0m\u001b[1;33m:\u001b[0m\u001b[1;33m\u001b[0m\u001b[0m\n",
      "\u001b[1;32mC:\\Users\\Jonathan\\Anaconda2\\lib\\site-packages\\sklearn\\utils\\validation.pyc\u001b[0m in \u001b[0;36mcheck_array\u001b[1;34m(array, accept_sparse, dtype, order, copy, force_all_finite, ensure_2d, allow_nd, ensure_min_samples, ensure_min_features, warn_on_dtype, estimator)\u001b[0m\n\u001b[0;32m    380\u001b[0m                                       force_all_finite)\n\u001b[0;32m    381\u001b[0m     \u001b[1;32melse\u001b[0m\u001b[1;33m:\u001b[0m\u001b[1;33m\u001b[0m\u001b[0m\n\u001b[1;32m--> 382\u001b[1;33m         \u001b[0marray\u001b[0m \u001b[1;33m=\u001b[0m \u001b[0mnp\u001b[0m\u001b[1;33m.\u001b[0m\u001b[0marray\u001b[0m\u001b[1;33m(\u001b[0m\u001b[0marray\u001b[0m\u001b[1;33m,\u001b[0m \u001b[0mdtype\u001b[0m\u001b[1;33m=\u001b[0m\u001b[0mdtype\u001b[0m\u001b[1;33m,\u001b[0m \u001b[0morder\u001b[0m\u001b[1;33m=\u001b[0m\u001b[0morder\u001b[0m\u001b[1;33m,\u001b[0m \u001b[0mcopy\u001b[0m\u001b[1;33m=\u001b[0m\u001b[0mcopy\u001b[0m\u001b[1;33m)\u001b[0m\u001b[1;33m\u001b[0m\u001b[0m\n\u001b[0m\u001b[0;32m    383\u001b[0m \u001b[1;33m\u001b[0m\u001b[0m\n\u001b[0;32m    384\u001b[0m         \u001b[1;32mif\u001b[0m \u001b[0mensure_2d\u001b[0m\u001b[1;33m:\u001b[0m\u001b[1;33m\u001b[0m\u001b[0m\n",
      "\u001b[1;31mValueError\u001b[0m: could not convert string to float: Petrol"
     ]
    }
   ],
   "source": [
    "toyota.Fuel_Type = sklearn.preprocessing.LabelEncoder().fit_transform(toyota.Fuel_Type)\n",
    "\n",
    "model = sklearn.tree.DecisionTreeRegressor() #the minimum number of samples for a leaf is \n",
    "#automatically set to 1 here\n",
    "model = model.fit(train_X,train_Y)"
   ]
  },
  {
   "cell_type": "markdown",
   "metadata": {},
   "source": [
    "Answer: Intuitively, as we make more splits, you are going to see an improvement in the training, validaiton, and test sets. However, over time, since the splits are being done with respect to the training data, we will notice improvements in RSquare and RMSE initially for all 3. But, as the tree starts to overfit the training data, we notice that the improvements reverse and start to hurt the accuracy of the model given that the model is not being trained on the held out examples in the cross validation or test set."
   ]
  },
  {
   "cell_type": "markdown",
   "metadata": {},
   "source": [
    "## it says split 1, double check to make sure you did that right."
   ]
  },
  {
   "cell_type": "markdown",
   "metadata": {},
   "source": [
    "### Question 9.3 (a) ii."
   ]
  },
  {
   "cell_type": "code",
   "execution_count": null,
   "metadata": {
    "collapsed": false
   },
   "outputs": [],
   "source": [
    "print \"\\nTraining R^2: \",model.score(train_X,train_Y)\n",
    "pred_train = model.predict(train_X)\n",
    "print \"Training RMSE: \",np.sqrt(sklearn.metrics.mean_squared_error(train_Y,pred_train))\n",
    "\n",
    "print \"Cross Validation R^2: \",model.score(cv_X,cv_Y)\n",
    "pred_cv = model.predict(cv_X)\n",
    "print \"Cross Validation RMSE: \",np.sqrt(sklearn.metrics.mean_squared_error(cv_Y,pred_cv))\n",
    "\n",
    "print \"Test R^2: \",model.score(test_X,test_Y)\n",
    "pred_test = model.predict(test_X)\n",
    "print \"Test RMSE: \",np.sqrt(sklearn.metrics.mean_squared_error(test_Y,pred_test))\n"
   ]
  },
  {
   "cell_type": "markdown",
   "metadata": {},
   "source": [
    "The tree gets to the point where there is one value in each bucket. So it makes sense that the RMSE and R^2 is perfect because the tree is overfit at this point. So the test set performance is wildly different. The validation set is a lot closer to the test set because the model has not seen the validation set either and the tree has not been pruned using the validation set. So, the error is very similar to the test R^2 and RMSE."
   ]
  },
  {
   "cell_type": "markdown",
   "metadata": {},
   "source": [
    "### Question 9.3 (a) iii."
   ]
  },
  {
   "cell_type": "code",
   "execution_count": null,
   "metadata": {
    "collapsed": false
   },
   "outputs": [],
   "source": [
    "for i in range(len(predictors)):\n",
    "    print sorted(zip(predictors,model.feature_importances_),\n",
    "                 key = lambda t: t[1],reverse=True)[i]"
   ]
  },
  {
   "cell_type": "markdown",
   "metadata": {},
   "source": [
    "### Question 9.3 (a) iv."
   ]
  },
  {
   "cell_type": "code",
   "execution_count": null,
   "metadata": {
    "collapsed": false,
    "scrolled": true
   },
   "outputs": [],
   "source": [
    "params ={'model__max_depth' : range(2,20),\n",
    "         'model__min_samples_leaf': range(2,10),\n",
    "        'model__min_impurity_split' : [1e-7,1e-6,1e-5,1e-4,1e-3]}\n",
    "tree2 = sklearn.tree.DecisionTreeRegressor()\n",
    "pipe = sklearn.pipeline.Pipeline([('model',tree2)])#,('cv',sklearn.model_selection.cross_val_score())])\n",
    "search = sklearn.grid_search.GridSearchCV(pipe,params)\n",
    "search.fit(train_X,train_Y)\n",
    "print search.score(train_X,train_Y)\n",
    "print search.score(cv_X,cv_Y)\n",
    "print search.score(test_X,test_Y)"
   ]
  },
  {
   "cell_type": "markdown",
   "metadata": {},
   "source": [
    "# call in rpy2 and prune trees in R to show output\n",
    "\n",
    "So a potential alternative is to run a gridsearch that seeks to maximize the cross validation score based on varying max_depth or max_leaf_node or min split size. Then, have that model returned. Since sklearn does not support pruning. \n",
    "\n",
    "Pruning is a technique in machine learning that reduces the size of decision trees by removing sections of the tree that provide little power to classify instances. Pruning reduces the complexity of the final classifier, and hence improves predictive accuracy by the reduction of overfitting.\n",
    "\n",
    "So something that we could also look at is the min_impurity variable which is something we could set. If the impurity is bad, then we know that the predictive ability is bad and instead of doing this in top-down AND then bottom-up sequence, we could simply does this on the way as we go top-down in decision tree creation."
   ]
  },
  {
   "cell_type": "markdown",
   "metadata": {},
   "source": [
    "### Question 9.3 (a) v."
   ]
  },
  {
   "cell_type": "code",
   "execution_count": null,
   "metadata": {
    "collapsed": true
   },
   "outputs": [],
   "source": []
  },
  {
   "cell_type": "markdown",
   "metadata": {},
   "source": [
    "### Question 9.3 (a) vi."
   ]
  },
  {
   "cell_type": "code",
   "execution_count": null,
   "metadata": {
    "collapsed": true
   },
   "outputs": [],
   "source": []
  },
  {
   "cell_type": "markdown",
   "metadata": {},
   "source": [
    "### Question 9.3 (a) vii."
   ]
  },
  {
   "cell_type": "code",
   "execution_count": null,
   "metadata": {
    "collapsed": true
   },
   "outputs": [],
   "source": []
  }
 ],
 "metadata": {
  "kernelspec": {
   "display_name": "Python 2",
   "language": "python",
   "name": "python2"
  }
 },
 "nbformat": 4,
 "nbformat_minor": 0
}
