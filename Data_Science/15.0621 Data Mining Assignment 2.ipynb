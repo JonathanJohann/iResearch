{
 "cells": [
  {
   "cell_type": "markdown",
   "metadata": {},
   "source": [
    "# Data Mining 15.0621 Homework Assignment 2\n",
    "## Questions 6.1, 7.3, 8.2, 9.3\n",
    "## By: Jonathan Johannemann"
   ]
  },
  {
   "cell_type": "code",
   "execution_count": 46,
   "metadata": {
    "collapsed": false
   },
   "outputs": [
    {
     "name": "stdout",
     "output_type": "stream",
     "text": [
      "\n"
     ]
    }
   ],
   "source": [
    "import pandas as pd, numpy as np, matplotlib.pyplot as plt,warnings,random,sklearn\n",
    "from sklearn import *\n",
    "random.seed(11152016) #Today's Date\n",
    "warnings.filterwarnings('ignore',category=DeprecationWarning)\n",
    "%matplotlib inline"
   ]
  },
  {
   "cell_type": "markdown",
   "metadata": {},
   "source": [
    "## Question 6.1"
   ]
  },
  {
   "cell_type": "code",
   "execution_count": 47,
   "metadata": {
    "collapsed": false
   },
   "outputs": [
    {
     "data": {
      "text/html": [
       "<div>\n",
       "<table border=\"1\" class=\"dataframe\">\n",
       "  <thead>\n",
       "    <tr style=\"text-align: right;\">\n",
       "      <th></th>\n",
       "      <th>CRIM</th>\n",
       "      <th>ZN</th>\n",
       "      <th>INDUS</th>\n",
       "      <th>CHAS</th>\n",
       "      <th>NOX</th>\n",
       "      <th>RM</th>\n",
       "      <th>AGE</th>\n",
       "      <th>DIS</th>\n",
       "      <th>RAD</th>\n",
       "      <th>TAX</th>\n",
       "      <th>PTRATIO</th>\n",
       "      <th>LSTAT</th>\n",
       "      <th>MEDV</th>\n",
       "      <th>CAT.MEDV</th>\n",
       "    </tr>\n",
       "  </thead>\n",
       "  <tbody>\n",
       "    <tr>\n",
       "      <th>0</th>\n",
       "      <td>0.00632</td>\n",
       "      <td>18.0</td>\n",
       "      <td>2.31</td>\n",
       "      <td>0</td>\n",
       "      <td>0.538</td>\n",
       "      <td>6.575</td>\n",
       "      <td>65.2</td>\n",
       "      <td>4.0900</td>\n",
       "      <td>1</td>\n",
       "      <td>296</td>\n",
       "      <td>15.3</td>\n",
       "      <td>4.98</td>\n",
       "      <td>24.0</td>\n",
       "      <td>0</td>\n",
       "    </tr>\n",
       "    <tr>\n",
       "      <th>1</th>\n",
       "      <td>0.02731</td>\n",
       "      <td>0.0</td>\n",
       "      <td>7.07</td>\n",
       "      <td>0</td>\n",
       "      <td>0.469</td>\n",
       "      <td>6.421</td>\n",
       "      <td>78.9</td>\n",
       "      <td>4.9671</td>\n",
       "      <td>2</td>\n",
       "      <td>242</td>\n",
       "      <td>17.8</td>\n",
       "      <td>9.14</td>\n",
       "      <td>21.6</td>\n",
       "      <td>0</td>\n",
       "    </tr>\n",
       "    <tr>\n",
       "      <th>2</th>\n",
       "      <td>0.02729</td>\n",
       "      <td>0.0</td>\n",
       "      <td>7.07</td>\n",
       "      <td>0</td>\n",
       "      <td>0.469</td>\n",
       "      <td>7.185</td>\n",
       "      <td>61.1</td>\n",
       "      <td>4.9671</td>\n",
       "      <td>2</td>\n",
       "      <td>242</td>\n",
       "      <td>17.8</td>\n",
       "      <td>4.03</td>\n",
       "      <td>34.7</td>\n",
       "      <td>1</td>\n",
       "    </tr>\n",
       "    <tr>\n",
       "      <th>3</th>\n",
       "      <td>0.03237</td>\n",
       "      <td>0.0</td>\n",
       "      <td>2.18</td>\n",
       "      <td>0</td>\n",
       "      <td>0.458</td>\n",
       "      <td>6.998</td>\n",
       "      <td>45.8</td>\n",
       "      <td>6.0622</td>\n",
       "      <td>3</td>\n",
       "      <td>222</td>\n",
       "      <td>18.7</td>\n",
       "      <td>2.94</td>\n",
       "      <td>33.4</td>\n",
       "      <td>1</td>\n",
       "    </tr>\n",
       "    <tr>\n",
       "      <th>4</th>\n",
       "      <td>0.06905</td>\n",
       "      <td>0.0</td>\n",
       "      <td>2.18</td>\n",
       "      <td>0</td>\n",
       "      <td>0.458</td>\n",
       "      <td>7.147</td>\n",
       "      <td>54.2</td>\n",
       "      <td>6.0622</td>\n",
       "      <td>3</td>\n",
       "      <td>222</td>\n",
       "      <td>18.7</td>\n",
       "      <td>5.33</td>\n",
       "      <td>36.2</td>\n",
       "      <td>1</td>\n",
       "    </tr>\n",
       "  </tbody>\n",
       "</table>\n",
       "</div>"
      ],
      "text/plain": [
       "      CRIM    ZN  INDUS  CHAS    NOX     RM   AGE     DIS  RAD  TAX  PTRATIO  \\\n",
       "0  0.00632  18.0   2.31     0  0.538  6.575  65.2  4.0900    1  296     15.3   \n",
       "1  0.02731   0.0   7.07     0  0.469  6.421  78.9  4.9671    2  242     17.8   \n",
       "2  0.02729   0.0   7.07     0  0.469  7.185  61.1  4.9671    2  242     17.8   \n",
       "3  0.03237   0.0   2.18     0  0.458  6.998  45.8  6.0622    3  222     18.7   \n",
       "4  0.06905   0.0   2.18     0  0.458  7.147  54.2  6.0622    3  222     18.7   \n",
       "\n",
       "   LSTAT  MEDV  CAT.MEDV  \n",
       "0   4.98  24.0         0  \n",
       "1   9.14  21.6         0  \n",
       "2   4.03  34.7         1  \n",
       "3   2.94  33.4         1  \n",
       "4   5.33  36.2         1  "
      ]
     },
     "execution_count": 47,
     "metadata": {},
     "output_type": "execute_result"
    }
   ],
   "source": [
    "bostonhousing = pd.read_csv('BostonHousing.csv',sep=',',header=0)\n",
    "bostonhousing.head()"
   ]
  },
  {
   "cell_type": "markdown",
   "metadata": {},
   "source": [
    "### Question 6.1 (a)"
   ]
  },
  {
   "cell_type": "markdown",
   "metadata": {},
   "source": [
    "The data should be partitioned into training and validation sets because it allows the researcher to receive feedback on his or her model without testing on the true, held out data. The training set is for the model to be trained on. The validation set is for the researcher to test the ability of his or her model. A researcher should never introduce datapoints from the validation set into the training set."
   ]
  },
  {
   "cell_type": "markdown",
   "metadata": {},
   "source": [
    "### Question 6.1 (b)"
   ]
  },
  {
   "cell_type": "code",
   "execution_count": 48,
   "metadata": {
    "collapsed": false
   },
   "outputs": [
    {
     "name": "stdout",
     "output_type": "stream",
     "text": [
      "Intercept:  -28.8106825064\n",
      "CRIM coefficient:  -0.260724411231\n",
      "CHAS coefficient:  3.76303705211\n",
      "RM coefficient:  8.27817981154\n",
      "\n",
      "Equation: \n",
      "-28.8106825064  +  -0.260724411231 CRIM +  3.76303705211 CHAS +  8.27817981154 RM = MEDV\n"
     ]
    }
   ],
   "source": [
    "model = sklearn.linear_model.LinearRegression()\n",
    "model.fit(bostonhousing[['CRIM','CHAS','RM']],bostonhousing['MEDV'])\n",
    "print \"Intercept: \",model.intercept_\n",
    "print \"CRIM coefficient: \",model.coef_[0]\n",
    "print \"CHAS coefficient: \",model.coef_[1]\n",
    "print \"RM coefficient: \",model.coef_[2]\n",
    "print \"\\nEquation: \\n\",model.intercept_, \" + \",model.coef_[0],\"CRIM + \",model.coef_[1],\"CHAS + \",model.coef_[2],\"RM = MEDV\""
   ]
  },
  {
   "cell_type": "markdown",
   "metadata": {},
   "source": [
    "### Question 6.1 (c)"
   ]
  },
  {
   "cell_type": "code",
   "execution_count": 49,
   "metadata": {
    "collapsed": false
   },
   "outputs": [
    {
     "name": "stdout",
     "output_type": "stream",
     "text": [
      "The predicted price is:  20.8323239217\n"
     ]
    }
   ],
   "source": [
    "query = pd.DataFrame([['0.1','0','6']],columns=['CRIM','CHAS','RM'])\n",
    "print \"The predicted price is: \",model.predict(query)[0]"
   ]
  },
  {
   "cell_type": "code",
   "execution_count": 50,
   "metadata": {
    "collapsed": false
   },
   "outputs": [
    {
     "name": "stdout",
     "output_type": "stream",
     "text": [
      "The error with respect to the closest value is: 2.06767607827\n"
     ]
    }
   ],
   "source": [
    "tmp = bostonhousing[['CRIM','CHAS','RM']]\n",
    "query_vals = query.values[0].astype('Float64')\n",
    "index_closest = np.abs(tmp.apply(lambda x: x-query_vals,axis=1).sum(axis=1)).ix[np.abs(tmp.apply(lambda x: x-query_vals,axis=1).sum(axis=1))==np.abs(tmp.apply(lambda x: x-query_vals,axis=1).sum(axis=1)).min()].index[0]\n",
    "print \"The error with respect to the closest value is:\", np.abs(bostonhousing.MEDV.ix[index_closest]-model.predict(query)[0])"
   ]
  },
  {
   "cell_type": "markdown",
   "metadata": {},
   "source": [
    "### Question 6.1 (d) i."
   ]
  },
  {
   "cell_type": "code",
   "execution_count": 51,
   "metadata": {
    "collapsed": false
   },
   "outputs": [
    {
     "name": "stdout",
     "output_type": "stream",
     "text": [
      "          INDUS       NOX       TAX\n",
      "INDUS  1.000000  0.763651  0.720760\n",
      "NOX    0.763651  1.000000  0.668023\n",
      "TAX    0.720760  0.668023  1.000000\n"
     ]
    }
   ],
   "source": [
    "corr_mat = bostonhousing[['INDUS','NOX','TAX']].corr()\n",
    "print corr_mat"
   ]
  },
  {
   "cell_type": "markdown",
   "metadata": {},
   "source": [
    "Indus is the proportion of nonretail business acres per town.\n",
    "Nox is nitric oxide concentration.\n",
    "Tax is full-value property-tax rate per $10,000.\n",
    "The potential relationsnip here is that businesses create more nitric oxide and result in higher taxed property. Therefore, there is likely a causal relationship from INDUS to NOX and TAX. While it is not east ro 100% confirm this, it appears to be a likely scenario."
   ]
  },
  {
   "cell_type": "markdown",
   "metadata": {},
   "source": [
    "### Question 6.1 (d) ii."
   ]
  },
  {
   "cell_type": "code",
   "execution_count": 52,
   "metadata": {
    "collapsed": false
   },
   "outputs": [
    {
     "name": "stdout",
     "output_type": "stream",
     "text": [
      "========================================\n",
      "Looking at:  CRIM\n",
      "RAD  :  0.625505145263\n",
      "========================================\n",
      "Looking at:  ZN\n",
      "DIS  :  0.664408222762\n",
      "========================================\n",
      "Looking at:  INDUS\n",
      "NOX  :  0.763651446921\n",
      "AGE  :  0.644778511355\n",
      "DIS  :  -0.708026988743\n",
      "TAX  :  0.720760179952\n",
      "LSTAT  :  0.603799716477\n",
      "========================================\n",
      "Looking at:  NOX\n",
      "INDUS  :  0.763651446921\n",
      "AGE  :  0.731470103786\n",
      "DIS  :  -0.769230113226\n",
      "RAD  :  0.611440563486\n",
      "TAX  :  0.668023200403\n",
      "========================================\n",
      "Looking at:  RM\n",
      "LSTAT  :  -0.613808271866\n",
      "MEDV  :  0.695359947072\n",
      "CAT.MEDV  :  0.641265408301\n",
      "========================================\n",
      "Looking at:  AGE\n",
      "INDUS  :  0.644778511355\n",
      "NOX  :  0.731470103786\n",
      "DIS  :  -0.747880540869\n",
      "LSTAT  :  0.602338528726\n",
      "========================================\n",
      "Looking at:  DIS\n",
      "ZN  :  0.664408222762\n",
      "INDUS  :  -0.708026988743\n",
      "NOX  :  -0.769230113226\n",
      "AGE  :  -0.747880540869\n",
      "========================================\n",
      "Looking at:  RAD\n",
      "CRIM  :  0.625505145263\n",
      "NOX  :  0.611440563486\n",
      "TAX  :  0.910228188533\n",
      "========================================\n",
      "Looking at:  TAX\n",
      "INDUS  :  0.720760179952\n",
      "NOX  :  0.668023200403\n",
      "RAD  :  0.910228188533\n",
      "========================================\n",
      "Looking at:  LSTAT\n",
      "INDUS  :  0.603799716477\n",
      "RM  :  -0.613808271866\n",
      "AGE  :  0.602338528726\n",
      "MEDV  :  -0.737662726174\n",
      "========================================\n",
      "Looking at:  MEDV\n",
      "RM  :  0.695359947072\n",
      "LSTAT  :  -0.737662726174\n",
      "CAT.MEDV  :  0.789788766697\n",
      "========================================\n",
      "Looking at:  CAT.MEDV\n",
      "RM  :  0.641265408301\n",
      "MEDV  :  0.789788766697\n",
      "========================================\n"
     ]
    }
   ],
   "source": [
    "corr_mat = bostonhousing.corr()\n",
    "corr_mat.values[[np.arange(len(corr_mat))]*2]=0\n",
    "corr_mat = corr_mat[np.abs(corr_mat)>0.6].fillna(0).reset_index()\n",
    "\n",
    "for col in corr_mat.columns.values[1:]:\n",
    "    if len(corr_mat[corr_mat[col]!=0][col].index)>0:\n",
    "        print \"=\"*40\n",
    "        print \"Looking at: \",col\n",
    "        for i in corr_mat[corr_mat[col]!=0][col].index:\n",
    "            print corr_mat['index'][i],\" : \",corr_mat[corr_mat[col]!=0][col][i]\n",
    "print \"=\"*40"
   ]
  },
  {
   "cell_type": "markdown",
   "metadata": {},
   "source": [
    "CAT.MEDV is based off of MEDV so we need to remove that. As discussed before, it seems like INDUS may be influencing NOX and TAX a lot which causes the high correlation. Therefore, we shall remove NOX and TAX."
   ]
  },
  {
   "cell_type": "markdown",
   "metadata": {},
   "source": [
    "### Question 6.1 (d) iii."
   ]
  },
  {
   "cell_type": "code",
   "execution_count": 53,
   "metadata": {
    "collapsed": false
   },
   "outputs": [
    {
     "name": "stdout",
     "output_type": "stream",
     "text": [
      "   (Intercept) CRIM   ZN INDUS CHAS   RM   AGE  DIS   RAD PTRATIO LSTAT\n",
      "\n",
      "9         TRUE TRUE TRUE  TRUE TRUE TRUE  TRUE TRUE FALSE    TRUE  TRUE\n",
      "\n",
      "10        TRUE TRUE TRUE  TRUE TRUE TRUE  TRUE TRUE  TRUE    TRUE  TRUE\n",
      "\n",
      "8         TRUE TRUE TRUE  TRUE TRUE TRUE FALSE TRUE FALSE    TRUE  TRUE\n",
      "\n",
      "[1] \"Model number: \"\n",
      "\n",
      "[1] 1\n",
      "\n",
      "[1] \"Rsq value is: \"\n",
      "\n",
      "[1] 0.7166852\n",
      "\n",
      "[1] \"Mallow's Cp value is: \"\n",
      "\n",
      "[1] 9.337887\n",
      "\n",
      "[1] \"AICc value is: \"\n",
      "\n",
      "[1] 2463.616\n",
      "\n",
      "[1] \"Training RMSE value is: \"\n",
      "\n",
      "[1] 4.963095\n",
      "\n",
      "[1] \"Cross Validation R^2 value is: \"\n",
      "\n",
      "[1] 0.6859863\n",
      "\n",
      "[1] \"Model number: \"\n",
      "\n",
      "[1] 2\n",
      "\n",
      "[1] \"Rsq value is: \"\n",
      "\n",
      "[1] 0.7169286\n",
      "\n",
      "[1] \"Mallow's Cp value is: \"\n",
      "\n",
      "[1] 11\n",
      "\n",
      "[1] \"AICc value is: \"\n",
      "\n",
      "[1] 2465.393\n",
      "\n",
      "[1] \"Training RMSE value is: \"\n",
      "\n",
      "[1] 4.960962\n",
      "\n",
      "[1] \"Cross Validation R^2 value is: \"\n",
      "\n",
      "[1] 0.6878866\n",
      "\n",
      "[1] \"Model number: \"\n",
      "\n",
      "[1] 3\n",
      "\n",
      "[1] \"Rsq value is: \"\n",
      "\n",
      "[1] 0.7151554\n",
      "\n",
      "[1] \"Mallow's Cp value is: \"\n",
      "\n",
      "[1] 9.461808\n",
      "\n",
      "[1] \"AICc value is: \"\n",
      "\n",
      "[1] 2463.678\n",
      "\n",
      "[1] \"Training RMSE value is: \"\n",
      "\n",
      "[1] 4.976476\n",
      "\n",
      "[1] \"Cross Validation R^2 value is: \"\n",
      "\n",
      "[1] 0.6901134\n",
      "\n"
     ]
    }
   ],
   "source": [
    "f = open('data_mining_2.txt','r')\n",
    "for line in f.readlines():\n",
    "    print line"
   ]
  },
  {
   "cell_type": "markdown",
   "metadata": {},
   "source": [
    "So the problem says to choose the top three models but it does not say what it's based on. Therefore, I decided to choose the top 3 models which searched through all possible combinations given the variables I have. Furthermore, I chose the top 3 with respect to the adjusted R^2 which accounts for the fact that adding more variables can sometimes overfit. (Not a perfect measure, I felt that it was more sound than choosing training R^2 or training MSE). So from what I can see, it looks like there should be a 20% cross validation set and then an 80% training set. Finally, I outputted the RMSE, Cp, AIC, and Validation RSquare. The best model looks like the one that ignores RAD and AGE which is based on the validation RSquare."
   ]
  },
  {
   "cell_type": "markdown",
   "metadata": {},
   "source": [
    "## Question 7.3"
   ]
  },
  {
   "cell_type": "markdown",
   "metadata": {},
   "source": [
    "### Question 7.3 (a)"
   ]
  },
  {
   "cell_type": "code",
   "execution_count": 54,
   "metadata": {
    "collapsed": false
   },
   "outputs": [
    {
     "data": {
      "text/html": [
       "<div>\n",
       "<table border=\"1\" class=\"dataframe\">\n",
       "  <thead>\n",
       "    <tr style=\"text-align: right;\">\n",
       "      <th></th>\n",
       "      <th>CRIM</th>\n",
       "      <th>ZN</th>\n",
       "      <th>INDUS</th>\n",
       "      <th>CHAS</th>\n",
       "      <th>NOX</th>\n",
       "      <th>RM</th>\n",
       "      <th>AGE</th>\n",
       "      <th>DIS</th>\n",
       "      <th>RAD</th>\n",
       "      <th>TAX</th>\n",
       "      <th>PTRATIO</th>\n",
       "      <th>LSTAT</th>\n",
       "      <th>MEDV</th>\n",
       "      <th>CAT.MEDV</th>\n",
       "    </tr>\n",
       "  </thead>\n",
       "  <tbody>\n",
       "    <tr>\n",
       "      <th>0</th>\n",
       "      <td>0.00632</td>\n",
       "      <td>18.0</td>\n",
       "      <td>2.31</td>\n",
       "      <td>0</td>\n",
       "      <td>0.538</td>\n",
       "      <td>6.575</td>\n",
       "      <td>65.2</td>\n",
       "      <td>4.0900</td>\n",
       "      <td>1</td>\n",
       "      <td>296</td>\n",
       "      <td>15.3</td>\n",
       "      <td>4.98</td>\n",
       "      <td>24.0</td>\n",
       "      <td>0</td>\n",
       "    </tr>\n",
       "    <tr>\n",
       "      <th>1</th>\n",
       "      <td>0.02731</td>\n",
       "      <td>0.0</td>\n",
       "      <td>7.07</td>\n",
       "      <td>0</td>\n",
       "      <td>0.469</td>\n",
       "      <td>6.421</td>\n",
       "      <td>78.9</td>\n",
       "      <td>4.9671</td>\n",
       "      <td>2</td>\n",
       "      <td>242</td>\n",
       "      <td>17.8</td>\n",
       "      <td>9.14</td>\n",
       "      <td>21.6</td>\n",
       "      <td>0</td>\n",
       "    </tr>\n",
       "    <tr>\n",
       "      <th>2</th>\n",
       "      <td>0.02729</td>\n",
       "      <td>0.0</td>\n",
       "      <td>7.07</td>\n",
       "      <td>0</td>\n",
       "      <td>0.469</td>\n",
       "      <td>7.185</td>\n",
       "      <td>61.1</td>\n",
       "      <td>4.9671</td>\n",
       "      <td>2</td>\n",
       "      <td>242</td>\n",
       "      <td>17.8</td>\n",
       "      <td>4.03</td>\n",
       "      <td>34.7</td>\n",
       "      <td>1</td>\n",
       "    </tr>\n",
       "    <tr>\n",
       "      <th>3</th>\n",
       "      <td>0.03237</td>\n",
       "      <td>0.0</td>\n",
       "      <td>2.18</td>\n",
       "      <td>0</td>\n",
       "      <td>0.458</td>\n",
       "      <td>6.998</td>\n",
       "      <td>45.8</td>\n",
       "      <td>6.0622</td>\n",
       "      <td>3</td>\n",
       "      <td>222</td>\n",
       "      <td>18.7</td>\n",
       "      <td>2.94</td>\n",
       "      <td>33.4</td>\n",
       "      <td>1</td>\n",
       "    </tr>\n",
       "    <tr>\n",
       "      <th>4</th>\n",
       "      <td>0.06905</td>\n",
       "      <td>0.0</td>\n",
       "      <td>2.18</td>\n",
       "      <td>0</td>\n",
       "      <td>0.458</td>\n",
       "      <td>7.147</td>\n",
       "      <td>54.2</td>\n",
       "      <td>6.0622</td>\n",
       "      <td>3</td>\n",
       "      <td>222</td>\n",
       "      <td>18.7</td>\n",
       "      <td>5.33</td>\n",
       "      <td>36.2</td>\n",
       "      <td>1</td>\n",
       "    </tr>\n",
       "  </tbody>\n",
       "</table>\n",
       "</div>"
      ],
      "text/plain": [
       "      CRIM    ZN  INDUS  CHAS    NOX     RM   AGE     DIS  RAD  TAX  PTRATIO  \\\n",
       "0  0.00632  18.0   2.31     0  0.538  6.575  65.2  4.0900    1  296     15.3   \n",
       "1  0.02731   0.0   7.07     0  0.469  6.421  78.9  4.9671    2  242     17.8   \n",
       "2  0.02729   0.0   7.07     0  0.469  7.185  61.1  4.9671    2  242     17.8   \n",
       "3  0.03237   0.0   2.18     0  0.458  6.998  45.8  6.0622    3  222     18.7   \n",
       "4  0.06905   0.0   2.18     0  0.458  7.147  54.2  6.0622    3  222     18.7   \n",
       "\n",
       "   LSTAT  MEDV  CAT.MEDV  \n",
       "0   4.98  24.0         0  \n",
       "1   9.14  21.6         0  \n",
       "2   4.03  34.7         1  \n",
       "3   2.94  33.4         1  \n",
       "4   5.33  36.2         1  "
      ]
     },
     "execution_count": 54,
     "metadata": {},
     "output_type": "execute_result"
    }
   ],
   "source": [
    "bostonhousing = pd.read_csv('BostonHousing.csv',sep=',',header=0)\n",
    "bostonhousing.head()"
   ]
  },
  {
   "cell_type": "code",
   "execution_count": 55,
   "metadata": {
    "collapsed": false
   },
   "outputs": [
    {
     "name": "stdout",
     "output_type": "stream",
     "text": [
      "       CRIM        ZN     INDUS      CHAS       NOX        RM       AGE  \\\n",
      "0 -0.419782  0.284830 -1.287909 -0.272599 -0.144217  0.413672 -0.120013   \n",
      "1 -0.417339 -0.487722 -0.593381 -0.272599 -0.740262  0.194274  0.367166   \n",
      "2 -0.417342 -0.487722 -0.593381 -0.272599 -0.740262  1.282714 -0.265812   \n",
      "3 -0.416750 -0.487722 -1.306878 -0.272599 -0.835284  1.016303 -0.809889   \n",
      "4 -0.412482 -0.487722 -1.306878 -0.272599 -0.835284  1.228577 -0.511180   \n",
      "\n",
      "        DIS       RAD       TAX   PTRATIO     LSTAT  MEDV  CAT.MEDV  \n",
      "0  0.140214 -0.982843 -0.666608 -1.459000 -1.075562  24.0         0  \n",
      "1  0.557160 -0.867883 -0.987329 -0.303094 -0.492439  21.6         0  \n",
      "2  0.557160 -0.867883 -0.987329 -0.303094 -1.208727  34.7         1  \n",
      "3  1.077737 -0.752922 -1.106115  0.113032 -1.361517  33.4         1  \n",
      "4  1.077737 -0.752922 -1.106115  0.113032 -1.026501  36.2         1  \n"
     ]
    },
    {
     "name": "stderr",
     "output_type": "stream",
     "text": [
      "C:\\Users\\Jonathan\\Anaconda2\\lib\\site-packages\\sklearn\\utils\\validation.py:429: DataConversionWarning: Data with input dtype int64 was converted to float64 by StandardScaler.\n",
      "  warnings.warn(msg, _DataConversionWarning)\n"
     ]
    }
   ],
   "source": [
    "scaler = sklearn.preprocessing.StandardScaler()\n",
    "columns = list(set(bostonhousing.columns.values)-set(['MEDV','CAT.MEDV']))\n",
    "for col in columns:\n",
    "    bostonhousing[col] = scaler.fit_transform(bostonhousing[col])\n",
    "\n",
    "print bostonhousing.head()\n",
    "\n",
    "X,Xt,y,yt = sklearn.cross_validation.train_test_split(bostonhousing[columns],bostonhousing.MEDV,test_size=0.4)"
   ]
  },
  {
   "cell_type": "code",
   "execution_count": 56,
   "metadata": {
    "collapsed": false
   },
   "outputs": [
    {
     "name": "stdout",
     "output_type": "stream",
     "text": [
      "For k =  1 , R^2 value is: 0.635960617621\n",
      "For k =  2 , R^2 value is: 0.658436722571\n",
      "For k =  3 , R^2 value is: 0.719175454499\n",
      "For k =  4 , R^2 value is: 0.741329524505\n",
      "For k =  5 , R^2 value is: 0.726678474087\n"
     ]
    }
   ],
   "source": [
    "for i in range(1,6):\n",
    "    knn_model = sklearn.neighbors.KNeighborsRegressor(n_neighbors=i)\n",
    "    knn_model.fit(X,y)\n",
    "    print \"For k = \",i,\", R^2 value is:\",knn_model.score(Xt,yt)"
   ]
  },
  {
   "cell_type": "markdown",
   "metadata": {},
   "source": [
    "Using 12 variables, it looks like k = 2 has the best performance with respect to R^2 value. This means that the prediction is based on the bucket/leaf that is indicated from the closest 2 observations."
   ]
  },
  {
   "cell_type": "markdown",
   "metadata": {},
   "source": [
    "###  Question 7.3 (b)"
   ]
  },
  {
   "cell_type": "code",
   "execution_count": 57,
   "metadata": {
    "collapsed": false
   },
   "outputs": [
    {
     "name": "stdout",
     "output_type": "stream",
     "text": [
      "For k = 2 , predicted value is: [ 10.3]\n"
     ]
    }
   ],
   "source": [
    "query = pd.DataFrame([[0.2,0,7,0,0.538,6,62,4.7,4,307,21,10]],columns=list(bostonhousing.columns.values[:12]))\n",
    "knn_model = sklearn.neighbors.KNeighborsRegressor(n_neighbors=2)\n",
    "knn_model.fit(X,y)\n",
    "print \"For k =\",2,\", predicted value is:\",knn_model.predict(query)"
   ]
  },
  {
   "cell_type": "markdown",
   "metadata": {},
   "source": [
    "### Question 7.3 (c)"
   ]
  },
  {
   "cell_type": "markdown",
   "metadata": {},
   "source": [
    "The validation error is still optimistic because we tweak the original model on this data. So, we get an idea of what works and does not work. In an indirect way, we are getting a feel for what works and does not work in the validation set. We, of course, do not get this chance for the test set which is suppose to be our final evaluation. Hence, over time, as we make changes to the model that was trained on the training set based on our evaluation of the validation set, we start to introduce an almost look-ahead bias. This essentially means that we are looking at data and coming up with a model that will of course do well on this set because we have tried multiple things that work and do not work which is something that is not allowed for the test set. Thus, the error for the validation set ends up being overly optimistic because we've taken steps to improve the error on the validation set."
   ]
  },
  {
   "cell_type": "markdown",
   "metadata": {},
   "source": [
    "### Question 7.3 (d)"
   ]
  },
  {
   "cell_type": "code",
   "execution_count": 58,
   "metadata": {
    "collapsed": false
   },
   "outputs": [
    {
     "name": "stdout",
     "output_type": "stream",
     "text": [
      "       CRIM        ZN     INDUS  CHAS       NOX        RM       AGE       DIS  \\\n",
      "0 -0.419782  0.284830 -1.287909     0 -0.144217  0.413672 -0.120013  0.140214   \n",
      "1 -0.417339 -0.487722 -0.593381     0 -0.740262  0.194274  0.367166  0.557160   \n",
      "2 -0.417342 -0.487722 -0.593381     0 -0.740262  1.282714 -0.265812  0.557160   \n",
      "3 -0.416750 -0.487722 -1.306878     0 -0.835284  1.016303 -0.809889  1.077737   \n",
      "4 -0.412482 -0.487722 -1.306878     0 -0.835284  1.228577 -0.511180  1.077737   \n",
      "\n",
      "        RAD       TAX   PTRATIO     LSTAT  MEDV  CAT.MEDV  \n",
      "0 -0.982843 -0.666608 -1.459000 -1.075562  24.0         0  \n",
      "1 -0.867883 -0.987329 -0.303094 -0.492439  21.6         0  \n",
      "2 -0.867883 -0.987329 -0.303094 -1.208727  34.7         1  \n",
      "3 -0.752922 -1.106115  0.113032 -1.361517  33.4         1  \n",
      "4 -0.752922 -1.106115  0.113032 -1.026501  36.2         1   \n",
      "\n",
      "For k =  1 , R^2 value is: 0.810366689012\n",
      "For k =  2 , R^2 value is: 0.830826805696\n",
      "For k =  3 , R^2 value is: 0.800500392413\n",
      "For k =  4 , R^2 value is: 0.788330954456\n",
      "For k =  5 , R^2 value is: 0.774327551604\n",
      "\n",
      "For k = 2 , predicted value is: [ 16.46]\n"
     ]
    }
   ],
   "source": [
    "bostonhousing = pd.read_csv('BostonHousing.csv',sep=',',header=0)\n",
    "scaler = sklearn.preprocessing.StandardScaler()\n",
    "continuous_columns = list(set(bostonhousing.columns.values)-set(['CHAS','MEDV','CAT.MEDV',]))\n",
    "for col in continuous_columns:\n",
    "    bostonhousing[col] = scaler.fit_transform(bostonhousing[col])\n",
    "\n",
    "print bostonhousing.head(),\"\\n\"\n",
    "\n",
    "X,Xt,y,yt = sklearn.cross_validation.train_test_split(bostonhousing[columns],bostonhousing.MEDV,test_size=0.4)\n",
    "\n",
    "for i in range(1,6):\n",
    "    knn_model = sklearn.neighbors.KNeighborsRegressor(n_neighbors=i)\n",
    "    knn_model = knn_model.fit(X,y)\n",
    "    print \"For k = \",i,\", R^2 value is:\",knn_model.score(Xt,yt)\n",
    "    \n",
    "print \"\\nFor k =\",2,\", predicted value is:\",knn_model.predict(query)"
   ]
  },
  {
   "cell_type": "markdown",
   "metadata": {},
   "source": [
    "The best value is k = 2 with a predicted value of 16.46."
   ]
  },
  {
   "cell_type": "markdown",
   "metadata": {},
   "source": [
    "###  Question 7.3 (e)\n",
    "The disadvantage of using the k-NN prediction is that k-NN suffers already from the curse of dimensionality. The way k-NN makes regression predictions is a weighted average of the k nearest neighbors. However, in our model above, we have incorporated 12 predictors. So, already, there is no guarantee that there are always going to be close datapoints that are adequately capable of providing informative contributions to k-NN's prediction process. Also, even though we've made some improvement to normalize the data, k-NN is nonparametric and so it cannot tell when one variable has more impact than another. CRIM may be a huge factor and the a significant difference in value may drive huge changes in MEDV. However, if multiple of the other less significant factors are grouped close together, k-NN may incorrectly make the assumption that the datapoints are very similar in regression outcomes."
   ]
  },
  {
   "cell_type": "markdown",
   "metadata": {},
   "source": [
    "## Question 8.2"
   ]
  },
  {
   "cell_type": "markdown",
   "metadata": {},
   "source": [
    "### Question 8.2 (a)"
   ]
  },
  {
   "cell_type": "code",
   "execution_count": 59,
   "metadata": {
    "collapsed": false
   },
   "outputs": [
    {
     "data": {
      "text/html": [
       "<div>\n",
       "<table border=\"1\" class=\"dataframe\">\n",
       "  <thead>\n",
       "    <tr style=\"text-align: right;\">\n",
       "      <th></th>\n",
       "      <th>HOUR_I_R</th>\n",
       "      <th>ALCHL_I</th>\n",
       "      <th>ALIGN_I</th>\n",
       "      <th>STRATUM_R</th>\n",
       "      <th>WRK_ZONE</th>\n",
       "      <th>WKDY_I_R</th>\n",
       "      <th>INT_HWY</th>\n",
       "      <th>LGTCON_I_R</th>\n",
       "      <th>MANCOL_I_R</th>\n",
       "      <th>PED_ACC_R</th>\n",
       "      <th>...</th>\n",
       "      <th>TRAF_CON_R</th>\n",
       "      <th>TRAF_WAY</th>\n",
       "      <th>VEH_INVL</th>\n",
       "      <th>WEATHER_R</th>\n",
       "      <th>INJURY_CRASH</th>\n",
       "      <th>NO_INJ_I</th>\n",
       "      <th>PRPTYDMG_CRASH</th>\n",
       "      <th>FATALITIES</th>\n",
       "      <th>MAX_SEV_IR</th>\n",
       "      <th>INJURY</th>\n",
       "    </tr>\n",
       "  </thead>\n",
       "  <tbody>\n",
       "    <tr>\n",
       "      <th>0</th>\n",
       "      <td>0</td>\n",
       "      <td>2</td>\n",
       "      <td>2</td>\n",
       "      <td>1</td>\n",
       "      <td>0</td>\n",
       "      <td>1</td>\n",
       "      <td>0</td>\n",
       "      <td>3</td>\n",
       "      <td>0</td>\n",
       "      <td>0</td>\n",
       "      <td>...</td>\n",
       "      <td>0</td>\n",
       "      <td>3</td>\n",
       "      <td>1</td>\n",
       "      <td>1</td>\n",
       "      <td>1</td>\n",
       "      <td>1</td>\n",
       "      <td>0</td>\n",
       "      <td>0</td>\n",
       "      <td>1</td>\n",
       "      <td>True</td>\n",
       "    </tr>\n",
       "    <tr>\n",
       "      <th>1</th>\n",
       "      <td>1</td>\n",
       "      <td>2</td>\n",
       "      <td>1</td>\n",
       "      <td>0</td>\n",
       "      <td>0</td>\n",
       "      <td>1</td>\n",
       "      <td>1</td>\n",
       "      <td>3</td>\n",
       "      <td>2</td>\n",
       "      <td>0</td>\n",
       "      <td>...</td>\n",
       "      <td>0</td>\n",
       "      <td>3</td>\n",
       "      <td>2</td>\n",
       "      <td>2</td>\n",
       "      <td>0</td>\n",
       "      <td>0</td>\n",
       "      <td>1</td>\n",
       "      <td>0</td>\n",
       "      <td>0</td>\n",
       "      <td>False</td>\n",
       "    </tr>\n",
       "    <tr>\n",
       "      <th>2</th>\n",
       "      <td>1</td>\n",
       "      <td>2</td>\n",
       "      <td>1</td>\n",
       "      <td>0</td>\n",
       "      <td>0</td>\n",
       "      <td>1</td>\n",
       "      <td>0</td>\n",
       "      <td>3</td>\n",
       "      <td>2</td>\n",
       "      <td>0</td>\n",
       "      <td>...</td>\n",
       "      <td>1</td>\n",
       "      <td>2</td>\n",
       "      <td>2</td>\n",
       "      <td>2</td>\n",
       "      <td>0</td>\n",
       "      <td>0</td>\n",
       "      <td>1</td>\n",
       "      <td>0</td>\n",
       "      <td>0</td>\n",
       "      <td>False</td>\n",
       "    </tr>\n",
       "    <tr>\n",
       "      <th>3</th>\n",
       "      <td>1</td>\n",
       "      <td>2</td>\n",
       "      <td>1</td>\n",
       "      <td>1</td>\n",
       "      <td>0</td>\n",
       "      <td>0</td>\n",
       "      <td>0</td>\n",
       "      <td>3</td>\n",
       "      <td>2</td>\n",
       "      <td>0</td>\n",
       "      <td>...</td>\n",
       "      <td>1</td>\n",
       "      <td>2</td>\n",
       "      <td>2</td>\n",
       "      <td>1</td>\n",
       "      <td>0</td>\n",
       "      <td>0</td>\n",
       "      <td>1</td>\n",
       "      <td>0</td>\n",
       "      <td>0</td>\n",
       "      <td>False</td>\n",
       "    </tr>\n",
       "    <tr>\n",
       "      <th>4</th>\n",
       "      <td>1</td>\n",
       "      <td>1</td>\n",
       "      <td>1</td>\n",
       "      <td>0</td>\n",
       "      <td>0</td>\n",
       "      <td>1</td>\n",
       "      <td>0</td>\n",
       "      <td>3</td>\n",
       "      <td>2</td>\n",
       "      <td>0</td>\n",
       "      <td>...</td>\n",
       "      <td>0</td>\n",
       "      <td>2</td>\n",
       "      <td>3</td>\n",
       "      <td>1</td>\n",
       "      <td>0</td>\n",
       "      <td>0</td>\n",
       "      <td>1</td>\n",
       "      <td>0</td>\n",
       "      <td>0</td>\n",
       "      <td>False</td>\n",
       "    </tr>\n",
       "  </tbody>\n",
       "</table>\n",
       "<p>5 rows × 25 columns</p>\n",
       "</div>"
      ],
      "text/plain": [
       "   HOUR_I_R  ALCHL_I  ALIGN_I  STRATUM_R  WRK_ZONE  WKDY_I_R  INT_HWY  \\\n",
       "0         0        2        2          1         0         1        0   \n",
       "1         1        2        1          0         0         1        1   \n",
       "2         1        2        1          0         0         1        0   \n",
       "3         1        2        1          1         0         0        0   \n",
       "4         1        1        1          0         0         1        0   \n",
       "\n",
       "   LGTCON_I_R  MANCOL_I_R  PED_ACC_R   ...    TRAF_CON_R  TRAF_WAY  VEH_INVL  \\\n",
       "0           3           0          0   ...             0         3         1   \n",
       "1           3           2          0   ...             0         3         2   \n",
       "2           3           2          0   ...             1         2         2   \n",
       "3           3           2          0   ...             1         2         2   \n",
       "4           3           2          0   ...             0         2         3   \n",
       "\n",
       "   WEATHER_R  INJURY_CRASH  NO_INJ_I  PRPTYDMG_CRASH  FATALITIES  MAX_SEV_IR  \\\n",
       "0          1             1         1               0           0           1   \n",
       "1          2             0         0               1           0           0   \n",
       "2          2             0         0               1           0           0   \n",
       "3          1             0         0               1           0           0   \n",
       "4          1             0         0               1           0           0   \n",
       "\n",
       "   INJURY  \n",
       "0    True  \n",
       "1   False  \n",
       "2   False  \n",
       "3   False  \n",
       "4   False  \n",
       "\n",
       "[5 rows x 25 columns]"
      ]
     },
     "execution_count": 59,
     "metadata": {},
     "output_type": "execute_result"
    }
   ],
   "source": [
    "accidents = pd.read_csv('Accidents.csv',sep=',',header=0)\n",
    "accidents['INJURY'] = accidents.MAX_SEV_IR.apply(lambda x: x>0)\n",
    "accidents.head()"
   ]
  },
  {
   "cell_type": "code",
   "execution_count": 60,
   "metadata": {
    "collapsed": false
   },
   "outputs": [
    {
     "name": "stdout",
     "output_type": "stream",
     "text": [
      "Probability of injury given crash:  0.508783159093\n"
     ]
    }
   ],
   "source": [
    "print \"Probability of injury given crash: \",len(accidents[accidents.INJURY==True])/float(len(accidents))"
   ]
  },
  {
   "cell_type": "markdown",
   "metadata": {},
   "source": [
    "Given that the probability is over 50%, without further knowledge we assume that there is an injury."
   ]
  },
  {
   "cell_type": "markdown",
   "metadata": {},
   "source": [
    "### Question 8.2 (b) i.    NEEDS TO BE LOOKED AT AGAIN"
   ]
  },
  {
   "cell_type": "code",
   "execution_count": 61,
   "metadata": {
    "collapsed": false
   },
   "outputs": [
    {
     "data": {
      "text/html": [
       "<div>\n",
       "<table border=\"1\" class=\"dataframe\">\n",
       "  <thead>\n",
       "    <tr style=\"text-align: right;\">\n",
       "      <th></th>\n",
       "      <th>WEATHER_R</th>\n",
       "      <th>TRAF_CON_R</th>\n",
       "    </tr>\n",
       "  </thead>\n",
       "  <tbody>\n",
       "    <tr>\n",
       "      <th>count</th>\n",
       "      <td>12.000000</td>\n",
       "      <td>12.000000</td>\n",
       "    </tr>\n",
       "    <tr>\n",
       "      <th>mean</th>\n",
       "      <td>1.583333</td>\n",
       "      <td>0.333333</td>\n",
       "    </tr>\n",
       "    <tr>\n",
       "      <th>std</th>\n",
       "      <td>0.514929</td>\n",
       "      <td>0.651339</td>\n",
       "    </tr>\n",
       "    <tr>\n",
       "      <th>min</th>\n",
       "      <td>1.000000</td>\n",
       "      <td>0.000000</td>\n",
       "    </tr>\n",
       "    <tr>\n",
       "      <th>25%</th>\n",
       "      <td>1.000000</td>\n",
       "      <td>0.000000</td>\n",
       "    </tr>\n",
       "    <tr>\n",
       "      <th>50%</th>\n",
       "      <td>2.000000</td>\n",
       "      <td>0.000000</td>\n",
       "    </tr>\n",
       "    <tr>\n",
       "      <th>75%</th>\n",
       "      <td>2.000000</td>\n",
       "      <td>0.250000</td>\n",
       "    </tr>\n",
       "    <tr>\n",
       "      <th>max</th>\n",
       "      <td>2.000000</td>\n",
       "      <td>2.000000</td>\n",
       "    </tr>\n",
       "  </tbody>\n",
       "</table>\n",
       "</div>"
      ],
      "text/plain": [
       "       WEATHER_R  TRAF_CON_R\n",
       "count  12.000000   12.000000\n",
       "mean    1.583333    0.333333\n",
       "std     0.514929    0.651339\n",
       "min     1.000000    0.000000\n",
       "25%     1.000000    0.000000\n",
       "50%     2.000000    0.000000\n",
       "75%     2.000000    0.250000\n",
       "max     2.000000    2.000000"
      ]
     },
     "execution_count": 61,
     "metadata": {},
     "output_type": "execute_result"
    }
   ],
   "source": [
    "q82bi = accidents[['WEATHER_R','TRAF_CON_R','INJURY']].head(12)\n",
    "q82bi.describe()"
   ]
  },
  {
   "cell_type": "markdown",
   "metadata": {},
   "source": [
    "Taking a preliminary look."
   ]
  },
  {
   "cell_type": "code",
   "execution_count": 62,
   "metadata": {
    "collapsed": false
   },
   "outputs": [
    {
     "data": {
      "text/plain": [
       "<matplotlib.axes._subplots.AxesSubplot at 0xce6ad30>"
      ]
     },
     "execution_count": 62,
     "metadata": {},
     "output_type": "execute_result"
    },
    {
     "data": {
      "image/png": "[encoded data removed]",
      "text/plain": [
       "<matplotlib.figure.Figure at 0xcc0e128>"
      ]
     },
     "metadata": {},
     "output_type": "display_data"
    }
   ],
   "source": [
    "fig, axs = plt.subplots(1,2)\n",
    "q82bi.WEATHER_R.value_counts('INJURY').plot(kind='bar',title='WEATHER_R vs. INJURY',ax=axs[0],figsize=(16,6))\n",
    "q82bi.TRAF_CON_R.value_counts('INJURY').plot(kind='bar',title='TRAF_CON_R vs. INJURY',ax=axs[1],figsize=(16,6))"
   ]
  },
  {
   "cell_type": "markdown",
   "metadata": {},
   "source": [
    "### Question 8.2 (b) ii."
   ]
  },
  {
   "cell_type": "code",
   "execution_count": 63,
   "metadata": {
    "collapsed": false
   },
   "outputs": [
    {
     "name": "stdout",
     "output_type": "stream",
     "text": [
      "For WEATHER_R: 1 and TRAF_CON_R: 0,  we get:  0.503111033214\n",
      "For WEATHER_R: 1 and TRAF_CON_R: 1,  we get:  0.553423927525\n",
      "For WEATHER_R: 1 and TRAF_CON_R: 2,  we get:  0.531550068587\n",
      "For WEATHER_R: 2 and TRAF_CON_R: 0,  we get:  0.443616253907\n",
      "For WEATHER_R: 2 and TRAF_CON_R: 1,  we get:  0.500894454383\n",
      "For WEATHER_R: 2 and TRAF_CON_R: 2,  we get:  0.430294906166\n"
     ]
    }
   ],
   "source": [
    "injuries = accidents[accidents.INJURY==True]\n",
    "prob_df = np.zeros((12,3))\n",
    "count = 0\n",
    "for val1 in sorted(pd.unique(injuries['WEATHER_R'])):\n",
    "    weather_adjusted = injuries[injuries.WEATHER_R==val1]\n",
    "    weather_adjusted2 = accidents[accidents.WEATHER_R==val1]\n",
    "    for val2 in sorted(pd.unique(injuries['TRAF_CON_R'])):\n",
    "        traf_adjusted = weather_adjusted[weather_adjusted.TRAF_CON_R==val2]\n",
    "        traf_adjusted2 = weather_adjusted2[weather_adjusted2.TRAF_CON_R==val2]\n",
    "        print \"For WEATHER_R: %s and TRAF_CON_R: %s,\" % (val1,val2),\" we get: \",len(traf_adjusted)/float(len(traf_adjusted2)) \n",
    "        prob_df[count][2] = (len(traf_adjusted)/float(len(traf_adjusted2)))\n",
    "        prob_df[count][1] = val2\n",
    "        prob_df[count][0] = val1\n",
    "        count+=1\n",
    "prob_df = pd.DataFrame(prob_df,columns=['WEATHER_R','TRAF_CON_R','INJURY_PROB'])"
   ]
  },
  {
   "cell_type": "markdown",
   "metadata": {},
   "source": [
    "### Question 8.2 (b) iii."
   ]
  },
  {
   "cell_type": "code",
   "execution_count": 64,
   "metadata": {
    "collapsed": false
   },
   "outputs": [
    {
     "name": "stdout",
     "output_type": "stream",
     "text": [
      "   WEATHER_R  TRAF_CON_R INJURY  INJURY_PROB\n",
      "0          1           0   True     0.503111\n",
      "1          2           0  False     0.443616\n",
      "2          2           1  False     0.500894\n",
      "3          1           1  False     0.553424\n",
      "4          1           0  False     0.503111\n"
     ]
    }
   ],
   "source": [
    "new_df = pd.merge(q82bi,prob_df,on=['WEATHER_R','TRAF_CON_R'],how='left')\n",
    "print new_df.head()"
   ]
  },
  {
   "cell_type": "code",
   "execution_count": 65,
   "metadata": {
    "collapsed": false
   },
   "outputs": [
    {
     "name": "stdout",
     "output_type": "stream",
     "text": [
      "   INJURY Prediction\n",
      "0    True       True\n",
      "1   False      False\n",
      "2   False       True\n",
      "3   False       True\n",
      "4   False       True\n",
      "5    True      False\n",
      "6   False      False\n",
      "7    True       True\n",
      "8   False      False\n",
      "9   False      False\n",
      "10  False      False\n",
      "11  False       True \n",
      "\n",
      "Confusion Matrix: \n",
      "[[5 4]\n",
      " [1 2]]\n",
      "Accuracy:  0.583333333333\n",
      "F1 Score:  0.666666666667\n"
     ]
    }
   ],
   "source": [
    "new_df['Prediction'] = new_df.INJURY_PROB.apply(lambda x: x>0.50)\n",
    "print new_df[['INJURY','Prediction']],\"\\n\"\n",
    "conf_mat = sklearn.metrics.confusion_matrix(new_df.INJURY,new_df.Prediction)\n",
    "print \"Confusion Matrix: \\n\",conf_mat\n",
    "print \"Accuracy: \",(conf_mat[0][0]+conf_mat[1][1])/float(12)\n",
    "print \"F1 Score: \", (2*conf_mat[0][0])/float(2*conf_mat[0][0]+conf_mat[1][0]+conf_mat[0][1])"
   ]
  },
  {
   "cell_type": "markdown",
   "metadata": {},
   "source": [
    "### Question 8.2 (b) iv."
   ]
  },
  {
   "cell_type": "code",
   "execution_count": 66,
   "metadata": {
    "collapsed": false
   },
   "outputs": [
    {
     "name": "stdout",
     "output_type": "stream",
     "text": [
      "WEATHER_R = 1 injury probability:  0.872984810363\n",
      "TRAF_CON_R = 1 injury probability:  0.219644021992\n",
      "Multiply these two to get the naive Bayes conditional probability for given both: 0.191745894886\n"
     ]
    }
   ],
   "source": [
    "weather_probability = len(injuries[injuries.WEATHER_R==1])/float(len(injuries))\n",
    "traf_con_probability = len(injuries[injuries.TRAF_CON_R==1])/float(len(injuries))\n",
    "print \"WEATHER_R = 1 injury probability: \",weather_probability\n",
    "print \"TRAF_CON_R = 1 injury probability: \",traf_con_probability\n",
    "print \"Multiply these two to get the naive Bayes conditional probability for given both:\", weather_probability*traf_con_probability"
   ]
  },
  {
   "cell_type": "markdown",
   "metadata": {},
   "source": [
    "### Question 8.2 (b) v."
   ]
  },
  {
   "cell_type": "code",
   "execution_count": 67,
   "metadata": {
    "collapsed": false
   },
   "outputs": [
    {
     "name": "stdout",
     "output_type": "stream",
     "text": [
      "The mean accuracy value is:  0.872984810363\n"
     ]
    }
   ],
   "source": [
    "gnb = sklearn.naive_bayes.GaussianNB()\n",
    "gnb.fit(accidents[['WEATHER_R','TRAF_CON_R']],accidents['INJURY'])\n",
    "print \"The mean accuracy value is: \",gnb.score(injuries[['WEATHER_R','TRAF_CON_R']],injuries['INJURY'])"
   ]
  },
  {
   "cell_type": "markdown",
   "metadata": {},
   "source": [
    "### Question 8.2 (c) i."
   ]
  },
  {
   "cell_type": "code",
   "execution_count": 70,
   "metadata": {
    "collapsed": false
   },
   "outputs": [
    {
     "name": "stdout",
     "output_type": "stream",
     "text": [
      "The number of accidents is:  42183\n",
      "The number of accidents that led to injuries is:  21462\n",
      "The proportion of accidents that led to injuries is:  0.508783159093\n"
     ]
    }
   ],
   "source": [
    "print \"The number of accidents is: \", len(accidents)\n",
    "print \"The number of accidents that led to injuries is: \", len(accidents[accidents.INJURY!=0])\n",
    "print \"The proportion of accidents that led to injuries is: \", len(accidents[accidents.INJURY!=0])/float(len(accidents))"
   ]
  },
  {
   "cell_type": "markdown",
   "metadata": {},
   "source": [
    "### Question 8.2 (c) ii."
   ]
  },
  {
   "cell_type": "markdown",
   "metadata": {
    "collapsed": true
   },
   "source": [
    "The following variables are all general conditions that have the ability to potentially cause an accident but have no information about the accident itself. (i.e. location, injuries, etc)\n",
    "\n",
    "* HOUR_I_R = rush hour\n",
    "* WRK_ZONE = work zone\n",
    "* WKDY_I_R = weekday, weekend\n",
    "* LGTCON_I_R = light conditions, light or dark\n",
    "* SUR_COND = surface conditions\n",
    "* WEATHER_R = weather"
   ]
  },
  {
   "cell_type": "code",
   "execution_count": 73,
   "metadata": {
    "collapsed": true
   },
   "outputs": [],
   "source": [
    "predictors = ['HOUR_I_R','WRK_ZONE','WKDY_I_R','LGTCON_I_R','SUR_COND','WEATHER_R']"
   ]
  },
  {
   "cell_type": "markdown",
   "metadata": {},
   "source": [
    "### Question 8.2 (c) iii."
   ]
  },
  {
   "cell_type": "code",
   "execution_count": 91,
   "metadata": {
    "collapsed": false
   },
   "outputs": [],
   "source": [
    "training_index = random.sample(range(len(accidents)),int(len(accidents)*0.80))\n",
    "cv_index = list(set(range(len(accidents)))-set(training_index))\n",
    "training_data = accidents.iloc[training_index].reset_index()\n",
    "cross_val = accidents.iloc[cv_index].reset_index()"
   ]
  },
  {
   "cell_type": "markdown",
   "metadata": {},
   "source": [
    "### Question 8.2 (c) iv."
   ]
  },
  {
   "cell_type": "code",
   "execution_count": 93,
   "metadata": {
    "collapsed": false
   },
   "outputs": [
    {
     "data": {
      "text/plain": [
       "GaussianNB(priors=None)"
      ]
     },
     "execution_count": 93,
     "metadata": {},
     "output_type": "execute_result"
    }
   ],
   "source": [
    "gnb = sklearn.naive_bayes.GaussianNB()\n",
    "gnb.fit(training_data[predictors],training_data['INJURY'])"
   ]
  },
  {
   "cell_type": "markdown",
   "metadata": {},
   "source": [
    "### Question 8.2 (c) v."
   ]
  },
  {
   "cell_type": "code",
   "execution_count": 90,
   "metadata": {
    "collapsed": false
   },
   "outputs": [
    {
     "data": {
      "text/plain": [
       "<matplotlib.axes._subplots.AxesSubplot at 0x151e9898>"
      ]
     },
     "execution_count": 90,
     "metadata": {},
     "output_type": "execute_result"
    },
    {
     "data": {
      "image/png": "[encoded data removed]",
      "text/plain": [
       "<matplotlib.figure.Figure at 0x143bf710>"
      ]
     },
     "metadata": {},
     "output_type": "display_data"
    }
   ],
   "source": [
    "fig,axs=plt.subplots(1,6)\n",
    "accidents.HOUR_I_R.value_counts('INJURY').plot(kind='bar',title='HOUR_I_R',ax=axs[0],figsize=(14,3))\n",
    "accidents.WRK_ZONE.value_counts('INJURY').plot(kind='bar',title='WRK_ZONE',ax=axs[1],figsize=(14,3))\n",
    "accidents.WKDY_I_R.value_counts('INJURY').plot(kind='bar',title='WKDY_I_R',ax=axs[2],figsize=(14,3))\n",
    "accidents.LGTCON_I_R.value_counts('INJURY').plot(kind='bar',title='LGTCON_I_R',ax=axs[3],figsize=(14,3))\n",
    "accidents.SUR_COND.value_counts('INJURY').plot(kind='bar',title='SUR_COND',ax=axs[4],figsize=(14,3))\n",
    "accidents.WEATHER_R.value_counts('INJURY').plot(kind='bar',title='WEATHER_R',ax=axs[5],figsize=(14,3))"
   ]
  },
  {
   "cell_type": "markdown",
   "metadata": {},
   "source": [
    "Therefore, the highest probability from the GNB classifier would be HOUR_I_R = 0, WRK_ZONE = 0, WKDY_I_R = 1, LGTCON_I_R = 1, SUR_COND = 1, WEATHER_R = 1. The reason we know this from the graph is because GNB makes the strong assumption that variables are independent. Therefore, we just pick the highest probabilities in each category to get the most likely condition for injuries."
   ]
  },
  {
   "cell_type": "markdown",
   "metadata": {},
   "source": [
    "### Question 8.2 (c) vi."
   ]
  },
  {
   "cell_type": "code",
   "execution_count": 94,
   "metadata": {
    "collapsed": false
   },
   "outputs": [
    {
     "name": "stdout",
     "output_type": "stream",
     "text": [
      "The mean accuracy value is:  0.517008415314\n"
     ]
    }
   ],
   "source": [
    "print \"The mean accuracy value is: \",gnb.score(cross_val[predictors],cross_val['INJURY'])"
   ]
  },
  {
   "cell_type": "markdown",
   "metadata": {},
   "source": [
    "The mean accuracy value is shown above."
   ]
  },
  {
   "cell_type": "markdown",
   "metadata": {},
   "source": [
    "## Question 9.3"
   ]
  },
  {
   "cell_type": "markdown",
   "metadata": {},
   "source": [
    "### Question 9.3 (a) i."
   ]
  },
  {
   "cell_type": "code",
   "execution_count": 42,
   "metadata": {
    "collapsed": false
   },
   "outputs": [
    {
     "data": {
      "text/html": [
       "<div>\n",
       "<table border=\"1\" class=\"dataframe\">\n",
       "  <thead>\n",
       "    <tr style=\"text-align: right;\">\n",
       "      <th></th>\n",
       "      <th>﻿Id</th>\n",
       "      <th>Model</th>\n",
       "      <th>Price</th>\n",
       "      <th>Age_08_04</th>\n",
       "      <th>Mfg_Month</th>\n",
       "      <th>Mfg_Year</th>\n",
       "      <th>KM</th>\n",
       "      <th>Fuel_Type</th>\n",
       "      <th>HP</th>\n",
       "      <th>Met_Color</th>\n",
       "      <th>...</th>\n",
       "      <th>Powered_Windows</th>\n",
       "      <th>Power_Steering</th>\n",
       "      <th>Radio</th>\n",
       "      <th>Mistlamps</th>\n",
       "      <th>Sport_Model</th>\n",
       "      <th>Backseat_Divider</th>\n",
       "      <th>Metallic_Rim</th>\n",
       "      <th>Radio_cassette</th>\n",
       "      <th>Tow_Bar</th>\n",
       "      <th>Validation</th>\n",
       "    </tr>\n",
       "  </thead>\n",
       "  <tbody>\n",
       "    <tr>\n",
       "      <th>0</th>\n",
       "      <td>1</td>\n",
       "      <td>TOYOTA Corolla 2.0 D4D HATCHB TERRA 2/3-Doors</td>\n",
       "      <td>13500</td>\n",
       "      <td>23</td>\n",
       "      <td>10</td>\n",
       "      <td>2002</td>\n",
       "      <td>46986</td>\n",
       "      <td>Diesel</td>\n",
       "      <td>90</td>\n",
       "      <td>1</td>\n",
       "      <td>...</td>\n",
       "      <td>1</td>\n",
       "      <td>1</td>\n",
       "      <td>0</td>\n",
       "      <td>0</td>\n",
       "      <td>0</td>\n",
       "      <td>1</td>\n",
       "      <td>0</td>\n",
       "      <td>0</td>\n",
       "      <td>0</td>\n",
       "      <td>Validation</td>\n",
       "    </tr>\n",
       "    <tr>\n",
       "      <th>1</th>\n",
       "      <td>2</td>\n",
       "      <td>TOYOTA Corolla 2.0 D4D HATCHB TERRA 2/3-Doors</td>\n",
       "      <td>13750</td>\n",
       "      <td>23</td>\n",
       "      <td>10</td>\n",
       "      <td>2002</td>\n",
       "      <td>72937</td>\n",
       "      <td>Diesel</td>\n",
       "      <td>90</td>\n",
       "      <td>1</td>\n",
       "      <td>...</td>\n",
       "      <td>0</td>\n",
       "      <td>1</td>\n",
       "      <td>0</td>\n",
       "      <td>0</td>\n",
       "      <td>0</td>\n",
       "      <td>1</td>\n",
       "      <td>0</td>\n",
       "      <td>0</td>\n",
       "      <td>0</td>\n",
       "      <td>Validation</td>\n",
       "    </tr>\n",
       "    <tr>\n",
       "      <th>2</th>\n",
       "      <td>3</td>\n",
       "      <td>TOYOTA Corolla 2.0 D4D HATCHB TERRA 2/3-Doors</td>\n",
       "      <td>13950</td>\n",
       "      <td>24</td>\n",
       "      <td>9</td>\n",
       "      <td>2002</td>\n",
       "      <td>41711</td>\n",
       "      <td>Diesel</td>\n",
       "      <td>90</td>\n",
       "      <td>1</td>\n",
       "      <td>...</td>\n",
       "      <td>0</td>\n",
       "      <td>1</td>\n",
       "      <td>0</td>\n",
       "      <td>0</td>\n",
       "      <td>0</td>\n",
       "      <td>1</td>\n",
       "      <td>0</td>\n",
       "      <td>0</td>\n",
       "      <td>0</td>\n",
       "      <td>Training</td>\n",
       "    </tr>\n",
       "    <tr>\n",
       "      <th>3</th>\n",
       "      <td>4</td>\n",
       "      <td>TOYOTA Corolla 2.0 D4D HATCHB TERRA 2/3-Doors</td>\n",
       "      <td>14950</td>\n",
       "      <td>26</td>\n",
       "      <td>7</td>\n",
       "      <td>2002</td>\n",
       "      <td>48000</td>\n",
       "      <td>Diesel</td>\n",
       "      <td>90</td>\n",
       "      <td>0</td>\n",
       "      <td>...</td>\n",
       "      <td>0</td>\n",
       "      <td>1</td>\n",
       "      <td>0</td>\n",
       "      <td>0</td>\n",
       "      <td>0</td>\n",
       "      <td>1</td>\n",
       "      <td>0</td>\n",
       "      <td>0</td>\n",
       "      <td>0</td>\n",
       "      <td>Training</td>\n",
       "    </tr>\n",
       "    <tr>\n",
       "      <th>4</th>\n",
       "      <td>5</td>\n",
       "      <td>TOYOTA Corolla 2.0 D4D HATCHB SOL 2/3-Doors</td>\n",
       "      <td>13750</td>\n",
       "      <td>30</td>\n",
       "      <td>3</td>\n",
       "      <td>2002</td>\n",
       "      <td>38500</td>\n",
       "      <td>Diesel</td>\n",
       "      <td>90</td>\n",
       "      <td>0</td>\n",
       "      <td>...</td>\n",
       "      <td>1</td>\n",
       "      <td>1</td>\n",
       "      <td>0</td>\n",
       "      <td>1</td>\n",
       "      <td>0</td>\n",
       "      <td>1</td>\n",
       "      <td>0</td>\n",
       "      <td>0</td>\n",
       "      <td>0</td>\n",
       "      <td>Validation</td>\n",
       "    </tr>\n",
       "  </tbody>\n",
       "</table>\n",
       "<p>5 rows × 39 columns</p>\n",
       "</div>"
      ],
      "text/plain": [
       "   ﻿Id                                           Model  Price  Age_08_04  \\\n",
       "0    1   TOYOTA Corolla 2.0 D4D HATCHB TERRA 2/3-Doors  13500         23   \n",
       "1    2   TOYOTA Corolla 2.0 D4D HATCHB TERRA 2/3-Doors  13750         23   \n",
       "2    3   TOYOTA Corolla 2.0 D4D HATCHB TERRA 2/3-Doors  13950         24   \n",
       "3    4   TOYOTA Corolla 2.0 D4D HATCHB TERRA 2/3-Doors  14950         26   \n",
       "4    5     TOYOTA Corolla 2.0 D4D HATCHB SOL 2/3-Doors  13750         30   \n",
       "\n",
       "   Mfg_Month  Mfg_Year     KM Fuel_Type  HP  Met_Color     ...      \\\n",
       "0         10      2002  46986    Diesel  90          1     ...       \n",
       "1         10      2002  72937    Diesel  90          1     ...       \n",
       "2          9      2002  41711    Diesel  90          1     ...       \n",
       "3          7      2002  48000    Diesel  90          0     ...       \n",
       "4          3      2002  38500    Diesel  90          0     ...       \n",
       "\n",
       "  Powered_Windows  Power_Steering  Radio  Mistlamps  Sport_Model  \\\n",
       "0               1               1      0          0            0   \n",
       "1               0               1      0          0            0   \n",
       "2               0               1      0          0            0   \n",
       "3               0               1      0          0            0   \n",
       "4               1               1      0          1            0   \n",
       "\n",
       "   Backseat_Divider  Metallic_Rim  Radio_cassette  Tow_Bar  Validation  \n",
       "0                 1             0               0        0  Validation  \n",
       "1                 1             0               0        0  Validation  \n",
       "2                 1             0               0        0    Training  \n",
       "3                 1             0               0        0    Training  \n",
       "4                 1             0               0        0  Validation  \n",
       "\n",
       "[5 rows x 39 columns]"
      ]
     },
     "execution_count": 42,
     "metadata": {},
     "output_type": "execute_result"
    }
   ],
   "source": [
    "toyota = pd.read_csv('ToyotaCorolla.csv',sep=',',header=0)\n",
    "toyota.head()"
   ]
  },
  {
   "cell_type": "code",
   "execution_count": 34,
   "metadata": {
    "collapsed": false,
    "scrolled": false
   },
   "outputs": [
    {
     "name": "stdout",
     "output_type": "stream",
     "text": [
      "\n",
      "\n",
      "Regression tree:\n",
      "\n",
      "tree(formula = Price ~ Age_08_04 + KM + Fuel_Type + HP + Automatic + \n",
      "\n",
      "    Doors + Quarterly_Tax + Mfg_Guarantee + Guarantee_Period + \n",
      "\n",
      "    Airco + Automatic_airco + CD_Player + Powered_Windows + Sport_Model + \n",
      "\n",
      "    Tow_Bar, data = train, control = tree.control(nobs = nrow(train), \n",
      "\n",
      "    mincut = 1, minsize = 2, mindev = 0))\n",
      "\n",
      "Number of terminal nodes:  577 \n",
      "\n",
      "Residual mean deviance:  804.8 = 113500 / 141 \n",
      "\n",
      "Distribution of residuals:\n",
      "\n",
      "   Min. 1st Qu.  Median    Mean 3rd Qu.    Max. \n",
      "\n",
      " -66.67    0.00    0.00    0.00    0.00   55.00 \n",
      "\n",
      "[1] \"R^2 value for training data:\"\n",
      "\n",
      "[1] 1.325046e-05\n",
      "\n",
      "[1] \"RMSE value for training data:\"\n",
      "\n",
      "[1] 12.57132\n",
      "\n",
      "[1] \"R^2 value for cross validation data:\"\n",
      "\n",
      "[1] 0.1309703\n",
      "\n",
      "[1] \"RMSE value for cross validation data:\"\n",
      "\n",
      "[1] 1568.045\n",
      "\n",
      "[1] \"R^2 value for test data:\"\n",
      "\n",
      "[1] 0.07554466\n",
      "\n",
      "[1] \"RMSE value for test data:\"\n",
      "\n",
      "[1] 1510.963\n",
      "\n",
      "\n",
      "\n",
      "Regression tree:\n",
      "\n",
      "snip.tree(tree = tree1, nodes = 2:3)\n",
      "\n",
      "Variables actually used in tree construction:\n",
      "\n",
      "[1] \"Age_08_04\"\n",
      "\n",
      "Number of terminal nodes:  2 \n",
      "\n",
      "Residual mean deviance:  4091000 = 2.929e+09 / 716 \n",
      "\n",
      "Distribution of residuals:\n",
      "\n",
      "   Min. 1st Qu.  Median    Mean 3rd Qu.    Max. \n",
      "\n",
      "-5011.0 -1636.0  -136.1     0.0  1364.0  6944.0 \n",
      "\n",
      "[1] \"For number of splits:\"\n",
      "\n",
      "[1] 2\n",
      "\n",
      "[1] 0.4733882\n",
      "\n",
      "\n",
      "\n",
      "Regression tree:\n",
      "\n",
      "snip.tree(tree = tree1, nodes = c(6L, 7L, 2L))\n",
      "\n",
      "Variables actually used in tree construction:\n",
      "\n",
      "[1] \"Age_08_04\"\n",
      "\n",
      "Number of terminal nodes:  3 \n",
      "\n",
      "Residual mean deviance:  2564000 = 1.833e+09 / 715 \n",
      "\n",
      "Distribution of residuals:\n",
      "\n",
      "   Min. 1st Qu.  Median    Mean 3rd Qu.    Max. \n",
      "\n",
      "-6241.0  -890.6   109.4     0.0   943.5  6944.0 \n",
      "\n",
      "[1] \"For number of splits:\"\n",
      "\n",
      "[1] 3\n",
      "\n",
      "[1] 0.3740523\n",
      "\n",
      "\n",
      "\n",
      "Regression tree:\n",
      "\n",
      "snip.tree(tree = tree1, nodes = 4:7)\n",
      "\n",
      "Variables actually used in tree construction:\n",
      "\n",
      "[1] \"Age_08_04\"\n",
      "\n",
      "Number of terminal nodes:  4 \n",
      "\n",
      "Residual mean deviance:  2220000 = 1.585e+09 / 714 \n",
      "\n",
      "Distribution of residuals:\n",
      "\n",
      "    Min.  1st Qu.   Median     Mean  3rd Qu.     Max. \n",
      "\n",
      "-6241.00  -884.80    82.46     0.00   882.50  5770.00 \n",
      "\n",
      "[1] \"For number of splits:\"\n",
      "\n",
      "[1] 4\n",
      "\n",
      "[1] 0.3660995\n",
      "\n",
      "\n",
      "\n",
      "Regression tree:\n",
      "\n",
      "snip.tree(tree = tree1, nodes = c(15L, 14L, 4L, 5L, 6L))\n",
      "\n",
      "Variables actually used in tree construction:\n",
      "\n",
      "[1] \"Age_08_04\"\n",
      "\n",
      "Number of terminal nodes:  5 \n",
      "\n",
      "Residual mean deviance:  1944000 = 1.386e+09 / 713 \n",
      "\n",
      "Distribution of residuals:\n",
      "\n",
      "    Min.  1st Qu.   Median     Mean  3rd Qu.     Max. \n",
      "\n",
      "-6241.00  -812.70    34.44     0.00   637.30  5770.00 \n",
      "\n",
      "[1] \"For number of splits:\"\n",
      "\n",
      "[1] 5\n",
      "\n",
      "[1] 0.3553028\n",
      "\n",
      "[1] \"===================================================================\"\n",
      "\n",
      "[1] \"For the new reduced tree:\"\n",
      "\n",
      "[1] \"R^2 value for training data:\"\n",
      "\n",
      "[1] 0.3420556\n",
      "\n",
      "[1] \"RMSE value for training data:\"\n",
      "\n",
      "[1] 2019.825\n",
      "\n",
      "[1] \"R^2 value for cross validation data:\"\n",
      "\n",
      "[1] 0.4733882\n",
      "\n",
      "[1] \"RMSE value for cross validation data:\"\n",
      "\n",
      "[1] 2275.926\n",
      "\n",
      "[1] \"R^2 value for test data:\"\n",
      "\n",
      "[1] 0.3592517\n",
      "\n",
      "[1] \"RMSE value for test data:\"\n",
      "\n",
      "[1] 2147.475\n",
      "\n"
     ]
    }
   ],
   "source": [
    "f = open('data_mining_2_9.txt','r')\n",
    "for line in f.readlines():\n",
    "    print line"
   ]
  },
  {
   "cell_type": "markdown",
   "metadata": {},
   "source": [
    "### Question 9.3 (a) i.\n",
    "\n",
    "The RSquare and RMSE for the training, validation, and test sets initially get better all across the board. As more splits occur, we expect to see better performance for all data sets. However, as the tree begins to overfit on the training data, we will notice an increase in error on the cross validation and test data sets. If we look at the initial performance metrics, we can see that the fully fit tree has a near zero error rate with incredibly low RMSE. However, the truth is quickly unmasked as we move on to the RMSE and R Square for the cross validation and test data sets. The RSquares are much worse and the RMSE is much higher. This makes sense since the tree is overfitting to the training data and has yet to see the cross validation or test data.\n",
    "\n",
    "### Question 9.3 (a) ii.\n",
    "\n",
    "The performance of the test set is comparable to the cross validation set on these measures. This is because the model is only trained on the training data and we have yet to introduce any corrections based on cross validating our model. Therefore, the cross validation set is as pure as the test set and we expected the error values and metrics to be fairly similar. The training set's performance is much better than the test set's performance because the model was trained/built on the training data. Furthermore, the training set has been fully fit due to the initial condition of a minimum split size of 1. The tree itself is being fully fully fit to the data. Therefore, if anything even deviates slightly from the training data, the current model will do a relatively bad job of predicting its true value most likely."
   ]
  },
  {
   "cell_type": "code",
   "execution_count": 44,
   "metadata": {
    "collapsed": false
   },
   "outputs": [
    {
     "name": "stdout",
     "output_type": "stream",
     "text": [
      "Train:  718 CV:  430 Test:  288\n",
      "('Age_08_04', 0.83464294344134393)\n",
      "('Quarterly_Tax', 0.061721940272802991)\n",
      "('KM', 0.034842966997827109)\n",
      "('Automatic_airco', 0.017208299628327647)\n",
      "('HP', 0.016872926365754451)\n",
      "('Airco', 0.005610071001437374)\n",
      "('Doors', 0.0052338925118335829)\n",
      "('Sport_Model', 0.0047084961085279353)\n",
      "('Powered_Windows', 0.0043800800903836248)\n",
      "('Mfg_Guarantee', 0.0037382162863541864)\n",
      "('CD_Player', 0.0034369721070763265)\n",
      "('Tow_Bar', 0.0032867980135773888)\n",
      "('Automatic', 0.002317640293379736)\n",
      "('Guarantee_Period', 0.0015316869973668555)\n",
      "('Fuel_Type', 0.00046706988400677368)\n"
     ]
    }
   ],
   "source": [
    "predictors = ['Age_08_04','KM','Fuel_Type','HP','Automatic','Doors','Quarterly_Tax','Mfg_Guarantee',\n",
    "              'Guarantee_Period','Airco','Automatic_airco','CD_Player','Powered_Windows','Sport_Model','Tow_Bar']\n",
    "predicted = ['Price']\n",
    "toyota.Fuel_Type = sklearn.preprocessing.LabelEncoder().fit_transform(toyota.Fuel_Type)\n",
    "train_X,cv_X,train_Y,cv_Y = sklearn.cross_validation.train_test_split(toyota[predictors],toyota[predicted],test_size=0.5)\n",
    "cv_X,test_X,cv_Y,test_Y = sklearn.cross_validation.train_test_split(cv_X,cv_Y,test_size=0.4)\n",
    "print \"Train: \",len(train_Y),\"CV: \",len(cv_Y),\"Test: \",len(test_Y)\n",
    "model = sklearn.tree.DecisionTreeRegressor() #the minimum number of samples for a leaf is \n",
    "model = model.fit(train_X,train_Y)\n",
    "\n",
    "for i in range(len(predictors)):\n",
    "    print sorted(zip(predictors,model.feature_importances_),\n",
    "                 key = lambda t: t[1],reverse=True)[i]"
   ]
  },
  {
   "cell_type": "markdown",
   "metadata": {},
   "source": [
    "### Question 9.3 (a) iii.\n",
    "Age_08_04 is consistently the most impportant feature among all of the trees. An R and Python analysis show that changes in Age_08_04 is by far most indicative of price changes. From here, we can see that there is a little impact from Quarterly_Tax and KM. However, after those three, the remaining variables have very little feature importance.\n",
    "\n",
    "### Question 9.3 (a) iv.\n",
    "The resulting split simply queried whether or not the Age_08_04 was less than 32.5. If it was younger, the value predicted was twice as great as the alternative case. Furthermore, I ran a quick evaluation of the validation R^2 with respect to the number of splits and received the below graph. We can clearly see that a normal decision tree fails to capture more information as splits increase in number."
   ]
  },
  {
   "cell_type": "code",
   "execution_count": 19,
   "metadata": {
    "collapsed": false
   },
   "outputs": [
    {
     "data": {
      "image/jpeg": "[encoded data removed]",
      "text/plain": [
       "<IPython.core.display.Image object>"
      ]
     },
     "execution_count": 19,
     "metadata": {},
     "output_type": "execute_result"
    }
   ],
   "source": [
    "from IPython.display import Image\n",
    "Image('validation_r2_v_splits.jpeg')"
   ]
  },
  {
   "cell_type": "markdown",
   "metadata": {},
   "source": [
    "### Question 9.3 (a) v.\n",
    "The final tree splits into two leaves according to the analysis above.\n",
    "\n",
    "### Question 9.3 (a) vi.\n",
    "The RSquare and RMSE for the training, validation and test sets for the reduced model. A very interesting observation is the fact that the RMSE has gone up a bit by about 33%. Meanwhile the R^2 has increased dramatically in the validation and test sets compared to before. Furthermore, as expected, since the model is no longer overfit to the training data set so the R^2 decreases considerably compared to the initial unpruned model.\n",
    "\n",
    "### Question 9.3 (a) vii.\n",
    "From a theoretical standpoint, the pruned model would be the best for making predictions due to the higher R^2 value. However, from an empirical standpoint, the better model would be the overfit, unpruned model. Yes, we would much rather be able to explain what is going on within the data. However, from a buyer perspective who is trying to predict price, a person would much rather have a lower RMSE. In essence, a buyer would want to make sure he's not overpaying while a data scientist would want to be able to explain how prices are determined. "
   ]
  },
  {
   "cell_type": "markdown",
   "metadata": {},
   "source": [
    "# Feedback\n",
    "\n",
    "I ended up receiving my assignment back and got points off which just goes to show that, no matter how much experience I might have, it's always better not to overestimate my own ability. Something that I got wrong was the fact that I forgot to show that robustness is shown when there is minimal difference between the training R^2 and the cross validation R^2. This intuitively makes sense because the model should not suddenly explain more or less of the cross validation data based on the training data. This really surprised me and stuck with me because it's something so basic and makes so much sense and yet I have never seen it before."
   ]
  }
 ],
 "metadata": {
  "kernelspec": {
   "display_name": "Python 2",
   "language": "python",
   "name": "python2"
  },
  "language_info": {
   "codemirror_mode": {
    "name": "ipython",
    "version": 2
   },
   "file_extension": ".py",
   "mimetype": "text/x-python",
   "name": "python",
   "nbconvert_exporter": "python",
   "pygments_lexer": "ipython2",
   "version": "2.7.11"
  }
 },
 "nbformat": 4,
 "nbformat_minor": 0
}
