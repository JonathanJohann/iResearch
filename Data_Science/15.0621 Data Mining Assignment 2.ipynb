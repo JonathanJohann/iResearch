{
 "cells": [
  {
   "cell_type": "markdown",
   "metadata": {},
   "source": [
    "# Data Mining 15.0621 Homework Assignment 2\n",
    "## Questions 6.1, 7.3, 8.2, 9.3\n",
    "## By: Jonathan Johannemann"
   ]
  },
  {
   "cell_type": "code",
   "execution_count": 8,
   "metadata": {
    "collapsed": false
   },
   "outputs": [],
   "source": [
    "import pandas as pd, numpy as np, matplotlib.pyplot as plt,warnings,random\n",
    "from sklearn import *\n",
    "random.seed(11152016) #Today's Date\n",
    "warnings.filterwarnings('ignore',category=DeprecationWarning)\n",
    "%matplotlib inline"
   ]
  },
  {
   "cell_type": "markdown",
   "metadata": {},
   "source": [
    "## Question 6.1"
   ]
  },
  {
   "cell_type": "code",
   "execution_count": 9,
   "metadata": {
    "collapsed": false
   },
   "outputs": [
    {
     "data": {
      "text/html": [
       "<div>\n",
       "<table border=\"1\" class=\"dataframe\">\n",
       "  <thead>\n",
       "    <tr style=\"text-align: right;\">\n",
       "      <th></th>\n",
       "      <th>CRIM</th>\n",
       "      <th>ZN</th>\n",
       "      <th>INDUS</th>\n",
       "      <th>CHAS</th>\n",
       "      <th>NOX</th>\n",
       "      <th>RM</th>\n",
       "      <th>AGE</th>\n",
       "      <th>DIS</th>\n",
       "      <th>RAD</th>\n",
       "      <th>TAX</th>\n",
       "      <th>PTRATIO</th>\n",
       "      <th>LSTAT</th>\n",
       "      <th>MEDV</th>\n",
       "      <th>CAT.MEDV</th>\n",
       "    </tr>\n",
       "  </thead>\n",
       "  <tbody>\n",
       "    <tr>\n",
       "      <th>0</th>\n",
       "      <td>0.00632</td>\n",
       "      <td>18.0</td>\n",
       "      <td>2.31</td>\n",
       "      <td>0</td>\n",
       "      <td>0.538</td>\n",
       "      <td>6.575</td>\n",
       "      <td>65.2</td>\n",
       "      <td>4.0900</td>\n",
       "      <td>1</td>\n",
       "      <td>296</td>\n",
       "      <td>15.3</td>\n",
       "      <td>4.98</td>\n",
       "      <td>24.0</td>\n",
       "      <td>0</td>\n",
       "    </tr>\n",
       "    <tr>\n",
       "      <th>1</th>\n",
       "      <td>0.02731</td>\n",
       "      <td>0.0</td>\n",
       "      <td>7.07</td>\n",
       "      <td>0</td>\n",
       "      <td>0.469</td>\n",
       "      <td>6.421</td>\n",
       "      <td>78.9</td>\n",
       "      <td>4.9671</td>\n",
       "      <td>2</td>\n",
       "      <td>242</td>\n",
       "      <td>17.8</td>\n",
       "      <td>9.14</td>\n",
       "      <td>21.6</td>\n",
       "      <td>0</td>\n",
       "    </tr>\n",
       "    <tr>\n",
       "      <th>2</th>\n",
       "      <td>0.02729</td>\n",
       "      <td>0.0</td>\n",
       "      <td>7.07</td>\n",
       "      <td>0</td>\n",
       "      <td>0.469</td>\n",
       "      <td>7.185</td>\n",
       "      <td>61.1</td>\n",
       "      <td>4.9671</td>\n",
       "      <td>2</td>\n",
       "      <td>242</td>\n",
       "      <td>17.8</td>\n",
       "      <td>4.03</td>\n",
       "      <td>34.7</td>\n",
       "      <td>1</td>\n",
       "    </tr>\n",
       "    <tr>\n",
       "      <th>3</th>\n",
       "      <td>0.03237</td>\n",
       "      <td>0.0</td>\n",
       "      <td>2.18</td>\n",
       "      <td>0</td>\n",
       "      <td>0.458</td>\n",
       "      <td>6.998</td>\n",
       "      <td>45.8</td>\n",
       "      <td>6.0622</td>\n",
       "      <td>3</td>\n",
       "      <td>222</td>\n",
       "      <td>18.7</td>\n",
       "      <td>2.94</td>\n",
       "      <td>33.4</td>\n",
       "      <td>1</td>\n",
       "    </tr>\n",
       "    <tr>\n",
       "      <th>4</th>\n",
       "      <td>0.06905</td>\n",
       "      <td>0.0</td>\n",
       "      <td>2.18</td>\n",
       "      <td>0</td>\n",
       "      <td>0.458</td>\n",
       "      <td>7.147</td>\n",
       "      <td>54.2</td>\n",
       "      <td>6.0622</td>\n",
       "      <td>3</td>\n",
       "      <td>222</td>\n",
       "      <td>18.7</td>\n",
       "      <td>5.33</td>\n",
       "      <td>36.2</td>\n",
       "      <td>1</td>\n",
       "    </tr>\n",
       "  </tbody>\n",
       "</table>\n",
       "</div>"
      ],
      "text/plain": [
       "      CRIM    ZN  INDUS  CHAS    NOX     RM   AGE     DIS  RAD  TAX  PTRATIO  \\\n",
       "0  0.00632  18.0   2.31     0  0.538  6.575  65.2  4.0900    1  296     15.3   \n",
       "1  0.02731   0.0   7.07     0  0.469  6.421  78.9  4.9671    2  242     17.8   \n",
       "2  0.02729   0.0   7.07     0  0.469  7.185  61.1  4.9671    2  242     17.8   \n",
       "3  0.03237   0.0   2.18     0  0.458  6.998  45.8  6.0622    3  222     18.7   \n",
       "4  0.06905   0.0   2.18     0  0.458  7.147  54.2  6.0622    3  222     18.7   \n",
       "\n",
       "   LSTAT  MEDV  CAT.MEDV  \n",
       "0   4.98  24.0         0  \n",
       "1   9.14  21.6         0  \n",
       "2   4.03  34.7         1  \n",
       "3   2.94  33.4         1  \n",
       "4   5.33  36.2         1  "
      ]
     },
     "execution_count": 9,
     "metadata": {},
     "output_type": "execute_result"
    }
   ],
   "source": [
    "bostonhousing = pd.read_csv('BostonHousing.csv',sep=',',header=0)\n",
    "bostonhousing.head()"
   ]
  },
  {
   "cell_type": "markdown",
   "metadata": {},
   "source": [
    "### Question 6.1 (a)"
   ]
  },
  {
   "cell_type": "markdown",
   "metadata": {},
   "source": [
    "The data should be partitioned into training and validation sets because it allows the researcher to receive feedback on his or her model without testing on the true, held out data. The training set is for the model to be trained on. The validation set is for the researcher to test the ability of his or her model. A researcher should never introduce datapoints from the validation set into the training set."
   ]
  },
  {
   "cell_type": "markdown",
   "metadata": {},
   "source": [
    "### Question 6.1 (b)"
   ]
  },
  {
   "cell_type": "code",
   "execution_count": 12,
   "metadata": {
    "collapsed": false
   },
   "outputs": [
    {
     "name": "stdout",
     "output_type": "stream",
     "text": [
      "Intercept:  -28.8106825064\n",
      "CRIM coefficient:  -0.260724411231\n",
      "CHAS coefficient:  3.76303705211\n",
      "RM coefficient:  8.27817981154\n",
      "\n",
      "Equation: \n",
      "-28.8106825064  +  -0.260724411231 CRIM +  3.76303705211 CHAS +  8.27817981154 RM = MEDV\n"
     ]
    }
   ],
   "source": [
    "model = sklearn.linear_model.LinearRegression()\n",
    "model.fit(bostonhousing[['CRIM','CHAS','RM']],bostonhousing['MEDV'])\n",
    "print \"Intercept: \",model.intercept_\n",
    "print \"CRIM coefficient: \",model.coef_[0]\n",
    "print \"CHAS coefficient: \",model.coef_[1]\n",
    "print \"RM coefficient: \",model.coef_[2]\n",
    "print \"\\nEquation: \\n\",model.intercept_, \" + \",model.coef_[0],\"CRIM + \",model.coef_[1],\"CHAS + \",model.coef_[2],\"RM = MEDV\""
   ]
  },
  {
   "cell_type": "markdown",
   "metadata": {},
   "source": [
    "### Question 6.1 (c)"
   ]
  },
  {
   "cell_type": "code",
   "execution_count": 13,
   "metadata": {
    "collapsed": false
   },
   "outputs": [
    {
     "name": "stdout",
     "output_type": "stream",
     "text": [
      "The predicted price is:  20.8323239217\n"
     ]
    }
   ],
   "source": [
    "query = pd.DataFrame([['0.1','0','6']],columns=['CRIM','CHAS','RM'])\n",
    "print \"The predicted price is: \",model.predict(query)[0]"
   ]
  },
  {
   "cell_type": "code",
   "execution_count": 14,
   "metadata": {
    "collapsed": false
   },
   "outputs": [
    {
     "name": "stdout",
     "output_type": "stream",
     "text": [
      "The error with respect to the closest value is: 2.06767607827\n"
     ]
    }
   ],
   "source": [
    "tmp = bostonhousing[['CRIM','CHAS','RM']]\n",
    "query_vals = query.values[0].astype('Float64')\n",
    "index_closest = np.abs(tmp.apply(lambda x: x-query_vals,axis=1).sum(axis=1)).ix[np.abs(tmp.apply(lambda x: x-query_vals,axis=1).sum(axis=1))==np.abs(tmp.apply(lambda x: x-query_vals,axis=1).sum(axis=1)).min()].index[0]\n",
    "print \"The error with respect to the closest value is:\", np.abs(bostonhousing.MEDV.ix[index_closest]-model.predict(query)[0])"
   ]
  },
  {
   "cell_type": "markdown",
   "metadata": {},
   "source": [
    "### Question 6.1 (d) i."
   ]
  },
  {
   "cell_type": "code",
   "execution_count": 15,
   "metadata": {
    "collapsed": false
   },
   "outputs": [
    {
     "name": "stdout",
     "output_type": "stream",
     "text": [
      "          INDUS       NOX       TAX\n",
      "INDUS  1.000000  0.763651  0.720760\n",
      "NOX    0.763651  1.000000  0.668023\n",
      "TAX    0.720760  0.668023  1.000000\n"
     ]
    }
   ],
   "source": [
    "corr_mat = bostonhousing[['INDUS','NOX','TAX']].corr()\n",
    "print corr_mat"
   ]
  },
  {
   "cell_type": "markdown",
   "metadata": {},
   "source": [
    "Indus is the proportion of nonretail business acres per town.\n",
    "Nox is nitric oxide concentration.\n",
    "Tax is full-value property-tax rate per $10,000.\n",
    "The potential relationsnip here is that businesses create more nitric oxide and result in higher taxed property. Therefore, there is likely a causal relationship from INDUS to NOX and TAX. While it is not east ro 100% confirm this, it appears to be a likely scenario."
   ]
  },
  {
   "cell_type": "markdown",
   "metadata": {},
   "source": [
    "### Question 6.1 (d) ii."
   ]
  },
  {
   "cell_type": "code",
   "execution_count": 16,
   "metadata": {
    "collapsed": false
   },
   "outputs": [
    {
     "name": "stdout",
     "output_type": "stream",
     "text": [
      "========================================\n",
      "Looking at:  CRIM\n",
      "RAD  :  0.625505145263\n",
      "========================================\n",
      "Looking at:  ZN\n",
      "DIS  :  0.664408222762\n",
      "========================================\n",
      "Looking at:  INDUS\n",
      "NOX  :  0.763651446921\n",
      "AGE  :  0.644778511355\n",
      "DIS  :  -0.708026988743\n",
      "TAX  :  0.720760179952\n",
      "LSTAT  :  0.603799716477\n",
      "========================================\n",
      "Looking at:  NOX\n",
      "INDUS  :  0.763651446921\n",
      "AGE  :  0.731470103786\n",
      "DIS  :  -0.769230113226\n",
      "RAD  :  0.611440563486\n",
      "TAX  :  0.668023200403\n",
      "========================================\n",
      "Looking at:  RM\n",
      "LSTAT  :  -0.613808271866\n",
      "MEDV  :  0.695359947072\n",
      "CAT.MEDV  :  0.641265408301\n",
      "========================================\n",
      "Looking at:  AGE\n",
      "INDUS  :  0.644778511355\n",
      "NOX  :  0.731470103786\n",
      "DIS  :  -0.747880540869\n",
      "LSTAT  :  0.602338528726\n",
      "========================================\n",
      "Looking at:  DIS\n",
      "ZN  :  0.664408222762\n",
      "INDUS  :  -0.708026988743\n",
      "NOX  :  -0.769230113226\n",
      "AGE  :  -0.747880540869\n",
      "========================================\n",
      "Looking at:  RAD\n",
      "CRIM  :  0.625505145263\n",
      "NOX  :  0.611440563486\n",
      "TAX  :  0.910228188533\n",
      "========================================\n",
      "Looking at:  TAX\n",
      "INDUS  :  0.720760179952\n",
      "NOX  :  0.668023200403\n",
      "RAD  :  0.910228188533\n",
      "========================================\n",
      "Looking at:  LSTAT\n",
      "INDUS  :  0.603799716477\n",
      "RM  :  -0.613808271866\n",
      "AGE  :  0.602338528726\n",
      "MEDV  :  -0.737662726174\n",
      "========================================\n",
      "Looking at:  MEDV\n",
      "RM  :  0.695359947072\n",
      "LSTAT  :  -0.737662726174\n",
      "CAT.MEDV  :  0.789788766697\n",
      "========================================\n",
      "Looking at:  CAT.MEDV\n",
      "RM  :  0.641265408301\n",
      "MEDV  :  0.789788766697\n",
      "========================================\n"
     ]
    }
   ],
   "source": [
    "corr_mat = bostonhousing.corr()\n",
    "corr_mat.values[[np.arange(len(corr_mat))]*2]=0\n",
    "corr_mat = corr_mat[np.abs(corr_mat)>0.6].fillna(0).reset_index()\n",
    "\n",
    "for col in corr_mat.columns.values[1:]:\n",
    "    if len(corr_mat[corr_mat[col]!=0][col].index)>0:\n",
    "        print \"=\"*40\n",
    "        print \"Looking at: \",col\n",
    "        for i in corr_mat[corr_mat[col]!=0][col].index:\n",
    "            print corr_mat['index'][i],\" : \",corr_mat[corr_mat[col]!=0][col][i]\n",
    "print \"=\"*40"
   ]
  },
  {
   "cell_type": "markdown",
   "metadata": {},
   "source": [
    "CAT.MEDV is based off of MEDV so we need to remove that. As discussed before, it seems like INDUS may be influencing NOX and TAX a lot which causes the high correlation. Therefore, we shall remove NOX and TAX."
   ]
  },
  {
   "cell_type": "markdown",
   "metadata": {},
   "source": [
    "### Question 6.1 (d) iii."
   ]
  },
  {
   "cell_type": "markdown",
   "metadata": {},
   "source": [
    "## NOTE STILL NEED TO REMOVE SOME VARIABLES OR ADJUST FOR MULTICOLLINEARITY!\n",
    "\n",
    "## ALSO LOOK INTO SKLEARN.FEATURE_SELECTION.RFE it's like backward selection"
   ]
  },
  {
   "cell_type": "code",
   "execution_count": 159,
   "metadata": {
    "collapsed": false
   },
   "outputs": [
    {
     "name": "stdout",
     "output_type": "stream",
     "text": [
      "[('CRIM', 'ZN', 'INDUS', 'CHAS', 'NOX', 'RM', 'AGE', 'DIS'), ('CRIM', 'ZN', 'INDUS', 'CHAS', 'NOX', 'RM', 'AGE', 'RAD'), ('CRIM', 'ZN', 'INDUS', 'CHAS', 'NOX', 'RM', 'AGE', 'TAX'), ('CRIM', 'ZN', 'INDUS', 'CHAS', 'NOX', 'RM', 'AGE', 'PTRATIO'), ('CRIM', 'ZN', 'INDUS', 'CHAS', 'NOX', 'RM', 'AGE', 'LSTAT'), ('CRIM', 'ZN', 'INDUS', 'CHAS', 'NOX', 'RM', 'AGE', 'MEDV'), ('CRIM', 'ZN', 'INDUS', 'CHAS', 'NOX', 'RM', 'AGE', 'CAT.MEDV'), ('CRIM', 'ZN', 'INDUS', 'CHAS', 'NOX', 'RM', 'DIS', 'RAD'), ('CRIM', 'ZN', 'INDUS', 'CHAS', 'NOX', 'RM', 'DIS', 'TAX'), ('CRIM', 'ZN', 'INDUS', 'CHAS', 'NOX', 'RM', 'DIS', 'PTRATIO'), ('CRIM', 'ZN', 'INDUS', 'CHAS', 'NOX', 'RM', 'DIS', 'LSTAT'), ('CRIM', 'ZN', 'INDUS', 'CHAS', 'NOX', 'RM', 'DIS', 'MEDV'), ('CRIM', 'ZN', 'INDUS', 'CHAS', 'NOX', 'RM', 'DIS', 'CAT.MEDV'), ('CRIM', 'ZN', 'INDUS', 'CHAS', 'NOX', 'RM', 'RAD', 'TAX'), ('CRIM', 'ZN', 'INDUS', 'CHAS', 'NOX', 'RM', 'RAD', 'PTRATIO'), ('CRIM', 'ZN', 'INDUS', 'CHAS', 'NOX', 'RM', 'RAD', 'LSTAT'), ('CRIM', 'ZN', 'INDUS', 'CHAS', 'NOX', 'RM', 'RAD', 'MEDV'), ('CRIM', 'ZN', 'INDUS', 'CHAS', 'NOX', 'RM', 'RAD', 'CAT.MEDV'), ('CRIM', 'ZN', 'INDUS', 'CHAS', 'NOX', 'RM', 'TAX', 'PTRATIO'), ('CRIM', 'ZN', 'INDUS', 'CHAS', 'NOX', 'RM', 'TAX', 'LSTAT'), ('CRIM', 'ZN', 'INDUS', 'CHAS', 'NOX', 'RM', 'TAX', 'MEDV'), ('CRIM', 'ZN', 'INDUS', 'CHAS', 'NOX', 'RM', 'TAX', 'CAT.MEDV'), ('CRIM', 'ZN', 'INDUS', 'CHAS', 'NOX', 'RM', 'PTRATIO', 'LSTAT'), ('CRIM', 'ZN', 'INDUS', 'CHAS', 'NOX', 'RM', 'PTRATIO', 'MEDV'), ('CRIM', 'ZN', 'INDUS', 'CHAS', 'NOX', 'RM', 'PTRATIO', 'CAT.MEDV'), ('CRIM', 'ZN', 'INDUS', 'CHAS', 'NOX', 'RM', 'LSTAT', 'MEDV'), ('CRIM', 'ZN', 'INDUS', 'CHAS', 'NOX', 'RM', 'LSTAT', 'CAT.MEDV'), ('CRIM', 'ZN', 'INDUS', 'CHAS', 'NOX', 'RM', 'MEDV', 'CAT.MEDV'), ('CRIM', 'ZN', 'INDUS', 'CHAS', 'NOX', 'AGE', 'DIS', 'RAD'), ('CRIM', 'ZN', 'INDUS', 'CHAS', 'NOX', 'AGE', 'DIS', 'TAX'), ('CRIM', 'ZN', 'INDUS', 'CHAS', 'NOX', 'AGE', 'DIS', 'PTRATIO'), ('CRIM', 'ZN', 'INDUS', 'CHAS', 'NOX', 'AGE', 'DIS', 'LSTAT'), ('CRIM', 'ZN', 'INDUS', 'CHAS', 'NOX', 'AGE', 'DIS', 'MEDV'), ('CRIM', 'ZN', 'INDUS', 'CHAS', 'NOX', 'AGE', 'DIS', 'CAT.MEDV'), ('CRIM', 'ZN', 'INDUS', 'CHAS', 'NOX', 'AGE', 'RAD', 'TAX'), ('CRIM', 'ZN', 'INDUS', 'CHAS', 'NOX', 'AGE', 'RAD', 'PTRATIO'), ('CRIM', 'ZN', 'INDUS', 'CHAS', 'NOX', 'AGE', 'RAD', 'LSTAT'), ('CRIM', 'ZN', 'INDUS', 'CHAS', 'NOX', 'AGE', 'RAD', 'MEDV'), ('CRIM', 'ZN', 'INDUS', 'CHAS', 'NOX', 'AGE', 'RAD', 'CAT.MEDV'), ('CRIM', 'ZN', 'INDUS', 'CHAS', 'NOX', 'AGE', 'TAX', 'PTRATIO'), ('CRIM', 'ZN', 'INDUS', 'CHAS', 'NOX', 'AGE', 'TAX', 'LSTAT'), ('CRIM', 'ZN', 'INDUS', 'CHAS', 'NOX', 'AGE', 'TAX', 'MEDV'), ('CRIM', 'ZN', 'INDUS', 'CHAS', 'NOX', 'AGE', 'TAX', 'CAT.MEDV'), ('CRIM', 'ZN', 'INDUS', 'CHAS', 'NOX', 'AGE', 'PTRATIO', 'LSTAT'), ('CRIM', 'ZN', 'INDUS', 'CHAS', 'NOX', 'AGE', 'PTRATIO', 'MEDV'), ('CRIM', 'ZN', 'INDUS', 'CHAS', 'NOX', 'AGE', 'PTRATIO', 'CAT.MEDV'), ('CRIM', 'ZN', 'INDUS', 'CHAS', 'NOX', 'AGE', 'LSTAT', 'MEDV'), ('CRIM', 'ZN', 'INDUS', 'CHAS', 'NOX', 'AGE', 'LSTAT', 'CAT.MEDV'), ('CRIM', 'ZN', 'INDUS', 'CHAS', 'NOX', 'AGE', 'MEDV', 'CAT.MEDV'), ('CRIM', 'ZN', 'INDUS', 'CHAS', 'NOX', 'DIS', 'RAD', 'TAX'), ('CRIM', 'ZN', 'INDUS', 'CHAS', 'NOX', 'DIS', 'RAD', 'PTRATIO'), ('CRIM', 'ZN', 'INDUS', 'CHAS', 'NOX', 'DIS', 'RAD', 'LSTAT'), ('CRIM', 'ZN', 'INDUS', 'CHAS', 'NOX', 'DIS', 'RAD', 'MEDV'), ('CRIM', 'ZN', 'INDUS', 'CHAS', 'NOX', 'DIS', 'RAD', 'CAT.MEDV'), ('CRIM', 'ZN', 'INDUS', 'CHAS', 'NOX', 'DIS', 'TAX', 'PTRATIO'), ('CRIM', 'ZN', 'INDUS', 'CHAS', 'NOX', 'DIS', 'TAX', 'LSTAT'), ('CRIM', 'ZN', 'INDUS', 'CHAS', 'NOX', 'DIS', 'TAX', 'MEDV'), ('CRIM', 'ZN', 'INDUS', 'CHAS', 'NOX', 'DIS', 'TAX', 'CAT.MEDV'), ('CRIM', 'ZN', 'INDUS', 'CHAS', 'NOX', 'DIS', 'PTRATIO', 'LSTAT'), ('CRIM', 'ZN', 'INDUS', 'CHAS', 'NOX', 'DIS', 'PTRATIO', 'MEDV'), ('CRIM', 'ZN', 'INDUS', 'CHAS', 'NOX', 'DIS', 'PTRATIO', 'CAT.MEDV'), ('CRIM', 'ZN', 'INDUS', 'CHAS', 'NOX', 'DIS', 'LSTAT', 'MEDV'), ('CRIM', 'ZN', 'INDUS', 'CHAS', 'NOX', 'DIS', 'LSTAT', 'CAT.MEDV'), ('CRIM', 'ZN', 'INDUS', 'CHAS', 'NOX', 'DIS', 'MEDV', 'CAT.MEDV'), ('CRIM', 'ZN', 'INDUS', 'CHAS', 'NOX', 'RAD', 'TAX', 'PTRATIO'), ('CRIM', 'ZN', 'INDUS', 'CHAS', 'NOX', 'RAD', 'TAX', 'LSTAT'), ('CRIM', 'ZN', 'INDUS', 'CHAS', 'NOX', 'RAD', 'TAX', 'MEDV'), ('CRIM', 'ZN', 'INDUS', 'CHAS', 'NOX', 'RAD', 'TAX', 'CAT.MEDV'), ('CRIM', 'ZN', 'INDUS', 'CHAS', 'NOX', 'RAD', 'PTRATIO', 'LSTAT'), ('CRIM', 'ZN', 'INDUS', 'CHAS', 'NOX', 'RAD', 'PTRATIO', 'MEDV'), ('CRIM', 'ZN', 'INDUS', 'CHAS', 'NOX', 'RAD', 'PTRATIO', 'CAT.MEDV'), ('CRIM', 'ZN', 'INDUS', 'CHAS', 'NOX', 'RAD', 'LSTAT', 'MEDV'), ('CRIM', 'ZN', 'INDUS', 'CHAS', 'NOX', 'RAD', 'LSTAT', 'CAT.MEDV'), ('CRIM', 'ZN', 'INDUS', 'CHAS', 'NOX', 'RAD', 'MEDV', 'CAT.MEDV'), ('CRIM', 'ZN', 'INDUS', 'CHAS', 'NOX', 'TAX', 'PTRATIO', 'LSTAT'), ('CRIM', 'ZN', 'INDUS', 'CHAS', 'NOX', 'TAX', 'PTRATIO', 'MEDV'), ('CRIM', 'ZN', 'INDUS', 'CHAS', 'NOX', 'TAX', 'PTRATIO', 'CAT.MEDV'), ('CRIM', 'ZN', 'INDUS', 'CHAS', 'NOX', 'TAX', 'LSTAT', 'MEDV'), ('CRIM', 'ZN', 'INDUS', 'CHAS', 'NOX', 'TAX', 'LSTAT', 'CAT.MEDV'), ('CRIM', 'ZN', 'INDUS', 'CHAS', 'NOX', 'TAX', 'MEDV', 'CAT.MEDV'), ('CRIM', 'ZN', 'INDUS', 'CHAS', 'NOX', 'PTRATIO', 'LSTAT', 'MEDV'), ('CRIM', 'ZN', 'INDUS', 'CHAS', 'NOX', 'PTRATIO', 'LSTAT', 'CAT.MEDV'), ('CRIM', 'ZN', 'INDUS', 'CHAS', 'NOX', 'PTRATIO', 'MEDV', 'CAT.MEDV'), ('CRIM', 'ZN', 'INDUS', 'CHAS', 'NOX', 'LSTAT', 'MEDV', 'CAT.MEDV'), ('CRIM', 'ZN', 'INDUS', 'CHAS', 'RM', 'AGE', 'DIS', 'RAD'), ('CRIM', 'ZN', 'INDUS', 'CHAS', 'RM', 'AGE', 'DIS', 'TAX'), ('CRIM', 'ZN', 'INDUS', 'CHAS', 'RM', 'AGE', 'DIS', 'PTRATIO'), ('CRIM', 'ZN', 'INDUS', 'CHAS', 'RM', 'AGE', 'DIS', 'LSTAT'), ('CRIM', 'ZN', 'INDUS', 'CHAS', 'RM', 'AGE', 'DIS', 'MEDV'), ('CRIM', 'ZN', 'INDUS', 'CHAS', 'RM', 'AGE', 'DIS', 'CAT.MEDV'), ('CRIM', 'ZN', 'INDUS', 'CHAS', 'RM', 'AGE', 'RAD', 'TAX'), ('CRIM', 'ZN', 'INDUS', 'CHAS', 'RM', 'AGE', 'RAD', 'PTRATIO'), ('CRIM', 'ZN', 'INDUS', 'CHAS', 'RM', 'AGE', 'RAD', 'LSTAT'), ('CRIM', 'ZN', 'INDUS', 'CHAS', 'RM', 'AGE', 'RAD', 'MEDV'), ('CRIM', 'ZN', 'INDUS', 'CHAS', 'RM', 'AGE', 'RAD', 'CAT.MEDV'), ('CRIM', 'ZN', 'INDUS', 'CHAS', 'RM', 'AGE', 'TAX', 'PTRATIO'), ('CRIM', 'ZN', 'INDUS', 'CHAS', 'RM', 'AGE', 'TAX', 'LSTAT'), ('CRIM', 'ZN', 'INDUS', 'CHAS', 'RM', 'AGE', 'TAX', 'MEDV'), ('CRIM', 'ZN', 'INDUS', 'CHAS', 'RM', 'AGE', 'TAX', 'CAT.MEDV'), ('CRIM', 'ZN', 'INDUS', 'CHAS', 'RM', 'AGE', 'PTRATIO', 'LSTAT'), ('CRIM', 'ZN', 'INDUS', 'CHAS', 'RM', 'AGE', 'PTRATIO', 'MEDV'), ('CRIM', 'ZN', 'INDUS', 'CHAS', 'RM', 'AGE', 'PTRATIO', 'CAT.MEDV'), ('CRIM', 'ZN', 'INDUS', 'CHAS', 'RM', 'AGE', 'LSTAT', 'MEDV'), ('CRIM', 'ZN', 'INDUS', 'CHAS', 'RM', 'AGE', 'LSTAT', 'CAT.MEDV'), ('CRIM', 'ZN', 'INDUS', 'CHAS', 'RM', 'AGE', 'MEDV', 'CAT.MEDV'), ('CRIM', 'ZN', 'INDUS', 'CHAS', 'RM', 'DIS', 'RAD', 'TAX'), ('CRIM', 'ZN', 'INDUS', 'CHAS', 'RM', 'DIS', 'RAD', 'PTRATIO'), ('CRIM', 'ZN', 'INDUS', 'CHAS', 'RM', 'DIS', 'RAD', 'LSTAT'), ('CRIM', 'ZN', 'INDUS', 'CHAS', 'RM', 'DIS', 'RAD', 'MEDV'), ('CRIM', 'ZN', 'INDUS', 'CHAS', 'RM', 'DIS', 'RAD', 'CAT.MEDV'), ('CRIM', 'ZN', 'INDUS', 'CHAS', 'RM', 'DIS', 'TAX', 'PTRATIO'), ('CRIM', 'ZN', 'INDUS', 'CHAS', 'RM', 'DIS', 'TAX', 'LSTAT'), ('CRIM', 'ZN', 'INDUS', 'CHAS', 'RM', 'DIS', 'TAX', 'MEDV'), ('CRIM', 'ZN', 'INDUS', 'CHAS', 'RM', 'DIS', 'TAX', 'CAT.MEDV'), ('CRIM', 'ZN', 'INDUS', 'CHAS', 'RM', 'DIS', 'PTRATIO', 'LSTAT'), ('CRIM', 'ZN', 'INDUS', 'CHAS', 'RM', 'DIS', 'PTRATIO', 'MEDV'), ('CRIM', 'ZN', 'INDUS', 'CHAS', 'RM', 'DIS', 'PTRATIO', 'CAT.MEDV'), ('CRIM', 'ZN', 'INDUS', 'CHAS', 'RM', 'DIS', 'LSTAT', 'MEDV'), ('CRIM', 'ZN', 'INDUS', 'CHAS', 'RM', 'DIS', 'LSTAT', 'CAT.MEDV'), ('CRIM', 'ZN', 'INDUS', 'CHAS', 'RM', 'DIS', 'MEDV', 'CAT.MEDV'), ('CRIM', 'ZN', 'INDUS', 'CHAS', 'RM', 'RAD', 'TAX', 'PTRATIO'), ('CRIM', 'ZN', 'INDUS', 'CHAS', 'RM', 'RAD', 'TAX', 'LSTAT'), ('CRIM', 'ZN', 'INDUS', 'CHAS', 'RM', 'RAD', 'TAX', 'MEDV'), ('CRIM', 'ZN', 'INDUS', 'CHAS', 'RM', 'RAD', 'TAX', 'CAT.MEDV'), ('CRIM', 'ZN', 'INDUS', 'CHAS', 'RM', 'RAD', 'PTRATIO', 'LSTAT'), ('CRIM', 'ZN', 'INDUS', 'CHAS', 'RM', 'RAD', 'PTRATIO', 'MEDV'), ('CRIM', 'ZN', 'INDUS', 'CHAS', 'RM', 'RAD', 'PTRATIO', 'CAT.MEDV'), ('CRIM', 'ZN', 'INDUS', 'CHAS', 'RM', 'RAD', 'LSTAT', 'MEDV'), ('CRIM', 'ZN', 'INDUS', 'CHAS', 'RM', 'RAD', 'LSTAT', 'CAT.MEDV'), ('CRIM', 'ZN', 'INDUS', 'CHAS', 'RM', 'RAD', 'MEDV', 'CAT.MEDV'), ('CRIM', 'ZN', 'INDUS', 'CHAS', 'RM', 'TAX', 'PTRATIO', 'LSTAT'), ('CRIM', 'ZN', 'INDUS', 'CHAS', 'RM', 'TAX', 'PTRATIO', 'MEDV'), ('CRIM', 'ZN', 'INDUS', 'CHAS', 'RM', 'TAX', 'PTRATIO', 'CAT.MEDV'), ('CRIM', 'ZN', 'INDUS', 'CHAS', 'RM', 'TAX', 'LSTAT', 'MEDV'), ('CRIM', 'ZN', 'INDUS', 'CHAS', 'RM', 'TAX', 'LSTAT', 'CAT.MEDV'), ('CRIM', 'ZN', 'INDUS', 'CHAS', 'RM', 'TAX', 'MEDV', 'CAT.MEDV'), ('CRIM', 'ZN', 'INDUS', 'CHAS', 'RM', 'PTRATIO', 'LSTAT', 'MEDV'), ('CRIM', 'ZN', 'INDUS', 'CHAS', 'RM', 'PTRATIO', 'LSTAT', 'CAT.MEDV'), ('CRIM', 'ZN', 'INDUS', 'CHAS', 'RM', 'PTRATIO', 'MEDV', 'CAT.MEDV'), ('CRIM', 'ZN', 'INDUS', 'CHAS', 'RM', 'LSTAT', 'MEDV', 'CAT.MEDV'), ('CRIM', 'ZN', 'INDUS', 'CHAS', 'AGE', 'DIS', 'RAD', 'TAX'), ('CRIM', 'ZN', 'INDUS', 'CHAS', 'AGE', 'DIS', 'RAD', 'PTRATIO'), ('CRIM', 'ZN', 'INDUS', 'CHAS', 'AGE', 'DIS', 'RAD', 'LSTAT'), ('CRIM', 'ZN', 'INDUS', 'CHAS', 'AGE', 'DIS', 'RAD', 'MEDV'), ('CRIM', 'ZN', 'INDUS', 'CHAS', 'AGE', 'DIS', 'RAD', 'CAT.MEDV'), ('CRIM', 'ZN', 'INDUS', 'CHAS', 'AGE', 'DIS', 'TAX', 'PTRATIO'), ('CRIM', 'ZN', 'INDUS', 'CHAS', 'AGE', 'DIS', 'TAX', 'LSTAT'), ('CRIM', 'ZN', 'INDUS', 'CHAS', 'AGE', 'DIS', 'TAX', 'MEDV'), ('CRIM', 'ZN', 'INDUS', 'CHAS', 'AGE', 'DIS', 'TAX', 'CAT.MEDV'), ('CRIM', 'ZN', 'INDUS', 'CHAS', 'AGE', 'DIS', 'PTRATIO', 'LSTAT'), ('CRIM', 'ZN', 'INDUS', 'CHAS', 'AGE', 'DIS', 'PTRATIO', 'MEDV'), ('CRIM', 'ZN', 'INDUS', 'CHAS', 'AGE', 'DIS', 'PTRATIO', 'CAT.MEDV'), ('CRIM', 'ZN', 'INDUS', 'CHAS', 'AGE', 'DIS', 'LSTAT', 'MEDV'), ('CRIM', 'ZN', 'INDUS', 'CHAS', 'AGE', 'DIS', 'LSTAT', 'CAT.MEDV'), ('CRIM', 'ZN', 'INDUS', 'CHAS', 'AGE', 'DIS', 'MEDV', 'CAT.MEDV'), ('CRIM', 'ZN', 'INDUS', 'CHAS', 'AGE', 'RAD', 'TAX', 'PTRATIO'), ('CRIM', 'ZN', 'INDUS', 'CHAS', 'AGE', 'RAD', 'TAX', 'LSTAT'), ('CRIM', 'ZN', 'INDUS', 'CHAS', 'AGE', 'RAD', 'TAX', 'MEDV'), ('CRIM', 'ZN', 'INDUS', 'CHAS', 'AGE', 'RAD', 'TAX', 'CAT.MEDV'), ('CRIM', 'ZN', 'INDUS', 'CHAS', 'AGE', 'RAD', 'PTRATIO', 'LSTAT'), ('CRIM', 'ZN', 'INDUS', 'CHAS', 'AGE', 'RAD', 'PTRATIO', 'MEDV'), ('CRIM', 'ZN', 'INDUS', 'CHAS', 'AGE', 'RAD', 'PTRATIO', 'CAT.MEDV'), ('CRIM', 'ZN', 'INDUS', 'CHAS', 'AGE', 'RAD', 'LSTAT', 'MEDV'), ('CRIM', 'ZN', 'INDUS', 'CHAS', 'AGE', 'RAD', 'LSTAT', 'CAT.MEDV'), ('CRIM', 'ZN', 'INDUS', 'CHAS', 'AGE', 'RAD', 'MEDV', 'CAT.MEDV'), ('CRIM', 'ZN', 'INDUS', 'CHAS', 'AGE', 'TAX', 'PTRATIO', 'LSTAT'), ('CRIM', 'ZN', 'INDUS', 'CHAS', 'AGE', 'TAX', 'PTRATIO', 'MEDV'), ('CRIM', 'ZN', 'INDUS', 'CHAS', 'AGE', 'TAX', 'PTRATIO', 'CAT.MEDV'), ('CRIM', 'ZN', 'INDUS', 'CHAS', 'AGE', 'TAX', 'LSTAT', 'MEDV'), ('CRIM', 'ZN', 'INDUS', 'CHAS', 'AGE', 'TAX', 'LSTAT', 'CAT.MEDV'), ('CRIM', 'ZN', 'INDUS', 'CHAS', 'AGE', 'TAX', 'MEDV', 'CAT.MEDV'), ('CRIM', 'ZN', 'INDUS', 'CHAS', 'AGE', 'PTRATIO', 'LSTAT', 'MEDV'), ('CRIM', 'ZN', 'INDUS', 'CHAS', 'AGE', 'PTRATIO', 'LSTAT', 'CAT.MEDV'), ('CRIM', 'ZN', 'INDUS', 'CHAS', 'AGE', 'PTRATIO', 'MEDV', 'CAT.MEDV'), ('CRIM', 'ZN', 'INDUS', 'CHAS', 'AGE', 'LSTAT', 'MEDV', 'CAT.MEDV'), ('CRIM', 'ZN', 'INDUS', 'CHAS', 'DIS', 'RAD', 'TAX', 'PTRATIO'), ('CRIM', 'ZN', 'INDUS', 'CHAS', 'DIS', 'RAD', 'TAX', 'LSTAT'), ('CRIM', 'ZN', 'INDUS', 'CHAS', 'DIS', 'RAD', 'TAX', 'MEDV'), ('CRIM', 'ZN', 'INDUS', 'CHAS', 'DIS', 'RAD', 'TAX', 'CAT.MEDV'), ('CRIM', 'ZN', 'INDUS', 'CHAS', 'DIS', 'RAD', 'PTRATIO', 'LSTAT'), ('CRIM', 'ZN', 'INDUS', 'CHAS', 'DIS', 'RAD', 'PTRATIO', 'MEDV'), ('CRIM', 'ZN', 'INDUS', 'CHAS', 'DIS', 'RAD', 'PTRATIO', 'CAT.MEDV'), ('CRIM', 'ZN', 'INDUS', 'CHAS', 'DIS', 'RAD', 'LSTAT', 'MEDV'), ('CRIM', 'ZN', 'INDUS', 'CHAS', 'DIS', 'RAD', 'LSTAT', 'CAT.MEDV'), ('CRIM', 'ZN', 'INDUS', 'CHAS', 'DIS', 'RAD', 'MEDV', 'CAT.MEDV'), ('CRIM', 'ZN', 'INDUS', 'CHAS', 'DIS', 'TAX', 'PTRATIO', 'LSTAT'), ('CRIM', 'ZN', 'INDUS', 'CHAS', 'DIS', 'TAX', 'PTRATIO', 'MEDV'), ('CRIM', 'ZN', 'INDUS', 'CHAS', 'DIS', 'TAX', 'PTRATIO', 'CAT.MEDV'), ('CRIM', 'ZN', 'INDUS', 'CHAS', 'DIS', 'TAX', 'LSTAT', 'MEDV'), ('CRIM', 'ZN', 'INDUS', 'CHAS', 'DIS', 'TAX', 'LSTAT', 'CAT.MEDV'), ('CRIM', 'ZN', 'INDUS', 'CHAS', 'DIS', 'TAX', 'MEDV', 'CAT.MEDV'), ('CRIM', 'ZN', 'INDUS', 'CHAS', 'DIS', 'PTRATIO', 'LSTAT', 'MEDV'), ('CRIM', 'ZN', 'INDUS', 'CHAS', 'DIS', 'PTRATIO', 'LSTAT', 'CAT.MEDV'), ('CRIM', 'ZN', 'INDUS', 'CHAS', 'DIS', 'PTRATIO', 'MEDV', 'CAT.MEDV'), ('CRIM', 'ZN', 'INDUS', 'CHAS', 'DIS', 'LSTAT', 'MEDV', 'CAT.MEDV'), ('CRIM', 'ZN', 'INDUS', 'CHAS', 'RAD', 'TAX', 'PTRATIO', 'LSTAT'), ('CRIM', 'ZN', 'INDUS', 'CHAS', 'RAD', 'TAX', 'PTRATIO', 'MEDV'), ('CRIM', 'ZN', 'INDUS', 'CHAS', 'RAD', 'TAX', 'PTRATIO', 'CAT.MEDV'), ('CRIM', 'ZN', 'INDUS', 'CHAS', 'RAD', 'TAX', 'LSTAT', 'MEDV'), ('CRIM', 'ZN', 'INDUS', 'CHAS', 'RAD', 'TAX', 'LSTAT', 'CAT.MEDV'), ('CRIM', 'ZN', 'INDUS', 'CHAS', 'RAD', 'TAX', 'MEDV', 'CAT.MEDV'), ('CRIM', 'ZN', 'INDUS', 'CHAS', 'RAD', 'PTRATIO', 'LSTAT', 'MEDV'), ('CRIM', 'ZN', 'INDUS', 'CHAS', 'RAD', 'PTRATIO', 'LSTAT', 'CAT.MEDV'), ('CRIM', 'ZN', 'INDUS', 'CHAS', 'RAD', 'PTRATIO', 'MEDV', 'CAT.MEDV'), ('CRIM', 'ZN', 'INDUS', 'CHAS', 'RAD', 'LSTAT', 'MEDV', 'CAT.MEDV'), ('CRIM', 'ZN', 'INDUS', 'CHAS', 'TAX', 'PTRATIO', 'LSTAT', 'MEDV'), ('CRIM', 'ZN', 'INDUS', 'CHAS', 'TAX', 'PTRATIO', 'LSTAT', 'CAT.MEDV'), ('CRIM', 'ZN', 'INDUS', 'CHAS', 'TAX', 'PTRATIO', 'MEDV', 'CAT.MEDV'), ('CRIM', 'ZN', 'INDUS', 'CHAS', 'TAX', 'LSTAT', 'MEDV', 'CAT.MEDV'), ('CRIM', 'ZN', 'INDUS', 'CHAS', 'PTRATIO', 'LSTAT', 'MEDV', 'CAT.MEDV'), ('CRIM', 'ZN', 'INDUS', 'NOX', 'RM', 'AGE', 'DIS', 'RAD'), ('CRIM', 'ZN', 'INDUS', 'NOX', 'RM', 'AGE', 'DIS', 'TAX'), ('CRIM', 'ZN', 'INDUS', 'NOX', 'RM', 'AGE', 'DIS', 'PTRATIO'), ('CRIM', 'ZN', 'INDUS', 'NOX', 'RM', 'AGE', 'DIS', 'LSTAT'), ('CRIM', 'ZN', 'INDUS', 'NOX', 'RM', 'AGE', 'DIS', 'MEDV'), ('CRIM', 'ZN', 'INDUS', 'NOX', 'RM', 'AGE', 'DIS', 'CAT.MEDV'), ('CRIM', 'ZN', 'INDUS', 'NOX', 'RM', 'AGE', 'RAD', 'TAX'), ('CRIM', 'ZN', 'INDUS', 'NOX', 'RM', 'AGE', 'RAD', 'PTRATIO'), ('CRIM', 'ZN', 'INDUS', 'NOX', 'RM', 'AGE', 'RAD', 'LSTAT'), ('CRIM', 'ZN', 'INDUS', 'NOX', 'RM', 'AGE', 'RAD', 'MEDV'), ('CRIM', 'ZN', 'INDUS', 'NOX', 'RM', 'AGE', 'RAD', 'CAT.MEDV'), ('CRIM', 'ZN', 'INDUS', 'NOX', 'RM', 'AGE', 'TAX', 'PTRATIO'), ('CRIM', 'ZN', 'INDUS', 'NOX', 'RM', 'AGE', 'TAX', 'LSTAT'), ('CRIM', 'ZN', 'INDUS', 'NOX', 'RM', 'AGE', 'TAX', 'MEDV'), ('CRIM', 'ZN', 'INDUS', 'NOX', 'RM', 'AGE', 'TAX', 'CAT.MEDV'), ('CRIM', 'ZN', 'INDUS', 'NOX', 'RM', 'AGE', 'PTRATIO', 'LSTAT'), ('CRIM', 'ZN', 'INDUS', 'NOX', 'RM', 'AGE', 'PTRATIO', 'MEDV'), ('CRIM', 'ZN', 'INDUS', 'NOX', 'RM', 'AGE', 'PTRATIO', 'CAT.MEDV'), ('CRIM', 'ZN', 'INDUS', 'NOX', 'RM', 'AGE', 'LSTAT', 'MEDV'), ('CRIM', 'ZN', 'INDUS', 'NOX', 'RM', 'AGE', 'LSTAT', 'CAT.MEDV'), ('CRIM', 'ZN', 'INDUS', 'NOX', 'RM', 'AGE', 'MEDV', 'CAT.MEDV'), ('CRIM', 'ZN', 'INDUS', 'NOX', 'RM', 'DIS', 'RAD', 'TAX'), ('CRIM', 'ZN', 'INDUS', 'NOX', 'RM', 'DIS', 'RAD', 'PTRATIO'), ('CRIM', 'ZN', 'INDUS', 'NOX', 'RM', 'DIS', 'RAD', 'LSTAT'), ('CRIM', 'ZN', 'INDUS', 'NOX', 'RM', 'DIS', 'RAD', 'MEDV'), ('CRIM', 'ZN', 'INDUS', 'NOX', 'RM', 'DIS', 'RAD', 'CAT.MEDV'), ('CRIM', 'ZN', 'INDUS', 'NOX', 'RM', 'DIS', 'TAX', 'PTRATIO'), ('CRIM', 'ZN', 'INDUS', 'NOX', 'RM', 'DIS', 'TAX', 'LSTAT'), ('CRIM', 'ZN', 'INDUS', 'NOX', 'RM', 'DIS', 'TAX', 'MEDV'), ('CRIM', 'ZN', 'INDUS', 'NOX', 'RM', 'DIS', 'TAX', 'CAT.MEDV'), ('CRIM', 'ZN', 'INDUS', 'NOX', 'RM', 'DIS', 'PTRATIO', 'LSTAT'), ('CRIM', 'ZN', 'INDUS', 'NOX', 'RM', 'DIS', 'PTRATIO', 'MEDV'), ('CRIM', 'ZN', 'INDUS', 'NOX', 'RM', 'DIS', 'PTRATIO', 'CAT.MEDV'), ('CRIM', 'ZN', 'INDUS', 'NOX', 'RM', 'DIS', 'LSTAT', 'MEDV'), ('CRIM', 'ZN', 'INDUS', 'NOX', 'RM', 'DIS', 'LSTAT', 'CAT.MEDV'), ('CRIM', 'ZN', 'INDUS', 'NOX', 'RM', 'DIS', 'MEDV', 'CAT.MEDV'), ('CRIM', 'ZN', 'INDUS', 'NOX', 'RM', 'RAD', 'TAX', 'PTRATIO'), ('CRIM', 'ZN', 'INDUS', 'NOX', 'RM', 'RAD', 'TAX', 'LSTAT'), ('CRIM', 'ZN', 'INDUS', 'NOX', 'RM', 'RAD', 'TAX', 'MEDV'), ('CRIM', 'ZN', 'INDUS', 'NOX', 'RM', 'RAD', 'TAX', 'CAT.MEDV'), ('CRIM', 'ZN', 'INDUS', 'NOX', 'RM', 'RAD', 'PTRATIO', 'LSTAT'), ('CRIM', 'ZN', 'INDUS', 'NOX', 'RM', 'RAD', 'PTRATIO', 'MEDV'), ('CRIM', 'ZN', 'INDUS', 'NOX', 'RM', 'RAD', 'PTRATIO', 'CAT.MEDV'), ('CRIM', 'ZN', 'INDUS', 'NOX', 'RM', 'RAD', 'LSTAT', 'MEDV'), ('CRIM', 'ZN', 'INDUS', 'NOX', 'RM', 'RAD', 'LSTAT', 'CAT.MEDV'), ('CRIM', 'ZN', 'INDUS', 'NOX', 'RM', 'RAD', 'MEDV', 'CAT.MEDV'), ('CRIM', 'ZN', 'INDUS', 'NOX', 'RM', 'TAX', 'PTRATIO', 'LSTAT'), ('CRIM', 'ZN', 'INDUS', 'NOX', 'RM', 'TAX', 'PTRATIO', 'MEDV'), ('CRIM', 'ZN', 'INDUS', 'NOX', 'RM', 'TAX', 'PTRATIO', 'CAT.MEDV'), ('CRIM', 'ZN', 'INDUS', 'NOX', 'RM', 'TAX', 'LSTAT', 'MEDV'), ('CRIM', 'ZN', 'INDUS', 'NOX', 'RM', 'TAX', 'LSTAT', 'CAT.MEDV'), ('CRIM', 'ZN', 'INDUS', 'NOX', 'RM', 'TAX', 'MEDV', 'CAT.MEDV'), ('CRIM', 'ZN', 'INDUS', 'NOX', 'RM', 'PTRATIO', 'LSTAT', 'MEDV'), ('CRIM', 'ZN', 'INDUS', 'NOX', 'RM', 'PTRATIO', 'LSTAT', 'CAT.MEDV'), ('CRIM', 'ZN', 'INDUS', 'NOX', 'RM', 'PTRATIO', 'MEDV', 'CAT.MEDV'), ('CRIM', 'ZN', 'INDUS', 'NOX', 'RM', 'LSTAT', 'MEDV', 'CAT.MEDV'), ('CRIM', 'ZN', 'INDUS', 'NOX', 'AGE', 'DIS', 'RAD', 'TAX'), ('CRIM', 'ZN', 'INDUS', 'NOX', 'AGE', 'DIS', 'RAD', 'PTRATIO'), ('CRIM', 'ZN', 'INDUS', 'NOX', 'AGE', 'DIS', 'RAD', 'LSTAT'), ('CRIM', 'ZN', 'INDUS', 'NOX', 'AGE', 'DIS', 'RAD', 'MEDV'), ('CRIM', 'ZN', 'INDUS', 'NOX', 'AGE', 'DIS', 'RAD', 'CAT.MEDV'), ('CRIM', 'ZN', 'INDUS', 'NOX', 'AGE', 'DIS', 'TAX', 'PTRATIO'), ('CRIM', 'ZN', 'INDUS', 'NOX', 'AGE', 'DIS', 'TAX', 'LSTAT'), ('CRIM', 'ZN', 'INDUS', 'NOX', 'AGE', 'DIS', 'TAX', 'MEDV'), ('CRIM', 'ZN', 'INDUS', 'NOX', 'AGE', 'DIS', 'TAX', 'CAT.MEDV'), ('CRIM', 'ZN', 'INDUS', 'NOX', 'AGE', 'DIS', 'PTRATIO', 'LSTAT'), ('CRIM', 'ZN', 'INDUS', 'NOX', 'AGE', 'DIS', 'PTRATIO', 'MEDV'), ('CRIM', 'ZN', 'INDUS', 'NOX', 'AGE', 'DIS', 'PTRATIO', 'CAT.MEDV'), ('CRIM', 'ZN', 'INDUS', 'NOX', 'AGE', 'DIS', 'LSTAT', 'MEDV'), ('CRIM', 'ZN', 'INDUS', 'NOX', 'AGE', 'DIS', 'LSTAT', 'CAT.MEDV'), ('CRIM', 'ZN', 'INDUS', 'NOX', 'AGE', 'DIS', 'MEDV', 'CAT.MEDV'), ('CRIM', 'ZN', 'INDUS', 'NOX', 'AGE', 'RAD', 'TAX', 'PTRATIO'), ('CRIM', 'ZN', 'INDUS', 'NOX', 'AGE', 'RAD', 'TAX', 'LSTAT'), ('CRIM', 'ZN', 'INDUS', 'NOX', 'AGE', 'RAD', 'TAX', 'MEDV'), ('CRIM', 'ZN', 'INDUS', 'NOX', 'AGE', 'RAD', 'TAX', 'CAT.MEDV'), ('CRIM', 'ZN', 'INDUS', 'NOX', 'AGE', 'RAD', 'PTRATIO', 'LSTAT'), ('CRIM', 'ZN', 'INDUS', 'NOX', 'AGE', 'RAD', 'PTRATIO', 'MEDV'), ('CRIM', 'ZN', 'INDUS', 'NOX', 'AGE', 'RAD', 'PTRATIO', 'CAT.MEDV'), ('CRIM', 'ZN', 'INDUS', 'NOX', 'AGE', 'RAD', 'LSTAT', 'MEDV'), ('CRIM', 'ZN', 'INDUS', 'NOX', 'AGE', 'RAD', 'LSTAT', 'CAT.MEDV'), ('CRIM', 'ZN', 'INDUS', 'NOX', 'AGE', 'RAD', 'MEDV', 'CAT.MEDV'), ('CRIM', 'ZN', 'INDUS', 'NOX', 'AGE', 'TAX', 'PTRATIO', 'LSTAT'), ('CRIM', 'ZN', 'INDUS', 'NOX', 'AGE', 'TAX', 'PTRATIO', 'MEDV'), ('CRIM', 'ZN', 'INDUS', 'NOX', 'AGE', 'TAX', 'PTRATIO', 'CAT.MEDV'), ('CRIM', 'ZN', 'INDUS', 'NOX', 'AGE', 'TAX', 'LSTAT', 'MEDV'), ('CRIM', 'ZN', 'INDUS', 'NOX', 'AGE', 'TAX', 'LSTAT', 'CAT.MEDV'), ('CRIM', 'ZN', 'INDUS', 'NOX', 'AGE', 'TAX', 'MEDV', 'CAT.MEDV'), ('CRIM', 'ZN', 'INDUS', 'NOX', 'AGE', 'PTRATIO', 'LSTAT', 'MEDV'), ('CRIM', 'ZN', 'INDUS', 'NOX', 'AGE', 'PTRATIO', 'LSTAT', 'CAT.MEDV'), ('CRIM', 'ZN', 'INDUS', 'NOX', 'AGE', 'PTRATIO', 'MEDV', 'CAT.MEDV'), ('CRIM', 'ZN', 'INDUS', 'NOX', 'AGE', 'LSTAT', 'MEDV', 'CAT.MEDV'), ('CRIM', 'ZN', 'INDUS', 'NOX', 'DIS', 'RAD', 'TAX', 'PTRATIO'), ('CRIM', 'ZN', 'INDUS', 'NOX', 'DIS', 'RAD', 'TAX', 'LSTAT'), ('CRIM', 'ZN', 'INDUS', 'NOX', 'DIS', 'RAD', 'TAX', 'MEDV'), ('CRIM', 'ZN', 'INDUS', 'NOX', 'DIS', 'RAD', 'TAX', 'CAT.MEDV'), ('CRIM', 'ZN', 'INDUS', 'NOX', 'DIS', 'RAD', 'PTRATIO', 'LSTAT'), ('CRIM', 'ZN', 'INDUS', 'NOX', 'DIS', 'RAD', 'PTRATIO', 'MEDV'), ('CRIM', 'ZN', 'INDUS', 'NOX', 'DIS', 'RAD', 'PTRATIO', 'CAT.MEDV'), ('CRIM', 'ZN', 'INDUS', 'NOX', 'DIS', 'RAD', 'LSTAT', 'MEDV'), ('CRIM', 'ZN', 'INDUS', 'NOX', 'DIS', 'RAD', 'LSTAT', 'CAT.MEDV'), ('CRIM', 'ZN', 'INDUS', 'NOX', 'DIS', 'RAD', 'MEDV', 'CAT.MEDV'), ('CRIM', 'ZN', 'INDUS', 'NOX', 'DIS', 'TAX', 'PTRATIO', 'LSTAT'), ('CRIM', 'ZN', 'INDUS', 'NOX', 'DIS', 'TAX', 'PTRATIO', 'MEDV'), ('CRIM', 'ZN', 'INDUS', 'NOX', 'DIS', 'TAX', 'PTRATIO', 'CAT.MEDV'), ('CRIM', 'ZN', 'INDUS', 'NOX', 'DIS', 'TAX', 'LSTAT', 'MEDV'), ('CRIM', 'ZN', 'INDUS', 'NOX', 'DIS', 'TAX', 'LSTAT', 'CAT.MEDV'), ('CRIM', 'ZN', 'INDUS', 'NOX', 'DIS', 'TAX', 'MEDV', 'CAT.MEDV'), ('CRIM', 'ZN', 'INDUS', 'NOX', 'DIS', 'PTRATIO', 'LSTAT', 'MEDV'), ('CRIM', 'ZN', 'INDUS', 'NOX', 'DIS', 'PTRATIO', 'LSTAT', 'CAT.MEDV'), ('CRIM', 'ZN', 'INDUS', 'NOX', 'DIS', 'PTRATIO', 'MEDV', 'CAT.MEDV'), ('CRIM', 'ZN', 'INDUS', 'NOX', 'DIS', 'LSTAT', 'MEDV', 'CAT.MEDV'), ('CRIM', 'ZN', 'INDUS', 'NOX', 'RAD', 'TAX', 'PTRATIO', 'LSTAT'), ('CRIM', 'ZN', 'INDUS', 'NOX', 'RAD', 'TAX', 'PTRATIO', 'MEDV'), ('CRIM', 'ZN', 'INDUS', 'NOX', 'RAD', 'TAX', 'PTRATIO', 'CAT.MEDV'), ('CRIM', 'ZN', 'INDUS', 'NOX', 'RAD', 'TAX', 'LSTAT', 'MEDV'), ('CRIM', 'ZN', 'INDUS', 'NOX', 'RAD', 'TAX', 'LSTAT', 'CAT.MEDV'), ('CRIM', 'ZN', 'INDUS', 'NOX', 'RAD', 'TAX', 'MEDV', 'CAT.MEDV'), ('CRIM', 'ZN', 'INDUS', 'NOX', 'RAD', 'PTRATIO', 'LSTAT', 'MEDV'), ('CRIM', 'ZN', 'INDUS', 'NOX', 'RAD', 'PTRATIO', 'LSTAT', 'CAT.MEDV'), ('CRIM', 'ZN', 'INDUS', 'NOX', 'RAD', 'PTRATIO', 'MEDV', 'CAT.MEDV'), ('CRIM', 'ZN', 'INDUS', 'NOX', 'RAD', 'LSTAT', 'MEDV', 'CAT.MEDV'), ('CRIM', 'ZN', 'INDUS', 'NOX', 'TAX', 'PTRATIO', 'LSTAT', 'MEDV'), ('CRIM', 'ZN', 'INDUS', 'NOX', 'TAX', 'PTRATIO', 'LSTAT', 'CAT.MEDV'), ('CRIM', 'ZN', 'INDUS', 'NOX', 'TAX', 'PTRATIO', 'MEDV', 'CAT.MEDV'), ('CRIM', 'ZN', 'INDUS', 'NOX', 'TAX', 'LSTAT', 'MEDV', 'CAT.MEDV'), ('CRIM', 'ZN', 'INDUS', 'NOX', 'PTRATIO', 'LSTAT', 'MEDV', 'CAT.MEDV'), ('CRIM', 'ZN', 'INDUS', 'RM', 'AGE', 'DIS', 'RAD', 'TAX'), ('CRIM', 'ZN', 'INDUS', 'RM', 'AGE', 'DIS', 'RAD', 'PTRATIO'), ('CRIM', 'ZN', 'INDUS', 'RM', 'AGE', 'DIS', 'RAD', 'LSTAT'), ('CRIM', 'ZN', 'INDUS', 'RM', 'AGE', 'DIS', 'RAD', 'MEDV'), ('CRIM', 'ZN', 'INDUS', 'RM', 'AGE', 'DIS', 'RAD', 'CAT.MEDV'), ('CRIM', 'ZN', 'INDUS', 'RM', 'AGE', 'DIS', 'TAX', 'PTRATIO'), ('CRIM', 'ZN', 'INDUS', 'RM', 'AGE', 'DIS', 'TAX', 'LSTAT'), ('CRIM', 'ZN', 'INDUS', 'RM', 'AGE', 'DIS', 'TAX', 'MEDV'), ('CRIM', 'ZN', 'INDUS', 'RM', 'AGE', 'DIS', 'TAX', 'CAT.MEDV'), ('CRIM', 'ZN', 'INDUS', 'RM', 'AGE', 'DIS', 'PTRATIO', 'LSTAT'), ('CRIM', 'ZN', 'INDUS', 'RM', 'AGE', 'DIS', 'PTRATIO', 'MEDV'), ('CRIM', 'ZN', 'INDUS', 'RM', 'AGE', 'DIS', 'PTRATIO', 'CAT.MEDV'), ('CRIM', 'ZN', 'INDUS', 'RM', 'AGE', 'DIS', 'LSTAT', 'MEDV'), ('CRIM', 'ZN', 'INDUS', 'RM', 'AGE', 'DIS', 'LSTAT', 'CAT.MEDV'), ('CRIM', 'ZN', 'INDUS', 'RM', 'AGE', 'DIS', 'MEDV', 'CAT.MEDV'), ('CRIM', 'ZN', 'INDUS', 'RM', 'AGE', 'RAD', 'TAX', 'PTRATIO'), ('CRIM', 'ZN', 'INDUS', 'RM', 'AGE', 'RAD', 'TAX', 'LSTAT'), ('CRIM', 'ZN', 'INDUS', 'RM', 'AGE', 'RAD', 'TAX', 'MEDV'), ('CRIM', 'ZN', 'INDUS', 'RM', 'AGE', 'RAD', 'TAX', 'CAT.MEDV'), ('CRIM', 'ZN', 'INDUS', 'RM', 'AGE', 'RAD', 'PTRATIO', 'LSTAT'), ('CRIM', 'ZN', 'INDUS', 'RM', 'AGE', 'RAD', 'PTRATIO', 'MEDV'), ('CRIM', 'ZN', 'INDUS', 'RM', 'AGE', 'RAD', 'PTRATIO', 'CAT.MEDV'), ('CRIM', 'ZN', 'INDUS', 'RM', 'AGE', 'RAD', 'LSTAT', 'MEDV'), ('CRIM', 'ZN', 'INDUS', 'RM', 'AGE', 'RAD', 'LSTAT', 'CAT.MEDV'), ('CRIM', 'ZN', 'INDUS', 'RM', 'AGE', 'RAD', 'MEDV', 'CAT.MEDV'), ('CRIM', 'ZN', 'INDUS', 'RM', 'AGE', 'TAX', 'PTRATIO', 'LSTAT'), ('CRIM', 'ZN', 'INDUS', 'RM', 'AGE', 'TAX', 'PTRATIO', 'MEDV'), ('CRIM', 'ZN', 'INDUS', 'RM', 'AGE', 'TAX', 'PTRATIO', 'CAT.MEDV'), ('CRIM', 'ZN', 'INDUS', 'RM', 'AGE', 'TAX', 'LSTAT', 'MEDV'), ('CRIM', 'ZN', 'INDUS', 'RM', 'AGE', 'TAX', 'LSTAT', 'CAT.MEDV'), ('CRIM', 'ZN', 'INDUS', 'RM', 'AGE', 'TAX', 'MEDV', 'CAT.MEDV'), ('CRIM', 'ZN', 'INDUS', 'RM', 'AGE', 'PTRATIO', 'LSTAT', 'MEDV'), ('CRIM', 'ZN', 'INDUS', 'RM', 'AGE', 'PTRATIO', 'LSTAT', 'CAT.MEDV'), ('CRIM', 'ZN', 'INDUS', 'RM', 'AGE', 'PTRATIO', 'MEDV', 'CAT.MEDV'), ('CRIM', 'ZN', 'INDUS', 'RM', 'AGE', 'LSTAT', 'MEDV', 'CAT.MEDV'), ('CRIM', 'ZN', 'INDUS', 'RM', 'DIS', 'RAD', 'TAX', 'PTRATIO'), ('CRIM', 'ZN', 'INDUS', 'RM', 'DIS', 'RAD', 'TAX', 'LSTAT'), ('CRIM', 'ZN', 'INDUS', 'RM', 'DIS', 'RAD', 'TAX', 'MEDV'), ('CRIM', 'ZN', 'INDUS', 'RM', 'DIS', 'RAD', 'TAX', 'CAT.MEDV'), ('CRIM', 'ZN', 'INDUS', 'RM', 'DIS', 'RAD', 'PTRATIO', 'LSTAT'), ('CRIM', 'ZN', 'INDUS', 'RM', 'DIS', 'RAD', 'PTRATIO', 'MEDV'), ('CRIM', 'ZN', 'INDUS', 'RM', 'DIS', 'RAD', 'PTRATIO', 'CAT.MEDV'), ('CRIM', 'ZN', 'INDUS', 'RM', 'DIS', 'RAD', 'LSTAT', 'MEDV'), ('CRIM', 'ZN', 'INDUS', 'RM', 'DIS', 'RAD', 'LSTAT', 'CAT.MEDV'), ('CRIM', 'ZN', 'INDUS', 'RM', 'DIS', 'RAD', 'MEDV', 'CAT.MEDV'), ('CRIM', 'ZN', 'INDUS', 'RM', 'DIS', 'TAX', 'PTRATIO', 'LSTAT'), ('CRIM', 'ZN', 'INDUS', 'RM', 'DIS', 'TAX', 'PTRATIO', 'MEDV'), ('CRIM', 'ZN', 'INDUS', 'RM', 'DIS', 'TAX', 'PTRATIO', 'CAT.MEDV'), ('CRIM', 'ZN', 'INDUS', 'RM', 'DIS', 'TAX', 'LSTAT', 'MEDV'), ('CRIM', 'ZN', 'INDUS', 'RM', 'DIS', 'TAX', 'LSTAT', 'CAT.MEDV'), ('CRIM', 'ZN', 'INDUS', 'RM', 'DIS', 'TAX', 'MEDV', 'CAT.MEDV'), ('CRIM', 'ZN', 'INDUS', 'RM', 'DIS', 'PTRATIO', 'LSTAT', 'MEDV'), ('CRIM', 'ZN', 'INDUS', 'RM', 'DIS', 'PTRATIO', 'LSTAT', 'CAT.MEDV'), ('CRIM', 'ZN', 'INDUS', 'RM', 'DIS', 'PTRATIO', 'MEDV', 'CAT.MEDV'), ('CRIM', 'ZN', 'INDUS', 'RM', 'DIS', 'LSTAT', 'MEDV', 'CAT.MEDV'), ('CRIM', 'ZN', 'INDUS', 'RM', 'RAD', 'TAX', 'PTRATIO', 'LSTAT'), ('CRIM', 'ZN', 'INDUS', 'RM', 'RAD', 'TAX', 'PTRATIO', 'MEDV'), ('CRIM', 'ZN', 'INDUS', 'RM', 'RAD', 'TAX', 'PTRATIO', 'CAT.MEDV'), ('CRIM', 'ZN', 'INDUS', 'RM', 'RAD', 'TAX', 'LSTAT', 'MEDV'), ('CRIM', 'ZN', 'INDUS', 'RM', 'RAD', 'TAX', 'LSTAT', 'CAT.MEDV'), ('CRIM', 'ZN', 'INDUS', 'RM', 'RAD', 'TAX', 'MEDV', 'CAT.MEDV'), ('CRIM', 'ZN', 'INDUS', 'RM', 'RAD', 'PTRATIO', 'LSTAT', 'MEDV'), ('CRIM', 'ZN', 'INDUS', 'RM', 'RAD', 'PTRATIO', 'LSTAT', 'CAT.MEDV'), ('CRIM', 'ZN', 'INDUS', 'RM', 'RAD', 'PTRATIO', 'MEDV', 'CAT.MEDV'), ('CRIM', 'ZN', 'INDUS', 'RM', 'RAD', 'LSTAT', 'MEDV', 'CAT.MEDV'), ('CRIM', 'ZN', 'INDUS', 'RM', 'TAX', 'PTRATIO', 'LSTAT', 'MEDV'), ('CRIM', 'ZN', 'INDUS', 'RM', 'TAX', 'PTRATIO', 'LSTAT', 'CAT.MEDV'), ('CRIM', 'ZN', 'INDUS', 'RM', 'TAX', 'PTRATIO', 'MEDV', 'CAT.MEDV'), ('CRIM', 'ZN', 'INDUS', 'RM', 'TAX', 'LSTAT', 'MEDV', 'CAT.MEDV'), ('CRIM', 'ZN', 'INDUS', 'RM', 'PTRATIO', 'LSTAT', 'MEDV', 'CAT.MEDV'), ('CRIM', 'ZN', 'INDUS', 'AGE', 'DIS', 'RAD', 'TAX', 'PTRATIO'), ('CRIM', 'ZN', 'INDUS', 'AGE', 'DIS', 'RAD', 'TAX', 'LSTAT'), ('CRIM', 'ZN', 'INDUS', 'AGE', 'DIS', 'RAD', 'TAX', 'MEDV'), ('CRIM', 'ZN', 'INDUS', 'AGE', 'DIS', 'RAD', 'TAX', 'CAT.MEDV'), ('CRIM', 'ZN', 'INDUS', 'AGE', 'DIS', 'RAD', 'PTRATIO', 'LSTAT'), ('CRIM', 'ZN', 'INDUS', 'AGE', 'DIS', 'RAD', 'PTRATIO', 'MEDV'), ('CRIM', 'ZN', 'INDUS', 'AGE', 'DIS', 'RAD', 'PTRATIO', 'CAT.MEDV'), ('CRIM', 'ZN', 'INDUS', 'AGE', 'DIS', 'RAD', 'LSTAT', 'MEDV'), ('CRIM', 'ZN', 'INDUS', 'AGE', 'DIS', 'RAD', 'LSTAT', 'CAT.MEDV'), ('CRIM', 'ZN', 'INDUS', 'AGE', 'DIS', 'RAD', 'MEDV', 'CAT.MEDV'), ('CRIM', 'ZN', 'INDUS', 'AGE', 'DIS', 'TAX', 'PTRATIO', 'LSTAT'), ('CRIM', 'ZN', 'INDUS', 'AGE', 'DIS', 'TAX', 'PTRATIO', 'MEDV'), ('CRIM', 'ZN', 'INDUS', 'AGE', 'DIS', 'TAX', 'PTRATIO', 'CAT.MEDV'), ('CRIM', 'ZN', 'INDUS', 'AGE', 'DIS', 'TAX', 'LSTAT', 'MEDV'), ('CRIM', 'ZN', 'INDUS', 'AGE', 'DIS', 'TAX', 'LSTAT', 'CAT.MEDV'), ('CRIM', 'ZN', 'INDUS', 'AGE', 'DIS', 'TAX', 'MEDV', 'CAT.MEDV'), ('CRIM', 'ZN', 'INDUS', 'AGE', 'DIS', 'PTRATIO', 'LSTAT', 'MEDV'), ('CRIM', 'ZN', 'INDUS', 'AGE', 'DIS', 'PTRATIO', 'LSTAT', 'CAT.MEDV'), ('CRIM', 'ZN', 'INDUS', 'AGE', 'DIS', 'PTRATIO', 'MEDV', 'CAT.MEDV'), ('CRIM', 'ZN', 'INDUS', 'AGE', 'DIS', 'LSTAT', 'MEDV', 'CAT.MEDV'), ('CRIM', 'ZN', 'INDUS', 'AGE', 'RAD', 'TAX', 'PTRATIO', 'LSTAT'), ('CRIM', 'ZN', 'INDUS', 'AGE', 'RAD', 'TAX', 'PTRATIO', 'MEDV'), ('CRIM', 'ZN', 'INDUS', 'AGE', 'RAD', 'TAX', 'PTRATIO', 'CAT.MEDV'), ('CRIM', 'ZN', 'INDUS', 'AGE', 'RAD', 'TAX', 'LSTAT', 'MEDV'), ('CRIM', 'ZN', 'INDUS', 'AGE', 'RAD', 'TAX', 'LSTAT', 'CAT.MEDV'), ('CRIM', 'ZN', 'INDUS', 'AGE', 'RAD', 'TAX', 'MEDV', 'CAT.MEDV'), ('CRIM', 'ZN', 'INDUS', 'AGE', 'RAD', 'PTRATIO', 'LSTAT', 'MEDV'), ('CRIM', 'ZN', 'INDUS', 'AGE', 'RAD', 'PTRATIO', 'LSTAT', 'CAT.MEDV'), ('CRIM', 'ZN', 'INDUS', 'AGE', 'RAD', 'PTRATIO', 'MEDV', 'CAT.MEDV'), ('CRIM', 'ZN', 'INDUS', 'AGE', 'RAD', 'LSTAT', 'MEDV', 'CAT.MEDV'), ('CRIM', 'ZN', 'INDUS', 'AGE', 'TAX', 'PTRATIO', 'LSTAT', 'MEDV'), ('CRIM', 'ZN', 'INDUS', 'AGE', 'TAX', 'PTRATIO', 'LSTAT', 'CAT.MEDV'), ('CRIM', 'ZN', 'INDUS', 'AGE', 'TAX', 'PTRATIO', 'MEDV', 'CAT.MEDV'), ('CRIM', 'ZN', 'INDUS', 'AGE', 'TAX', 'LSTAT', 'MEDV', 'CAT.MEDV'), ('CRIM', 'ZN', 'INDUS', 'AGE', 'PTRATIO', 'LSTAT', 'MEDV', 'CAT.MEDV'), ('CRIM', 'ZN', 'INDUS', 'DIS', 'RAD', 'TAX', 'PTRATIO', 'LSTAT'), ('CRIM', 'ZN', 'INDUS', 'DIS', 'RAD', 'TAX', 'PTRATIO', 'MEDV'), ('CRIM', 'ZN', 'INDUS', 'DIS', 'RAD', 'TAX', 'PTRATIO', 'CAT.MEDV'), ('CRIM', 'ZN', 'INDUS', 'DIS', 'RAD', 'TAX', 'LSTAT', 'MEDV'), ('CRIM', 'ZN', 'INDUS', 'DIS', 'RAD', 'TAX', 'LSTAT', 'CAT.MEDV'), ('CRIM', 'ZN', 'INDUS', 'DIS', 'RAD', 'TAX', 'MEDV', 'CAT.MEDV'), ('CRIM', 'ZN', 'INDUS', 'DIS', 'RAD', 'PTRATIO', 'LSTAT', 'MEDV'), ('CRIM', 'ZN', 'INDUS', 'DIS', 'RAD', 'PTRATIO', 'LSTAT', 'CAT.MEDV'), ('CRIM', 'ZN', 'INDUS', 'DIS', 'RAD', 'PTRATIO', 'MEDV', 'CAT.MEDV'), ('CRIM', 'ZN', 'INDUS', 'DIS', 'RAD', 'LSTAT', 'MEDV', 'CAT.MEDV'), ('CRIM', 'ZN', 'INDUS', 'DIS', 'TAX', 'PTRATIO', 'LSTAT', 'MEDV'), ('CRIM', 'ZN', 'INDUS', 'DIS', 'TAX', 'PTRATIO', 'LSTAT', 'CAT.MEDV'), ('CRIM', 'ZN', 'INDUS', 'DIS', 'TAX', 'PTRATIO', 'MEDV', 'CAT.MEDV'), ('CRIM', 'ZN', 'INDUS', 'DIS', 'TAX', 'LSTAT', 'MEDV', 'CAT.MEDV'), ('CRIM', 'ZN', 'INDUS', 'DIS', 'PTRATIO', 'LSTAT', 'MEDV', 'CAT.MEDV'), ('CRIM', 'ZN', 'INDUS', 'RAD', 'TAX', 'PTRATIO', 'LSTAT', 'MEDV'), ('CRIM', 'ZN', 'INDUS', 'RAD', 'TAX', 'PTRATIO', 'LSTAT', 'CAT.MEDV'), ('CRIM', 'ZN', 'INDUS', 'RAD', 'TAX', 'PTRATIO', 'MEDV', 'CAT.MEDV'), ('CRIM', 'ZN', 'INDUS', 'RAD', 'TAX', 'LSTAT', 'MEDV', 'CAT.MEDV'), ('CRIM', 'ZN', 'INDUS', 'RAD', 'PTRATIO', 'LSTAT', 'MEDV', 'CAT.MEDV'), ('CRIM', 'ZN', 'INDUS', 'TAX', 'PTRATIO', 'LSTAT', 'MEDV', 'CAT.MEDV'), ('CRIM', 'ZN', 'CHAS', 'NOX', 'RM', 'AGE', 'DIS', 'RAD'), ('CRIM', 'ZN', 'CHAS', 'NOX', 'RM', 'AGE', 'DIS', 'TAX'), ('CRIM', 'ZN', 'CHAS', 'NOX', 'RM', 'AGE', 'DIS', 'PTRATIO'), ('CRIM', 'ZN', 'CHAS', 'NOX', 'RM', 'AGE', 'DIS', 'LSTAT'), ('CRIM', 'ZN', 'CHAS', 'NOX', 'RM', 'AGE', 'DIS', 'MEDV'), ('CRIM', 'ZN', 'CHAS', 'NOX', 'RM', 'AGE', 'DIS', 'CAT.MEDV'), ('CRIM', 'ZN', 'CHAS', 'NOX', 'RM', 'AGE', 'RAD', 'TAX'), ('CRIM', 'ZN', 'CHAS', 'NOX', 'RM', 'AGE', 'RAD', 'PTRATIO'), ('CRIM', 'ZN', 'CHAS', 'NOX', 'RM', 'AGE', 'RAD', 'LSTAT'), ('CRIM', 'ZN', 'CHAS', 'NOX', 'RM', 'AGE', 'RAD', 'MEDV'), ('CRIM', 'ZN', 'CHAS', 'NOX', 'RM', 'AGE', 'RAD', 'CAT.MEDV'), ('CRIM', 'ZN', 'CHAS', 'NOX', 'RM', 'AGE', 'TAX', 'PTRATIO'), ('CRIM', 'ZN', 'CHAS', 'NOX', 'RM', 'AGE', 'TAX', 'LSTAT'), ('CRIM', 'ZN', 'CHAS', 'NOX', 'RM', 'AGE', 'TAX', 'MEDV'), ('CRIM', 'ZN', 'CHAS', 'NOX', 'RM', 'AGE', 'TAX', 'CAT.MEDV'), ('CRIM', 'ZN', 'CHAS', 'NOX', 'RM', 'AGE', 'PTRATIO', 'LSTAT'), ('CRIM', 'ZN', 'CHAS', 'NOX', 'RM', 'AGE', 'PTRATIO', 'MEDV'), ('CRIM', 'ZN', 'CHAS', 'NOX', 'RM', 'AGE', 'PTRATIO', 'CAT.MEDV'), ('CRIM', 'ZN', 'CHAS', 'NOX', 'RM', 'AGE', 'LSTAT', 'MEDV'), ('CRIM', 'ZN', 'CHAS', 'NOX', 'RM', 'AGE', 'LSTAT', 'CAT.MEDV'), ('CRIM', 'ZN', 'CHAS', 'NOX', 'RM', 'AGE', 'MEDV', 'CAT.MEDV'), ('CRIM', 'ZN', 'CHAS', 'NOX', 'RM', 'DIS', 'RAD', 'TAX'), ('CRIM', 'ZN', 'CHAS', 'NOX', 'RM', 'DIS', 'RAD', 'PTRATIO'), ('CRIM', 'ZN', 'CHAS', 'NOX', 'RM', 'DIS', 'RAD', 'LSTAT'), ('CRIM', 'ZN', 'CHAS', 'NOX', 'RM', 'DIS', 'RAD', 'MEDV'), ('CRIM', 'ZN', 'CHAS', 'NOX', 'RM', 'DIS', 'RAD', 'CAT.MEDV'), ('CRIM', 'ZN', 'CHAS', 'NOX', 'RM', 'DIS', 'TAX', 'PTRATIO'), ('CRIM', 'ZN', 'CHAS', 'NOX', 'RM', 'DIS', 'TAX', 'LSTAT'), ('CRIM', 'ZN', 'CHAS', 'NOX', 'RM', 'DIS', 'TAX', 'MEDV'), ('CRIM', 'ZN', 'CHAS', 'NOX', 'RM', 'DIS', 'TAX', 'CAT.MEDV'), ('CRIM', 'ZN', 'CHAS', 'NOX', 'RM', 'DIS', 'PTRATIO', 'LSTAT'), ('CRIM', 'ZN', 'CHAS', 'NOX', 'RM', 'DIS', 'PTRATIO', 'MEDV'), ('CRIM', 'ZN', 'CHAS', 'NOX', 'RM', 'DIS', 'PTRATIO', 'CAT.MEDV'), ('CRIM', 'ZN', 'CHAS', 'NOX', 'RM', 'DIS', 'LSTAT', 'MEDV'), ('CRIM', 'ZN', 'CHAS', 'NOX', 'RM', 'DIS', 'LSTAT', 'CAT.MEDV'), ('CRIM', 'ZN', 'CHAS', 'NOX', 'RM', 'DIS', 'MEDV', 'CAT.MEDV'), ('CRIM', 'ZN', 'CHAS', 'NOX', 'RM', 'RAD', 'TAX', 'PTRATIO'), ('CRIM', 'ZN', 'CHAS', 'NOX', 'RM', 'RAD', 'TAX', 'LSTAT'), ('CRIM', 'ZN', 'CHAS', 'NOX', 'RM', 'RAD', 'TAX', 'MEDV'), ('CRIM', 'ZN', 'CHAS', 'NOX', 'RM', 'RAD', 'TAX', 'CAT.MEDV'), ('CRIM', 'ZN', 'CHAS', 'NOX', 'RM', 'RAD', 'PTRATIO', 'LSTAT'), ('CRIM', 'ZN', 'CHAS', 'NOX', 'RM', 'RAD', 'PTRATIO', 'MEDV'), ('CRIM', 'ZN', 'CHAS', 'NOX', 'RM', 'RAD', 'PTRATIO', 'CAT.MEDV'), ('CRIM', 'ZN', 'CHAS', 'NOX', 'RM', 'RAD', 'LSTAT', 'MEDV'), ('CRIM', 'ZN', 'CHAS', 'NOX', 'RM', 'RAD', 'LSTAT', 'CAT.MEDV'), ('CRIM', 'ZN', 'CHAS', 'NOX', 'RM', 'RAD', 'MEDV', 'CAT.MEDV'), ('CRIM', 'ZN', 'CHAS', 'NOX', 'RM', 'TAX', 'PTRATIO', 'LSTAT'), ('CRIM', 'ZN', 'CHAS', 'NOX', 'RM', 'TAX', 'PTRATIO', 'MEDV'), ('CRIM', 'ZN', 'CHAS', 'NOX', 'RM', 'TAX', 'PTRATIO', 'CAT.MEDV'), ('CRIM', 'ZN', 'CHAS', 'NOX', 'RM', 'TAX', 'LSTAT', 'MEDV'), ('CRIM', 'ZN', 'CHAS', 'NOX', 'RM', 'TAX', 'LSTAT', 'CAT.MEDV'), ('CRIM', 'ZN', 'CHAS', 'NOX', 'RM', 'TAX', 'MEDV', 'CAT.MEDV'), ('CRIM', 'ZN', 'CHAS', 'NOX', 'RM', 'PTRATIO', 'LSTAT', 'MEDV'), ('CRIM', 'ZN', 'CHAS', 'NOX', 'RM', 'PTRATIO', 'LSTAT', 'CAT.MEDV'), ('CRIM', 'ZN', 'CHAS', 'NOX', 'RM', 'PTRATIO', 'MEDV', 'CAT.MEDV'), ('CRIM', 'ZN', 'CHAS', 'NOX', 'RM', 'LSTAT', 'MEDV', 'CAT.MEDV'), ('CRIM', 'ZN', 'CHAS', 'NOX', 'AGE', 'DIS', 'RAD', 'TAX'), ('CRIM', 'ZN', 'CHAS', 'NOX', 'AGE', 'DIS', 'RAD', 'PTRATIO'), ('CRIM', 'ZN', 'CHAS', 'NOX', 'AGE', 'DIS', 'RAD', 'LSTAT'), ('CRIM', 'ZN', 'CHAS', 'NOX', 'AGE', 'DIS', 'RAD', 'MEDV'), ('CRIM', 'ZN', 'CHAS', 'NOX', 'AGE', 'DIS', 'RAD', 'CAT.MEDV'), ('CRIM', 'ZN', 'CHAS', 'NOX', 'AGE', 'DIS', 'TAX', 'PTRATIO'), ('CRIM', 'ZN', 'CHAS', 'NOX', 'AGE', 'DIS', 'TAX', 'LSTAT'), ('CRIM', 'ZN', 'CHAS', 'NOX', 'AGE', 'DIS', 'TAX', 'MEDV'), ('CRIM', 'ZN', 'CHAS', 'NOX', 'AGE', 'DIS', 'TAX', 'CAT.MEDV'), ('CRIM', 'ZN', 'CHAS', 'NOX', 'AGE', 'DIS', 'PTRATIO', 'LSTAT'), ('CRIM', 'ZN', 'CHAS', 'NOX', 'AGE', 'DIS', 'PTRATIO', 'MEDV'), ('CRIM', 'ZN', 'CHAS', 'NOX', 'AGE', 'DIS', 'PTRATIO', 'CAT.MEDV'), ('CRIM', 'ZN', 'CHAS', 'NOX', 'AGE', 'DIS', 'LSTAT', 'MEDV'), ('CRIM', 'ZN', 'CHAS', 'NOX', 'AGE', 'DIS', 'LSTAT', 'CAT.MEDV'), ('CRIM', 'ZN', 'CHAS', 'NOX', 'AGE', 'DIS', 'MEDV', 'CAT.MEDV'), ('CRIM', 'ZN', 'CHAS', 'NOX', 'AGE', 'RAD', 'TAX', 'PTRATIO'), ('CRIM', 'ZN', 'CHAS', 'NOX', 'AGE', 'RAD', 'TAX', 'LSTAT'), ('CRIM', 'ZN', 'CHAS', 'NOX', 'AGE', 'RAD', 'TAX', 'MEDV'), ('CRIM', 'ZN', 'CHAS', 'NOX', 'AGE', 'RAD', 'TAX', 'CAT.MEDV'), ('CRIM', 'ZN', 'CHAS', 'NOX', 'AGE', 'RAD', 'PTRATIO', 'LSTAT'), ('CRIM', 'ZN', 'CHAS', 'NOX', 'AGE', 'RAD', 'PTRATIO', 'MEDV'), ('CRIM', 'ZN', 'CHAS', 'NOX', 'AGE', 'RAD', 'PTRATIO', 'CAT.MEDV'), ('CRIM', 'ZN', 'CHAS', 'NOX', 'AGE', 'RAD', 'LSTAT', 'MEDV'), ('CRIM', 'ZN', 'CHAS', 'NOX', 'AGE', 'RAD', 'LSTAT', 'CAT.MEDV'), ('CRIM', 'ZN', 'CHAS', 'NOX', 'AGE', 'RAD', 'MEDV', 'CAT.MEDV'), ('CRIM', 'ZN', 'CHAS', 'NOX', 'AGE', 'TAX', 'PTRATIO', 'LSTAT'), ('CRIM', 'ZN', 'CHAS', 'NOX', 'AGE', 'TAX', 'PTRATIO', 'MEDV'), ('CRIM', 'ZN', 'CHAS', 'NOX', 'AGE', 'TAX', 'PTRATIO', 'CAT.MEDV'), ('CRIM', 'ZN', 'CHAS', 'NOX', 'AGE', 'TAX', 'LSTAT', 'MEDV'), ('CRIM', 'ZN', 'CHAS', 'NOX', 'AGE', 'TAX', 'LSTAT', 'CAT.MEDV'), ('CRIM', 'ZN', 'CHAS', 'NOX', 'AGE', 'TAX', 'MEDV', 'CAT.MEDV'), ('CRIM', 'ZN', 'CHAS', 'NOX', 'AGE', 'PTRATIO', 'LSTAT', 'MEDV'), ('CRIM', 'ZN', 'CHAS', 'NOX', 'AGE', 'PTRATIO', 'LSTAT', 'CAT.MEDV'), ('CRIM', 'ZN', 'CHAS', 'NOX', 'AGE', 'PTRATIO', 'MEDV', 'CAT.MEDV'), ('CRIM', 'ZN', 'CHAS', 'NOX', 'AGE', 'LSTAT', 'MEDV', 'CAT.MEDV'), ('CRIM', 'ZN', 'CHAS', 'NOX', 'DIS', 'RAD', 'TAX', 'PTRATIO'), ('CRIM', 'ZN', 'CHAS', 'NOX', 'DIS', 'RAD', 'TAX', 'LSTAT'), ('CRIM', 'ZN', 'CHAS', 'NOX', 'DIS', 'RAD', 'TAX', 'MEDV'), ('CRIM', 'ZN', 'CHAS', 'NOX', 'DIS', 'RAD', 'TAX', 'CAT.MEDV'), ('CRIM', 'ZN', 'CHAS', 'NOX', 'DIS', 'RAD', 'PTRATIO', 'LSTAT'), ('CRIM', 'ZN', 'CHAS', 'NOX', 'DIS', 'RAD', 'PTRATIO', 'MEDV'), ('CRIM', 'ZN', 'CHAS', 'NOX', 'DIS', 'RAD', 'PTRATIO', 'CAT.MEDV'), ('CRIM', 'ZN', 'CHAS', 'NOX', 'DIS', 'RAD', 'LSTAT', 'MEDV'), ('CRIM', 'ZN', 'CHAS', 'NOX', 'DIS', 'RAD', 'LSTAT', 'CAT.MEDV'), ('CRIM', 'ZN', 'CHAS', 'NOX', 'DIS', 'RAD', 'MEDV', 'CAT.MEDV'), ('CRIM', 'ZN', 'CHAS', 'NOX', 'DIS', 'TAX', 'PTRATIO', 'LSTAT'), ('CRIM', 'ZN', 'CHAS', 'NOX', 'DIS', 'TAX', 'PTRATIO', 'MEDV'), ('CRIM', 'ZN', 'CHAS', 'NOX', 'DIS', 'TAX', 'PTRATIO', 'CAT.MEDV'), ('CRIM', 'ZN', 'CHAS', 'NOX', 'DIS', 'TAX', 'LSTAT', 'MEDV'), ('CRIM', 'ZN', 'CHAS', 'NOX', 'DIS', 'TAX', 'LSTAT', 'CAT.MEDV'), ('CRIM', 'ZN', 'CHAS', 'NOX', 'DIS', 'TAX', 'MEDV', 'CAT.MEDV'), ('CRIM', 'ZN', 'CHAS', 'NOX', 'DIS', 'PTRATIO', 'LSTAT', 'MEDV'), ('CRIM', 'ZN', 'CHAS', 'NOX', 'DIS', 'PTRATIO', 'LSTAT', 'CAT.MEDV'), ('CRIM', 'ZN', 'CHAS', 'NOX', 'DIS', 'PTRATIO', 'MEDV', 'CAT.MEDV'), ('CRIM', 'ZN', 'CHAS', 'NOX', 'DIS', 'LSTAT', 'MEDV', 'CAT.MEDV'), ('CRIM', 'ZN', 'CHAS', 'NOX', 'RAD', 'TAX', 'PTRATIO', 'LSTAT'), ('CRIM', 'ZN', 'CHAS', 'NOX', 'RAD', 'TAX', 'PTRATIO', 'MEDV'), ('CRIM', 'ZN', 'CHAS', 'NOX', 'RAD', 'TAX', 'PTRATIO', 'CAT.MEDV'), ('CRIM', 'ZN', 'CHAS', 'NOX', 'RAD', 'TAX', 'LSTAT', 'MEDV'), ('CRIM', 'ZN', 'CHAS', 'NOX', 'RAD', 'TAX', 'LSTAT', 'CAT.MEDV'), ('CRIM', 'ZN', 'CHAS', 'NOX', 'RAD', 'TAX', 'MEDV', 'CAT.MEDV'), ('CRIM', 'ZN', 'CHAS', 'NOX', 'RAD', 'PTRATIO', 'LSTAT', 'MEDV'), ('CRIM', 'ZN', 'CHAS', 'NOX', 'RAD', 'PTRATIO', 'LSTAT', 'CAT.MEDV'), ('CRIM', 'ZN', 'CHAS', 'NOX', 'RAD', 'PTRATIO', 'MEDV', 'CAT.MEDV'), ('CRIM', 'ZN', 'CHAS', 'NOX', 'RAD', 'LSTAT', 'MEDV', 'CAT.MEDV'), ('CRIM', 'ZN', 'CHAS', 'NOX', 'TAX', 'PTRATIO', 'LSTAT', 'MEDV'), ('CRIM', 'ZN', 'CHAS', 'NOX', 'TAX', 'PTRATIO', 'LSTAT', 'CAT.MEDV'), ('CRIM', 'ZN', 'CHAS', 'NOX', 'TAX', 'PTRATIO', 'MEDV', 'CAT.MEDV'), ('CRIM', 'ZN', 'CHAS', 'NOX', 'TAX', 'LSTAT', 'MEDV', 'CAT.MEDV'), ('CRIM', 'ZN', 'CHAS', 'NOX', 'PTRATIO', 'LSTAT', 'MEDV', 'CAT.MEDV'), ('CRIM', 'ZN', 'CHAS', 'RM', 'AGE', 'DIS', 'RAD', 'TAX'), ('CRIM', 'ZN', 'CHAS', 'RM', 'AGE', 'DIS', 'RAD', 'PTRATIO'), ('CRIM', 'ZN', 'CHAS', 'RM', 'AGE', 'DIS', 'RAD', 'LSTAT'), ('CRIM', 'ZN', 'CHAS', 'RM', 'AGE', 'DIS', 'RAD', 'MEDV'), ('CRIM', 'ZN', 'CHAS', 'RM', 'AGE', 'DIS', 'RAD', 'CAT.MEDV'), ('CRIM', 'ZN', 'CHAS', 'RM', 'AGE', 'DIS', 'TAX', 'PTRATIO'), ('CRIM', 'ZN', 'CHAS', 'RM', 'AGE', 'DIS', 'TAX', 'LSTAT'), ('CRIM', 'ZN', 'CHAS', 'RM', 'AGE', 'DIS', 'TAX', 'MEDV'), ('CRIM', 'ZN', 'CHAS', 'RM', 'AGE', 'DIS', 'TAX', 'CAT.MEDV'), ('CRIM', 'ZN', 'CHAS', 'RM', 'AGE', 'DIS', 'PTRATIO', 'LSTAT'), ('CRIM', 'ZN', 'CHAS', 'RM', 'AGE', 'DIS', 'PTRATIO', 'MEDV'), ('CRIM', 'ZN', 'CHAS', 'RM', 'AGE', 'DIS', 'PTRATIO', 'CAT.MEDV'), ('CRIM', 'ZN', 'CHAS', 'RM', 'AGE', 'DIS', 'LSTAT', 'MEDV'), ('CRIM', 'ZN', 'CHAS', 'RM', 'AGE', 'DIS', 'LSTAT', 'CAT.MEDV'), ('CRIM', 'ZN', 'CHAS', 'RM', 'AGE', 'DIS', 'MEDV', 'CAT.MEDV'), ('CRIM', 'ZN', 'CHAS', 'RM', 'AGE', 'RAD', 'TAX', 'PTRATIO'), ('CRIM', 'ZN', 'CHAS', 'RM', 'AGE', 'RAD', 'TAX', 'LSTAT'), ('CRIM', 'ZN', 'CHAS', 'RM', 'AGE', 'RAD', 'TAX', 'MEDV'), ('CRIM', 'ZN', 'CHAS', 'RM', 'AGE', 'RAD', 'TAX', 'CAT.MEDV'), ('CRIM', 'ZN', 'CHAS', 'RM', 'AGE', 'RAD', 'PTRATIO', 'LSTAT'), ('CRIM', 'ZN', 'CHAS', 'RM', 'AGE', 'RAD', 'PTRATIO', 'MEDV'), ('CRIM', 'ZN', 'CHAS', 'RM', 'AGE', 'RAD', 'PTRATIO', 'CAT.MEDV'), ('CRIM', 'ZN', 'CHAS', 'RM', 'AGE', 'RAD', 'LSTAT', 'MEDV'), ('CRIM', 'ZN', 'CHAS', 'RM', 'AGE', 'RAD', 'LSTAT', 'CAT.MEDV'), ('CRIM', 'ZN', 'CHAS', 'RM', 'AGE', 'RAD', 'MEDV', 'CAT.MEDV'), ('CRIM', 'ZN', 'CHAS', 'RM', 'AGE', 'TAX', 'PTRATIO', 'LSTAT'), ('CRIM', 'ZN', 'CHAS', 'RM', 'AGE', 'TAX', 'PTRATIO', 'MEDV'), ('CRIM', 'ZN', 'CHAS', 'RM', 'AGE', 'TAX', 'PTRATIO', 'CAT.MEDV'), ('CRIM', 'ZN', 'CHAS', 'RM', 'AGE', 'TAX', 'LSTAT', 'MEDV'), ('CRIM', 'ZN', 'CHAS', 'RM', 'AGE', 'TAX', 'LSTAT', 'CAT.MEDV'), ('CRIM', 'ZN', 'CHAS', 'RM', 'AGE', 'TAX', 'MEDV', 'CAT.MEDV'), ('CRIM', 'ZN', 'CHAS', 'RM', 'AGE', 'PTRATIO', 'LSTAT', 'MEDV'), ('CRIM', 'ZN', 'CHAS', 'RM', 'AGE', 'PTRATIO', 'LSTAT', 'CAT.MEDV'), ('CRIM', 'ZN', 'CHAS', 'RM', 'AGE', 'PTRATIO', 'MEDV', 'CAT.MEDV'), ('CRIM', 'ZN', 'CHAS', 'RM', 'AGE', 'LSTAT', 'MEDV', 'CAT.MEDV'), ('CRIM', 'ZN', 'CHAS', 'RM', 'DIS', 'RAD', 'TAX', 'PTRATIO'), ('CRIM', 'ZN', 'CHAS', 'RM', 'DIS', 'RAD', 'TAX', 'LSTAT'), ('CRIM', 'ZN', 'CHAS', 'RM', 'DIS', 'RAD', 'TAX', 'MEDV'), ('CRIM', 'ZN', 'CHAS', 'RM', 'DIS', 'RAD', 'TAX', 'CAT.MEDV'), ('CRIM', 'ZN', 'CHAS', 'RM', 'DIS', 'RAD', 'PTRATIO', 'LSTAT'), ('CRIM', 'ZN', 'CHAS', 'RM', 'DIS', 'RAD', 'PTRATIO', 'MEDV'), ('CRIM', 'ZN', 'CHAS', 'RM', 'DIS', 'RAD', 'PTRATIO', 'CAT.MEDV'), ('CRIM', 'ZN', 'CHAS', 'RM', 'DIS', 'RAD', 'LSTAT', 'MEDV'), ('CRIM', 'ZN', 'CHAS', 'RM', 'DIS', 'RAD', 'LSTAT', 'CAT.MEDV'), ('CRIM', 'ZN', 'CHAS', 'RM', 'DIS', 'RAD', 'MEDV', 'CAT.MEDV'), ('CRIM', 'ZN', 'CHAS', 'RM', 'DIS', 'TAX', 'PTRATIO', 'LSTAT'), ('CRIM', 'ZN', 'CHAS', 'RM', 'DIS', 'TAX', 'PTRATIO', 'MEDV'), ('CRIM', 'ZN', 'CHAS', 'RM', 'DIS', 'TAX', 'PTRATIO', 'CAT.MEDV'), ('CRIM', 'ZN', 'CHAS', 'RM', 'DIS', 'TAX', 'LSTAT', 'MEDV'), ('CRIM', 'ZN', 'CHAS', 'RM', 'DIS', 'TAX', 'LSTAT', 'CAT.MEDV'), ('CRIM', 'ZN', 'CHAS', 'RM', 'DIS', 'TAX', 'MEDV', 'CAT.MEDV'), ('CRIM', 'ZN', 'CHAS', 'RM', 'DIS', 'PTRATIO', 'LSTAT', 'MEDV'), ('CRIM', 'ZN', 'CHAS', 'RM', 'DIS', 'PTRATIO', 'LSTAT', 'CAT.MEDV'), ('CRIM', 'ZN', 'CHAS', 'RM', 'DIS', 'PTRATIO', 'MEDV', 'CAT.MEDV'), ('CRIM', 'ZN', 'CHAS', 'RM', 'DIS', 'LSTAT', 'MEDV', 'CAT.MEDV'), ('CRIM', 'ZN', 'CHAS', 'RM', 'RAD', 'TAX', 'PTRATIO', 'LSTAT'), ('CRIM', 'ZN', 'CHAS', 'RM', 'RAD', 'TAX', 'PTRATIO', 'MEDV'), ('CRIM', 'ZN', 'CHAS', 'RM', 'RAD', 'TAX', 'PTRATIO', 'CAT.MEDV'), ('CRIM', 'ZN', 'CHAS', 'RM', 'RAD', 'TAX', 'LSTAT', 'MEDV'), ('CRIM', 'ZN', 'CHAS', 'RM', 'RAD', 'TAX', 'LSTAT', 'CAT.MEDV'), ('CRIM', 'ZN', 'CHAS', 'RM', 'RAD', 'TAX', 'MEDV', 'CAT.MEDV'), ('CRIM', 'ZN', 'CHAS', 'RM', 'RAD', 'PTRATIO', 'LSTAT', 'MEDV'), ('CRIM', 'ZN', 'CHAS', 'RM', 'RAD', 'PTRATIO', 'LSTAT', 'CAT.MEDV'), ('CRIM', 'ZN', 'CHAS', 'RM', 'RAD', 'PTRATIO', 'MEDV', 'CAT.MEDV'), ('CRIM', 'ZN', 'CHAS', 'RM', 'RAD', 'LSTAT', 'MEDV', 'CAT.MEDV'), ('CRIM', 'ZN', 'CHAS', 'RM', 'TAX', 'PTRATIO', 'LSTAT', 'MEDV'), ('CRIM', 'ZN', 'CHAS', 'RM', 'TAX', 'PTRATIO', 'LSTAT', 'CAT.MEDV'), ('CRIM', 'ZN', 'CHAS', 'RM', 'TAX', 'PTRATIO', 'MEDV', 'CAT.MEDV'), ('CRIM', 'ZN', 'CHAS', 'RM', 'TAX', 'LSTAT', 'MEDV', 'CAT.MEDV'), ('CRIM', 'ZN', 'CHAS', 'RM', 'PTRATIO', 'LSTAT', 'MEDV', 'CAT.MEDV'), ('CRIM', 'ZN', 'CHAS', 'AGE', 'DIS', 'RAD', 'TAX', 'PTRATIO'), ('CRIM', 'ZN', 'CHAS', 'AGE', 'DIS', 'RAD', 'TAX', 'LSTAT'), ('CRIM', 'ZN', 'CHAS', 'AGE', 'DIS', 'RAD', 'TAX', 'MEDV'), ('CRIM', 'ZN', 'CHAS', 'AGE', 'DIS', 'RAD', 'TAX', 'CAT.MEDV'), ('CRIM', 'ZN', 'CHAS', 'AGE', 'DIS', 'RAD', 'PTRATIO', 'LSTAT'), ('CRIM', 'ZN', 'CHAS', 'AGE', 'DIS', 'RAD', 'PTRATIO', 'MEDV'), ('CRIM', 'ZN', 'CHAS', 'AGE', 'DIS', 'RAD', 'PTRATIO', 'CAT.MEDV'), ('CRIM', 'ZN', 'CHAS', 'AGE', 'DIS', 'RAD', 'LSTAT', 'MEDV'), ('CRIM', 'ZN', 'CHAS', 'AGE', 'DIS', 'RAD', 'LSTAT', 'CAT.MEDV'), ('CRIM', 'ZN', 'CHAS', 'AGE', 'DIS', 'RAD', 'MEDV', 'CAT.MEDV'), ('CRIM', 'ZN', 'CHAS', 'AGE', 'DIS', 'TAX', 'PTRATIO', 'LSTAT'), ('CRIM', 'ZN', 'CHAS', 'AGE', 'DIS', 'TAX', 'PTRATIO', 'MEDV'), ('CRIM', 'ZN', 'CHAS', 'AGE', 'DIS', 'TAX', 'PTRATIO', 'CAT.MEDV'), ('CRIM', 'ZN', 'CHAS', 'AGE', 'DIS', 'TAX', 'LSTAT', 'MEDV'), ('CRIM', 'ZN', 'CHAS', 'AGE', 'DIS', 'TAX', 'LSTAT', 'CAT.MEDV'), ('CRIM', 'ZN', 'CHAS', 'AGE', 'DIS', 'TAX', 'MEDV', 'CAT.MEDV'), ('CRIM', 'ZN', 'CHAS', 'AGE', 'DIS', 'PTRATIO', 'LSTAT', 'MEDV'), ('CRIM', 'ZN', 'CHAS', 'AGE', 'DIS', 'PTRATIO', 'LSTAT', 'CAT.MEDV'), ('CRIM', 'ZN', 'CHAS', 'AGE', 'DIS', 'PTRATIO', 'MEDV', 'CAT.MEDV'), ('CRIM', 'ZN', 'CHAS', 'AGE', 'DIS', 'LSTAT', 'MEDV', 'CAT.MEDV'), ('CRIM', 'ZN', 'CHAS', 'AGE', 'RAD', 'TAX', 'PTRATIO', 'LSTAT'), ('CRIM', 'ZN', 'CHAS', 'AGE', 'RAD', 'TAX', 'PTRATIO', 'MEDV'), ('CRIM', 'ZN', 'CHAS', 'AGE', 'RAD', 'TAX', 'PTRATIO', 'CAT.MEDV'), ('CRIM', 'ZN', 'CHAS', 'AGE', 'RAD', 'TAX', 'LSTAT', 'MEDV'), ('CRIM', 'ZN', 'CHAS', 'AGE', 'RAD', 'TAX', 'LSTAT', 'CAT.MEDV'), ('CRIM', 'ZN', 'CHAS', 'AGE', 'RAD', 'TAX', 'MEDV', 'CAT.MEDV'), ('CRIM', 'ZN', 'CHAS', 'AGE', 'RAD', 'PTRATIO', 'LSTAT', 'MEDV'), ('CRIM', 'ZN', 'CHAS', 'AGE', 'RAD', 'PTRATIO', 'LSTAT', 'CAT.MEDV'), ('CRIM', 'ZN', 'CHAS', 'AGE', 'RAD', 'PTRATIO', 'MEDV', 'CAT.MEDV'), ('CRIM', 'ZN', 'CHAS', 'AGE', 'RAD', 'LSTAT', 'MEDV', 'CAT.MEDV'), ('CRIM', 'ZN', 'CHAS', 'AGE', 'TAX', 'PTRATIO', 'LSTAT', 'MEDV'), ('CRIM', 'ZN', 'CHAS', 'AGE', 'TAX', 'PTRATIO', 'LSTAT', 'CAT.MEDV'), ('CRIM', 'ZN', 'CHAS', 'AGE', 'TAX', 'PTRATIO', 'MEDV', 'CAT.MEDV'), ('CRIM', 'ZN', 'CHAS', 'AGE', 'TAX', 'LSTAT', 'MEDV', 'CAT.MEDV'), ('CRIM', 'ZN', 'CHAS', 'AGE', 'PTRATIO', 'LSTAT', 'MEDV', 'CAT.MEDV'), ('CRIM', 'ZN', 'CHAS', 'DIS', 'RAD', 'TAX', 'PTRATIO', 'LSTAT'), ('CRIM', 'ZN', 'CHAS', 'DIS', 'RAD', 'TAX', 'PTRATIO', 'MEDV'), ('CRIM', 'ZN', 'CHAS', 'DIS', 'RAD', 'TAX', 'PTRATIO', 'CAT.MEDV'), ('CRIM', 'ZN', 'CHAS', 'DIS', 'RAD', 'TAX', 'LSTAT', 'MEDV'), ('CRIM', 'ZN', 'CHAS', 'DIS', 'RAD', 'TAX', 'LSTAT', 'CAT.MEDV'), ('CRIM', 'ZN', 'CHAS', 'DIS', 'RAD', 'TAX', 'MEDV', 'CAT.MEDV'), ('CRIM', 'ZN', 'CHAS', 'DIS', 'RAD', 'PTRATIO', 'LSTAT', 'MEDV'), ('CRIM', 'ZN', 'CHAS', 'DIS', 'RAD', 'PTRATIO', 'LSTAT', 'CAT.MEDV'), ('CRIM', 'ZN', 'CHAS', 'DIS', 'RAD', 'PTRATIO', 'MEDV', 'CAT.MEDV'), ('CRIM', 'ZN', 'CHAS', 'DIS', 'RAD', 'LSTAT', 'MEDV', 'CAT.MEDV'), ('CRIM', 'ZN', 'CHAS', 'DIS', 'TAX', 'PTRATIO', 'LSTAT', 'MEDV'), ('CRIM', 'ZN', 'CHAS', 'DIS', 'TAX', 'PTRATIO', 'LSTAT', 'CAT.MEDV'), ('CRIM', 'ZN', 'CHAS', 'DIS', 'TAX', 'PTRATIO', 'MEDV', 'CAT.MEDV'), ('CRIM', 'ZN', 'CHAS', 'DIS', 'TAX', 'LSTAT', 'MEDV', 'CAT.MEDV'), ('CRIM', 'ZN', 'CHAS', 'DIS', 'PTRATIO', 'LSTAT', 'MEDV', 'CAT.MEDV'), ('CRIM', 'ZN', 'CHAS', 'RAD', 'TAX', 'PTRATIO', 'LSTAT', 'MEDV'), ('CRIM', 'ZN', 'CHAS', 'RAD', 'TAX', 'PTRATIO', 'LSTAT', 'CAT.MEDV'), ('CRIM', 'ZN', 'CHAS', 'RAD', 'TAX', 'PTRATIO', 'MEDV', 'CAT.MEDV'), ('CRIM', 'ZN', 'CHAS', 'RAD', 'TAX', 'LSTAT', 'MEDV', 'CAT.MEDV'), ('CRIM', 'ZN', 'CHAS', 'RAD', 'PTRATIO', 'LSTAT', 'MEDV', 'CAT.MEDV'), ('CRIM', 'ZN', 'CHAS', 'TAX', 'PTRATIO', 'LSTAT', 'MEDV', 'CAT.MEDV'), ('CRIM', 'ZN', 'NOX', 'RM', 'AGE', 'DIS', 'RAD', 'TAX'), ('CRIM', 'ZN', 'NOX', 'RM', 'AGE', 'DIS', 'RAD', 'PTRATIO'), ('CRIM', 'ZN', 'NOX', 'RM', 'AGE', 'DIS', 'RAD', 'LSTAT'), ('CRIM', 'ZN', 'NOX', 'RM', 'AGE', 'DIS', 'RAD', 'MEDV'), ('CRIM', 'ZN', 'NOX', 'RM', 'AGE', 'DIS', 'RAD', 'CAT.MEDV'), ('CRIM', 'ZN', 'NOX', 'RM', 'AGE', 'DIS', 'TAX', 'PTRATIO'), ('CRIM', 'ZN', 'NOX', 'RM', 'AGE', 'DIS', 'TAX', 'LSTAT'), ('CRIM', 'ZN', 'NOX', 'RM', 'AGE', 'DIS', 'TAX', 'MEDV'), ('CRIM', 'ZN', 'NOX', 'RM', 'AGE', 'DIS', 'TAX', 'CAT.MEDV'), ('CRIM', 'ZN', 'NOX', 'RM', 'AGE', 'DIS', 'PTRATIO', 'LSTAT'), ('CRIM', 'ZN', 'NOX', 'RM', 'AGE', 'DIS', 'PTRATIO', 'MEDV'), ('CRIM', 'ZN', 'NOX', 'RM', 'AGE', 'DIS', 'PTRATIO', 'CAT.MEDV'), ('CRIM', 'ZN', 'NOX', 'RM', 'AGE', 'DIS', 'LSTAT', 'MEDV'), ('CRIM', 'ZN', 'NOX', 'RM', 'AGE', 'DIS', 'LSTAT', 'CAT.MEDV'), ('CRIM', 'ZN', 'NOX', 'RM', 'AGE', 'DIS', 'MEDV', 'CAT.MEDV'), ('CRIM', 'ZN', 'NOX', 'RM', 'AGE', 'RAD', 'TAX', 'PTRATIO'), ('CRIM', 'ZN', 'NOX', 'RM', 'AGE', 'RAD', 'TAX', 'LSTAT'), ('CRIM', 'ZN', 'NOX', 'RM', 'AGE', 'RAD', 'TAX', 'MEDV'), ('CRIM', 'ZN', 'NOX', 'RM', 'AGE', 'RAD', 'TAX', 'CAT.MEDV'), ('CRIM', 'ZN', 'NOX', 'RM', 'AGE', 'RAD', 'PTRATIO', 'LSTAT'), ('CRIM', 'ZN', 'NOX', 'RM', 'AGE', 'RAD', 'PTRATIO', 'MEDV'), ('CRIM', 'ZN', 'NOX', 'RM', 'AGE', 'RAD', 'PTRATIO', 'CAT.MEDV'), ('CRIM', 'ZN', 'NOX', 'RM', 'AGE', 'RAD', 'LSTAT', 'MEDV'), ('CRIM', 'ZN', 'NOX', 'RM', 'AGE', 'RAD', 'LSTAT', 'CAT.MEDV'), ('CRIM', 'ZN', 'NOX', 'RM', 'AGE', 'RAD', 'MEDV', 'CAT.MEDV'), ('CRIM', 'ZN', 'NOX', 'RM', 'AGE', 'TAX', 'PTRATIO', 'LSTAT'), ('CRIM', 'ZN', 'NOX', 'RM', 'AGE', 'TAX', 'PTRATIO', 'MEDV'), ('CRIM', 'ZN', 'NOX', 'RM', 'AGE', 'TAX', 'PTRATIO', 'CAT.MEDV'), ('CRIM', 'ZN', 'NOX', 'RM', 'AGE', 'TAX', 'LSTAT', 'MEDV'), ('CRIM', 'ZN', 'NOX', 'RM', 'AGE', 'TAX', 'LSTAT', 'CAT.MEDV'), ('CRIM', 'ZN', 'NOX', 'RM', 'AGE', 'TAX', 'MEDV', 'CAT.MEDV'), ('CRIM', 'ZN', 'NOX', 'RM', 'AGE', 'PTRATIO', 'LSTAT', 'MEDV'), ('CRIM', 'ZN', 'NOX', 'RM', 'AGE', 'PTRATIO', 'LSTAT', 'CAT.MEDV'), ('CRIM', 'ZN', 'NOX', 'RM', 'AGE', 'PTRATIO', 'MEDV', 'CAT.MEDV'), ('CRIM', 'ZN', 'NOX', 'RM', 'AGE', 'LSTAT', 'MEDV', 'CAT.MEDV'), ('CRIM', 'ZN', 'NOX', 'RM', 'DIS', 'RAD', 'TAX', 'PTRATIO'), ('CRIM', 'ZN', 'NOX', 'RM', 'DIS', 'RAD', 'TAX', 'LSTAT'), ('CRIM', 'ZN', 'NOX', 'RM', 'DIS', 'RAD', 'TAX', 'MEDV'), ('CRIM', 'ZN', 'NOX', 'RM', 'DIS', 'RAD', 'TAX', 'CAT.MEDV'), ('CRIM', 'ZN', 'NOX', 'RM', 'DIS', 'RAD', 'PTRATIO', 'LSTAT'), ('CRIM', 'ZN', 'NOX', 'RM', 'DIS', 'RAD', 'PTRATIO', 'MEDV'), ('CRIM', 'ZN', 'NOX', 'RM', 'DIS', 'RAD', 'PTRATIO', 'CAT.MEDV'), ('CRIM', 'ZN', 'NOX', 'RM', 'DIS', 'RAD', 'LSTAT', 'MEDV'), ('CRIM', 'ZN', 'NOX', 'RM', 'DIS', 'RAD', 'LSTAT', 'CAT.MEDV'), ('CRIM', 'ZN', 'NOX', 'RM', 'DIS', 'RAD', 'MEDV', 'CAT.MEDV'), ('CRIM', 'ZN', 'NOX', 'RM', 'DIS', 'TAX', 'PTRATIO', 'LSTAT'), ('CRIM', 'ZN', 'NOX', 'RM', 'DIS', 'TAX', 'PTRATIO', 'MEDV'), ('CRIM', 'ZN', 'NOX', 'RM', 'DIS', 'TAX', 'PTRATIO', 'CAT.MEDV'), ('CRIM', 'ZN', 'NOX', 'RM', 'DIS', 'TAX', 'LSTAT', 'MEDV'), ('CRIM', 'ZN', 'NOX', 'RM', 'DIS', 'TAX', 'LSTAT', 'CAT.MEDV'), ('CRIM', 'ZN', 'NOX', 'RM', 'DIS', 'TAX', 'MEDV', 'CAT.MEDV'), ('CRIM', 'ZN', 'NOX', 'RM', 'DIS', 'PTRATIO', 'LSTAT', 'MEDV'), ('CRIM', 'ZN', 'NOX', 'RM', 'DIS', 'PTRATIO', 'LSTAT', 'CAT.MEDV'), ('CRIM', 'ZN', 'NOX', 'RM', 'DIS', 'PTRATIO', 'MEDV', 'CAT.MEDV'), ('CRIM', 'ZN', 'NOX', 'RM', 'DIS', 'LSTAT', 'MEDV', 'CAT.MEDV'), ('CRIM', 'ZN', 'NOX', 'RM', 'RAD', 'TAX', 'PTRATIO', 'LSTAT'), ('CRIM', 'ZN', 'NOX', 'RM', 'RAD', 'TAX', 'PTRATIO', 'MEDV'), ('CRIM', 'ZN', 'NOX', 'RM', 'RAD', 'TAX', 'PTRATIO', 'CAT.MEDV'), ('CRIM', 'ZN', 'NOX', 'RM', 'RAD', 'TAX', 'LSTAT', 'MEDV'), ('CRIM', 'ZN', 'NOX', 'RM', 'RAD', 'TAX', 'LSTAT', 'CAT.MEDV'), ('CRIM', 'ZN', 'NOX', 'RM', 'RAD', 'TAX', 'MEDV', 'CAT.MEDV'), ('CRIM', 'ZN', 'NOX', 'RM', 'RAD', 'PTRATIO', 'LSTAT', 'MEDV'), ('CRIM', 'ZN', 'NOX', 'RM', 'RAD', 'PTRATIO', 'LSTAT', 'CAT.MEDV'), ('CRIM', 'ZN', 'NOX', 'RM', 'RAD', 'PTRATIO', 'MEDV', 'CAT.MEDV'), ('CRIM', 'ZN', 'NOX', 'RM', 'RAD', 'LSTAT', 'MEDV', 'CAT.MEDV'), ('CRIM', 'ZN', 'NOX', 'RM', 'TAX', 'PTRATIO', 'LSTAT', 'MEDV'), ('CRIM', 'ZN', 'NOX', 'RM', 'TAX', 'PTRATIO', 'LSTAT', 'CAT.MEDV'), ('CRIM', 'ZN', 'NOX', 'RM', 'TAX', 'PTRATIO', 'MEDV', 'CAT.MEDV'), ('CRIM', 'ZN', 'NOX', 'RM', 'TAX', 'LSTAT', 'MEDV', 'CAT.MEDV'), ('CRIM', 'ZN', 'NOX', 'RM', 'PTRATIO', 'LSTAT', 'MEDV', 'CAT.MEDV'), ('CRIM', 'ZN', 'NOX', 'AGE', 'DIS', 'RAD', 'TAX', 'PTRATIO'), ('CRIM', 'ZN', 'NOX', 'AGE', 'DIS', 'RAD', 'TAX', 'LSTAT'), ('CRIM', 'ZN', 'NOX', 'AGE', 'DIS', 'RAD', 'TAX', 'MEDV'), ('CRIM', 'ZN', 'NOX', 'AGE', 'DIS', 'RAD', 'TAX', 'CAT.MEDV'), ('CRIM', 'ZN', 'NOX', 'AGE', 'DIS', 'RAD', 'PTRATIO', 'LSTAT'), ('CRIM', 'ZN', 'NOX', 'AGE', 'DIS', 'RAD', 'PTRATIO', 'MEDV'), ('CRIM', 'ZN', 'NOX', 'AGE', 'DIS', 'RAD', 'PTRATIO', 'CAT.MEDV'), ('CRIM', 'ZN', 'NOX', 'AGE', 'DIS', 'RAD', 'LSTAT', 'MEDV'), ('CRIM', 'ZN', 'NOX', 'AGE', 'DIS', 'RAD', 'LSTAT', 'CAT.MEDV'), ('CRIM', 'ZN', 'NOX', 'AGE', 'DIS', 'RAD', 'MEDV', 'CAT.MEDV'), ('CRIM', 'ZN', 'NOX', 'AGE', 'DIS', 'TAX', 'PTRATIO', 'LSTAT'), ('CRIM', 'ZN', 'NOX', 'AGE', 'DIS', 'TAX', 'PTRATIO', 'MEDV'), ('CRIM', 'ZN', 'NOX', 'AGE', 'DIS', 'TAX', 'PTRATIO', 'CAT.MEDV'), ('CRIM', 'ZN', 'NOX', 'AGE', 'DIS', 'TAX', 'LSTAT', 'MEDV'), ('CRIM', 'ZN', 'NOX', 'AGE', 'DIS', 'TAX', 'LSTAT', 'CAT.MEDV'), ('CRIM', 'ZN', 'NOX', 'AGE', 'DIS', 'TAX', 'MEDV', 'CAT.MEDV'), ('CRIM', 'ZN', 'NOX', 'AGE', 'DIS', 'PTRATIO', 'LSTAT', 'MEDV'), ('CRIM', 'ZN', 'NOX', 'AGE', 'DIS', 'PTRATIO', 'LSTAT', 'CAT.MEDV'), ('CRIM', 'ZN', 'NOX', 'AGE', 'DIS', 'PTRATIO', 'MEDV', 'CAT.MEDV'), ('CRIM', 'ZN', 'NOX', 'AGE', 'DIS', 'LSTAT', 'MEDV', 'CAT.MEDV'), ('CRIM', 'ZN', 'NOX', 'AGE', 'RAD', 'TAX', 'PTRATIO', 'LSTAT'), ('CRIM', 'ZN', 'NOX', 'AGE', 'RAD', 'TAX', 'PTRATIO', 'MEDV'), ('CRIM', 'ZN', 'NOX', 'AGE', 'RAD', 'TAX', 'PTRATIO', 'CAT.MEDV'), ('CRIM', 'ZN', 'NOX', 'AGE', 'RAD', 'TAX', 'LSTAT', 'MEDV'), ('CRIM', 'ZN', 'NOX', 'AGE', 'RAD', 'TAX', 'LSTAT', 'CAT.MEDV'), ('CRIM', 'ZN', 'NOX', 'AGE', 'RAD', 'TAX', 'MEDV', 'CAT.MEDV'), ('CRIM', 'ZN', 'NOX', 'AGE', 'RAD', 'PTRATIO', 'LSTAT', 'MEDV'), ('CRIM', 'ZN', 'NOX', 'AGE', 'RAD', 'PTRATIO', 'LSTAT', 'CAT.MEDV'), ('CRIM', 'ZN', 'NOX', 'AGE', 'RAD', 'PTRATIO', 'MEDV', 'CAT.MEDV'), ('CRIM', 'ZN', 'NOX', 'AGE', 'RAD', 'LSTAT', 'MEDV', 'CAT.MEDV'), ('CRIM', 'ZN', 'NOX', 'AGE', 'TAX', 'PTRATIO', 'LSTAT', 'MEDV'), ('CRIM', 'ZN', 'NOX', 'AGE', 'TAX', 'PTRATIO', 'LSTAT', 'CAT.MEDV'), ('CRIM', 'ZN', 'NOX', 'AGE', 'TAX', 'PTRATIO', 'MEDV', 'CAT.MEDV'), ('CRIM', 'ZN', 'NOX', 'AGE', 'TAX', 'LSTAT', 'MEDV', 'CAT.MEDV'), ('CRIM', 'ZN', 'NOX', 'AGE', 'PTRATIO', 'LSTAT', 'MEDV', 'CAT.MEDV'), ('CRIM', 'ZN', 'NOX', 'DIS', 'RAD', 'TAX', 'PTRATIO', 'LSTAT'), ('CRIM', 'ZN', 'NOX', 'DIS', 'RAD', 'TAX', 'PTRATIO', 'MEDV'), ('CRIM', 'ZN', 'NOX', 'DIS', 'RAD', 'TAX', 'PTRATIO', 'CAT.MEDV'), ('CRIM', 'ZN', 'NOX', 'DIS', 'RAD', 'TAX', 'LSTAT', 'MEDV'), ('CRIM', 'ZN', 'NOX', 'DIS', 'RAD', 'TAX', 'LSTAT', 'CAT.MEDV'), ('CRIM', 'ZN', 'NOX', 'DIS', 'RAD', 'TAX', 'MEDV', 'CAT.MEDV'), ('CRIM', 'ZN', 'NOX', 'DIS', 'RAD', 'PTRATIO', 'LSTAT', 'MEDV'), ('CRIM', 'ZN', 'NOX', 'DIS', 'RAD', 'PTRATIO', 'LSTAT', 'CAT.MEDV'), ('CRIM', 'ZN', 'NOX', 'DIS', 'RAD', 'PTRATIO', 'MEDV', 'CAT.MEDV'), ('CRIM', 'ZN', 'NOX', 'DIS', 'RAD', 'LSTAT', 'MEDV', 'CAT.MEDV'), ('CRIM', 'ZN', 'NOX', 'DIS', 'TAX', 'PTRATIO', 'LSTAT', 'MEDV'), ('CRIM', 'ZN', 'NOX', 'DIS', 'TAX', 'PTRATIO', 'LSTAT', 'CAT.MEDV'), ('CRIM', 'ZN', 'NOX', 'DIS', 'TAX', 'PTRATIO', 'MEDV', 'CAT.MEDV'), ('CRIM', 'ZN', 'NOX', 'DIS', 'TAX', 'LSTAT', 'MEDV', 'CAT.MEDV'), ('CRIM', 'ZN', 'NOX', 'DIS', 'PTRATIO', 'LSTAT', 'MEDV', 'CAT.MEDV'), ('CRIM', 'ZN', 'NOX', 'RAD', 'TAX', 'PTRATIO', 'LSTAT', 'MEDV'), ('CRIM', 'ZN', 'NOX', 'RAD', 'TAX', 'PTRATIO', 'LSTAT', 'CAT.MEDV'), ('CRIM', 'ZN', 'NOX', 'RAD', 'TAX', 'PTRATIO', 'MEDV', 'CAT.MEDV'), ('CRIM', 'ZN', 'NOX', 'RAD', 'TAX', 'LSTAT', 'MEDV', 'CAT.MEDV'), ('CRIM', 'ZN', 'NOX', 'RAD', 'PTRATIO', 'LSTAT', 'MEDV', 'CAT.MEDV'), ('CRIM', 'ZN', 'NOX', 'TAX', 'PTRATIO', 'LSTAT', 'MEDV', 'CAT.MEDV'), ('CRIM', 'ZN', 'RM', 'AGE', 'DIS', 'RAD', 'TAX', 'PTRATIO'), ('CRIM', 'ZN', 'RM', 'AGE', 'DIS', 'RAD', 'TAX', 'LSTAT'), ('CRIM', 'ZN', 'RM', 'AGE', 'DIS', 'RAD', 'TAX', 'MEDV'), ('CRIM', 'ZN', 'RM', 'AGE', 'DIS', 'RAD', 'TAX', 'CAT.MEDV'), ('CRIM', 'ZN', 'RM', 'AGE', 'DIS', 'RAD', 'PTRATIO', 'LSTAT'), ('CRIM', 'ZN', 'RM', 'AGE', 'DIS', 'RAD', 'PTRATIO', 'MEDV'), ('CRIM', 'ZN', 'RM', 'AGE', 'DIS', 'RAD', 'PTRATIO', 'CAT.MEDV'), ('CRIM', 'ZN', 'RM', 'AGE', 'DIS', 'RAD', 'LSTAT', 'MEDV'), ('CRIM', 'ZN', 'RM', 'AGE', 'DIS', 'RAD', 'LSTAT', 'CAT.MEDV'), ('CRIM', 'ZN', 'RM', 'AGE', 'DIS', 'RAD', 'MEDV', 'CAT.MEDV'), ('CRIM', 'ZN', 'RM', 'AGE', 'DIS', 'TAX', 'PTRATIO', 'LSTAT'), ('CRIM', 'ZN', 'RM', 'AGE', 'DIS', 'TAX', 'PTRATIO', 'MEDV'), ('CRIM', 'ZN', 'RM', 'AGE', 'DIS', 'TAX', 'PTRATIO', 'CAT.MEDV'), ('CRIM', 'ZN', 'RM', 'AGE', 'DIS', 'TAX', 'LSTAT', 'MEDV'), ('CRIM', 'ZN', 'RM', 'AGE', 'DIS', 'TAX', 'LSTAT', 'CAT.MEDV'), ('CRIM', 'ZN', 'RM', 'AGE', 'DIS', 'TAX', 'MEDV', 'CAT.MEDV'), ('CRIM', 'ZN', 'RM', 'AGE', 'DIS', 'PTRATIO', 'LSTAT', 'MEDV'), ('CRIM', 'ZN', 'RM', 'AGE', 'DIS', 'PTRATIO', 'LSTAT', 'CAT.MEDV'), ('CRIM', 'ZN', 'RM', 'AGE', 'DIS', 'PTRATIO', 'MEDV', 'CAT.MEDV'), ('CRIM', 'ZN', 'RM', 'AGE', 'DIS', 'LSTAT', 'MEDV', 'CAT.MEDV'), ('CRIM', 'ZN', 'RM', 'AGE', 'RAD', 'TAX', 'PTRATIO', 'LSTAT'), ('CRIM', 'ZN', 'RM', 'AGE', 'RAD', 'TAX', 'PTRATIO', 'MEDV'), ('CRIM', 'ZN', 'RM', 'AGE', 'RAD', 'TAX', 'PTRATIO', 'CAT.MEDV'), ('CRIM', 'ZN', 'RM', 'AGE', 'RAD', 'TAX', 'LSTAT', 'MEDV'), ('CRIM', 'ZN', 'RM', 'AGE', 'RAD', 'TAX', 'LSTAT', 'CAT.MEDV'), ('CRIM', 'ZN', 'RM', 'AGE', 'RAD', 'TAX', 'MEDV', 'CAT.MEDV'), ('CRIM', 'ZN', 'RM', 'AGE', 'RAD', 'PTRATIO', 'LSTAT', 'MEDV'), ('CRIM', 'ZN', 'RM', 'AGE', 'RAD', 'PTRATIO', 'LSTAT', 'CAT.MEDV'), ('CRIM', 'ZN', 'RM', 'AGE', 'RAD', 'PTRATIO', 'MEDV', 'CAT.MEDV'), ('CRIM', 'ZN', 'RM', 'AGE', 'RAD', 'LSTAT', 'MEDV', 'CAT.MEDV'), ('CRIM', 'ZN', 'RM', 'AGE', 'TAX', 'PTRATIO', 'LSTAT', 'MEDV'), ('CRIM', 'ZN', 'RM', 'AGE', 'TAX', 'PTRATIO', 'LSTAT', 'CAT.MEDV'), ('CRIM', 'ZN', 'RM', 'AGE', 'TAX', 'PTRATIO', 'MEDV', 'CAT.MEDV'), ('CRIM', 'ZN', 'RM', 'AGE', 'TAX', 'LSTAT', 'MEDV', 'CAT.MEDV'), ('CRIM', 'ZN', 'RM', 'AGE', 'PTRATIO', 'LSTAT', 'MEDV', 'CAT.MEDV'), ('CRIM', 'ZN', 'RM', 'DIS', 'RAD', 'TAX', 'PTRATIO', 'LSTAT'), ('CRIM', 'ZN', 'RM', 'DIS', 'RAD', 'TAX', 'PTRATIO', 'MEDV'), ('CRIM', 'ZN', 'RM', 'DIS', 'RAD', 'TAX', 'PTRATIO', 'CAT.MEDV'), ('CRIM', 'ZN', 'RM', 'DIS', 'RAD', 'TAX', 'LSTAT', 'MEDV'), ('CRIM', 'ZN', 'RM', 'DIS', 'RAD', 'TAX', 'LSTAT', 'CAT.MEDV'), ('CRIM', 'ZN', 'RM', 'DIS', 'RAD', 'TAX', 'MEDV', 'CAT.MEDV'), ('CRIM', 'ZN', 'RM', 'DIS', 'RAD', 'PTRATIO', 'LSTAT', 'MEDV'), ('CRIM', 'ZN', 'RM', 'DIS', 'RAD', 'PTRATIO', 'LSTAT', 'CAT.MEDV'), ('CRIM', 'ZN', 'RM', 'DIS', 'RAD', 'PTRATIO', 'MEDV', 'CAT.MEDV'), ('CRIM', 'ZN', 'RM', 'DIS', 'RAD', 'LSTAT', 'MEDV', 'CAT.MEDV'), ('CRIM', 'ZN', 'RM', 'DIS', 'TAX', 'PTRATIO', 'LSTAT', 'MEDV'), ('CRIM', 'ZN', 'RM', 'DIS', 'TAX', 'PTRATIO', 'LSTAT', 'CAT.MEDV'), ('CRIM', 'ZN', 'RM', 'DIS', 'TAX', 'PTRATIO', 'MEDV', 'CAT.MEDV'), ('CRIM', 'ZN', 'RM', 'DIS', 'TAX', 'LSTAT', 'MEDV', 'CAT.MEDV'), ('CRIM', 'ZN', 'RM', 'DIS', 'PTRATIO', 'LSTAT', 'MEDV', 'CAT.MEDV'), ('CRIM', 'ZN', 'RM', 'RAD', 'TAX', 'PTRATIO', 'LSTAT', 'MEDV'), ('CRIM', 'ZN', 'RM', 'RAD', 'TAX', 'PTRATIO', 'LSTAT', 'CAT.MEDV'), ('CRIM', 'ZN', 'RM', 'RAD', 'TAX', 'PTRATIO', 'MEDV', 'CAT.MEDV'), ('CRIM', 'ZN', 'RM', 'RAD', 'TAX', 'LSTAT', 'MEDV', 'CAT.MEDV'), ('CRIM', 'ZN', 'RM', 'RAD', 'PTRATIO', 'LSTAT', 'MEDV', 'CAT.MEDV'), ('CRIM', 'ZN', 'RM', 'TAX', 'PTRATIO', 'LSTAT', 'MEDV', 'CAT.MEDV'), ('CRIM', 'ZN', 'AGE', 'DIS', 'RAD', 'TAX', 'PTRATIO', 'LSTAT'), ('CRIM', 'ZN', 'AGE', 'DIS', 'RAD', 'TAX', 'PTRATIO', 'MEDV'), ('CRIM', 'ZN', 'AGE', 'DIS', 'RAD', 'TAX', 'PTRATIO', 'CAT.MEDV'), ('CRIM', 'ZN', 'AGE', 'DIS', 'RAD', 'TAX', 'LSTAT', 'MEDV'), ('CRIM', 'ZN', 'AGE', 'DIS', 'RAD', 'TAX', 'LSTAT', 'CAT.MEDV'), ('CRIM', 'ZN', 'AGE', 'DIS', 'RAD', 'TAX', 'MEDV', 'CAT.MEDV'), ('CRIM', 'ZN', 'AGE', 'DIS', 'RAD', 'PTRATIO', 'LSTAT', 'MEDV'), ('CRIM', 'ZN', 'AGE', 'DIS', 'RAD', 'PTRATIO', 'LSTAT', 'CAT.MEDV'), ('CRIM', 'ZN', 'AGE', 'DIS', 'RAD', 'PTRATIO', 'MEDV', 'CAT.MEDV'), ('CRIM', 'ZN', 'AGE', 'DIS', 'RAD', 'LSTAT', 'MEDV', 'CAT.MEDV'), ('CRIM', 'ZN', 'AGE', 'DIS', 'TAX', 'PTRATIO', 'LSTAT', 'MEDV'), ('CRIM', 'ZN', 'AGE', 'DIS', 'TAX', 'PTRATIO', 'LSTAT', 'CAT.MEDV'), ('CRIM', 'ZN', 'AGE', 'DIS', 'TAX', 'PTRATIO', 'MEDV', 'CAT.MEDV'), ('CRIM', 'ZN', 'AGE', 'DIS', 'TAX', 'LSTAT', 'MEDV', 'CAT.MEDV'), ('CRIM', 'ZN', 'AGE', 'DIS', 'PTRATIO', 'LSTAT', 'MEDV', 'CAT.MEDV'), ('CRIM', 'ZN', 'AGE', 'RAD', 'TAX', 'PTRATIO', 'LSTAT', 'MEDV'), ('CRIM', 'ZN', 'AGE', 'RAD', 'TAX', 'PTRATIO', 'LSTAT', 'CAT.MEDV'), ('CRIM', 'ZN', 'AGE', 'RAD', 'TAX', 'PTRATIO', 'MEDV', 'CAT.MEDV'), ('CRIM', 'ZN', 'AGE', 'RAD', 'TAX', 'LSTAT', 'MEDV', 'CAT.MEDV'), ('CRIM', 'ZN', 'AGE', 'RAD', 'PTRATIO', 'LSTAT', 'MEDV', 'CAT.MEDV'), ('CRIM', 'ZN', 'AGE', 'TAX', 'PTRATIO', 'LSTAT', 'MEDV', 'CAT.MEDV'), ('CRIM', 'ZN', 'DIS', 'RAD', 'TAX', 'PTRATIO', 'LSTAT', 'MEDV'), ('CRIM', 'ZN', 'DIS', 'RAD', 'TAX', 'PTRATIO', 'LSTAT', 'CAT.MEDV'), ('CRIM', 'ZN', 'DIS', 'RAD', 'TAX', 'PTRATIO', 'MEDV', 'CAT.MEDV'), ('CRIM', 'ZN', 'DIS', 'RAD', 'TAX', 'LSTAT', 'MEDV', 'CAT.MEDV'), ('CRIM', 'ZN', 'DIS', 'RAD', 'PTRATIO', 'LSTAT', 'MEDV', 'CAT.MEDV'), ('CRIM', 'ZN', 'DIS', 'TAX', 'PTRATIO', 'LSTAT', 'MEDV', 'CAT.MEDV'), ('CRIM', 'ZN', 'RAD', 'TAX', 'PTRATIO', 'LSTAT', 'MEDV', 'CAT.MEDV'), ('CRIM', 'INDUS', 'CHAS', 'NOX', 'RM', 'AGE', 'DIS', 'RAD'), ('CRIM', 'INDUS', 'CHAS', 'NOX', 'RM', 'AGE', 'DIS', 'TAX'), ('CRIM', 'INDUS', 'CHAS', 'NOX', 'RM', 'AGE', 'DIS', 'PTRATIO'), ('CRIM', 'INDUS', 'CHAS', 'NOX', 'RM', 'AGE', 'DIS', 'LSTAT'), ('CRIM', 'INDUS', 'CHAS', 'NOX', 'RM', 'AGE', 'DIS', 'MEDV'), ('CRIM', 'INDUS', 'CHAS', 'NOX', 'RM', 'AGE', 'DIS', 'CAT.MEDV'), ('CRIM', 'INDUS', 'CHAS', 'NOX', 'RM', 'AGE', 'RAD', 'TAX'), ('CRIM', 'INDUS', 'CHAS', 'NOX', 'RM', 'AGE', 'RAD', 'PTRATIO'), ('CRIM', 'INDUS', 'CHAS', 'NOX', 'RM', 'AGE', 'RAD', 'LSTAT'), ('CRIM', 'INDUS', 'CHAS', 'NOX', 'RM', 'AGE', 'RAD', 'MEDV'), ('CRIM', 'INDUS', 'CHAS', 'NOX', 'RM', 'AGE', 'RAD', 'CAT.MEDV'), ('CRIM', 'INDUS', 'CHAS', 'NOX', 'RM', 'AGE', 'TAX', 'PTRATIO'), ('CRIM', 'INDUS', 'CHAS', 'NOX', 'RM', 'AGE', 'TAX', 'LSTAT'), ('CRIM', 'INDUS', 'CHAS', 'NOX', 'RM', 'AGE', 'TAX', 'MEDV'), ('CRIM', 'INDUS', 'CHAS', 'NOX', 'RM', 'AGE', 'TAX', 'CAT.MEDV'), ('CRIM', 'INDUS', 'CHAS', 'NOX', 'RM', 'AGE', 'PTRATIO', 'LSTAT'), ('CRIM', 'INDUS', 'CHAS', 'NOX', 'RM', 'AGE', 'PTRATIO', 'MEDV'), ('CRIM', 'INDUS', 'CHAS', 'NOX', 'RM', 'AGE', 'PTRATIO', 'CAT.MEDV'), ('CRIM', 'INDUS', 'CHAS', 'NOX', 'RM', 'AGE', 'LSTAT', 'MEDV'), ('CRIM', 'INDUS', 'CHAS', 'NOX', 'RM', 'AGE', 'LSTAT', 'CAT.MEDV'), ('CRIM', 'INDUS', 'CHAS', 'NOX', 'RM', 'AGE', 'MEDV', 'CAT.MEDV'), ('CRIM', 'INDUS', 'CHAS', 'NOX', 'RM', 'DIS', 'RAD', 'TAX'), ('CRIM', 'INDUS', 'CHAS', 'NOX', 'RM', 'DIS', 'RAD', 'PTRATIO'), ('CRIM', 'INDUS', 'CHAS', 'NOX', 'RM', 'DIS', 'RAD', 'LSTAT'), ('CRIM', 'INDUS', 'CHAS', 'NOX', 'RM', 'DIS', 'RAD', 'MEDV'), ('CRIM', 'INDUS', 'CHAS', 'NOX', 'RM', 'DIS', 'RAD', 'CAT.MEDV'), ('CRIM', 'INDUS', 'CHAS', 'NOX', 'RM', 'DIS', 'TAX', 'PTRATIO'), ('CRIM', 'INDUS', 'CHAS', 'NOX', 'RM', 'DIS', 'TAX', 'LSTAT'), ('CRIM', 'INDUS', 'CHAS', 'NOX', 'RM', 'DIS', 'TAX', 'MEDV'), ('CRIM', 'INDUS', 'CHAS', 'NOX', 'RM', 'DIS', 'TAX', 'CAT.MEDV'), ('CRIM', 'INDUS', 'CHAS', 'NOX', 'RM', 'DIS', 'PTRATIO', 'LSTAT'), ('CRIM', 'INDUS', 'CHAS', 'NOX', 'RM', 'DIS', 'PTRATIO', 'MEDV'), ('CRIM', 'INDUS', 'CHAS', 'NOX', 'RM', 'DIS', 'PTRATIO', 'CAT.MEDV'), ('CRIM', 'INDUS', 'CHAS', 'NOX', 'RM', 'DIS', 'LSTAT', 'MEDV'), ('CRIM', 'INDUS', 'CHAS', 'NOX', 'RM', 'DIS', 'LSTAT', 'CAT.MEDV'), ('CRIM', 'INDUS', 'CHAS', 'NOX', 'RM', 'DIS', 'MEDV', 'CAT.MEDV'), ('CRIM', 'INDUS', 'CHAS', 'NOX', 'RM', 'RAD', 'TAX', 'PTRATIO'), ('CRIM', 'INDUS', 'CHAS', 'NOX', 'RM', 'RAD', 'TAX', 'LSTAT'), ('CRIM', 'INDUS', 'CHAS', 'NOX', 'RM', 'RAD', 'TAX', 'MEDV'), ('CRIM', 'INDUS', 'CHAS', 'NOX', 'RM', 'RAD', 'TAX', 'CAT.MEDV'), ('CRIM', 'INDUS', 'CHAS', 'NOX', 'RM', 'RAD', 'PTRATIO', 'LSTAT'), ('CRIM', 'INDUS', 'CHAS', 'NOX', 'RM', 'RAD', 'PTRATIO', 'MEDV'), ('CRIM', 'INDUS', 'CHAS', 'NOX', 'RM', 'RAD', 'PTRATIO', 'CAT.MEDV'), ('CRIM', 'INDUS', 'CHAS', 'NOX', 'RM', 'RAD', 'LSTAT', 'MEDV'), ('CRIM', 'INDUS', 'CHAS', 'NOX', 'RM', 'RAD', 'LSTAT', 'CAT.MEDV'), ('CRIM', 'INDUS', 'CHAS', 'NOX', 'RM', 'RAD', 'MEDV', 'CAT.MEDV'), ('CRIM', 'INDUS', 'CHAS', 'NOX', 'RM', 'TAX', 'PTRATIO', 'LSTAT'), ('CRIM', 'INDUS', 'CHAS', 'NOX', 'RM', 'TAX', 'PTRATIO', 'MEDV'), ('CRIM', 'INDUS', 'CHAS', 'NOX', 'RM', 'TAX', 'PTRATIO', 'CAT.MEDV'), ('CRIM', 'INDUS', 'CHAS', 'NOX', 'RM', 'TAX', 'LSTAT', 'MEDV'), ('CRIM', 'INDUS', 'CHAS', 'NOX', 'RM', 'TAX', 'LSTAT', 'CAT.MEDV'), ('CRIM', 'INDUS', 'CHAS', 'NOX', 'RM', 'TAX', 'MEDV', 'CAT.MEDV'), ('CRIM', 'INDUS', 'CHAS', 'NOX', 'RM', 'PTRATIO', 'LSTAT', 'MEDV'), ('CRIM', 'INDUS', 'CHAS', 'NOX', 'RM', 'PTRATIO', 'LSTAT', 'CAT.MEDV'), ('CRIM', 'INDUS', 'CHAS', 'NOX', 'RM', 'PTRATIO', 'MEDV', 'CAT.MEDV'), ('CRIM', 'INDUS', 'CHAS', 'NOX', 'RM', 'LSTAT', 'MEDV', 'CAT.MEDV'), ('CRIM', 'INDUS', 'CHAS', 'NOX', 'AGE', 'DIS', 'RAD', 'TAX'), ('CRIM', 'INDUS', 'CHAS', 'NOX', 'AGE', 'DIS', 'RAD', 'PTRATIO'), ('CRIM', 'INDUS', 'CHAS', 'NOX', 'AGE', 'DIS', 'RAD', 'LSTAT'), ('CRIM', 'INDUS', 'CHAS', 'NOX', 'AGE', 'DIS', 'RAD', 'MEDV'), ('CRIM', 'INDUS', 'CHAS', 'NOX', 'AGE', 'DIS', 'RAD', 'CAT.MEDV'), ('CRIM', 'INDUS', 'CHAS', 'NOX', 'AGE', 'DIS', 'TAX', 'PTRATIO'), ('CRIM', 'INDUS', 'CHAS', 'NOX', 'AGE', 'DIS', 'TAX', 'LSTAT'), ('CRIM', 'INDUS', 'CHAS', 'NOX', 'AGE', 'DIS', 'TAX', 'MEDV'), ('CRIM', 'INDUS', 'CHAS', 'NOX', 'AGE', 'DIS', 'TAX', 'CAT.MEDV'), ('CRIM', 'INDUS', 'CHAS', 'NOX', 'AGE', 'DIS', 'PTRATIO', 'LSTAT'), ('CRIM', 'INDUS', 'CHAS', 'NOX', 'AGE', 'DIS', 'PTRATIO', 'MEDV'), ('CRIM', 'INDUS', 'CHAS', 'NOX', 'AGE', 'DIS', 'PTRATIO', 'CAT.MEDV'), ('CRIM', 'INDUS', 'CHAS', 'NOX', 'AGE', 'DIS', 'LSTAT', 'MEDV'), ('CRIM', 'INDUS', 'CHAS', 'NOX', 'AGE', 'DIS', 'LSTAT', 'CAT.MEDV'), ('CRIM', 'INDUS', 'CHAS', 'NOX', 'AGE', 'DIS', 'MEDV', 'CAT.MEDV'), ('CRIM', 'INDUS', 'CHAS', 'NOX', 'AGE', 'RAD', 'TAX', 'PTRATIO'), ('CRIM', 'INDUS', 'CHAS', 'NOX', 'AGE', 'RAD', 'TAX', 'LSTAT'), ('CRIM', 'INDUS', 'CHAS', 'NOX', 'AGE', 'RAD', 'TAX', 'MEDV'), ('CRIM', 'INDUS', 'CHAS', 'NOX', 'AGE', 'RAD', 'TAX', 'CAT.MEDV'), ('CRIM', 'INDUS', 'CHAS', 'NOX', 'AGE', 'RAD', 'PTRATIO', 'LSTAT'), ('CRIM', 'INDUS', 'CHAS', 'NOX', 'AGE', 'RAD', 'PTRATIO', 'MEDV'), ('CRIM', 'INDUS', 'CHAS', 'NOX', 'AGE', 'RAD', 'PTRATIO', 'CAT.MEDV'), ('CRIM', 'INDUS', 'CHAS', 'NOX', 'AGE', 'RAD', 'LSTAT', 'MEDV'), ('CRIM', 'INDUS', 'CHAS', 'NOX', 'AGE', 'RAD', 'LSTAT', 'CAT.MEDV'), ('CRIM', 'INDUS', 'CHAS', 'NOX', 'AGE', 'RAD', 'MEDV', 'CAT.MEDV'), ('CRIM', 'INDUS', 'CHAS', 'NOX', 'AGE', 'TAX', 'PTRATIO', 'LSTAT'), ('CRIM', 'INDUS', 'CHAS', 'NOX', 'AGE', 'TAX', 'PTRATIO', 'MEDV'), ('CRIM', 'INDUS', 'CHAS', 'NOX', 'AGE', 'TAX', 'PTRATIO', 'CAT.MEDV'), ('CRIM', 'INDUS', 'CHAS', 'NOX', 'AGE', 'TAX', 'LSTAT', 'MEDV'), ('CRIM', 'INDUS', 'CHAS', 'NOX', 'AGE', 'TAX', 'LSTAT', 'CAT.MEDV'), ('CRIM', 'INDUS', 'CHAS', 'NOX', 'AGE', 'TAX', 'MEDV', 'CAT.MEDV'), ('CRIM', 'INDUS', 'CHAS', 'NOX', 'AGE', 'PTRATIO', 'LSTAT', 'MEDV'), ('CRIM', 'INDUS', 'CHAS', 'NOX', 'AGE', 'PTRATIO', 'LSTAT', 'CAT.MEDV'), ('CRIM', 'INDUS', 'CHAS', 'NOX', 'AGE', 'PTRATIO', 'MEDV', 'CAT.MEDV'), ('CRIM', 'INDUS', 'CHAS', 'NOX', 'AGE', 'LSTAT', 'MEDV', 'CAT.MEDV'), ('CRIM', 'INDUS', 'CHAS', 'NOX', 'DIS', 'RAD', 'TAX', 'PTRATIO'), ('CRIM', 'INDUS', 'CHAS', 'NOX', 'DIS', 'RAD', 'TAX', 'LSTAT'), ('CRIM', 'INDUS', 'CHAS', 'NOX', 'DIS', 'RAD', 'TAX', 'MEDV'), ('CRIM', 'INDUS', 'CHAS', 'NOX', 'DIS', 'RAD', 'TAX', 'CAT.MEDV'), ('CRIM', 'INDUS', 'CHAS', 'NOX', 'DIS', 'RAD', 'PTRATIO', 'LSTAT'), ('CRIM', 'INDUS', 'CHAS', 'NOX', 'DIS', 'RAD', 'PTRATIO', 'MEDV'), ('CRIM', 'INDUS', 'CHAS', 'NOX', 'DIS', 'RAD', 'PTRATIO', 'CAT.MEDV'), ('CRIM', 'INDUS', 'CHAS', 'NOX', 'DIS', 'RAD', 'LSTAT', 'MEDV'), ('CRIM', 'INDUS', 'CHAS', 'NOX', 'DIS', 'RAD', 'LSTAT', 'CAT.MEDV'), ('CRIM', 'INDUS', 'CHAS', 'NOX', 'DIS', 'RAD', 'MEDV', 'CAT.MEDV'), ('CRIM', 'INDUS', 'CHAS', 'NOX', 'DIS', 'TAX', 'PTRATIO', 'LSTAT'), ('CRIM', 'INDUS', 'CHAS', 'NOX', 'DIS', 'TAX', 'PTRATIO', 'MEDV'), ('CRIM', 'INDUS', 'CHAS', 'NOX', 'DIS', 'TAX', 'PTRATIO', 'CAT.MEDV'), ('CRIM', 'INDUS', 'CHAS', 'NOX', 'DIS', 'TAX', 'LSTAT', 'MEDV'), ('CRIM', 'INDUS', 'CHAS', 'NOX', 'DIS', 'TAX', 'LSTAT', 'CAT.MEDV'), ('CRIM', 'INDUS', 'CHAS', 'NOX', 'DIS', 'TAX', 'MEDV', 'CAT.MEDV'), ('CRIM', 'INDUS', 'CHAS', 'NOX', 'DIS', 'PTRATIO', 'LSTAT', 'MEDV'), ('CRIM', 'INDUS', 'CHAS', 'NOX', 'DIS', 'PTRATIO', 'LSTAT', 'CAT.MEDV'), ('CRIM', 'INDUS', 'CHAS', 'NOX', 'DIS', 'PTRATIO', 'MEDV', 'CAT.MEDV'), ('CRIM', 'INDUS', 'CHAS', 'NOX', 'DIS', 'LSTAT', 'MEDV', 'CAT.MEDV'), ('CRIM', 'INDUS', 'CHAS', 'NOX', 'RAD', 'TAX', 'PTRATIO', 'LSTAT'), ('CRIM', 'INDUS', 'CHAS', 'NOX', 'RAD', 'TAX', 'PTRATIO', 'MEDV'), ('CRIM', 'INDUS', 'CHAS', 'NOX', 'RAD', 'TAX', 'PTRATIO', 'CAT.MEDV'), ('CRIM', 'INDUS', 'CHAS', 'NOX', 'RAD', 'TAX', 'LSTAT', 'MEDV'), ('CRIM', 'INDUS', 'CHAS', 'NOX', 'RAD', 'TAX', 'LSTAT', 'CAT.MEDV'), ('CRIM', 'INDUS', 'CHAS', 'NOX', 'RAD', 'TAX', 'MEDV', 'CAT.MEDV'), ('CRIM', 'INDUS', 'CHAS', 'NOX', 'RAD', 'PTRATIO', 'LSTAT', 'MEDV'), ('CRIM', 'INDUS', 'CHAS', 'NOX', 'RAD', 'PTRATIO', 'LSTAT', 'CAT.MEDV'), ('CRIM', 'INDUS', 'CHAS', 'NOX', 'RAD', 'PTRATIO', 'MEDV', 'CAT.MEDV'), ('CRIM', 'INDUS', 'CHAS', 'NOX', 'RAD', 'LSTAT', 'MEDV', 'CAT.MEDV'), ('CRIM', 'INDUS', 'CHAS', 'NOX', 'TAX', 'PTRATIO', 'LSTAT', 'MEDV'), ('CRIM', 'INDUS', 'CHAS', 'NOX', 'TAX', 'PTRATIO', 'LSTAT', 'CAT.MEDV'), ('CRIM', 'INDUS', 'CHAS', 'NOX', 'TAX', 'PTRATIO', 'MEDV', 'CAT.MEDV'), ('CRIM', 'INDUS', 'CHAS', 'NOX', 'TAX', 'LSTAT', 'MEDV', 'CAT.MEDV'), ('CRIM', 'INDUS', 'CHAS', 'NOX', 'PTRATIO', 'LSTAT', 'MEDV', 'CAT.MEDV'), ('CRIM', 'INDUS', 'CHAS', 'RM', 'AGE', 'DIS', 'RAD', 'TAX'), ('CRIM', 'INDUS', 'CHAS', 'RM', 'AGE', 'DIS', 'RAD', 'PTRATIO'), ('CRIM', 'INDUS', 'CHAS', 'RM', 'AGE', 'DIS', 'RAD', 'LSTAT'), ('CRIM', 'INDUS', 'CHAS', 'RM', 'AGE', 'DIS', 'RAD', 'MEDV'), ('CRIM', 'INDUS', 'CHAS', 'RM', 'AGE', 'DIS', 'RAD', 'CAT.MEDV'), ('CRIM', 'INDUS', 'CHAS', 'RM', 'AGE', 'DIS', 'TAX', 'PTRATIO'), ('CRIM', 'INDUS', 'CHAS', 'RM', 'AGE', 'DIS', 'TAX', 'LSTAT'), ('CRIM', 'INDUS', 'CHAS', 'RM', 'AGE', 'DIS', 'TAX', 'MEDV'), ('CRIM', 'INDUS', 'CHAS', 'RM', 'AGE', 'DIS', 'TAX', 'CAT.MEDV'), ('CRIM', 'INDUS', 'CHAS', 'RM', 'AGE', 'DIS', 'PTRATIO', 'LSTAT'), ('CRIM', 'INDUS', 'CHAS', 'RM', 'AGE', 'DIS', 'PTRATIO', 'MEDV'), ('CRIM', 'INDUS', 'CHAS', 'RM', 'AGE', 'DIS', 'PTRATIO', 'CAT.MEDV'), ('CRIM', 'INDUS', 'CHAS', 'RM', 'AGE', 'DIS', 'LSTAT', 'MEDV'), ('CRIM', 'INDUS', 'CHAS', 'RM', 'AGE', 'DIS', 'LSTAT', 'CAT.MEDV'), ('CRIM', 'INDUS', 'CHAS', 'RM', 'AGE', 'DIS', 'MEDV', 'CAT.MEDV'), ('CRIM', 'INDUS', 'CHAS', 'RM', 'AGE', 'RAD', 'TAX', 'PTRATIO'), ('CRIM', 'INDUS', 'CHAS', 'RM', 'AGE', 'RAD', 'TAX', 'LSTAT'), ('CRIM', 'INDUS', 'CHAS', 'RM', 'AGE', 'RAD', 'TAX', 'MEDV'), ('CRIM', 'INDUS', 'CHAS', 'RM', 'AGE', 'RAD', 'TAX', 'CAT.MEDV'), ('CRIM', 'INDUS', 'CHAS', 'RM', 'AGE', 'RAD', 'PTRATIO', 'LSTAT'), ('CRIM', 'INDUS', 'CHAS', 'RM', 'AGE', 'RAD', 'PTRATIO', 'MEDV'), ('CRIM', 'INDUS', 'CHAS', 'RM', 'AGE', 'RAD', 'PTRATIO', 'CAT.MEDV'), ('CRIM', 'INDUS', 'CHAS', 'RM', 'AGE', 'RAD', 'LSTAT', 'MEDV'), ('CRIM', 'INDUS', 'CHAS', 'RM', 'AGE', 'RAD', 'LSTAT', 'CAT.MEDV'), ('CRIM', 'INDUS', 'CHAS', 'RM', 'AGE', 'RAD', 'MEDV', 'CAT.MEDV'), ('CRIM', 'INDUS', 'CHAS', 'RM', 'AGE', 'TAX', 'PTRATIO', 'LSTAT'), ('CRIM', 'INDUS', 'CHAS', 'RM', 'AGE', 'TAX', 'PTRATIO', 'MEDV'), ('CRIM', 'INDUS', 'CHAS', 'RM', 'AGE', 'TAX', 'PTRATIO', 'CAT.MEDV'), ('CRIM', 'INDUS', 'CHAS', 'RM', 'AGE', 'TAX', 'LSTAT', 'MEDV'), ('CRIM', 'INDUS', 'CHAS', 'RM', 'AGE', 'TAX', 'LSTAT', 'CAT.MEDV'), ('CRIM', 'INDUS', 'CHAS', 'RM', 'AGE', 'TAX', 'MEDV', 'CAT.MEDV'), ('CRIM', 'INDUS', 'CHAS', 'RM', 'AGE', 'PTRATIO', 'LSTAT', 'MEDV'), ('CRIM', 'INDUS', 'CHAS', 'RM', 'AGE', 'PTRATIO', 'LSTAT', 'CAT.MEDV'), ('CRIM', 'INDUS', 'CHAS', 'RM', 'AGE', 'PTRATIO', 'MEDV', 'CAT.MEDV'), ('CRIM', 'INDUS', 'CHAS', 'RM', 'AGE', 'LSTAT', 'MEDV', 'CAT.MEDV'), ('CRIM', 'INDUS', 'CHAS', 'RM', 'DIS', 'RAD', 'TAX', 'PTRATIO'), ('CRIM', 'INDUS', 'CHAS', 'RM', 'DIS', 'RAD', 'TAX', 'LSTAT'), ('CRIM', 'INDUS', 'CHAS', 'RM', 'DIS', 'RAD', 'TAX', 'MEDV'), ('CRIM', 'INDUS', 'CHAS', 'RM', 'DIS', 'RAD', 'TAX', 'CAT.MEDV'), ('CRIM', 'INDUS', 'CHAS', 'RM', 'DIS', 'RAD', 'PTRATIO', 'LSTAT'), ('CRIM', 'INDUS', 'CHAS', 'RM', 'DIS', 'RAD', 'PTRATIO', 'MEDV'), ('CRIM', 'INDUS', 'CHAS', 'RM', 'DIS', 'RAD', 'PTRATIO', 'CAT.MEDV'), ('CRIM', 'INDUS', 'CHAS', 'RM', 'DIS', 'RAD', 'LSTAT', 'MEDV'), ('CRIM', 'INDUS', 'CHAS', 'RM', 'DIS', 'RAD', 'LSTAT', 'CAT.MEDV'), ('CRIM', 'INDUS', 'CHAS', 'RM', 'DIS', 'RAD', 'MEDV', 'CAT.MEDV'), ('CRIM', 'INDUS', 'CHAS', 'RM', 'DIS', 'TAX', 'PTRATIO', 'LSTAT'), ('CRIM', 'INDUS', 'CHAS', 'RM', 'DIS', 'TAX', 'PTRATIO', 'MEDV'), ('CRIM', 'INDUS', 'CHAS', 'RM', 'DIS', 'TAX', 'PTRATIO', 'CAT.MEDV'), ('CRIM', 'INDUS', 'CHAS', 'RM', 'DIS', 'TAX', 'LSTAT', 'MEDV'), ('CRIM', 'INDUS', 'CHAS', 'RM', 'DIS', 'TAX', 'LSTAT', 'CAT.MEDV'), ('CRIM', 'INDUS', 'CHAS', 'RM', 'DIS', 'TAX', 'MEDV', 'CAT.MEDV'), ('CRIM', 'INDUS', 'CHAS', 'RM', 'DIS', 'PTRATIO', 'LSTAT', 'MEDV'), ('CRIM', 'INDUS', 'CHAS', 'RM', 'DIS', 'PTRATIO', 'LSTAT', 'CAT.MEDV'), ('CRIM', 'INDUS', 'CHAS', 'RM', 'DIS', 'PTRATIO', 'MEDV', 'CAT.MEDV'), ('CRIM', 'INDUS', 'CHAS', 'RM', 'DIS', 'LSTAT', 'MEDV', 'CAT.MEDV'), ('CRIM', 'INDUS', 'CHAS', 'RM', 'RAD', 'TAX', 'PTRATIO', 'LSTAT'), ('CRIM', 'INDUS', 'CHAS', 'RM', 'RAD', 'TAX', 'PTRATIO', 'MEDV'), ('CRIM', 'INDUS', 'CHAS', 'RM', 'RAD', 'TAX', 'PTRATIO', 'CAT.MEDV'), ('CRIM', 'INDUS', 'CHAS', 'RM', 'RAD', 'TAX', 'LSTAT', 'MEDV'), ('CRIM', 'INDUS', 'CHAS', 'RM', 'RAD', 'TAX', 'LSTAT', 'CAT.MEDV'), ('CRIM', 'INDUS', 'CHAS', 'RM', 'RAD', 'TAX', 'MEDV', 'CAT.MEDV'), ('CRIM', 'INDUS', 'CHAS', 'RM', 'RAD', 'PTRATIO', 'LSTAT', 'MEDV'), ('CRIM', 'INDUS', 'CHAS', 'RM', 'RAD', 'PTRATIO', 'LSTAT', 'CAT.MEDV'), ('CRIM', 'INDUS', 'CHAS', 'RM', 'RAD', 'PTRATIO', 'MEDV', 'CAT.MEDV'), ('CRIM', 'INDUS', 'CHAS', 'RM', 'RAD', 'LSTAT', 'MEDV', 'CAT.MEDV'), ('CRIM', 'INDUS', 'CHAS', 'RM', 'TAX', 'PTRATIO', 'LSTAT', 'MEDV'), ('CRIM', 'INDUS', 'CHAS', 'RM', 'TAX', 'PTRATIO', 'LSTAT', 'CAT.MEDV'), ('CRIM', 'INDUS', 'CHAS', 'RM', 'TAX', 'PTRATIO', 'MEDV', 'CAT.MEDV'), ('CRIM', 'INDUS', 'CHAS', 'RM', 'TAX', 'LSTAT', 'MEDV', 'CAT.MEDV'), ('CRIM', 'INDUS', 'CHAS', 'RM', 'PTRATIO', 'LSTAT', 'MEDV', 'CAT.MEDV'), ('CRIM', 'INDUS', 'CHAS', 'AGE', 'DIS', 'RAD', 'TAX', 'PTRATIO'), ('CRIM', 'INDUS', 'CHAS', 'AGE', 'DIS', 'RAD', 'TAX', 'LSTAT'), ('CRIM', 'INDUS', 'CHAS', 'AGE', 'DIS', 'RAD', 'TAX', 'MEDV'), ('CRIM', 'INDUS', 'CHAS', 'AGE', 'DIS', 'RAD', 'TAX', 'CAT.MEDV'), ('CRIM', 'INDUS', 'CHAS', 'AGE', 'DIS', 'RAD', 'PTRATIO', 'LSTAT'), ('CRIM', 'INDUS', 'CHAS', 'AGE', 'DIS', 'RAD', 'PTRATIO', 'MEDV'), ('CRIM', 'INDUS', 'CHAS', 'AGE', 'DIS', 'RAD', 'PTRATIO', 'CAT.MEDV'), ('CRIM', 'INDUS', 'CHAS', 'AGE', 'DIS', 'RAD', 'LSTAT', 'MEDV'), ('CRIM', 'INDUS', 'CHAS', 'AGE', 'DIS', 'RAD', 'LSTAT', 'CAT.MEDV'), ('CRIM', 'INDUS', 'CHAS', 'AGE', 'DIS', 'RAD', 'MEDV', 'CAT.MEDV'), ('CRIM', 'INDUS', 'CHAS', 'AGE', 'DIS', 'TAX', 'PTRATIO', 'LSTAT'), ('CRIM', 'INDUS', 'CHAS', 'AGE', 'DIS', 'TAX', 'PTRATIO', 'MEDV'), ('CRIM', 'INDUS', 'CHAS', 'AGE', 'DIS', 'TAX', 'PTRATIO', 'CAT.MEDV'), ('CRIM', 'INDUS', 'CHAS', 'AGE', 'DIS', 'TAX', 'LSTAT', 'MEDV'), ('CRIM', 'INDUS', 'CHAS', 'AGE', 'DIS', 'TAX', 'LSTAT', 'CAT.MEDV'), ('CRIM', 'INDUS', 'CHAS', 'AGE', 'DIS', 'TAX', 'MEDV', 'CAT.MEDV'), ('CRIM', 'INDUS', 'CHAS', 'AGE', 'DIS', 'PTRATIO', 'LSTAT', 'MEDV'), ('CRIM', 'INDUS', 'CHAS', 'AGE', 'DIS', 'PTRATIO', 'LSTAT', 'CAT.MEDV'), ('CRIM', 'INDUS', 'CHAS', 'AGE', 'DIS', 'PTRATIO', 'MEDV', 'CAT.MEDV'), ('CRIM', 'INDUS', 'CHAS', 'AGE', 'DIS', 'LSTAT', 'MEDV', 'CAT.MEDV'), ('CRIM', 'INDUS', 'CHAS', 'AGE', 'RAD', 'TAX', 'PTRATIO', 'LSTAT'), ('CRIM', 'INDUS', 'CHAS', 'AGE', 'RAD', 'TAX', 'PTRATIO', 'MEDV'), ('CRIM', 'INDUS', 'CHAS', 'AGE', 'RAD', 'TAX', 'PTRATIO', 'CAT.MEDV'), ('CRIM', 'INDUS', 'CHAS', 'AGE', 'RAD', 'TAX', 'LSTAT', 'MEDV'), ('CRIM', 'INDUS', 'CHAS', 'AGE', 'RAD', 'TAX', 'LSTAT', 'CAT.MEDV'), ('CRIM', 'INDUS', 'CHAS', 'AGE', 'RAD', 'TAX', 'MEDV', 'CAT.MEDV'), ('CRIM', 'INDUS', 'CHAS', 'AGE', 'RAD', 'PTRATIO', 'LSTAT', 'MEDV'), ('CRIM', 'INDUS', 'CHAS', 'AGE', 'RAD', 'PTRATIO', 'LSTAT', 'CAT.MEDV'), ('CRIM', 'INDUS', 'CHAS', 'AGE', 'RAD', 'PTRATIO', 'MEDV', 'CAT.MEDV'), ('CRIM', 'INDUS', 'CHAS', 'AGE', 'RAD', 'LSTAT', 'MEDV', 'CAT.MEDV'), ('CRIM', 'INDUS', 'CHAS', 'AGE', 'TAX', 'PTRATIO', 'LSTAT', 'MEDV'), ('CRIM', 'INDUS', 'CHAS', 'AGE', 'TAX', 'PTRATIO', 'LSTAT', 'CAT.MEDV'), ('CRIM', 'INDUS', 'CHAS', 'AGE', 'TAX', 'PTRATIO', 'MEDV', 'CAT.MEDV'), ('CRIM', 'INDUS', 'CHAS', 'AGE', 'TAX', 'LSTAT', 'MEDV', 'CAT.MEDV'), ('CRIM', 'INDUS', 'CHAS', 'AGE', 'PTRATIO', 'LSTAT', 'MEDV', 'CAT.MEDV'), ('CRIM', 'INDUS', 'CHAS', 'DIS', 'RAD', 'TAX', 'PTRATIO', 'LSTAT'), ('CRIM', 'INDUS', 'CHAS', 'DIS', 'RAD', 'TAX', 'PTRATIO', 'MEDV'), ('CRIM', 'INDUS', 'CHAS', 'DIS', 'RAD', 'TAX', 'PTRATIO', 'CAT.MEDV'), ('CRIM', 'INDUS', 'CHAS', 'DIS', 'RAD', 'TAX', 'LSTAT', 'MEDV'), ('CRIM', 'INDUS', 'CHAS', 'DIS', 'RAD', 'TAX', 'LSTAT', 'CAT.MEDV'), ('CRIM', 'INDUS', 'CHAS', 'DIS', 'RAD', 'TAX', 'MEDV', 'CAT.MEDV'), ('CRIM', 'INDUS', 'CHAS', 'DIS', 'RAD', 'PTRATIO', 'LSTAT', 'MEDV'), ('CRIM', 'INDUS', 'CHAS', 'DIS', 'RAD', 'PTRATIO', 'LSTAT', 'CAT.MEDV'), ('CRIM', 'INDUS', 'CHAS', 'DIS', 'RAD', 'PTRATIO', 'MEDV', 'CAT.MEDV'), ('CRIM', 'INDUS', 'CHAS', 'DIS', 'RAD', 'LSTAT', 'MEDV', 'CAT.MEDV'), ('CRIM', 'INDUS', 'CHAS', 'DIS', 'TAX', 'PTRATIO', 'LSTAT', 'MEDV'), ('CRIM', 'INDUS', 'CHAS', 'DIS', 'TAX', 'PTRATIO', 'LSTAT', 'CAT.MEDV'), ('CRIM', 'INDUS', 'CHAS', 'DIS', 'TAX', 'PTRATIO', 'MEDV', 'CAT.MEDV'), ('CRIM', 'INDUS', 'CHAS', 'DIS', 'TAX', 'LSTAT', 'MEDV', 'CAT.MEDV'), ('CRIM', 'INDUS', 'CHAS', 'DIS', 'PTRATIO', 'LSTAT', 'MEDV', 'CAT.MEDV'), ('CRIM', 'INDUS', 'CHAS', 'RAD', 'TAX', 'PTRATIO', 'LSTAT', 'MEDV'), ('CRIM', 'INDUS', 'CHAS', 'RAD', 'TAX', 'PTRATIO', 'LSTAT', 'CAT.MEDV'), ('CRIM', 'INDUS', 'CHAS', 'RAD', 'TAX', 'PTRATIO', 'MEDV', 'CAT.MEDV'), ('CRIM', 'INDUS', 'CHAS', 'RAD', 'TAX', 'LSTAT', 'MEDV', 'CAT.MEDV'), ('CRIM', 'INDUS', 'CHAS', 'RAD', 'PTRATIO', 'LSTAT', 'MEDV', 'CAT.MEDV'), ('CRIM', 'INDUS', 'CHAS', 'TAX', 'PTRATIO', 'LSTAT', 'MEDV', 'CAT.MEDV'), ('CRIM', 'INDUS', 'NOX', 'RM', 'AGE', 'DIS', 'RAD', 'TAX'), ('CRIM', 'INDUS', 'NOX', 'RM', 'AGE', 'DIS', 'RAD', 'PTRATIO'), ('CRIM', 'INDUS', 'NOX', 'RM', 'AGE', 'DIS', 'RAD', 'LSTAT'), ('CRIM', 'INDUS', 'NOX', 'RM', 'AGE', 'DIS', 'RAD', 'MEDV'), ('CRIM', 'INDUS', 'NOX', 'RM', 'AGE', 'DIS', 'RAD', 'CAT.MEDV'), ('CRIM', 'INDUS', 'NOX', 'RM', 'AGE', 'DIS', 'TAX', 'PTRATIO'), ('CRIM', 'INDUS', 'NOX', 'RM', 'AGE', 'DIS', 'TAX', 'LSTAT'), ('CRIM', 'INDUS', 'NOX', 'RM', 'AGE', 'DIS', 'TAX', 'MEDV'), ('CRIM', 'INDUS', 'NOX', 'RM', 'AGE', 'DIS', 'TAX', 'CAT.MEDV'), ('CRIM', 'INDUS', 'NOX', 'RM', 'AGE', 'DIS', 'PTRATIO', 'LSTAT'), ('CRIM', 'INDUS', 'NOX', 'RM', 'AGE', 'DIS', 'PTRATIO', 'MEDV'), ('CRIM', 'INDUS', 'NOX', 'RM', 'AGE', 'DIS', 'PTRATIO', 'CAT.MEDV'), ('CRIM', 'INDUS', 'NOX', 'RM', 'AGE', 'DIS', 'LSTAT', 'MEDV'), ('CRIM', 'INDUS', 'NOX', 'RM', 'AGE', 'DIS', 'LSTAT', 'CAT.MEDV'), ('CRIM', 'INDUS', 'NOX', 'RM', 'AGE', 'DIS', 'MEDV', 'CAT.MEDV'), ('CRIM', 'INDUS', 'NOX', 'RM', 'AGE', 'RAD', 'TAX', 'PTRATIO'), ('CRIM', 'INDUS', 'NOX', 'RM', 'AGE', 'RAD', 'TAX', 'LSTAT'), ('CRIM', 'INDUS', 'NOX', 'RM', 'AGE', 'RAD', 'TAX', 'MEDV'), ('CRIM', 'INDUS', 'NOX', 'RM', 'AGE', 'RAD', 'TAX', 'CAT.MEDV'), ('CRIM', 'INDUS', 'NOX', 'RM', 'AGE', 'RAD', 'PTRATIO', 'LSTAT'), ('CRIM', 'INDUS', 'NOX', 'RM', 'AGE', 'RAD', 'PTRATIO', 'MEDV'), ('CRIM', 'INDUS', 'NOX', 'RM', 'AGE', 'RAD', 'PTRATIO', 'CAT.MEDV'), ('CRIM', 'INDUS', 'NOX', 'RM', 'AGE', 'RAD', 'LSTAT', 'MEDV'), ('CRIM', 'INDUS', 'NOX', 'RM', 'AGE', 'RAD', 'LSTAT', 'CAT.MEDV'), ('CRIM', 'INDUS', 'NOX', 'RM', 'AGE', 'RAD', 'MEDV', 'CAT.MEDV'), ('CRIM', 'INDUS', 'NOX', 'RM', 'AGE', 'TAX', 'PTRATIO', 'LSTAT'), ('CRIM', 'INDUS', 'NOX', 'RM', 'AGE', 'TAX', 'PTRATIO', 'MEDV'), ('CRIM', 'INDUS', 'NOX', 'RM', 'AGE', 'TAX', 'PTRATIO', 'CAT.MEDV'), ('CRIM', 'INDUS', 'NOX', 'RM', 'AGE', 'TAX', 'LSTAT', 'MEDV'), ('CRIM', 'INDUS', 'NOX', 'RM', 'AGE', 'TAX', 'LSTAT', 'CAT.MEDV'), ('CRIM', 'INDUS', 'NOX', 'RM', 'AGE', 'TAX', 'MEDV', 'CAT.MEDV'), ('CRIM', 'INDUS', 'NOX', 'RM', 'AGE', 'PTRATIO', 'LSTAT', 'MEDV'), ('CRIM', 'INDUS', 'NOX', 'RM', 'AGE', 'PTRATIO', 'LSTAT', 'CAT.MEDV'), ('CRIM', 'INDUS', 'NOX', 'RM', 'AGE', 'PTRATIO', 'MEDV', 'CAT.MEDV'), ('CRIM', 'INDUS', 'NOX', 'RM', 'AGE', 'LSTAT', 'MEDV', 'CAT.MEDV'), ('CRIM', 'INDUS', 'NOX', 'RM', 'DIS', 'RAD', 'TAX', 'PTRATIO'), ('CRIM', 'INDUS', 'NOX', 'RM', 'DIS', 'RAD', 'TAX', 'LSTAT'), ('CRIM', 'INDUS', 'NOX', 'RM', 'DIS', 'RAD', 'TAX', 'MEDV'), ('CRIM', 'INDUS', 'NOX', 'RM', 'DIS', 'RAD', 'TAX', 'CAT.MEDV'), ('CRIM', 'INDUS', 'NOX', 'RM', 'DIS', 'RAD', 'PTRATIO', 'LSTAT'), ('CRIM', 'INDUS', 'NOX', 'RM', 'DIS', 'RAD', 'PTRATIO', 'MEDV'), ('CRIM', 'INDUS', 'NOX', 'RM', 'DIS', 'RAD', 'PTRATIO', 'CAT.MEDV'), ('CRIM', 'INDUS', 'NOX', 'RM', 'DIS', 'RAD', 'LSTAT', 'MEDV'), ('CRIM', 'INDUS', 'NOX', 'RM', 'DIS', 'RAD', 'LSTAT', 'CAT.MEDV'), ('CRIM', 'INDUS', 'NOX', 'RM', 'DIS', 'RAD', 'MEDV', 'CAT.MEDV'), ('CRIM', 'INDUS', 'NOX', 'RM', 'DIS', 'TAX', 'PTRATIO', 'LSTAT'), ('CRIM', 'INDUS', 'NOX', 'RM', 'DIS', 'TAX', 'PTRATIO', 'MEDV'), ('CRIM', 'INDUS', 'NOX', 'RM', 'DIS', 'TAX', 'PTRATIO', 'CAT.MEDV'), ('CRIM', 'INDUS', 'NOX', 'RM', 'DIS', 'TAX', 'LSTAT', 'MEDV'), ('CRIM', 'INDUS', 'NOX', 'RM', 'DIS', 'TAX', 'LSTAT', 'CAT.MEDV'), ('CRIM', 'INDUS', 'NOX', 'RM', 'DIS', 'TAX', 'MEDV', 'CAT.MEDV'), ('CRIM', 'INDUS', 'NOX', 'RM', 'DIS', 'PTRATIO', 'LSTAT', 'MEDV'), ('CRIM', 'INDUS', 'NOX', 'RM', 'DIS', 'PTRATIO', 'LSTAT', 'CAT.MEDV'), ('CRIM', 'INDUS', 'NOX', 'RM', 'DIS', 'PTRATIO', 'MEDV', 'CAT.MEDV'), ('CRIM', 'INDUS', 'NOX', 'RM', 'DIS', 'LSTAT', 'MEDV', 'CAT.MEDV'), ('CRIM', 'INDUS', 'NOX', 'RM', 'RAD', 'TAX', 'PTRATIO', 'LSTAT'), ('CRIM', 'INDUS', 'NOX', 'RM', 'RAD', 'TAX', 'PTRATIO', 'MEDV'), ('CRIM', 'INDUS', 'NOX', 'RM', 'RAD', 'TAX', 'PTRATIO', 'CAT.MEDV'), ('CRIM', 'INDUS', 'NOX', 'RM', 'RAD', 'TAX', 'LSTAT', 'MEDV'), ('CRIM', 'INDUS', 'NOX', 'RM', 'RAD', 'TAX', 'LSTAT', 'CAT.MEDV'), ('CRIM', 'INDUS', 'NOX', 'RM', 'RAD', 'TAX', 'MEDV', 'CAT.MEDV'), ('CRIM', 'INDUS', 'NOX', 'RM', 'RAD', 'PTRATIO', 'LSTAT', 'MEDV'), ('CRIM', 'INDUS', 'NOX', 'RM', 'RAD', 'PTRATIO', 'LSTAT', 'CAT.MEDV'), ('CRIM', 'INDUS', 'NOX', 'RM', 'RAD', 'PTRATIO', 'MEDV', 'CAT.MEDV'), ('CRIM', 'INDUS', 'NOX', 'RM', 'RAD', 'LSTAT', 'MEDV', 'CAT.MEDV'), ('CRIM', 'INDUS', 'NOX', 'RM', 'TAX', 'PTRATIO', 'LSTAT', 'MEDV'), ('CRIM', 'INDUS', 'NOX', 'RM', 'TAX', 'PTRATIO', 'LSTAT', 'CAT.MEDV'), ('CRIM', 'INDUS', 'NOX', 'RM', 'TAX', 'PTRATIO', 'MEDV', 'CAT.MEDV'), ('CRIM', 'INDUS', 'NOX', 'RM', 'TAX', 'LSTAT', 'MEDV', 'CAT.MEDV'), ('CRIM', 'INDUS', 'NOX', 'RM', 'PTRATIO', 'LSTAT', 'MEDV', 'CAT.MEDV'), ('CRIM', 'INDUS', 'NOX', 'AGE', 'DIS', 'RAD', 'TAX', 'PTRATIO'), ('CRIM', 'INDUS', 'NOX', 'AGE', 'DIS', 'RAD', 'TAX', 'LSTAT'), ('CRIM', 'INDUS', 'NOX', 'AGE', 'DIS', 'RAD', 'TAX', 'MEDV'), ('CRIM', 'INDUS', 'NOX', 'AGE', 'DIS', 'RAD', 'TAX', 'CAT.MEDV'), ('CRIM', 'INDUS', 'NOX', 'AGE', 'DIS', 'RAD', 'PTRATIO', 'LSTAT'), ('CRIM', 'INDUS', 'NOX', 'AGE', 'DIS', 'RAD', 'PTRATIO', 'MEDV'), ('CRIM', 'INDUS', 'NOX', 'AGE', 'DIS', 'RAD', 'PTRATIO', 'CAT.MEDV'), ('CRIM', 'INDUS', 'NOX', 'AGE', 'DIS', 'RAD', 'LSTAT', 'MEDV'), ('CRIM', 'INDUS', 'NOX', 'AGE', 'DIS', 'RAD', 'LSTAT', 'CAT.MEDV'), ('CRIM', 'INDUS', 'NOX', 'AGE', 'DIS', 'RAD', 'MEDV', 'CAT.MEDV'), ('CRIM', 'INDUS', 'NOX', 'AGE', 'DIS', 'TAX', 'PTRATIO', 'LSTAT'), ('CRIM', 'INDUS', 'NOX', 'AGE', 'DIS', 'TAX', 'PTRATIO', 'MEDV'), ('CRIM', 'INDUS', 'NOX', 'AGE', 'DIS', 'TAX', 'PTRATIO', 'CAT.MEDV'), ('CRIM', 'INDUS', 'NOX', 'AGE', 'DIS', 'TAX', 'LSTAT', 'MEDV'), ('CRIM', 'INDUS', 'NOX', 'AGE', 'DIS', 'TAX', 'LSTAT', 'CAT.MEDV'), ('CRIM', 'INDUS', 'NOX', 'AGE', 'DIS', 'TAX', 'MEDV', 'CAT.MEDV'), ('CRIM', 'INDUS', 'NOX', 'AGE', 'DIS', 'PTRATIO', 'LSTAT', 'MEDV'), ('CRIM', 'INDUS', 'NOX', 'AGE', 'DIS', 'PTRATIO', 'LSTAT', 'CAT.MEDV'), ('CRIM', 'INDUS', 'NOX', 'AGE', 'DIS', 'PTRATIO', 'MEDV', 'CAT.MEDV'), ('CRIM', 'INDUS', 'NOX', 'AGE', 'DIS', 'LSTAT', 'MEDV', 'CAT.MEDV'), ('CRIM', 'INDUS', 'NOX', 'AGE', 'RAD', 'TAX', 'PTRATIO', 'LSTAT'), ('CRIM', 'INDUS', 'NOX', 'AGE', 'RAD', 'TAX', 'PTRATIO', 'MEDV'), ('CRIM', 'INDUS', 'NOX', 'AGE', 'RAD', 'TAX', 'PTRATIO', 'CAT.MEDV'), ('CRIM', 'INDUS', 'NOX', 'AGE', 'RAD', 'TAX', 'LSTAT', 'MEDV'), ('CRIM', 'INDUS', 'NOX', 'AGE', 'RAD', 'TAX', 'LSTAT', 'CAT.MEDV'), ('CRIM', 'INDUS', 'NOX', 'AGE', 'RAD', 'TAX', 'MEDV', 'CAT.MEDV'), ('CRIM', 'INDUS', 'NOX', 'AGE', 'RAD', 'PTRATIO', 'LSTAT', 'MEDV'), ('CRIM', 'INDUS', 'NOX', 'AGE', 'RAD', 'PTRATIO', 'LSTAT', 'CAT.MEDV'), ('CRIM', 'INDUS', 'NOX', 'AGE', 'RAD', 'PTRATIO', 'MEDV', 'CAT.MEDV'), ('CRIM', 'INDUS', 'NOX', 'AGE', 'RAD', 'LSTAT', 'MEDV', 'CAT.MEDV'), ('CRIM', 'INDUS', 'NOX', 'AGE', 'TAX', 'PTRATIO', 'LSTAT', 'MEDV'), ('CRIM', 'INDUS', 'NOX', 'AGE', 'TAX', 'PTRATIO', 'LSTAT', 'CAT.MEDV'), ('CRIM', 'INDUS', 'NOX', 'AGE', 'TAX', 'PTRATIO', 'MEDV', 'CAT.MEDV'), ('CRIM', 'INDUS', 'NOX', 'AGE', 'TAX', 'LSTAT', 'MEDV', 'CAT.MEDV'), ('CRIM', 'INDUS', 'NOX', 'AGE', 'PTRATIO', 'LSTAT', 'MEDV', 'CAT.MEDV'), ('CRIM', 'INDUS', 'NOX', 'DIS', 'RAD', 'TAX', 'PTRATIO', 'LSTAT'), ('CRIM', 'INDUS', 'NOX', 'DIS', 'RAD', 'TAX', 'PTRATIO', 'MEDV'), ('CRIM', 'INDUS', 'NOX', 'DIS', 'RAD', 'TAX', 'PTRATIO', 'CAT.MEDV'), ('CRIM', 'INDUS', 'NOX', 'DIS', 'RAD', 'TAX', 'LSTAT', 'MEDV'), ('CRIM', 'INDUS', 'NOX', 'DIS', 'RAD', 'TAX', 'LSTAT', 'CAT.MEDV'), ('CRIM', 'INDUS', 'NOX', 'DIS', 'RAD', 'TAX', 'MEDV', 'CAT.MEDV'), ('CRIM', 'INDUS', 'NOX', 'DIS', 'RAD', 'PTRATIO', 'LSTAT', 'MEDV'), ('CRIM', 'INDUS', 'NOX', 'DIS', 'RAD', 'PTRATIO', 'LSTAT', 'CAT.MEDV'), ('CRIM', 'INDUS', 'NOX', 'DIS', 'RAD', 'PTRATIO', 'MEDV', 'CAT.MEDV'), ('CRIM', 'INDUS', 'NOX', 'DIS', 'RAD', 'LSTAT', 'MEDV', 'CAT.MEDV'), ('CRIM', 'INDUS', 'NOX', 'DIS', 'TAX', 'PTRATIO', 'LSTAT', 'MEDV'), ('CRIM', 'INDUS', 'NOX', 'DIS', 'TAX', 'PTRATIO', 'LSTAT', 'CAT.MEDV'), ('CRIM', 'INDUS', 'NOX', 'DIS', 'TAX', 'PTRATIO', 'MEDV', 'CAT.MEDV'), ('CRIM', 'INDUS', 'NOX', 'DIS', 'TAX', 'LSTAT', 'MEDV', 'CAT.MEDV'), ('CRIM', 'INDUS', 'NOX', 'DIS', 'PTRATIO', 'LSTAT', 'MEDV', 'CAT.MEDV'), ('CRIM', 'INDUS', 'NOX', 'RAD', 'TAX', 'PTRATIO', 'LSTAT', 'MEDV'), ('CRIM', 'INDUS', 'NOX', 'RAD', 'TAX', 'PTRATIO', 'LSTAT', 'CAT.MEDV'), ('CRIM', 'INDUS', 'NOX', 'RAD', 'TAX', 'PTRATIO', 'MEDV', 'CAT.MEDV'), ('CRIM', 'INDUS', 'NOX', 'RAD', 'TAX', 'LSTAT', 'MEDV', 'CAT.MEDV'), ('CRIM', 'INDUS', 'NOX', 'RAD', 'PTRATIO', 'LSTAT', 'MEDV', 'CAT.MEDV'), ('CRIM', 'INDUS', 'NOX', 'TAX', 'PTRATIO', 'LSTAT', 'MEDV', 'CAT.MEDV'), ('CRIM', 'INDUS', 'RM', 'AGE', 'DIS', 'RAD', 'TAX', 'PTRATIO'), ('CRIM', 'INDUS', 'RM', 'AGE', 'DIS', 'RAD', 'TAX', 'LSTAT'), ('CRIM', 'INDUS', 'RM', 'AGE', 'DIS', 'RAD', 'TAX', 'MEDV'), ('CRIM', 'INDUS', 'RM', 'AGE', 'DIS', 'RAD', 'TAX', 'CAT.MEDV'), ('CRIM', 'INDUS', 'RM', 'AGE', 'DIS', 'RAD', 'PTRATIO', 'LSTAT'), ('CRIM', 'INDUS', 'RM', 'AGE', 'DIS', 'RAD', 'PTRATIO', 'MEDV'), ('CRIM', 'INDUS', 'RM', 'AGE', 'DIS', 'RAD', 'PTRATIO', 'CAT.MEDV'), ('CRIM', 'INDUS', 'RM', 'AGE', 'DIS', 'RAD', 'LSTAT', 'MEDV'), ('CRIM', 'INDUS', 'RM', 'AGE', 'DIS', 'RAD', 'LSTAT', 'CAT.MEDV'), ('CRIM', 'INDUS', 'RM', 'AGE', 'DIS', 'RAD', 'MEDV', 'CAT.MEDV'), ('CRIM', 'INDUS', 'RM', 'AGE', 'DIS', 'TAX', 'PTRATIO', 'LSTAT'), ('CRIM', 'INDUS', 'RM', 'AGE', 'DIS', 'TAX', 'PTRATIO', 'MEDV'), ('CRIM', 'INDUS', 'RM', 'AGE', 'DIS', 'TAX', 'PTRATIO', 'CAT.MEDV'), ('CRIM', 'INDUS', 'RM', 'AGE', 'DIS', 'TAX', 'LSTAT', 'MEDV'), ('CRIM', 'INDUS', 'RM', 'AGE', 'DIS', 'TAX', 'LSTAT', 'CAT.MEDV'), ('CRIM', 'INDUS', 'RM', 'AGE', 'DIS', 'TAX', 'MEDV', 'CAT.MEDV'), ('CRIM', 'INDUS', 'RM', 'AGE', 'DIS', 'PTRATIO', 'LSTAT', 'MEDV'), ('CRIM', 'INDUS', 'RM', 'AGE', 'DIS', 'PTRATIO', 'LSTAT', 'CAT.MEDV'), ('CRIM', 'INDUS', 'RM', 'AGE', 'DIS', 'PTRATIO', 'MEDV', 'CAT.MEDV'), ('CRIM', 'INDUS', 'RM', 'AGE', 'DIS', 'LSTAT', 'MEDV', 'CAT.MEDV'), ('CRIM', 'INDUS', 'RM', 'AGE', 'RAD', 'TAX', 'PTRATIO', 'LSTAT'), ('CRIM', 'INDUS', 'RM', 'AGE', 'RAD', 'TAX', 'PTRATIO', 'MEDV'), ('CRIM', 'INDUS', 'RM', 'AGE', 'RAD', 'TAX', 'PTRATIO', 'CAT.MEDV'), ('CRIM', 'INDUS', 'RM', 'AGE', 'RAD', 'TAX', 'LSTAT', 'MEDV'), ('CRIM', 'INDUS', 'RM', 'AGE', 'RAD', 'TAX', 'LSTAT', 'CAT.MEDV'), ('CRIM', 'INDUS', 'RM', 'AGE', 'RAD', 'TAX', 'MEDV', 'CAT.MEDV'), ('CRIM', 'INDUS', 'RM', 'AGE', 'RAD', 'PTRATIO', 'LSTAT', 'MEDV'), ('CRIM', 'INDUS', 'RM', 'AGE', 'RAD', 'PTRATIO', 'LSTAT', 'CAT.MEDV'), ('CRIM', 'INDUS', 'RM', 'AGE', 'RAD', 'PTRATIO', 'MEDV', 'CAT.MEDV'), ('CRIM', 'INDUS', 'RM', 'AGE', 'RAD', 'LSTAT', 'MEDV', 'CAT.MEDV'), ('CRIM', 'INDUS', 'RM', 'AGE', 'TAX', 'PTRATIO', 'LSTAT', 'MEDV'), ('CRIM', 'INDUS', 'RM', 'AGE', 'TAX', 'PTRATIO', 'LSTAT', 'CAT.MEDV'), ('CRIM', 'INDUS', 'RM', 'AGE', 'TAX', 'PTRATIO', 'MEDV', 'CAT.MEDV'), ('CRIM', 'INDUS', 'RM', 'AGE', 'TAX', 'LSTAT', 'MEDV', 'CAT.MEDV'), ('CRIM', 'INDUS', 'RM', 'AGE', 'PTRATIO', 'LSTAT', 'MEDV', 'CAT.MEDV'), ('CRIM', 'INDUS', 'RM', 'DIS', 'RAD', 'TAX', 'PTRATIO', 'LSTAT'), ('CRIM', 'INDUS', 'RM', 'DIS', 'RAD', 'TAX', 'PTRATIO', 'MEDV'), ('CRIM', 'INDUS', 'RM', 'DIS', 'RAD', 'TAX', 'PTRATIO', 'CAT.MEDV'), ('CRIM', 'INDUS', 'RM', 'DIS', 'RAD', 'TAX', 'LSTAT', 'MEDV'), ('CRIM', 'INDUS', 'RM', 'DIS', 'RAD', 'TAX', 'LSTAT', 'CAT.MEDV'), ('CRIM', 'INDUS', 'RM', 'DIS', 'RAD', 'TAX', 'MEDV', 'CAT.MEDV'), ('CRIM', 'INDUS', 'RM', 'DIS', 'RAD', 'PTRATIO', 'LSTAT', 'MEDV'), ('CRIM', 'INDUS', 'RM', 'DIS', 'RAD', 'PTRATIO', 'LSTAT', 'CAT.MEDV'), ('CRIM', 'INDUS', 'RM', 'DIS', 'RAD', 'PTRATIO', 'MEDV', 'CAT.MEDV'), ('CRIM', 'INDUS', 'RM', 'DIS', 'RAD', 'LSTAT', 'MEDV', 'CAT.MEDV'), ('CRIM', 'INDUS', 'RM', 'DIS', 'TAX', 'PTRATIO', 'LSTAT', 'MEDV'), ('CRIM', 'INDUS', 'RM', 'DIS', 'TAX', 'PTRATIO', 'LSTAT', 'CAT.MEDV'), ('CRIM', 'INDUS', 'RM', 'DIS', 'TAX', 'PTRATIO', 'MEDV', 'CAT.MEDV'), ('CRIM', 'INDUS', 'RM', 'DIS', 'TAX', 'LSTAT', 'MEDV', 'CAT.MEDV'), ('CRIM', 'INDUS', 'RM', 'DIS', 'PTRATIO', 'LSTAT', 'MEDV', 'CAT.MEDV'), ('CRIM', 'INDUS', 'RM', 'RAD', 'TAX', 'PTRATIO', 'LSTAT', 'MEDV'), ('CRIM', 'INDUS', 'RM', 'RAD', 'TAX', 'PTRATIO', 'LSTAT', 'CAT.MEDV'), ('CRIM', 'INDUS', 'RM', 'RAD', 'TAX', 'PTRATIO', 'MEDV', 'CAT.MEDV'), ('CRIM', 'INDUS', 'RM', 'RAD', 'TAX', 'LSTAT', 'MEDV', 'CAT.MEDV'), ('CRIM', 'INDUS', 'RM', 'RAD', 'PTRATIO', 'LSTAT', 'MEDV', 'CAT.MEDV'), ('CRIM', 'INDUS', 'RM', 'TAX', 'PTRATIO', 'LSTAT', 'MEDV', 'CAT.MEDV'), ('CRIM', 'INDUS', 'AGE', 'DIS', 'RAD', 'TAX', 'PTRATIO', 'LSTAT'), ('CRIM', 'INDUS', 'AGE', 'DIS', 'RAD', 'TAX', 'PTRATIO', 'MEDV'), ('CRIM', 'INDUS', 'AGE', 'DIS', 'RAD', 'TAX', 'PTRATIO', 'CAT.MEDV'), ('CRIM', 'INDUS', 'AGE', 'DIS', 'RAD', 'TAX', 'LSTAT', 'MEDV'), ('CRIM', 'INDUS', 'AGE', 'DIS', 'RAD', 'TAX', 'LSTAT', 'CAT.MEDV'), ('CRIM', 'INDUS', 'AGE', 'DIS', 'RAD', 'TAX', 'MEDV', 'CAT.MEDV'), ('CRIM', 'INDUS', 'AGE', 'DIS', 'RAD', 'PTRATIO', 'LSTAT', 'MEDV'), ('CRIM', 'INDUS', 'AGE', 'DIS', 'RAD', 'PTRATIO', 'LSTAT', 'CAT.MEDV'), ('CRIM', 'INDUS', 'AGE', 'DIS', 'RAD', 'PTRATIO', 'MEDV', 'CAT.MEDV'), ('CRIM', 'INDUS', 'AGE', 'DIS', 'RAD', 'LSTAT', 'MEDV', 'CAT.MEDV'), ('CRIM', 'INDUS', 'AGE', 'DIS', 'TAX', 'PTRATIO', 'LSTAT', 'MEDV'), ('CRIM', 'INDUS', 'AGE', 'DIS', 'TAX', 'PTRATIO', 'LSTAT', 'CAT.MEDV'), ('CRIM', 'INDUS', 'AGE', 'DIS', 'TAX', 'PTRATIO', 'MEDV', 'CAT.MEDV'), ('CRIM', 'INDUS', 'AGE', 'DIS', 'TAX', 'LSTAT', 'MEDV', 'CAT.MEDV'), ('CRIM', 'INDUS', 'AGE', 'DIS', 'PTRATIO', 'LSTAT', 'MEDV', 'CAT.MEDV'), ('CRIM', 'INDUS', 'AGE', 'RAD', 'TAX', 'PTRATIO', 'LSTAT', 'MEDV'), ('CRIM', 'INDUS', 'AGE', 'RAD', 'TAX', 'PTRATIO', 'LSTAT', 'CAT.MEDV'), ('CRIM', 'INDUS', 'AGE', 'RAD', 'TAX', 'PTRATIO', 'MEDV', 'CAT.MEDV'), ('CRIM', 'INDUS', 'AGE', 'RAD', 'TAX', 'LSTAT', 'MEDV', 'CAT.MEDV'), ('CRIM', 'INDUS', 'AGE', 'RAD', 'PTRATIO', 'LSTAT', 'MEDV', 'CAT.MEDV'), ('CRIM', 'INDUS', 'AGE', 'TAX', 'PTRATIO', 'LSTAT', 'MEDV', 'CAT.MEDV'), ('CRIM', 'INDUS', 'DIS', 'RAD', 'TAX', 'PTRATIO', 'LSTAT', 'MEDV'), ('CRIM', 'INDUS', 'DIS', 'RAD', 'TAX', 'PTRATIO', 'LSTAT', 'CAT.MEDV'), ('CRIM', 'INDUS', 'DIS', 'RAD', 'TAX', 'PTRATIO', 'MEDV', 'CAT.MEDV'), ('CRIM', 'INDUS', 'DIS', 'RAD', 'TAX', 'LSTAT', 'MEDV', 'CAT.MEDV'), ('CRIM', 'INDUS', 'DIS', 'RAD', 'PTRATIO', 'LSTAT', 'MEDV', 'CAT.MEDV'), ('CRIM', 'INDUS', 'DIS', 'TAX', 'PTRATIO', 'LSTAT', 'MEDV', 'CAT.MEDV'), ('CRIM', 'INDUS', 'RAD', 'TAX', 'PTRATIO', 'LSTAT', 'MEDV', 'CAT.MEDV'), ('CRIM', 'CHAS', 'NOX', 'RM', 'AGE', 'DIS', 'RAD', 'TAX'), ('CRIM', 'CHAS', 'NOX', 'RM', 'AGE', 'DIS', 'RAD', 'PTRATIO'), ('CRIM', 'CHAS', 'NOX', 'RM', 'AGE', 'DIS', 'RAD', 'LSTAT'), ('CRIM', 'CHAS', 'NOX', 'RM', 'AGE', 'DIS', 'RAD', 'MEDV'), ('CRIM', 'CHAS', 'NOX', 'RM', 'AGE', 'DIS', 'RAD', 'CAT.MEDV'), ('CRIM', 'CHAS', 'NOX', 'RM', 'AGE', 'DIS', 'TAX', 'PTRATIO'), ('CRIM', 'CHAS', 'NOX', 'RM', 'AGE', 'DIS', 'TAX', 'LSTAT'), ('CRIM', 'CHAS', 'NOX', 'RM', 'AGE', 'DIS', 'TAX', 'MEDV'), ('CRIM', 'CHAS', 'NOX', 'RM', 'AGE', 'DIS', 'TAX', 'CAT.MEDV'), ('CRIM', 'CHAS', 'NOX', 'RM', 'AGE', 'DIS', 'PTRATIO', 'LSTAT'), ('CRIM', 'CHAS', 'NOX', 'RM', 'AGE', 'DIS', 'PTRATIO', 'MEDV'), ('CRIM', 'CHAS', 'NOX', 'RM', 'AGE', 'DIS', 'PTRATIO', 'CAT.MEDV'), ('CRIM', 'CHAS', 'NOX', 'RM', 'AGE', 'DIS', 'LSTAT', 'MEDV'), ('CRIM', 'CHAS', 'NOX', 'RM', 'AGE', 'DIS', 'LSTAT', 'CAT.MEDV'), ('CRIM', 'CHAS', 'NOX', 'RM', 'AGE', 'DIS', 'MEDV', 'CAT.MEDV'), ('CRIM', 'CHAS', 'NOX', 'RM', 'AGE', 'RAD', 'TAX', 'PTRATIO'), ('CRIM', 'CHAS', 'NOX', 'RM', 'AGE', 'RAD', 'TAX', 'LSTAT'), ('CRIM', 'CHAS', 'NOX', 'RM', 'AGE', 'RAD', 'TAX', 'MEDV'), ('CRIM', 'CHAS', 'NOX', 'RM', 'AGE', 'RAD', 'TAX', 'CAT.MEDV'), ('CRIM', 'CHAS', 'NOX', 'RM', 'AGE', 'RAD', 'PTRATIO', 'LSTAT'), ('CRIM', 'CHAS', 'NOX', 'RM', 'AGE', 'RAD', 'PTRATIO', 'MEDV'), ('CRIM', 'CHAS', 'NOX', 'RM', 'AGE', 'RAD', 'PTRATIO', 'CAT.MEDV'), ('CRIM', 'CHAS', 'NOX', 'RM', 'AGE', 'RAD', 'LSTAT', 'MEDV'), ('CRIM', 'CHAS', 'NOX', 'RM', 'AGE', 'RAD', 'LSTAT', 'CAT.MEDV'), ('CRIM', 'CHAS', 'NOX', 'RM', 'AGE', 'RAD', 'MEDV', 'CAT.MEDV'), ('CRIM', 'CHAS', 'NOX', 'RM', 'AGE', 'TAX', 'PTRATIO', 'LSTAT'), ('CRIM', 'CHAS', 'NOX', 'RM', 'AGE', 'TAX', 'PTRATIO', 'MEDV'), ('CRIM', 'CHAS', 'NOX', 'RM', 'AGE', 'TAX', 'PTRATIO', 'CAT.MEDV'), ('CRIM', 'CHAS', 'NOX', 'RM', 'AGE', 'TAX', 'LSTAT', 'MEDV'), ('CRIM', 'CHAS', 'NOX', 'RM', 'AGE', 'TAX', 'LSTAT', 'CAT.MEDV'), ('CRIM', 'CHAS', 'NOX', 'RM', 'AGE', 'TAX', 'MEDV', 'CAT.MEDV'), ('CRIM', 'CHAS', 'NOX', 'RM', 'AGE', 'PTRATIO', 'LSTAT', 'MEDV'), ('CRIM', 'CHAS', 'NOX', 'RM', 'AGE', 'PTRATIO', 'LSTAT', 'CAT.MEDV'), ('CRIM', 'CHAS', 'NOX', 'RM', 'AGE', 'PTRATIO', 'MEDV', 'CAT.MEDV'), ('CRIM', 'CHAS', 'NOX', 'RM', 'AGE', 'LSTAT', 'MEDV', 'CAT.MEDV'), ('CRIM', 'CHAS', 'NOX', 'RM', 'DIS', 'RAD', 'TAX', 'PTRATIO'), ('CRIM', 'CHAS', 'NOX', 'RM', 'DIS', 'RAD', 'TAX', 'LSTAT'), ('CRIM', 'CHAS', 'NOX', 'RM', 'DIS', 'RAD', 'TAX', 'MEDV'), ('CRIM', 'CHAS', 'NOX', 'RM', 'DIS', 'RAD', 'TAX', 'CAT.MEDV'), ('CRIM', 'CHAS', 'NOX', 'RM', 'DIS', 'RAD', 'PTRATIO', 'LSTAT'), ('CRIM', 'CHAS', 'NOX', 'RM', 'DIS', 'RAD', 'PTRATIO', 'MEDV'), ('CRIM', 'CHAS', 'NOX', 'RM', 'DIS', 'RAD', 'PTRATIO', 'CAT.MEDV'), ('CRIM', 'CHAS', 'NOX', 'RM', 'DIS', 'RAD', 'LSTAT', 'MEDV'), ('CRIM', 'CHAS', 'NOX', 'RM', 'DIS', 'RAD', 'LSTAT', 'CAT.MEDV'), ('CRIM', 'CHAS', 'NOX', 'RM', 'DIS', 'RAD', 'MEDV', 'CAT.MEDV'), ('CRIM', 'CHAS', 'NOX', 'RM', 'DIS', 'TAX', 'PTRATIO', 'LSTAT'), ('CRIM', 'CHAS', 'NOX', 'RM', 'DIS', 'TAX', 'PTRATIO', 'MEDV'), ('CRIM', 'CHAS', 'NOX', 'RM', 'DIS', 'TAX', 'PTRATIO', 'CAT.MEDV'), ('CRIM', 'CHAS', 'NOX', 'RM', 'DIS', 'TAX', 'LSTAT', 'MEDV'), ('CRIM', 'CHAS', 'NOX', 'RM', 'DIS', 'TAX', 'LSTAT', 'CAT.MEDV'), ('CRIM', 'CHAS', 'NOX', 'RM', 'DIS', 'TAX', 'MEDV', 'CAT.MEDV'), ('CRIM', 'CHAS', 'NOX', 'RM', 'DIS', 'PTRATIO', 'LSTAT', 'MEDV'), ('CRIM', 'CHAS', 'NOX', 'RM', 'DIS', 'PTRATIO', 'LSTAT', 'CAT.MEDV'), ('CRIM', 'CHAS', 'NOX', 'RM', 'DIS', 'PTRATIO', 'MEDV', 'CAT.MEDV'), ('CRIM', 'CHAS', 'NOX', 'RM', 'DIS', 'LSTAT', 'MEDV', 'CAT.MEDV'), ('CRIM', 'CHAS', 'NOX', 'RM', 'RAD', 'TAX', 'PTRATIO', 'LSTAT'), ('CRIM', 'CHAS', 'NOX', 'RM', 'RAD', 'TAX', 'PTRATIO', 'MEDV'), ('CRIM', 'CHAS', 'NOX', 'RM', 'RAD', 'TAX', 'PTRATIO', 'CAT.MEDV'), ('CRIM', 'CHAS', 'NOX', 'RM', 'RAD', 'TAX', 'LSTAT', 'MEDV'), ('CRIM', 'CHAS', 'NOX', 'RM', 'RAD', 'TAX', 'LSTAT', 'CAT.MEDV'), ('CRIM', 'CHAS', 'NOX', 'RM', 'RAD', 'TAX', 'MEDV', 'CAT.MEDV'), ('CRIM', 'CHAS', 'NOX', 'RM', 'RAD', 'PTRATIO', 'LSTAT', 'MEDV'), ('CRIM', 'CHAS', 'NOX', 'RM', 'RAD', 'PTRATIO', 'LSTAT', 'CAT.MEDV'), ('CRIM', 'CHAS', 'NOX', 'RM', 'RAD', 'PTRATIO', 'MEDV', 'CAT.MEDV'), ('CRIM', 'CHAS', 'NOX', 'RM', 'RAD', 'LSTAT', 'MEDV', 'CAT.MEDV'), ('CRIM', 'CHAS', 'NOX', 'RM', 'TAX', 'PTRATIO', 'LSTAT', 'MEDV'), ('CRIM', 'CHAS', 'NOX', 'RM', 'TAX', 'PTRATIO', 'LSTAT', 'CAT.MEDV'), ('CRIM', 'CHAS', 'NOX', 'RM', 'TAX', 'PTRATIO', 'MEDV', 'CAT.MEDV'), ('CRIM', 'CHAS', 'NOX', 'RM', 'TAX', 'LSTAT', 'MEDV', 'CAT.MEDV'), ('CRIM', 'CHAS', 'NOX', 'RM', 'PTRATIO', 'LSTAT', 'MEDV', 'CAT.MEDV'), ('CRIM', 'CHAS', 'NOX', 'AGE', 'DIS', 'RAD', 'TAX', 'PTRATIO'), ('CRIM', 'CHAS', 'NOX', 'AGE', 'DIS', 'RAD', 'TAX', 'LSTAT'), ('CRIM', 'CHAS', 'NOX', 'AGE', 'DIS', 'RAD', 'TAX', 'MEDV'), ('CRIM', 'CHAS', 'NOX', 'AGE', 'DIS', 'RAD', 'TAX', 'CAT.MEDV'), ('CRIM', 'CHAS', 'NOX', 'AGE', 'DIS', 'RAD', 'PTRATIO', 'LSTAT'), ('CRIM', 'CHAS', 'NOX', 'AGE', 'DIS', 'RAD', 'PTRATIO', 'MEDV'), ('CRIM', 'CHAS', 'NOX', 'AGE', 'DIS', 'RAD', 'PTRATIO', 'CAT.MEDV'), ('CRIM', 'CHAS', 'NOX', 'AGE', 'DIS', 'RAD', 'LSTAT', 'MEDV'), ('CRIM', 'CHAS', 'NOX', 'AGE', 'DIS', 'RAD', 'LSTAT', 'CAT.MEDV'), ('CRIM', 'CHAS', 'NOX', 'AGE', 'DIS', 'RAD', 'MEDV', 'CAT.MEDV'), ('CRIM', 'CHAS', 'NOX', 'AGE', 'DIS', 'TAX', 'PTRATIO', 'LSTAT'), ('CRIM', 'CHAS', 'NOX', 'AGE', 'DIS', 'TAX', 'PTRATIO', 'MEDV'), ('CRIM', 'CHAS', 'NOX', 'AGE', 'DIS', 'TAX', 'PTRATIO', 'CAT.MEDV'), ('CRIM', 'CHAS', 'NOX', 'AGE', 'DIS', 'TAX', 'LSTAT', 'MEDV'), ('CRIM', 'CHAS', 'NOX', 'AGE', 'DIS', 'TAX', 'LSTAT', 'CAT.MEDV'), ('CRIM', 'CHAS', 'NOX', 'AGE', 'DIS', 'TAX', 'MEDV', 'CAT.MEDV'), ('CRIM', 'CHAS', 'NOX', 'AGE', 'DIS', 'PTRATIO', 'LSTAT', 'MEDV'), ('CRIM', 'CHAS', 'NOX', 'AGE', 'DIS', 'PTRATIO', 'LSTAT', 'CAT.MEDV'), ('CRIM', 'CHAS', 'NOX', 'AGE', 'DIS', 'PTRATIO', 'MEDV', 'CAT.MEDV'), ('CRIM', 'CHAS', 'NOX', 'AGE', 'DIS', 'LSTAT', 'MEDV', 'CAT.MEDV'), ('CRIM', 'CHAS', 'NOX', 'AGE', 'RAD', 'TAX', 'PTRATIO', 'LSTAT'), ('CRIM', 'CHAS', 'NOX', 'AGE', 'RAD', 'TAX', 'PTRATIO', 'MEDV'), ('CRIM', 'CHAS', 'NOX', 'AGE', 'RAD', 'TAX', 'PTRATIO', 'CAT.MEDV'), ('CRIM', 'CHAS', 'NOX', 'AGE', 'RAD', 'TAX', 'LSTAT', 'MEDV'), ('CRIM', 'CHAS', 'NOX', 'AGE', 'RAD', 'TAX', 'LSTAT', 'CAT.MEDV'), ('CRIM', 'CHAS', 'NOX', 'AGE', 'RAD', 'TAX', 'MEDV', 'CAT.MEDV'), ('CRIM', 'CHAS', 'NOX', 'AGE', 'RAD', 'PTRATIO', 'LSTAT', 'MEDV'), ('CRIM', 'CHAS', 'NOX', 'AGE', 'RAD', 'PTRATIO', 'LSTAT', 'CAT.MEDV'), ('CRIM', 'CHAS', 'NOX', 'AGE', 'RAD', 'PTRATIO', 'MEDV', 'CAT.MEDV'), ('CRIM', 'CHAS', 'NOX', 'AGE', 'RAD', 'LSTAT', 'MEDV', 'CAT.MEDV'), ('CRIM', 'CHAS', 'NOX', 'AGE', 'TAX', 'PTRATIO', 'LSTAT', 'MEDV'), ('CRIM', 'CHAS', 'NOX', 'AGE', 'TAX', 'PTRATIO', 'LSTAT', 'CAT.MEDV'), ('CRIM', 'CHAS', 'NOX', 'AGE', 'TAX', 'PTRATIO', 'MEDV', 'CAT.MEDV'), ('CRIM', 'CHAS', 'NOX', 'AGE', 'TAX', 'LSTAT', 'MEDV', 'CAT.MEDV'), ('CRIM', 'CHAS', 'NOX', 'AGE', 'PTRATIO', 'LSTAT', 'MEDV', 'CAT.MEDV'), ('CRIM', 'CHAS', 'NOX', 'DIS', 'RAD', 'TAX', 'PTRATIO', 'LSTAT'), ('CRIM', 'CHAS', 'NOX', 'DIS', 'RAD', 'TAX', 'PTRATIO', 'MEDV'), ('CRIM', 'CHAS', 'NOX', 'DIS', 'RAD', 'TAX', 'PTRATIO', 'CAT.MEDV'), ('CRIM', 'CHAS', 'NOX', 'DIS', 'RAD', 'TAX', 'LSTAT', 'MEDV'), ('CRIM', 'CHAS', 'NOX', 'DIS', 'RAD', 'TAX', 'LSTAT', 'CAT.MEDV'), ('CRIM', 'CHAS', 'NOX', 'DIS', 'RAD', 'TAX', 'MEDV', 'CAT.MEDV'), ('CRIM', 'CHAS', 'NOX', 'DIS', 'RAD', 'PTRATIO', 'LSTAT', 'MEDV'), ('CRIM', 'CHAS', 'NOX', 'DIS', 'RAD', 'PTRATIO', 'LSTAT', 'CAT.MEDV'), ('CRIM', 'CHAS', 'NOX', 'DIS', 'RAD', 'PTRATIO', 'MEDV', 'CAT.MEDV'), ('CRIM', 'CHAS', 'NOX', 'DIS', 'RAD', 'LSTAT', 'MEDV', 'CAT.MEDV'), ('CRIM', 'CHAS', 'NOX', 'DIS', 'TAX', 'PTRATIO', 'LSTAT', 'MEDV'), ('CRIM', 'CHAS', 'NOX', 'DIS', 'TAX', 'PTRATIO', 'LSTAT', 'CAT.MEDV'), ('CRIM', 'CHAS', 'NOX', 'DIS', 'TAX', 'PTRATIO', 'MEDV', 'CAT.MEDV'), ('CRIM', 'CHAS', 'NOX', 'DIS', 'TAX', 'LSTAT', 'MEDV', 'CAT.MEDV'), ('CRIM', 'CHAS', 'NOX', 'DIS', 'PTRATIO', 'LSTAT', 'MEDV', 'CAT.MEDV'), ('CRIM', 'CHAS', 'NOX', 'RAD', 'TAX', 'PTRATIO', 'LSTAT', 'MEDV'), ('CRIM', 'CHAS', 'NOX', 'RAD', 'TAX', 'PTRATIO', 'LSTAT', 'CAT.MEDV'), ('CRIM', 'CHAS', 'NOX', 'RAD', 'TAX', 'PTRATIO', 'MEDV', 'CAT.MEDV'), ('CRIM', 'CHAS', 'NOX', 'RAD', 'TAX', 'LSTAT', 'MEDV', 'CAT.MEDV'), ('CRIM', 'CHAS', 'NOX', 'RAD', 'PTRATIO', 'LSTAT', 'MEDV', 'CAT.MEDV'), ('CRIM', 'CHAS', 'NOX', 'TAX', 'PTRATIO', 'LSTAT', 'MEDV', 'CAT.MEDV'), ('CRIM', 'CHAS', 'RM', 'AGE', 'DIS', 'RAD', 'TAX', 'PTRATIO'), ('CRIM', 'CHAS', 'RM', 'AGE', 'DIS', 'RAD', 'TAX', 'LSTAT'), ('CRIM', 'CHAS', 'RM', 'AGE', 'DIS', 'RAD', 'TAX', 'MEDV'), ('CRIM', 'CHAS', 'RM', 'AGE', 'DIS', 'RAD', 'TAX', 'CAT.MEDV'), ('CRIM', 'CHAS', 'RM', 'AGE', 'DIS', 'RAD', 'PTRATIO', 'LSTAT'), ('CRIM', 'CHAS', 'RM', 'AGE', 'DIS', 'RAD', 'PTRATIO', 'MEDV'), ('CRIM', 'CHAS', 'RM', 'AGE', 'DIS', 'RAD', 'PTRATIO', 'CAT.MEDV'), ('CRIM', 'CHAS', 'RM', 'AGE', 'DIS', 'RAD', 'LSTAT', 'MEDV'), ('CRIM', 'CHAS', 'RM', 'AGE', 'DIS', 'RAD', 'LSTAT', 'CAT.MEDV'), ('CRIM', 'CHAS', 'RM', 'AGE', 'DIS', 'RAD', 'MEDV', 'CAT.MEDV'), ('CRIM', 'CHAS', 'RM', 'AGE', 'DIS', 'TAX', 'PTRATIO', 'LSTAT'), ('CRIM', 'CHAS', 'RM', 'AGE', 'DIS', 'TAX', 'PTRATIO', 'MEDV'), ('CRIM', 'CHAS', 'RM', 'AGE', 'DIS', 'TAX', 'PTRATIO', 'CAT.MEDV'), ('CRIM', 'CHAS', 'RM', 'AGE', 'DIS', 'TAX', 'LSTAT', 'MEDV'), ('CRIM', 'CHAS', 'RM', 'AGE', 'DIS', 'TAX', 'LSTAT', 'CAT.MEDV'), ('CRIM', 'CHAS', 'RM', 'AGE', 'DIS', 'TAX', 'MEDV', 'CAT.MEDV'), ('CRIM', 'CHAS', 'RM', 'AGE', 'DIS', 'PTRATIO', 'LSTAT', 'MEDV'), ('CRIM', 'CHAS', 'RM', 'AGE', 'DIS', 'PTRATIO', 'LSTAT', 'CAT.MEDV'), ('CRIM', 'CHAS', 'RM', 'AGE', 'DIS', 'PTRATIO', 'MEDV', 'CAT.MEDV'), ('CRIM', 'CHAS', 'RM', 'AGE', 'DIS', 'LSTAT', 'MEDV', 'CAT.MEDV'), ('CRIM', 'CHAS', 'RM', 'AGE', 'RAD', 'TAX', 'PTRATIO', 'LSTAT'), ('CRIM', 'CHAS', 'RM', 'AGE', 'RAD', 'TAX', 'PTRATIO', 'MEDV'), ('CRIM', 'CHAS', 'RM', 'AGE', 'RAD', 'TAX', 'PTRATIO', 'CAT.MEDV'), ('CRIM', 'CHAS', 'RM', 'AGE', 'RAD', 'TAX', 'LSTAT', 'MEDV'), ('CRIM', 'CHAS', 'RM', 'AGE', 'RAD', 'TAX', 'LSTAT', 'CAT.MEDV'), ('CRIM', 'CHAS', 'RM', 'AGE', 'RAD', 'TAX', 'MEDV', 'CAT.MEDV'), ('CRIM', 'CHAS', 'RM', 'AGE', 'RAD', 'PTRATIO', 'LSTAT', 'MEDV'), ('CRIM', 'CHAS', 'RM', 'AGE', 'RAD', 'PTRATIO', 'LSTAT', 'CAT.MEDV'), ('CRIM', 'CHAS', 'RM', 'AGE', 'RAD', 'PTRATIO', 'MEDV', 'CAT.MEDV'), ('CRIM', 'CHAS', 'RM', 'AGE', 'RAD', 'LSTAT', 'MEDV', 'CAT.MEDV'), ('CRIM', 'CHAS', 'RM', 'AGE', 'TAX', 'PTRATIO', 'LSTAT', 'MEDV'), ('CRIM', 'CHAS', 'RM', 'AGE', 'TAX', 'PTRATIO', 'LSTAT', 'CAT.MEDV'), ('CRIM', 'CHAS', 'RM', 'AGE', 'TAX', 'PTRATIO', 'MEDV', 'CAT.MEDV'), ('CRIM', 'CHAS', 'RM', 'AGE', 'TAX', 'LSTAT', 'MEDV', 'CAT.MEDV'), ('CRIM', 'CHAS', 'RM', 'AGE', 'PTRATIO', 'LSTAT', 'MEDV', 'CAT.MEDV'), ('CRIM', 'CHAS', 'RM', 'DIS', 'RAD', 'TAX', 'PTRATIO', 'LSTAT'), ('CRIM', 'CHAS', 'RM', 'DIS', 'RAD', 'TAX', 'PTRATIO', 'MEDV'), ('CRIM', 'CHAS', 'RM', 'DIS', 'RAD', 'TAX', 'PTRATIO', 'CAT.MEDV'), ('CRIM', 'CHAS', 'RM', 'DIS', 'RAD', 'TAX', 'LSTAT', 'MEDV'), ('CRIM', 'CHAS', 'RM', 'DIS', 'RAD', 'TAX', 'LSTAT', 'CAT.MEDV'), ('CRIM', 'CHAS', 'RM', 'DIS', 'RAD', 'TAX', 'MEDV', 'CAT.MEDV'), ('CRIM', 'CHAS', 'RM', 'DIS', 'RAD', 'PTRATIO', 'LSTAT', 'MEDV'), ('CRIM', 'CHAS', 'RM', 'DIS', 'RAD', 'PTRATIO', 'LSTAT', 'CAT.MEDV'), ('CRIM', 'CHAS', 'RM', 'DIS', 'RAD', 'PTRATIO', 'MEDV', 'CAT.MEDV'), ('CRIM', 'CHAS', 'RM', 'DIS', 'RAD', 'LSTAT', 'MEDV', 'CAT.MEDV'), ('CRIM', 'CHAS', 'RM', 'DIS', 'TAX', 'PTRATIO', 'LSTAT', 'MEDV'), ('CRIM', 'CHAS', 'RM', 'DIS', 'TAX', 'PTRATIO', 'LSTAT', 'CAT.MEDV'), ('CRIM', 'CHAS', 'RM', 'DIS', 'TAX', 'PTRATIO', 'MEDV', 'CAT.MEDV'), ('CRIM', 'CHAS', 'RM', 'DIS', 'TAX', 'LSTAT', 'MEDV', 'CAT.MEDV'), ('CRIM', 'CHAS', 'RM', 'DIS', 'PTRATIO', 'LSTAT', 'MEDV', 'CAT.MEDV'), ('CRIM', 'CHAS', 'RM', 'RAD', 'TAX', 'PTRATIO', 'LSTAT', 'MEDV'), ('CRIM', 'CHAS', 'RM', 'RAD', 'TAX', 'PTRATIO', 'LSTAT', 'CAT.MEDV'), ('CRIM', 'CHAS', 'RM', 'RAD', 'TAX', 'PTRATIO', 'MEDV', 'CAT.MEDV'), ('CRIM', 'CHAS', 'RM', 'RAD', 'TAX', 'LSTAT', 'MEDV', 'CAT.MEDV'), ('CRIM', 'CHAS', 'RM', 'RAD', 'PTRATIO', 'LSTAT', 'MEDV', 'CAT.MEDV'), ('CRIM', 'CHAS', 'RM', 'TAX', 'PTRATIO', 'LSTAT', 'MEDV', 'CAT.MEDV'), ('CRIM', 'CHAS', 'AGE', 'DIS', 'RAD', 'TAX', 'PTRATIO', 'LSTAT'), ('CRIM', 'CHAS', 'AGE', 'DIS', 'RAD', 'TAX', 'PTRATIO', 'MEDV'), ('CRIM', 'CHAS', 'AGE', 'DIS', 'RAD', 'TAX', 'PTRATIO', 'CAT.MEDV'), ('CRIM', 'CHAS', 'AGE', 'DIS', 'RAD', 'TAX', 'LSTAT', 'MEDV'), ('CRIM', 'CHAS', 'AGE', 'DIS', 'RAD', 'TAX', 'LSTAT', 'CAT.MEDV'), ('CRIM', 'CHAS', 'AGE', 'DIS', 'RAD', 'TAX', 'MEDV', 'CAT.MEDV'), ('CRIM', 'CHAS', 'AGE', 'DIS', 'RAD', 'PTRATIO', 'LSTAT', 'MEDV'), ('CRIM', 'CHAS', 'AGE', 'DIS', 'RAD', 'PTRATIO', 'LSTAT', 'CAT.MEDV'), ('CRIM', 'CHAS', 'AGE', 'DIS', 'RAD', 'PTRATIO', 'MEDV', 'CAT.MEDV'), ('CRIM', 'CHAS', 'AGE', 'DIS', 'RAD', 'LSTAT', 'MEDV', 'CAT.MEDV'), ('CRIM', 'CHAS', 'AGE', 'DIS', 'TAX', 'PTRATIO', 'LSTAT', 'MEDV'), ('CRIM', 'CHAS', 'AGE', 'DIS', 'TAX', 'PTRATIO', 'LSTAT', 'CAT.MEDV'), ('CRIM', 'CHAS', 'AGE', 'DIS', 'TAX', 'PTRATIO', 'MEDV', 'CAT.MEDV'), ('CRIM', 'CHAS', 'AGE', 'DIS', 'TAX', 'LSTAT', 'MEDV', 'CAT.MEDV'), ('CRIM', 'CHAS', 'AGE', 'DIS', 'PTRATIO', 'LSTAT', 'MEDV', 'CAT.MEDV'), ('CRIM', 'CHAS', 'AGE', 'RAD', 'TAX', 'PTRATIO', 'LSTAT', 'MEDV'), ('CRIM', 'CHAS', 'AGE', 'RAD', 'TAX', 'PTRATIO', 'LSTAT', 'CAT.MEDV'), ('CRIM', 'CHAS', 'AGE', 'RAD', 'TAX', 'PTRATIO', 'MEDV', 'CAT.MEDV'), ('CRIM', 'CHAS', 'AGE', 'RAD', 'TAX', 'LSTAT', 'MEDV', 'CAT.MEDV'), ('CRIM', 'CHAS', 'AGE', 'RAD', 'PTRATIO', 'LSTAT', 'MEDV', 'CAT.MEDV'), ('CRIM', 'CHAS', 'AGE', 'TAX', 'PTRATIO', 'LSTAT', 'MEDV', 'CAT.MEDV'), ('CRIM', 'CHAS', 'DIS', 'RAD', 'TAX', 'PTRATIO', 'LSTAT', 'MEDV'), ('CRIM', 'CHAS', 'DIS', 'RAD', 'TAX', 'PTRATIO', 'LSTAT', 'CAT.MEDV'), ('CRIM', 'CHAS', 'DIS', 'RAD', 'TAX', 'PTRATIO', 'MEDV', 'CAT.MEDV'), ('CRIM', 'CHAS', 'DIS', 'RAD', 'TAX', 'LSTAT', 'MEDV', 'CAT.MEDV'), ('CRIM', 'CHAS', 'DIS', 'RAD', 'PTRATIO', 'LSTAT', 'MEDV', 'CAT.MEDV'), ('CRIM', 'CHAS', 'DIS', 'TAX', 'PTRATIO', 'LSTAT', 'MEDV', 'CAT.MEDV'), ('CRIM', 'CHAS', 'RAD', 'TAX', 'PTRATIO', 'LSTAT', 'MEDV', 'CAT.MEDV'), ('CRIM', 'NOX', 'RM', 'AGE', 'DIS', 'RAD', 'TAX', 'PTRATIO'), ('CRIM', 'NOX', 'RM', 'AGE', 'DIS', 'RAD', 'TAX', 'LSTAT'), ('CRIM', 'NOX', 'RM', 'AGE', 'DIS', 'RAD', 'TAX', 'MEDV'), ('CRIM', 'NOX', 'RM', 'AGE', 'DIS', 'RAD', 'TAX', 'CAT.MEDV'), ('CRIM', 'NOX', 'RM', 'AGE', 'DIS', 'RAD', 'PTRATIO', 'LSTAT'), ('CRIM', 'NOX', 'RM', 'AGE', 'DIS', 'RAD', 'PTRATIO', 'MEDV'), ('CRIM', 'NOX', 'RM', 'AGE', 'DIS', 'RAD', 'PTRATIO', 'CAT.MEDV'), ('CRIM', 'NOX', 'RM', 'AGE', 'DIS', 'RAD', 'LSTAT', 'MEDV'), ('CRIM', 'NOX', 'RM', 'AGE', 'DIS', 'RAD', 'LSTAT', 'CAT.MEDV'), ('CRIM', 'NOX', 'RM', 'AGE', 'DIS', 'RAD', 'MEDV', 'CAT.MEDV'), ('CRIM', 'NOX', 'RM', 'AGE', 'DIS', 'TAX', 'PTRATIO', 'LSTAT'), ('CRIM', 'NOX', 'RM', 'AGE', 'DIS', 'TAX', 'PTRATIO', 'MEDV'), ('CRIM', 'NOX', 'RM', 'AGE', 'DIS', 'TAX', 'PTRATIO', 'CAT.MEDV'), ('CRIM', 'NOX', 'RM', 'AGE', 'DIS', 'TAX', 'LSTAT', 'MEDV'), ('CRIM', 'NOX', 'RM', 'AGE', 'DIS', 'TAX', 'LSTAT', 'CAT.MEDV'), ('CRIM', 'NOX', 'RM', 'AGE', 'DIS', 'TAX', 'MEDV', 'CAT.MEDV'), ('CRIM', 'NOX', 'RM', 'AGE', 'DIS', 'PTRATIO', 'LSTAT', 'MEDV'), ('CRIM', 'NOX', 'RM', 'AGE', 'DIS', 'PTRATIO', 'LSTAT', 'CAT.MEDV'), ('CRIM', 'NOX', 'RM', 'AGE', 'DIS', 'PTRATIO', 'MEDV', 'CAT.MEDV'), ('CRIM', 'NOX', 'RM', 'AGE', 'DIS', 'LSTAT', 'MEDV', 'CAT.MEDV'), ('CRIM', 'NOX', 'RM', 'AGE', 'RAD', 'TAX', 'PTRATIO', 'LSTAT'), ('CRIM', 'NOX', 'RM', 'AGE', 'RAD', 'TAX', 'PTRATIO', 'MEDV'), ('CRIM', 'NOX', 'RM', 'AGE', 'RAD', 'TAX', 'PTRATIO', 'CAT.MEDV'), ('CRIM', 'NOX', 'RM', 'AGE', 'RAD', 'TAX', 'LSTAT', 'MEDV'), ('CRIM', 'NOX', 'RM', 'AGE', 'RAD', 'TAX', 'LSTAT', 'CAT.MEDV'), ('CRIM', 'NOX', 'RM', 'AGE', 'RAD', 'TAX', 'MEDV', 'CAT.MEDV'), ('CRIM', 'NOX', 'RM', 'AGE', 'RAD', 'PTRATIO', 'LSTAT', 'MEDV'), ('CRIM', 'NOX', 'RM', 'AGE', 'RAD', 'PTRATIO', 'LSTAT', 'CAT.MEDV'), ('CRIM', 'NOX', 'RM', 'AGE', 'RAD', 'PTRATIO', 'MEDV', 'CAT.MEDV'), ('CRIM', 'NOX', 'RM', 'AGE', 'RAD', 'LSTAT', 'MEDV', 'CAT.MEDV'), ('CRIM', 'NOX', 'RM', 'AGE', 'TAX', 'PTRATIO', 'LSTAT', 'MEDV'), ('CRIM', 'NOX', 'RM', 'AGE', 'TAX', 'PTRATIO', 'LSTAT', 'CAT.MEDV'), ('CRIM', 'NOX', 'RM', 'AGE', 'TAX', 'PTRATIO', 'MEDV', 'CAT.MEDV'), ('CRIM', 'NOX', 'RM', 'AGE', 'TAX', 'LSTAT', 'MEDV', 'CAT.MEDV'), ('CRIM', 'NOX', 'RM', 'AGE', 'PTRATIO', 'LSTAT', 'MEDV', 'CAT.MEDV'), ('CRIM', 'NOX', 'RM', 'DIS', 'RAD', 'TAX', 'PTRATIO', 'LSTAT'), ('CRIM', 'NOX', 'RM', 'DIS', 'RAD', 'TAX', 'PTRATIO', 'MEDV'), ('CRIM', 'NOX', 'RM', 'DIS', 'RAD', 'TAX', 'PTRATIO', 'CAT.MEDV'), ('CRIM', 'NOX', 'RM', 'DIS', 'RAD', 'TAX', 'LSTAT', 'MEDV'), ('CRIM', 'NOX', 'RM', 'DIS', 'RAD', 'TAX', 'LSTAT', 'CAT.MEDV'), ('CRIM', 'NOX', 'RM', 'DIS', 'RAD', 'TAX', 'MEDV', 'CAT.MEDV'), ('CRIM', 'NOX', 'RM', 'DIS', 'RAD', 'PTRATIO', 'LSTAT', 'MEDV'), ('CRIM', 'NOX', 'RM', 'DIS', 'RAD', 'PTRATIO', 'LSTAT', 'CAT.MEDV'), ('CRIM', 'NOX', 'RM', 'DIS', 'RAD', 'PTRATIO', 'MEDV', 'CAT.MEDV'), ('CRIM', 'NOX', 'RM', 'DIS', 'RAD', 'LSTAT', 'MEDV', 'CAT.MEDV'), ('CRIM', 'NOX', 'RM', 'DIS', 'TAX', 'PTRATIO', 'LSTAT', 'MEDV'), ('CRIM', 'NOX', 'RM', 'DIS', 'TAX', 'PTRATIO', 'LSTAT', 'CAT.MEDV'), ('CRIM', 'NOX', 'RM', 'DIS', 'TAX', 'PTRATIO', 'MEDV', 'CAT.MEDV'), ('CRIM', 'NOX', 'RM', 'DIS', 'TAX', 'LSTAT', 'MEDV', 'CAT.MEDV'), ('CRIM', 'NOX', 'RM', 'DIS', 'PTRATIO', 'LSTAT', 'MEDV', 'CAT.MEDV'), ('CRIM', 'NOX', 'RM', 'RAD', 'TAX', 'PTRATIO', 'LSTAT', 'MEDV'), ('CRIM', 'NOX', 'RM', 'RAD', 'TAX', 'PTRATIO', 'LSTAT', 'CAT.MEDV'), ('CRIM', 'NOX', 'RM', 'RAD', 'TAX', 'PTRATIO', 'MEDV', 'CAT.MEDV'), ('CRIM', 'NOX', 'RM', 'RAD', 'TAX', 'LSTAT', 'MEDV', 'CAT.MEDV'), ('CRIM', 'NOX', 'RM', 'RAD', 'PTRATIO', 'LSTAT', 'MEDV', 'CAT.MEDV'), ('CRIM', 'NOX', 'RM', 'TAX', 'PTRATIO', 'LSTAT', 'MEDV', 'CAT.MEDV'), ('CRIM', 'NOX', 'AGE', 'DIS', 'RAD', 'TAX', 'PTRATIO', 'LSTAT'), ('CRIM', 'NOX', 'AGE', 'DIS', 'RAD', 'TAX', 'PTRATIO', 'MEDV'), ('CRIM', 'NOX', 'AGE', 'DIS', 'RAD', 'TAX', 'PTRATIO', 'CAT.MEDV'), ('CRIM', 'NOX', 'AGE', 'DIS', 'RAD', 'TAX', 'LSTAT', 'MEDV'), ('CRIM', 'NOX', 'AGE', 'DIS', 'RAD', 'TAX', 'LSTAT', 'CAT.MEDV'), ('CRIM', 'NOX', 'AGE', 'DIS', 'RAD', 'TAX', 'MEDV', 'CAT.MEDV'), ('CRIM', 'NOX', 'AGE', 'DIS', 'RAD', 'PTRATIO', 'LSTAT', 'MEDV'), ('CRIM', 'NOX', 'AGE', 'DIS', 'RAD', 'PTRATIO', 'LSTAT', 'CAT.MEDV'), ('CRIM', 'NOX', 'AGE', 'DIS', 'RAD', 'PTRATIO', 'MEDV', 'CAT.MEDV'), ('CRIM', 'NOX', 'AGE', 'DIS', 'RAD', 'LSTAT', 'MEDV', 'CAT.MEDV'), ('CRIM', 'NOX', 'AGE', 'DIS', 'TAX', 'PTRATIO', 'LSTAT', 'MEDV'), ('CRIM', 'NOX', 'AGE', 'DIS', 'TAX', 'PTRATIO', 'LSTAT', 'CAT.MEDV'), ('CRIM', 'NOX', 'AGE', 'DIS', 'TAX', 'PTRATIO', 'MEDV', 'CAT.MEDV'), ('CRIM', 'NOX', 'AGE', 'DIS', 'TAX', 'LSTAT', 'MEDV', 'CAT.MEDV'), ('CRIM', 'NOX', 'AGE', 'DIS', 'PTRATIO', 'LSTAT', 'MEDV', 'CAT.MEDV'), ('CRIM', 'NOX', 'AGE', 'RAD', 'TAX', 'PTRATIO', 'LSTAT', 'MEDV'), ('CRIM', 'NOX', 'AGE', 'RAD', 'TAX', 'PTRATIO', 'LSTAT', 'CAT.MEDV'), ('CRIM', 'NOX', 'AGE', 'RAD', 'TAX', 'PTRATIO', 'MEDV', 'CAT.MEDV'), ('CRIM', 'NOX', 'AGE', 'RAD', 'TAX', 'LSTAT', 'MEDV', 'CAT.MEDV'), ('CRIM', 'NOX', 'AGE', 'RAD', 'PTRATIO', 'LSTAT', 'MEDV', 'CAT.MEDV'), ('CRIM', 'NOX', 'AGE', 'TAX', 'PTRATIO', 'LSTAT', 'MEDV', 'CAT.MEDV'), ('CRIM', 'NOX', 'DIS', 'RAD', 'TAX', 'PTRATIO', 'LSTAT', 'MEDV'), ('CRIM', 'NOX', 'DIS', 'RAD', 'TAX', 'PTRATIO', 'LSTAT', 'CAT.MEDV'), ('CRIM', 'NOX', 'DIS', 'RAD', 'TAX', 'PTRATIO', 'MEDV', 'CAT.MEDV'), ('CRIM', 'NOX', 'DIS', 'RAD', 'TAX', 'LSTAT', 'MEDV', 'CAT.MEDV'), ('CRIM', 'NOX', 'DIS', 'RAD', 'PTRATIO', 'LSTAT', 'MEDV', 'CAT.MEDV'), ('CRIM', 'NOX', 'DIS', 'TAX', 'PTRATIO', 'LSTAT', 'MEDV', 'CAT.MEDV'), ('CRIM', 'NOX', 'RAD', 'TAX', 'PTRATIO', 'LSTAT', 'MEDV', 'CAT.MEDV'), ('CRIM', 'RM', 'AGE', 'DIS', 'RAD', 'TAX', 'PTRATIO', 'LSTAT'), ('CRIM', 'RM', 'AGE', 'DIS', 'RAD', 'TAX', 'PTRATIO', 'MEDV'), ('CRIM', 'RM', 'AGE', 'DIS', 'RAD', 'TAX', 'PTRATIO', 'CAT.MEDV'), ('CRIM', 'RM', 'AGE', 'DIS', 'RAD', 'TAX', 'LSTAT', 'MEDV'), ('CRIM', 'RM', 'AGE', 'DIS', 'RAD', 'TAX', 'LSTAT', 'CAT.MEDV'), ('CRIM', 'RM', 'AGE', 'DIS', 'RAD', 'TAX', 'MEDV', 'CAT.MEDV'), ('CRIM', 'RM', 'AGE', 'DIS', 'RAD', 'PTRATIO', 'LSTAT', 'MEDV'), ('CRIM', 'RM', 'AGE', 'DIS', 'RAD', 'PTRATIO', 'LSTAT', 'CAT.MEDV'), ('CRIM', 'RM', 'AGE', 'DIS', 'RAD', 'PTRATIO', 'MEDV', 'CAT.MEDV'), ('CRIM', 'RM', 'AGE', 'DIS', 'RAD', 'LSTAT', 'MEDV', 'CAT.MEDV'), ('CRIM', 'RM', 'AGE', 'DIS', 'TAX', 'PTRATIO', 'LSTAT', 'MEDV'), ('CRIM', 'RM', 'AGE', 'DIS', 'TAX', 'PTRATIO', 'LSTAT', 'CAT.MEDV'), ('CRIM', 'RM', 'AGE', 'DIS', 'TAX', 'PTRATIO', 'MEDV', 'CAT.MEDV'), ('CRIM', 'RM', 'AGE', 'DIS', 'TAX', 'LSTAT', 'MEDV', 'CAT.MEDV'), ('CRIM', 'RM', 'AGE', 'DIS', 'PTRATIO', 'LSTAT', 'MEDV', 'CAT.MEDV'), ('CRIM', 'RM', 'AGE', 'RAD', 'TAX', 'PTRATIO', 'LSTAT', 'MEDV'), ('CRIM', 'RM', 'AGE', 'RAD', 'TAX', 'PTRATIO', 'LSTAT', 'CAT.MEDV'), ('CRIM', 'RM', 'AGE', 'RAD', 'TAX', 'PTRATIO', 'MEDV', 'CAT.MEDV'), ('CRIM', 'RM', 'AGE', 'RAD', 'TAX', 'LSTAT', 'MEDV', 'CAT.MEDV'), ('CRIM', 'RM', 'AGE', 'RAD', 'PTRATIO', 'LSTAT', 'MEDV', 'CAT.MEDV'), ('CRIM', 'RM', 'AGE', 'TAX', 'PTRATIO', 'LSTAT', 'MEDV', 'CAT.MEDV'), ('CRIM', 'RM', 'DIS', 'RAD', 'TAX', 'PTRATIO', 'LSTAT', 'MEDV'), ('CRIM', 'RM', 'DIS', 'RAD', 'TAX', 'PTRATIO', 'LSTAT', 'CAT.MEDV'), ('CRIM', 'RM', 'DIS', 'RAD', 'TAX', 'PTRATIO', 'MEDV', 'CAT.MEDV'), ('CRIM', 'RM', 'DIS', 'RAD', 'TAX', 'LSTAT', 'MEDV', 'CAT.MEDV'), ('CRIM', 'RM', 'DIS', 'RAD', 'PTRATIO', 'LSTAT', 'MEDV', 'CAT.MEDV'), ('CRIM', 'RM', 'DIS', 'TAX', 'PTRATIO', 'LSTAT', 'MEDV', 'CAT.MEDV'), ('CRIM', 'RM', 'RAD', 'TAX', 'PTRATIO', 'LSTAT', 'MEDV', 'CAT.MEDV'), ('CRIM', 'AGE', 'DIS', 'RAD', 'TAX', 'PTRATIO', 'LSTAT', 'MEDV'), ('CRIM', 'AGE', 'DIS', 'RAD', 'TAX', 'PTRATIO', 'LSTAT', 'CAT.MEDV'), ('CRIM', 'AGE', 'DIS', 'RAD', 'TAX', 'PTRATIO', 'MEDV', 'CAT.MEDV'), ('CRIM', 'AGE', 'DIS', 'RAD', 'TAX', 'LSTAT', 'MEDV', 'CAT.MEDV'), ('CRIM', 'AGE', 'DIS', 'RAD', 'PTRATIO', 'LSTAT', 'MEDV', 'CAT.MEDV'), ('CRIM', 'AGE', 'DIS', 'TAX', 'PTRATIO', 'LSTAT', 'MEDV', 'CAT.MEDV'), ('CRIM', 'AGE', 'RAD', 'TAX', 'PTRATIO', 'LSTAT', 'MEDV', 'CAT.MEDV'), ('CRIM', 'DIS', 'RAD', 'TAX', 'PTRATIO', 'LSTAT', 'MEDV', 'CAT.MEDV'), ('ZN', 'INDUS', 'CHAS', 'NOX', 'RM', 'AGE', 'DIS', 'RAD'), ('ZN', 'INDUS', 'CHAS', 'NOX', 'RM', 'AGE', 'DIS', 'TAX'), ('ZN', 'INDUS', 'CHAS', 'NOX', 'RM', 'AGE', 'DIS', 'PTRATIO'), ('ZN', 'INDUS', 'CHAS', 'NOX', 'RM', 'AGE', 'DIS', 'LSTAT'), ('ZN', 'INDUS', 'CHAS', 'NOX', 'RM', 'AGE', 'DIS', 'MEDV'), ('ZN', 'INDUS', 'CHAS', 'NOX', 'RM', 'AGE', 'DIS', 'CAT.MEDV'), ('ZN', 'INDUS', 'CHAS', 'NOX', 'RM', 'AGE', 'RAD', 'TAX'), ('ZN', 'INDUS', 'CHAS', 'NOX', 'RM', 'AGE', 'RAD', 'PTRATIO'), ('ZN', 'INDUS', 'CHAS', 'NOX', 'RM', 'AGE', 'RAD', 'LSTAT'), ('ZN', 'INDUS', 'CHAS', 'NOX', 'RM', 'AGE', 'RAD', 'MEDV'), ('ZN', 'INDUS', 'CHAS', 'NOX', 'RM', 'AGE', 'RAD', 'CAT.MEDV'), ('ZN', 'INDUS', 'CHAS', 'NOX', 'RM', 'AGE', 'TAX', 'PTRATIO'), ('ZN', 'INDUS', 'CHAS', 'NOX', 'RM', 'AGE', 'TAX', 'LSTAT'), ('ZN', 'INDUS', 'CHAS', 'NOX', 'RM', 'AGE', 'TAX', 'MEDV'), ('ZN', 'INDUS', 'CHAS', 'NOX', 'RM', 'AGE', 'TAX', 'CAT.MEDV'), ('ZN', 'INDUS', 'CHAS', 'NOX', 'RM', 'AGE', 'PTRATIO', 'LSTAT'), ('ZN', 'INDUS', 'CHAS', 'NOX', 'RM', 'AGE', 'PTRATIO', 'MEDV'), ('ZN', 'INDUS', 'CHAS', 'NOX', 'RM', 'AGE', 'PTRATIO', 'CAT.MEDV'), ('ZN', 'INDUS', 'CHAS', 'NOX', 'RM', 'AGE', 'LSTAT', 'MEDV'), ('ZN', 'INDUS', 'CHAS', 'NOX', 'RM', 'AGE', 'LSTAT', 'CAT.MEDV'), ('ZN', 'INDUS', 'CHAS', 'NOX', 'RM', 'AGE', 'MEDV', 'CAT.MEDV'), ('ZN', 'INDUS', 'CHAS', 'NOX', 'RM', 'DIS', 'RAD', 'TAX'), ('ZN', 'INDUS', 'CHAS', 'NOX', 'RM', 'DIS', 'RAD', 'PTRATIO'), ('ZN', 'INDUS', 'CHAS', 'NOX', 'RM', 'DIS', 'RAD', 'LSTAT'), ('ZN', 'INDUS', 'CHAS', 'NOX', 'RM', 'DIS', 'RAD', 'MEDV'), ('ZN', 'INDUS', 'CHAS', 'NOX', 'RM', 'DIS', 'RAD', 'CAT.MEDV'), ('ZN', 'INDUS', 'CHAS', 'NOX', 'RM', 'DIS', 'TAX', 'PTRATIO'), ('ZN', 'INDUS', 'CHAS', 'NOX', 'RM', 'DIS', 'TAX', 'LSTAT'), ('ZN', 'INDUS', 'CHAS', 'NOX', 'RM', 'DIS', 'TAX', 'MEDV'), ('ZN', 'INDUS', 'CHAS', 'NOX', 'RM', 'DIS', 'TAX', 'CAT.MEDV'), ('ZN', 'INDUS', 'CHAS', 'NOX', 'RM', 'DIS', 'PTRATIO', 'LSTAT'), ('ZN', 'INDUS', 'CHAS', 'NOX', 'RM', 'DIS', 'PTRATIO', 'MEDV'), ('ZN', 'INDUS', 'CHAS', 'NOX', 'RM', 'DIS', 'PTRATIO', 'CAT.MEDV'), ('ZN', 'INDUS', 'CHAS', 'NOX', 'RM', 'DIS', 'LSTAT', 'MEDV'), ('ZN', 'INDUS', 'CHAS', 'NOX', 'RM', 'DIS', 'LSTAT', 'CAT.MEDV'), ('ZN', 'INDUS', 'CHAS', 'NOX', 'RM', 'DIS', 'MEDV', 'CAT.MEDV'), ('ZN', 'INDUS', 'CHAS', 'NOX', 'RM', 'RAD', 'TAX', 'PTRATIO'), ('ZN', 'INDUS', 'CHAS', 'NOX', 'RM', 'RAD', 'TAX', 'LSTAT'), ('ZN', 'INDUS', 'CHAS', 'NOX', 'RM', 'RAD', 'TAX', 'MEDV'), ('ZN', 'INDUS', 'CHAS', 'NOX', 'RM', 'RAD', 'TAX', 'CAT.MEDV'), ('ZN', 'INDUS', 'CHAS', 'NOX', 'RM', 'RAD', 'PTRATIO', 'LSTAT'), ('ZN', 'INDUS', 'CHAS', 'NOX', 'RM', 'RAD', 'PTRATIO', 'MEDV'), ('ZN', 'INDUS', 'CHAS', 'NOX', 'RM', 'RAD', 'PTRATIO', 'CAT.MEDV'), ('ZN', 'INDUS', 'CHAS', 'NOX', 'RM', 'RAD', 'LSTAT', 'MEDV'), ('ZN', 'INDUS', 'CHAS', 'NOX', 'RM', 'RAD', 'LSTAT', 'CAT.MEDV'), ('ZN', 'INDUS', 'CHAS', 'NOX', 'RM', 'RAD', 'MEDV', 'CAT.MEDV'), ('ZN', 'INDUS', 'CHAS', 'NOX', 'RM', 'TAX', 'PTRATIO', 'LSTAT'), ('ZN', 'INDUS', 'CHAS', 'NOX', 'RM', 'TAX', 'PTRATIO', 'MEDV'), ('ZN', 'INDUS', 'CHAS', 'NOX', 'RM', 'TAX', 'PTRATIO', 'CAT.MEDV'), ('ZN', 'INDUS', 'CHAS', 'NOX', 'RM', 'TAX', 'LSTAT', 'MEDV'), ('ZN', 'INDUS', 'CHAS', 'NOX', 'RM', 'TAX', 'LSTAT', 'CAT.MEDV'), ('ZN', 'INDUS', 'CHAS', 'NOX', 'RM', 'TAX', 'MEDV', 'CAT.MEDV'), ('ZN', 'INDUS', 'CHAS', 'NOX', 'RM', 'PTRATIO', 'LSTAT', 'MEDV'), ('ZN', 'INDUS', 'CHAS', 'NOX', 'RM', 'PTRATIO', 'LSTAT', 'CAT.MEDV'), ('ZN', 'INDUS', 'CHAS', 'NOX', 'RM', 'PTRATIO', 'MEDV', 'CAT.MEDV'), ('ZN', 'INDUS', 'CHAS', 'NOX', 'RM', 'LSTAT', 'MEDV', 'CAT.MEDV'), ('ZN', 'INDUS', 'CHAS', 'NOX', 'AGE', 'DIS', 'RAD', 'TAX'), ('ZN', 'INDUS', 'CHAS', 'NOX', 'AGE', 'DIS', 'RAD', 'PTRATIO'), ('ZN', 'INDUS', 'CHAS', 'NOX', 'AGE', 'DIS', 'RAD', 'LSTAT'), ('ZN', 'INDUS', 'CHAS', 'NOX', 'AGE', 'DIS', 'RAD', 'MEDV'), ('ZN', 'INDUS', 'CHAS', 'NOX', 'AGE', 'DIS', 'RAD', 'CAT.MEDV'), ('ZN', 'INDUS', 'CHAS', 'NOX', 'AGE', 'DIS', 'TAX', 'PTRATIO'), ('ZN', 'INDUS', 'CHAS', 'NOX', 'AGE', 'DIS', 'TAX', 'LSTAT'), ('ZN', 'INDUS', 'CHAS', 'NOX', 'AGE', 'DIS', 'TAX', 'MEDV'), ('ZN', 'INDUS', 'CHAS', 'NOX', 'AGE', 'DIS', 'TAX', 'CAT.MEDV'), ('ZN', 'INDUS', 'CHAS', 'NOX', 'AGE', 'DIS', 'PTRATIO', 'LSTAT'), ('ZN', 'INDUS', 'CHAS', 'NOX', 'AGE', 'DIS', 'PTRATIO', 'MEDV'), ('ZN', 'INDUS', 'CHAS', 'NOX', 'AGE', 'DIS', 'PTRATIO', 'CAT.MEDV'), ('ZN', 'INDUS', 'CHAS', 'NOX', 'AGE', 'DIS', 'LSTAT', 'MEDV'), ('ZN', 'INDUS', 'CHAS', 'NOX', 'AGE', 'DIS', 'LSTAT', 'CAT.MEDV'), ('ZN', 'INDUS', 'CHAS', 'NOX', 'AGE', 'DIS', 'MEDV', 'CAT.MEDV'), ('ZN', 'INDUS', 'CHAS', 'NOX', 'AGE', 'RAD', 'TAX', 'PTRATIO'), ('ZN', 'INDUS', 'CHAS', 'NOX', 'AGE', 'RAD', 'TAX', 'LSTAT'), ('ZN', 'INDUS', 'CHAS', 'NOX', 'AGE', 'RAD', 'TAX', 'MEDV'), ('ZN', 'INDUS', 'CHAS', 'NOX', 'AGE', 'RAD', 'TAX', 'CAT.MEDV'), ('ZN', 'INDUS', 'CHAS', 'NOX', 'AGE', 'RAD', 'PTRATIO', 'LSTAT'), ('ZN', 'INDUS', 'CHAS', 'NOX', 'AGE', 'RAD', 'PTRATIO', 'MEDV'), ('ZN', 'INDUS', 'CHAS', 'NOX', 'AGE', 'RAD', 'PTRATIO', 'CAT.MEDV'), ('ZN', 'INDUS', 'CHAS', 'NOX', 'AGE', 'RAD', 'LSTAT', 'MEDV'), ('ZN', 'INDUS', 'CHAS', 'NOX', 'AGE', 'RAD', 'LSTAT', 'CAT.MEDV'), ('ZN', 'INDUS', 'CHAS', 'NOX', 'AGE', 'RAD', 'MEDV', 'CAT.MEDV'), ('ZN', 'INDUS', 'CHAS', 'NOX', 'AGE', 'TAX', 'PTRATIO', 'LSTAT'), ('ZN', 'INDUS', 'CHAS', 'NOX', 'AGE', 'TAX', 'PTRATIO', 'MEDV'), ('ZN', 'INDUS', 'CHAS', 'NOX', 'AGE', 'TAX', 'PTRATIO', 'CAT.MEDV'), ('ZN', 'INDUS', 'CHAS', 'NOX', 'AGE', 'TAX', 'LSTAT', 'MEDV'), ('ZN', 'INDUS', 'CHAS', 'NOX', 'AGE', 'TAX', 'LSTAT', 'CAT.MEDV'), ('ZN', 'INDUS', 'CHAS', 'NOX', 'AGE', 'TAX', 'MEDV', 'CAT.MEDV'), ('ZN', 'INDUS', 'CHAS', 'NOX', 'AGE', 'PTRATIO', 'LSTAT', 'MEDV'), ('ZN', 'INDUS', 'CHAS', 'NOX', 'AGE', 'PTRATIO', 'LSTAT', 'CAT.MEDV'), ('ZN', 'INDUS', 'CHAS', 'NOX', 'AGE', 'PTRATIO', 'MEDV', 'CAT.MEDV'), ('ZN', 'INDUS', 'CHAS', 'NOX', 'AGE', 'LSTAT', 'MEDV', 'CAT.MEDV'), ('ZN', 'INDUS', 'CHAS', 'NOX', 'DIS', 'RAD', 'TAX', 'PTRATIO'), ('ZN', 'INDUS', 'CHAS', 'NOX', 'DIS', 'RAD', 'TAX', 'LSTAT'), ('ZN', 'INDUS', 'CHAS', 'NOX', 'DIS', 'RAD', 'TAX', 'MEDV'), ('ZN', 'INDUS', 'CHAS', 'NOX', 'DIS', 'RAD', 'TAX', 'CAT.MEDV'), ('ZN', 'INDUS', 'CHAS', 'NOX', 'DIS', 'RAD', 'PTRATIO', 'LSTAT'), ('ZN', 'INDUS', 'CHAS', 'NOX', 'DIS', 'RAD', 'PTRATIO', 'MEDV'), ('ZN', 'INDUS', 'CHAS', 'NOX', 'DIS', 'RAD', 'PTRATIO', 'CAT.MEDV'), ('ZN', 'INDUS', 'CHAS', 'NOX', 'DIS', 'RAD', 'LSTAT', 'MEDV'), ('ZN', 'INDUS', 'CHAS', 'NOX', 'DIS', 'RAD', 'LSTAT', 'CAT.MEDV'), ('ZN', 'INDUS', 'CHAS', 'NOX', 'DIS', 'RAD', 'MEDV', 'CAT.MEDV'), ('ZN', 'INDUS', 'CHAS', 'NOX', 'DIS', 'TAX', 'PTRATIO', 'LSTAT'), ('ZN', 'INDUS', 'CHAS', 'NOX', 'DIS', 'TAX', 'PTRATIO', 'MEDV'), ('ZN', 'INDUS', 'CHAS', 'NOX', 'DIS', 'TAX', 'PTRATIO', 'CAT.MEDV'), ('ZN', 'INDUS', 'CHAS', 'NOX', 'DIS', 'TAX', 'LSTAT', 'MEDV'), ('ZN', 'INDUS', 'CHAS', 'NOX', 'DIS', 'TAX', 'LSTAT', 'CAT.MEDV'), ('ZN', 'INDUS', 'CHAS', 'NOX', 'DIS', 'TAX', 'MEDV', 'CAT.MEDV'), ('ZN', 'INDUS', 'CHAS', 'NOX', 'DIS', 'PTRATIO', 'LSTAT', 'MEDV'), ('ZN', 'INDUS', 'CHAS', 'NOX', 'DIS', 'PTRATIO', 'LSTAT', 'CAT.MEDV'), ('ZN', 'INDUS', 'CHAS', 'NOX', 'DIS', 'PTRATIO', 'MEDV', 'CAT.MEDV'), ('ZN', 'INDUS', 'CHAS', 'NOX', 'DIS', 'LSTAT', 'MEDV', 'CAT.MEDV'), ('ZN', 'INDUS', 'CHAS', 'NOX', 'RAD', 'TAX', 'PTRATIO', 'LSTAT'), ('ZN', 'INDUS', 'CHAS', 'NOX', 'RAD', 'TAX', 'PTRATIO', 'MEDV'), ('ZN', 'INDUS', 'CHAS', 'NOX', 'RAD', 'TAX', 'PTRATIO', 'CAT.MEDV'), ('ZN', 'INDUS', 'CHAS', 'NOX', 'RAD', 'TAX', 'LSTAT', 'MEDV'), ('ZN', 'INDUS', 'CHAS', 'NOX', 'RAD', 'TAX', 'LSTAT', 'CAT.MEDV'), ('ZN', 'INDUS', 'CHAS', 'NOX', 'RAD', 'TAX', 'MEDV', 'CAT.MEDV'), ('ZN', 'INDUS', 'CHAS', 'NOX', 'RAD', 'PTRATIO', 'LSTAT', 'MEDV'), ('ZN', 'INDUS', 'CHAS', 'NOX', 'RAD', 'PTRATIO', 'LSTAT', 'CAT.MEDV'), ('ZN', 'INDUS', 'CHAS', 'NOX', 'RAD', 'PTRATIO', 'MEDV', 'CAT.MEDV'), ('ZN', 'INDUS', 'CHAS', 'NOX', 'RAD', 'LSTAT', 'MEDV', 'CAT.MEDV'), ('ZN', 'INDUS', 'CHAS', 'NOX', 'TAX', 'PTRATIO', 'LSTAT', 'MEDV'), ('ZN', 'INDUS', 'CHAS', 'NOX', 'TAX', 'PTRATIO', 'LSTAT', 'CAT.MEDV'), ('ZN', 'INDUS', 'CHAS', 'NOX', 'TAX', 'PTRATIO', 'MEDV', 'CAT.MEDV'), ('ZN', 'INDUS', 'CHAS', 'NOX', 'TAX', 'LSTAT', 'MEDV', 'CAT.MEDV'), ('ZN', 'INDUS', 'CHAS', 'NOX', 'PTRATIO', 'LSTAT', 'MEDV', 'CAT.MEDV'), ('ZN', 'INDUS', 'CHAS', 'RM', 'AGE', 'DIS', 'RAD', 'TAX'), ('ZN', 'INDUS', 'CHAS', 'RM', 'AGE', 'DIS', 'RAD', 'PTRATIO'), ('ZN', 'INDUS', 'CHAS', 'RM', 'AGE', 'DIS', 'RAD', 'LSTAT'), ('ZN', 'INDUS', 'CHAS', 'RM', 'AGE', 'DIS', 'RAD', 'MEDV'), ('ZN', 'INDUS', 'CHAS', 'RM', 'AGE', 'DIS', 'RAD', 'CAT.MEDV'), ('ZN', 'INDUS', 'CHAS', 'RM', 'AGE', 'DIS', 'TAX', 'PTRATIO'), ('ZN', 'INDUS', 'CHAS', 'RM', 'AGE', 'DIS', 'TAX', 'LSTAT'), ('ZN', 'INDUS', 'CHAS', 'RM', 'AGE', 'DIS', 'TAX', 'MEDV'), ('ZN', 'INDUS', 'CHAS', 'RM', 'AGE', 'DIS', 'TAX', 'CAT.MEDV'), ('ZN', 'INDUS', 'CHAS', 'RM', 'AGE', 'DIS', 'PTRATIO', 'LSTAT'), ('ZN', 'INDUS', 'CHAS', 'RM', 'AGE', 'DIS', 'PTRATIO', 'MEDV'), ('ZN', 'INDUS', 'CHAS', 'RM', 'AGE', 'DIS', 'PTRATIO', 'CAT.MEDV'), ('ZN', 'INDUS', 'CHAS', 'RM', 'AGE', 'DIS', 'LSTAT', 'MEDV'), ('ZN', 'INDUS', 'CHAS', 'RM', 'AGE', 'DIS', 'LSTAT', 'CAT.MEDV'), ('ZN', 'INDUS', 'CHAS', 'RM', 'AGE', 'DIS', 'MEDV', 'CAT.MEDV'), ('ZN', 'INDUS', 'CHAS', 'RM', 'AGE', 'RAD', 'TAX', 'PTRATIO'), ('ZN', 'INDUS', 'CHAS', 'RM', 'AGE', 'RAD', 'TAX', 'LSTAT'), ('ZN', 'INDUS', 'CHAS', 'RM', 'AGE', 'RAD', 'TAX', 'MEDV'), ('ZN', 'INDUS', 'CHAS', 'RM', 'AGE', 'RAD', 'TAX', 'CAT.MEDV'), ('ZN', 'INDUS', 'CHAS', 'RM', 'AGE', 'RAD', 'PTRATIO', 'LSTAT'), ('ZN', 'INDUS', 'CHAS', 'RM', 'AGE', 'RAD', 'PTRATIO', 'MEDV'), ('ZN', 'INDUS', 'CHAS', 'RM', 'AGE', 'RAD', 'PTRATIO', 'CAT.MEDV'), ('ZN', 'INDUS', 'CHAS', 'RM', 'AGE', 'RAD', 'LSTAT', 'MEDV'), ('ZN', 'INDUS', 'CHAS', 'RM', 'AGE', 'RAD', 'LSTAT', 'CAT.MEDV'), ('ZN', 'INDUS', 'CHAS', 'RM', 'AGE', 'RAD', 'MEDV', 'CAT.MEDV'), ('ZN', 'INDUS', 'CHAS', 'RM', 'AGE', 'TAX', 'PTRATIO', 'LSTAT'), ('ZN', 'INDUS', 'CHAS', 'RM', 'AGE', 'TAX', 'PTRATIO', 'MEDV'), ('ZN', 'INDUS', 'CHAS', 'RM', 'AGE', 'TAX', 'PTRATIO', 'CAT.MEDV'), ('ZN', 'INDUS', 'CHAS', 'RM', 'AGE', 'TAX', 'LSTAT', 'MEDV'), ('ZN', 'INDUS', 'CHAS', 'RM', 'AGE', 'TAX', 'LSTAT', 'CAT.MEDV'), ('ZN', 'INDUS', 'CHAS', 'RM', 'AGE', 'TAX', 'MEDV', 'CAT.MEDV'), ('ZN', 'INDUS', 'CHAS', 'RM', 'AGE', 'PTRATIO', 'LSTAT', 'MEDV'), ('ZN', 'INDUS', 'CHAS', 'RM', 'AGE', 'PTRATIO', 'LSTAT', 'CAT.MEDV'), ('ZN', 'INDUS', 'CHAS', 'RM', 'AGE', 'PTRATIO', 'MEDV', 'CAT.MEDV'), ('ZN', 'INDUS', 'CHAS', 'RM', 'AGE', 'LSTAT', 'MEDV', 'CAT.MEDV'), ('ZN', 'INDUS', 'CHAS', 'RM', 'DIS', 'RAD', 'TAX', 'PTRATIO'), ('ZN', 'INDUS', 'CHAS', 'RM', 'DIS', 'RAD', 'TAX', 'LSTAT'), ('ZN', 'INDUS', 'CHAS', 'RM', 'DIS', 'RAD', 'TAX', 'MEDV'), ('ZN', 'INDUS', 'CHAS', 'RM', 'DIS', 'RAD', 'TAX', 'CAT.MEDV'), ('ZN', 'INDUS', 'CHAS', 'RM', 'DIS', 'RAD', 'PTRATIO', 'LSTAT'), ('ZN', 'INDUS', 'CHAS', 'RM', 'DIS', 'RAD', 'PTRATIO', 'MEDV'), ('ZN', 'INDUS', 'CHAS', 'RM', 'DIS', 'RAD', 'PTRATIO', 'CAT.MEDV'), ('ZN', 'INDUS', 'CHAS', 'RM', 'DIS', 'RAD', 'LSTAT', 'MEDV'), ('ZN', 'INDUS', 'CHAS', 'RM', 'DIS', 'RAD', 'LSTAT', 'CAT.MEDV'), ('ZN', 'INDUS', 'CHAS', 'RM', 'DIS', 'RAD', 'MEDV', 'CAT.MEDV'), ('ZN', 'INDUS', 'CHAS', 'RM', 'DIS', 'TAX', 'PTRATIO', 'LSTAT'), ('ZN', 'INDUS', 'CHAS', 'RM', 'DIS', 'TAX', 'PTRATIO', 'MEDV'), ('ZN', 'INDUS', 'CHAS', 'RM', 'DIS', 'TAX', 'PTRATIO', 'CAT.MEDV'), ('ZN', 'INDUS', 'CHAS', 'RM', 'DIS', 'TAX', 'LSTAT', 'MEDV'), ('ZN', 'INDUS', 'CHAS', 'RM', 'DIS', 'TAX', 'LSTAT', 'CAT.MEDV'), ('ZN', 'INDUS', 'CHAS', 'RM', 'DIS', 'TAX', 'MEDV', 'CAT.MEDV'), ('ZN', 'INDUS', 'CHAS', 'RM', 'DIS', 'PTRATIO', 'LSTAT', 'MEDV'), ('ZN', 'INDUS', 'CHAS', 'RM', 'DIS', 'PTRATIO', 'LSTAT', 'CAT.MEDV'), ('ZN', 'INDUS', 'CHAS', 'RM', 'DIS', 'PTRATIO', 'MEDV', 'CAT.MEDV'), ('ZN', 'INDUS', 'CHAS', 'RM', 'DIS', 'LSTAT', 'MEDV', 'CAT.MEDV'), ('ZN', 'INDUS', 'CHAS', 'RM', 'RAD', 'TAX', 'PTRATIO', 'LSTAT'), ('ZN', 'INDUS', 'CHAS', 'RM', 'RAD', 'TAX', 'PTRATIO', 'MEDV'), ('ZN', 'INDUS', 'CHAS', 'RM', 'RAD', 'TAX', 'PTRATIO', 'CAT.MEDV'), ('ZN', 'INDUS', 'CHAS', 'RM', 'RAD', 'TAX', 'LSTAT', 'MEDV'), ('ZN', 'INDUS', 'CHAS', 'RM', 'RAD', 'TAX', 'LSTAT', 'CAT.MEDV'), ('ZN', 'INDUS', 'CHAS', 'RM', 'RAD', 'TAX', 'MEDV', 'CAT.MEDV'), ('ZN', 'INDUS', 'CHAS', 'RM', 'RAD', 'PTRATIO', 'LSTAT', 'MEDV'), ('ZN', 'INDUS', 'CHAS', 'RM', 'RAD', 'PTRATIO', 'LSTAT', 'CAT.MEDV'), ('ZN', 'INDUS', 'CHAS', 'RM', 'RAD', 'PTRATIO', 'MEDV', 'CAT.MEDV'), ('ZN', 'INDUS', 'CHAS', 'RM', 'RAD', 'LSTAT', 'MEDV', 'CAT.MEDV'), ('ZN', 'INDUS', 'CHAS', 'RM', 'TAX', 'PTRATIO', 'LSTAT', 'MEDV'), ('ZN', 'INDUS', 'CHAS', 'RM', 'TAX', 'PTRATIO', 'LSTAT', 'CAT.MEDV'), ('ZN', 'INDUS', 'CHAS', 'RM', 'TAX', 'PTRATIO', 'MEDV', 'CAT.MEDV'), ('ZN', 'INDUS', 'CHAS', 'RM', 'TAX', 'LSTAT', 'MEDV', 'CAT.MEDV'), ('ZN', 'INDUS', 'CHAS', 'RM', 'PTRATIO', 'LSTAT', 'MEDV', 'CAT.MEDV'), ('ZN', 'INDUS', 'CHAS', 'AGE', 'DIS', 'RAD', 'TAX', 'PTRATIO'), ('ZN', 'INDUS', 'CHAS', 'AGE', 'DIS', 'RAD', 'TAX', 'LSTAT'), ('ZN', 'INDUS', 'CHAS', 'AGE', 'DIS', 'RAD', 'TAX', 'MEDV'), ('ZN', 'INDUS', 'CHAS', 'AGE', 'DIS', 'RAD', 'TAX', 'CAT.MEDV'), ('ZN', 'INDUS', 'CHAS', 'AGE', 'DIS', 'RAD', 'PTRATIO', 'LSTAT'), ('ZN', 'INDUS', 'CHAS', 'AGE', 'DIS', 'RAD', 'PTRATIO', 'MEDV'), ('ZN', 'INDUS', 'CHAS', 'AGE', 'DIS', 'RAD', 'PTRATIO', 'CAT.MEDV'), ('ZN', 'INDUS', 'CHAS', 'AGE', 'DIS', 'RAD', 'LSTAT', 'MEDV'), ('ZN', 'INDUS', 'CHAS', 'AGE', 'DIS', 'RAD', 'LSTAT', 'CAT.MEDV'), ('ZN', 'INDUS', 'CHAS', 'AGE', 'DIS', 'RAD', 'MEDV', 'CAT.MEDV'), ('ZN', 'INDUS', 'CHAS', 'AGE', 'DIS', 'TAX', 'PTRATIO', 'LSTAT'), ('ZN', 'INDUS', 'CHAS', 'AGE', 'DIS', 'TAX', 'PTRATIO', 'MEDV'), ('ZN', 'INDUS', 'CHAS', 'AGE', 'DIS', 'TAX', 'PTRATIO', 'CAT.MEDV'), ('ZN', 'INDUS', 'CHAS', 'AGE', 'DIS', 'TAX', 'LSTAT', 'MEDV'), ('ZN', 'INDUS', 'CHAS', 'AGE', 'DIS', 'TAX', 'LSTAT', 'CAT.MEDV'), ('ZN', 'INDUS', 'CHAS', 'AGE', 'DIS', 'TAX', 'MEDV', 'CAT.MEDV'), ('ZN', 'INDUS', 'CHAS', 'AGE', 'DIS', 'PTRATIO', 'LSTAT', 'MEDV'), ('ZN', 'INDUS', 'CHAS', 'AGE', 'DIS', 'PTRATIO', 'LSTAT', 'CAT.MEDV'), ('ZN', 'INDUS', 'CHAS', 'AGE', 'DIS', 'PTRATIO', 'MEDV', 'CAT.MEDV'), ('ZN', 'INDUS', 'CHAS', 'AGE', 'DIS', 'LSTAT', 'MEDV', 'CAT.MEDV'), ('ZN', 'INDUS', 'CHAS', 'AGE', 'RAD', 'TAX', 'PTRATIO', 'LSTAT'), ('ZN', 'INDUS', 'CHAS', 'AGE', 'RAD', 'TAX', 'PTRATIO', 'MEDV'), ('ZN', 'INDUS', 'CHAS', 'AGE', 'RAD', 'TAX', 'PTRATIO', 'CAT.MEDV'), ('ZN', 'INDUS', 'CHAS', 'AGE', 'RAD', 'TAX', 'LSTAT', 'MEDV'), ('ZN', 'INDUS', 'CHAS', 'AGE', 'RAD', 'TAX', 'LSTAT', 'CAT.MEDV'), ('ZN', 'INDUS', 'CHAS', 'AGE', 'RAD', 'TAX', 'MEDV', 'CAT.MEDV'), ('ZN', 'INDUS', 'CHAS', 'AGE', 'RAD', 'PTRATIO', 'LSTAT', 'MEDV'), ('ZN', 'INDUS', 'CHAS', 'AGE', 'RAD', 'PTRATIO', 'LSTAT', 'CAT.MEDV'), ('ZN', 'INDUS', 'CHAS', 'AGE', 'RAD', 'PTRATIO', 'MEDV', 'CAT.MEDV'), ('ZN', 'INDUS', 'CHAS', 'AGE', 'RAD', 'LSTAT', 'MEDV', 'CAT.MEDV'), ('ZN', 'INDUS', 'CHAS', 'AGE', 'TAX', 'PTRATIO', 'LSTAT', 'MEDV'), ('ZN', 'INDUS', 'CHAS', 'AGE', 'TAX', 'PTRATIO', 'LSTAT', 'CAT.MEDV'), ('ZN', 'INDUS', 'CHAS', 'AGE', 'TAX', 'PTRATIO', 'MEDV', 'CAT.MEDV'), ('ZN', 'INDUS', 'CHAS', 'AGE', 'TAX', 'LSTAT', 'MEDV', 'CAT.MEDV'), ('ZN', 'INDUS', 'CHAS', 'AGE', 'PTRATIO', 'LSTAT', 'MEDV', 'CAT.MEDV'), ('ZN', 'INDUS', 'CHAS', 'DIS', 'RAD', 'TAX', 'PTRATIO', 'LSTAT'), ('ZN', 'INDUS', 'CHAS', 'DIS', 'RAD', 'TAX', 'PTRATIO', 'MEDV'), ('ZN', 'INDUS', 'CHAS', 'DIS', 'RAD', 'TAX', 'PTRATIO', 'CAT.MEDV'), ('ZN', 'INDUS', 'CHAS', 'DIS', 'RAD', 'TAX', 'LSTAT', 'MEDV'), ('ZN', 'INDUS', 'CHAS', 'DIS', 'RAD', 'TAX', 'LSTAT', 'CAT.MEDV'), ('ZN', 'INDUS', 'CHAS', 'DIS', 'RAD', 'TAX', 'MEDV', 'CAT.MEDV'), ('ZN', 'INDUS', 'CHAS', 'DIS', 'RAD', 'PTRATIO', 'LSTAT', 'MEDV'), ('ZN', 'INDUS', 'CHAS', 'DIS', 'RAD', 'PTRATIO', 'LSTAT', 'CAT.MEDV'), ('ZN', 'INDUS', 'CHAS', 'DIS', 'RAD', 'PTRATIO', 'MEDV', 'CAT.MEDV'), ('ZN', 'INDUS', 'CHAS', 'DIS', 'RAD', 'LSTAT', 'MEDV', 'CAT.MEDV'), ('ZN', 'INDUS', 'CHAS', 'DIS', 'TAX', 'PTRATIO', 'LSTAT', 'MEDV'), ('ZN', 'INDUS', 'CHAS', 'DIS', 'TAX', 'PTRATIO', 'LSTAT', 'CAT.MEDV'), ('ZN', 'INDUS', 'CHAS', 'DIS', 'TAX', 'PTRATIO', 'MEDV', 'CAT.MEDV'), ('ZN', 'INDUS', 'CHAS', 'DIS', 'TAX', 'LSTAT', 'MEDV', 'CAT.MEDV'), ('ZN', 'INDUS', 'CHAS', 'DIS', 'PTRATIO', 'LSTAT', 'MEDV', 'CAT.MEDV'), ('ZN', 'INDUS', 'CHAS', 'RAD', 'TAX', 'PTRATIO', 'LSTAT', 'MEDV'), ('ZN', 'INDUS', 'CHAS', 'RAD', 'TAX', 'PTRATIO', 'LSTAT', 'CAT.MEDV'), ('ZN', 'INDUS', 'CHAS', 'RAD', 'TAX', 'PTRATIO', 'MEDV', 'CAT.MEDV'), ('ZN', 'INDUS', 'CHAS', 'RAD', 'TAX', 'LSTAT', 'MEDV', 'CAT.MEDV'), ('ZN', 'INDUS', 'CHAS', 'RAD', 'PTRATIO', 'LSTAT', 'MEDV', 'CAT.MEDV'), ('ZN', 'INDUS', 'CHAS', 'TAX', 'PTRATIO', 'LSTAT', 'MEDV', 'CAT.MEDV'), ('ZN', 'INDUS', 'NOX', 'RM', 'AGE', 'DIS', 'RAD', 'TAX'), ('ZN', 'INDUS', 'NOX', 'RM', 'AGE', 'DIS', 'RAD', 'PTRATIO'), ('ZN', 'INDUS', 'NOX', 'RM', 'AGE', 'DIS', 'RAD', 'LSTAT'), ('ZN', 'INDUS', 'NOX', 'RM', 'AGE', 'DIS', 'RAD', 'MEDV'), ('ZN', 'INDUS', 'NOX', 'RM', 'AGE', 'DIS', 'RAD', 'CAT.MEDV'), ('ZN', 'INDUS', 'NOX', 'RM', 'AGE', 'DIS', 'TAX', 'PTRATIO'), ('ZN', 'INDUS', 'NOX', 'RM', 'AGE', 'DIS', 'TAX', 'LSTAT'), ('ZN', 'INDUS', 'NOX', 'RM', 'AGE', 'DIS', 'TAX', 'MEDV'), ('ZN', 'INDUS', 'NOX', 'RM', 'AGE', 'DIS', 'TAX', 'CAT.MEDV'), ('ZN', 'INDUS', 'NOX', 'RM', 'AGE', 'DIS', 'PTRATIO', 'LSTAT'), ('ZN', 'INDUS', 'NOX', 'RM', 'AGE', 'DIS', 'PTRATIO', 'MEDV'), ('ZN', 'INDUS', 'NOX', 'RM', 'AGE', 'DIS', 'PTRATIO', 'CAT.MEDV'), ('ZN', 'INDUS', 'NOX', 'RM', 'AGE', 'DIS', 'LSTAT', 'MEDV'), ('ZN', 'INDUS', 'NOX', 'RM', 'AGE', 'DIS', 'LSTAT', 'CAT.MEDV'), ('ZN', 'INDUS', 'NOX', 'RM', 'AGE', 'DIS', 'MEDV', 'CAT.MEDV'), ('ZN', 'INDUS', 'NOX', 'RM', 'AGE', 'RAD', 'TAX', 'PTRATIO'), ('ZN', 'INDUS', 'NOX', 'RM', 'AGE', 'RAD', 'TAX', 'LSTAT'), ('ZN', 'INDUS', 'NOX', 'RM', 'AGE', 'RAD', 'TAX', 'MEDV'), ('ZN', 'INDUS', 'NOX', 'RM', 'AGE', 'RAD', 'TAX', 'CAT.MEDV'), ('ZN', 'INDUS', 'NOX', 'RM', 'AGE', 'RAD', 'PTRATIO', 'LSTAT'), ('ZN', 'INDUS', 'NOX', 'RM', 'AGE', 'RAD', 'PTRATIO', 'MEDV'), ('ZN', 'INDUS', 'NOX', 'RM', 'AGE', 'RAD', 'PTRATIO', 'CAT.MEDV'), ('ZN', 'INDUS', 'NOX', 'RM', 'AGE', 'RAD', 'LSTAT', 'MEDV'), ('ZN', 'INDUS', 'NOX', 'RM', 'AGE', 'RAD', 'LSTAT', 'CAT.MEDV'), ('ZN', 'INDUS', 'NOX', 'RM', 'AGE', 'RAD', 'MEDV', 'CAT.MEDV'), ('ZN', 'INDUS', 'NOX', 'RM', 'AGE', 'TAX', 'PTRATIO', 'LSTAT'), ('ZN', 'INDUS', 'NOX', 'RM', 'AGE', 'TAX', 'PTRATIO', 'MEDV'), ('ZN', 'INDUS', 'NOX', 'RM', 'AGE', 'TAX', 'PTRATIO', 'CAT.MEDV'), ('ZN', 'INDUS', 'NOX', 'RM', 'AGE', 'TAX', 'LSTAT', 'MEDV'), ('ZN', 'INDUS', 'NOX', 'RM', 'AGE', 'TAX', 'LSTAT', 'CAT.MEDV'), ('ZN', 'INDUS', 'NOX', 'RM', 'AGE', 'TAX', 'MEDV', 'CAT.MEDV'), ('ZN', 'INDUS', 'NOX', 'RM', 'AGE', 'PTRATIO', 'LSTAT', 'MEDV'), ('ZN', 'INDUS', 'NOX', 'RM', 'AGE', 'PTRATIO', 'LSTAT', 'CAT.MEDV'), ('ZN', 'INDUS', 'NOX', 'RM', 'AGE', 'PTRATIO', 'MEDV', 'CAT.MEDV'), ('ZN', 'INDUS', 'NOX', 'RM', 'AGE', 'LSTAT', 'MEDV', 'CAT.MEDV'), ('ZN', 'INDUS', 'NOX', 'RM', 'DIS', 'RAD', 'TAX', 'PTRATIO'), ('ZN', 'INDUS', 'NOX', 'RM', 'DIS', 'RAD', 'TAX', 'LSTAT'), ('ZN', 'INDUS', 'NOX', 'RM', 'DIS', 'RAD', 'TAX', 'MEDV'), ('ZN', 'INDUS', 'NOX', 'RM', 'DIS', 'RAD', 'TAX', 'CAT.MEDV'), ('ZN', 'INDUS', 'NOX', 'RM', 'DIS', 'RAD', 'PTRATIO', 'LSTAT'), ('ZN', 'INDUS', 'NOX', 'RM', 'DIS', 'RAD', 'PTRATIO', 'MEDV'), ('ZN', 'INDUS', 'NOX', 'RM', 'DIS', 'RAD', 'PTRATIO', 'CAT.MEDV'), ('ZN', 'INDUS', 'NOX', 'RM', 'DIS', 'RAD', 'LSTAT', 'MEDV'), ('ZN', 'INDUS', 'NOX', 'RM', 'DIS', 'RAD', 'LSTAT', 'CAT.MEDV'), ('ZN', 'INDUS', 'NOX', 'RM', 'DIS', 'RAD', 'MEDV', 'CAT.MEDV'), ('ZN', 'INDUS', 'NOX', 'RM', 'DIS', 'TAX', 'PTRATIO', 'LSTAT'), ('ZN', 'INDUS', 'NOX', 'RM', 'DIS', 'TAX', 'PTRATIO', 'MEDV'), ('ZN', 'INDUS', 'NOX', 'RM', 'DIS', 'TAX', 'PTRATIO', 'CAT.MEDV'), ('ZN', 'INDUS', 'NOX', 'RM', 'DIS', 'TAX', 'LSTAT', 'MEDV'), ('ZN', 'INDUS', 'NOX', 'RM', 'DIS', 'TAX', 'LSTAT', 'CAT.MEDV'), ('ZN', 'INDUS', 'NOX', 'RM', 'DIS', 'TAX', 'MEDV', 'CAT.MEDV'), ('ZN', 'INDUS', 'NOX', 'RM', 'DIS', 'PTRATIO', 'LSTAT', 'MEDV'), ('ZN', 'INDUS', 'NOX', 'RM', 'DIS', 'PTRATIO', 'LSTAT', 'CAT.MEDV'), ('ZN', 'INDUS', 'NOX', 'RM', 'DIS', 'PTRATIO', 'MEDV', 'CAT.MEDV'), ('ZN', 'INDUS', 'NOX', 'RM', 'DIS', 'LSTAT', 'MEDV', 'CAT.MEDV'), ('ZN', 'INDUS', 'NOX', 'RM', 'RAD', 'TAX', 'PTRATIO', 'LSTAT'), ('ZN', 'INDUS', 'NOX', 'RM', 'RAD', 'TAX', 'PTRATIO', 'MEDV'), ('ZN', 'INDUS', 'NOX', 'RM', 'RAD', 'TAX', 'PTRATIO', 'CAT.MEDV'), ('ZN', 'INDUS', 'NOX', 'RM', 'RAD', 'TAX', 'LSTAT', 'MEDV'), ('ZN', 'INDUS', 'NOX', 'RM', 'RAD', 'TAX', 'LSTAT', 'CAT.MEDV'), ('ZN', 'INDUS', 'NOX', 'RM', 'RAD', 'TAX', 'MEDV', 'CAT.MEDV'), ('ZN', 'INDUS', 'NOX', 'RM', 'RAD', 'PTRATIO', 'LSTAT', 'MEDV'), ('ZN', 'INDUS', 'NOX', 'RM', 'RAD', 'PTRATIO', 'LSTAT', 'CAT.MEDV'), ('ZN', 'INDUS', 'NOX', 'RM', 'RAD', 'PTRATIO', 'MEDV', 'CAT.MEDV'), ('ZN', 'INDUS', 'NOX', 'RM', 'RAD', 'LSTAT', 'MEDV', 'CAT.MEDV'), ('ZN', 'INDUS', 'NOX', 'RM', 'TAX', 'PTRATIO', 'LSTAT', 'MEDV'), ('ZN', 'INDUS', 'NOX', 'RM', 'TAX', 'PTRATIO', 'LSTAT', 'CAT.MEDV'), ('ZN', 'INDUS', 'NOX', 'RM', 'TAX', 'PTRATIO', 'MEDV', 'CAT.MEDV'), ('ZN', 'INDUS', 'NOX', 'RM', 'TAX', 'LSTAT', 'MEDV', 'CAT.MEDV'), ('ZN', 'INDUS', 'NOX', 'RM', 'PTRATIO', 'LSTAT', 'MEDV', 'CAT.MEDV'), ('ZN', 'INDUS', 'NOX', 'AGE', 'DIS', 'RAD', 'TAX', 'PTRATIO'), ('ZN', 'INDUS', 'NOX', 'AGE', 'DIS', 'RAD', 'TAX', 'LSTAT'), ('ZN', 'INDUS', 'NOX', 'AGE', 'DIS', 'RAD', 'TAX', 'MEDV'), ('ZN', 'INDUS', 'NOX', 'AGE', 'DIS', 'RAD', 'TAX', 'CAT.MEDV'), ('ZN', 'INDUS', 'NOX', 'AGE', 'DIS', 'RAD', 'PTRATIO', 'LSTAT'), ('ZN', 'INDUS', 'NOX', 'AGE', 'DIS', 'RAD', 'PTRATIO', 'MEDV'), ('ZN', 'INDUS', 'NOX', 'AGE', 'DIS', 'RAD', 'PTRATIO', 'CAT.MEDV'), ('ZN', 'INDUS', 'NOX', 'AGE', 'DIS', 'RAD', 'LSTAT', 'MEDV'), ('ZN', 'INDUS', 'NOX', 'AGE', 'DIS', 'RAD', 'LSTAT', 'CAT.MEDV'), ('ZN', 'INDUS', 'NOX', 'AGE', 'DIS', 'RAD', 'MEDV', 'CAT.MEDV'), ('ZN', 'INDUS', 'NOX', 'AGE', 'DIS', 'TAX', 'PTRATIO', 'LSTAT'), ('ZN', 'INDUS', 'NOX', 'AGE', 'DIS', 'TAX', 'PTRATIO', 'MEDV'), ('ZN', 'INDUS', 'NOX', 'AGE', 'DIS', 'TAX', 'PTRATIO', 'CAT.MEDV'), ('ZN', 'INDUS', 'NOX', 'AGE', 'DIS', 'TAX', 'LSTAT', 'MEDV'), ('ZN', 'INDUS', 'NOX', 'AGE', 'DIS', 'TAX', 'LSTAT', 'CAT.MEDV'), ('ZN', 'INDUS', 'NOX', 'AGE', 'DIS', 'TAX', 'MEDV', 'CAT.MEDV'), ('ZN', 'INDUS', 'NOX', 'AGE', 'DIS', 'PTRATIO', 'LSTAT', 'MEDV'), ('ZN', 'INDUS', 'NOX', 'AGE', 'DIS', 'PTRATIO', 'LSTAT', 'CAT.MEDV'), ('ZN', 'INDUS', 'NOX', 'AGE', 'DIS', 'PTRATIO', 'MEDV', 'CAT.MEDV'), ('ZN', 'INDUS', 'NOX', 'AGE', 'DIS', 'LSTAT', 'MEDV', 'CAT.MEDV'), ('ZN', 'INDUS', 'NOX', 'AGE', 'RAD', 'TAX', 'PTRATIO', 'LSTAT'), ('ZN', 'INDUS', 'NOX', 'AGE', 'RAD', 'TAX', 'PTRATIO', 'MEDV'), ('ZN', 'INDUS', 'NOX', 'AGE', 'RAD', 'TAX', 'PTRATIO', 'CAT.MEDV'), ('ZN', 'INDUS', 'NOX', 'AGE', 'RAD', 'TAX', 'LSTAT', 'MEDV'), ('ZN', 'INDUS', 'NOX', 'AGE', 'RAD', 'TAX', 'LSTAT', 'CAT.MEDV'), ('ZN', 'INDUS', 'NOX', 'AGE', 'RAD', 'TAX', 'MEDV', 'CAT.MEDV'), ('ZN', 'INDUS', 'NOX', 'AGE', 'RAD', 'PTRATIO', 'LSTAT', 'MEDV'), ('ZN', 'INDUS', 'NOX', 'AGE', 'RAD', 'PTRATIO', 'LSTAT', 'CAT.MEDV'), ('ZN', 'INDUS', 'NOX', 'AGE', 'RAD', 'PTRATIO', 'MEDV', 'CAT.MEDV'), ('ZN', 'INDUS', 'NOX', 'AGE', 'RAD', 'LSTAT', 'MEDV', 'CAT.MEDV'), ('ZN', 'INDUS', 'NOX', 'AGE', 'TAX', 'PTRATIO', 'LSTAT', 'MEDV'), ('ZN', 'INDUS', 'NOX', 'AGE', 'TAX', 'PTRATIO', 'LSTAT', 'CAT.MEDV'), ('ZN', 'INDUS', 'NOX', 'AGE', 'TAX', 'PTRATIO', 'MEDV', 'CAT.MEDV'), ('ZN', 'INDUS', 'NOX', 'AGE', 'TAX', 'LSTAT', 'MEDV', 'CAT.MEDV'), ('ZN', 'INDUS', 'NOX', 'AGE', 'PTRATIO', 'LSTAT', 'MEDV', 'CAT.MEDV'), ('ZN', 'INDUS', 'NOX', 'DIS', 'RAD', 'TAX', 'PTRATIO', 'LSTAT'), ('ZN', 'INDUS', 'NOX', 'DIS', 'RAD', 'TAX', 'PTRATIO', 'MEDV'), ('ZN', 'INDUS', 'NOX', 'DIS', 'RAD', 'TAX', 'PTRATIO', 'CAT.MEDV'), ('ZN', 'INDUS', 'NOX', 'DIS', 'RAD', 'TAX', 'LSTAT', 'MEDV'), ('ZN', 'INDUS', 'NOX', 'DIS', 'RAD', 'TAX', 'LSTAT', 'CAT.MEDV'), ('ZN', 'INDUS', 'NOX', 'DIS', 'RAD', 'TAX', 'MEDV', 'CAT.MEDV'), ('ZN', 'INDUS', 'NOX', 'DIS', 'RAD', 'PTRATIO', 'LSTAT', 'MEDV'), ('ZN', 'INDUS', 'NOX', 'DIS', 'RAD', 'PTRATIO', 'LSTAT', 'CAT.MEDV'), ('ZN', 'INDUS', 'NOX', 'DIS', 'RAD', 'PTRATIO', 'MEDV', 'CAT.MEDV'), ('ZN', 'INDUS', 'NOX', 'DIS', 'RAD', 'LSTAT', 'MEDV', 'CAT.MEDV'), ('ZN', 'INDUS', 'NOX', 'DIS', 'TAX', 'PTRATIO', 'LSTAT', 'MEDV'), ('ZN', 'INDUS', 'NOX', 'DIS', 'TAX', 'PTRATIO', 'LSTAT', 'CAT.MEDV'), ('ZN', 'INDUS', 'NOX', 'DIS', 'TAX', 'PTRATIO', 'MEDV', 'CAT.MEDV'), ('ZN', 'INDUS', 'NOX', 'DIS', 'TAX', 'LSTAT', 'MEDV', 'CAT.MEDV'), ('ZN', 'INDUS', 'NOX', 'DIS', 'PTRATIO', 'LSTAT', 'MEDV', 'CAT.MEDV'), ('ZN', 'INDUS', 'NOX', 'RAD', 'TAX', 'PTRATIO', 'LSTAT', 'MEDV'), ('ZN', 'INDUS', 'NOX', 'RAD', 'TAX', 'PTRATIO', 'LSTAT', 'CAT.MEDV'), ('ZN', 'INDUS', 'NOX', 'RAD', 'TAX', 'PTRATIO', 'MEDV', 'CAT.MEDV'), ('ZN', 'INDUS', 'NOX', 'RAD', 'TAX', 'LSTAT', 'MEDV', 'CAT.MEDV'), ('ZN', 'INDUS', 'NOX', 'RAD', 'PTRATIO', 'LSTAT', 'MEDV', 'CAT.MEDV'), ('ZN', 'INDUS', 'NOX', 'TAX', 'PTRATIO', 'LSTAT', 'MEDV', 'CAT.MEDV'), ('ZN', 'INDUS', 'RM', 'AGE', 'DIS', 'RAD', 'TAX', 'PTRATIO'), ('ZN', 'INDUS', 'RM', 'AGE', 'DIS', 'RAD', 'TAX', 'LSTAT'), ('ZN', 'INDUS', 'RM', 'AGE', 'DIS', 'RAD', 'TAX', 'MEDV'), ('ZN', 'INDUS', 'RM', 'AGE', 'DIS', 'RAD', 'TAX', 'CAT.MEDV'), ('ZN', 'INDUS', 'RM', 'AGE', 'DIS', 'RAD', 'PTRATIO', 'LSTAT'), ('ZN', 'INDUS', 'RM', 'AGE', 'DIS', 'RAD', 'PTRATIO', 'MEDV'), ('ZN', 'INDUS', 'RM', 'AGE', 'DIS', 'RAD', 'PTRATIO', 'CAT.MEDV'), ('ZN', 'INDUS', 'RM', 'AGE', 'DIS', 'RAD', 'LSTAT', 'MEDV'), ('ZN', 'INDUS', 'RM', 'AGE', 'DIS', 'RAD', 'LSTAT', 'CAT.MEDV'), ('ZN', 'INDUS', 'RM', 'AGE', 'DIS', 'RAD', 'MEDV', 'CAT.MEDV'), ('ZN', 'INDUS', 'RM', 'AGE', 'DIS', 'TAX', 'PTRATIO', 'LSTAT'), ('ZN', 'INDUS', 'RM', 'AGE', 'DIS', 'TAX', 'PTRATIO', 'MEDV'), ('ZN', 'INDUS', 'RM', 'AGE', 'DIS', 'TAX', 'PTRATIO', 'CAT.MEDV'), ('ZN', 'INDUS', 'RM', 'AGE', 'DIS', 'TAX', 'LSTAT', 'MEDV'), ('ZN', 'INDUS', 'RM', 'AGE', 'DIS', 'TAX', 'LSTAT', 'CAT.MEDV'), ('ZN', 'INDUS', 'RM', 'AGE', 'DIS', 'TAX', 'MEDV', 'CAT.MEDV'), ('ZN', 'INDUS', 'RM', 'AGE', 'DIS', 'PTRATIO', 'LSTAT', 'MEDV'), ('ZN', 'INDUS', 'RM', 'AGE', 'DIS', 'PTRATIO', 'LSTAT', 'CAT.MEDV'), ('ZN', 'INDUS', 'RM', 'AGE', 'DIS', 'PTRATIO', 'MEDV', 'CAT.MEDV'), ('ZN', 'INDUS', 'RM', 'AGE', 'DIS', 'LSTAT', 'MEDV', 'CAT.MEDV'), ('ZN', 'INDUS', 'RM', 'AGE', 'RAD', 'TAX', 'PTRATIO', 'LSTAT'), ('ZN', 'INDUS', 'RM', 'AGE', 'RAD', 'TAX', 'PTRATIO', 'MEDV'), ('ZN', 'INDUS', 'RM', 'AGE', 'RAD', 'TAX', 'PTRATIO', 'CAT.MEDV'), ('ZN', 'INDUS', 'RM', 'AGE', 'RAD', 'TAX', 'LSTAT', 'MEDV'), ('ZN', 'INDUS', 'RM', 'AGE', 'RAD', 'TAX', 'LSTAT', 'CAT.MEDV'), ('ZN', 'INDUS', 'RM', 'AGE', 'RAD', 'TAX', 'MEDV', 'CAT.MEDV'), ('ZN', 'INDUS', 'RM', 'AGE', 'RAD', 'PTRATIO', 'LSTAT', 'MEDV'), ('ZN', 'INDUS', 'RM', 'AGE', 'RAD', 'PTRATIO', 'LSTAT', 'CAT.MEDV'), ('ZN', 'INDUS', 'RM', 'AGE', 'RAD', 'PTRATIO', 'MEDV', 'CAT.MEDV'), ('ZN', 'INDUS', 'RM', 'AGE', 'RAD', 'LSTAT', 'MEDV', 'CAT.MEDV'), ('ZN', 'INDUS', 'RM', 'AGE', 'TAX', 'PTRATIO', 'LSTAT', 'MEDV'), ('ZN', 'INDUS', 'RM', 'AGE', 'TAX', 'PTRATIO', 'LSTAT', 'CAT.MEDV'), ('ZN', 'INDUS', 'RM', 'AGE', 'TAX', 'PTRATIO', 'MEDV', 'CAT.MEDV'), ('ZN', 'INDUS', 'RM', 'AGE', 'TAX', 'LSTAT', 'MEDV', 'CAT.MEDV'), ('ZN', 'INDUS', 'RM', 'AGE', 'PTRATIO', 'LSTAT', 'MEDV', 'CAT.MEDV'), ('ZN', 'INDUS', 'RM', 'DIS', 'RAD', 'TAX', 'PTRATIO', 'LSTAT'), ('ZN', 'INDUS', 'RM', 'DIS', 'RAD', 'TAX', 'PTRATIO', 'MEDV'), ('ZN', 'INDUS', 'RM', 'DIS', 'RAD', 'TAX', 'PTRATIO', 'CAT.MEDV'), ('ZN', 'INDUS', 'RM', 'DIS', 'RAD', 'TAX', 'LSTAT', 'MEDV'), ('ZN', 'INDUS', 'RM', 'DIS', 'RAD', 'TAX', 'LSTAT', 'CAT.MEDV'), ('ZN', 'INDUS', 'RM', 'DIS', 'RAD', 'TAX', 'MEDV', 'CAT.MEDV'), ('ZN', 'INDUS', 'RM', 'DIS', 'RAD', 'PTRATIO', 'LSTAT', 'MEDV'), ('ZN', 'INDUS', 'RM', 'DIS', 'RAD', 'PTRATIO', 'LSTAT', 'CAT.MEDV'), ('ZN', 'INDUS', 'RM', 'DIS', 'RAD', 'PTRATIO', 'MEDV', 'CAT.MEDV'), ('ZN', 'INDUS', 'RM', 'DIS', 'RAD', 'LSTAT', 'MEDV', 'CAT.MEDV'), ('ZN', 'INDUS', 'RM', 'DIS', 'TAX', 'PTRATIO', 'LSTAT', 'MEDV'), ('ZN', 'INDUS', 'RM', 'DIS', 'TAX', 'PTRATIO', 'LSTAT', 'CAT.MEDV'), ('ZN', 'INDUS', 'RM', 'DIS', 'TAX', 'PTRATIO', 'MEDV', 'CAT.MEDV'), ('ZN', 'INDUS', 'RM', 'DIS', 'TAX', 'LSTAT', 'MEDV', 'CAT.MEDV'), ('ZN', 'INDUS', 'RM', 'DIS', 'PTRATIO', 'LSTAT', 'MEDV', 'CAT.MEDV'), ('ZN', 'INDUS', 'RM', 'RAD', 'TAX', 'PTRATIO', 'LSTAT', 'MEDV'), ('ZN', 'INDUS', 'RM', 'RAD', 'TAX', 'PTRATIO', 'LSTAT', 'CAT.MEDV'), ('ZN', 'INDUS', 'RM', 'RAD', 'TAX', 'PTRATIO', 'MEDV', 'CAT.MEDV'), ('ZN', 'INDUS', 'RM', 'RAD', 'TAX', 'LSTAT', 'MEDV', 'CAT.MEDV'), ('ZN', 'INDUS', 'RM', 'RAD', 'PTRATIO', 'LSTAT', 'MEDV', 'CAT.MEDV'), ('ZN', 'INDUS', 'RM', 'TAX', 'PTRATIO', 'LSTAT', 'MEDV', 'CAT.MEDV'), ('ZN', 'INDUS', 'AGE', 'DIS', 'RAD', 'TAX', 'PTRATIO', 'LSTAT'), ('ZN', 'INDUS', 'AGE', 'DIS', 'RAD', 'TAX', 'PTRATIO', 'MEDV'), ('ZN', 'INDUS', 'AGE', 'DIS', 'RAD', 'TAX', 'PTRATIO', 'CAT.MEDV'), ('ZN', 'INDUS', 'AGE', 'DIS', 'RAD', 'TAX', 'LSTAT', 'MEDV'), ('ZN', 'INDUS', 'AGE', 'DIS', 'RAD', 'TAX', 'LSTAT', 'CAT.MEDV'), ('ZN', 'INDUS', 'AGE', 'DIS', 'RAD', 'TAX', 'MEDV', 'CAT.MEDV'), ('ZN', 'INDUS', 'AGE', 'DIS', 'RAD', 'PTRATIO', 'LSTAT', 'MEDV'), ('ZN', 'INDUS', 'AGE', 'DIS', 'RAD', 'PTRATIO', 'LSTAT', 'CAT.MEDV'), ('ZN', 'INDUS', 'AGE', 'DIS', 'RAD', 'PTRATIO', 'MEDV', 'CAT.MEDV'), ('ZN', 'INDUS', 'AGE', 'DIS', 'RAD', 'LSTAT', 'MEDV', 'CAT.MEDV'), ('ZN', 'INDUS', 'AGE', 'DIS', 'TAX', 'PTRATIO', 'LSTAT', 'MEDV'), ('ZN', 'INDUS', 'AGE', 'DIS', 'TAX', 'PTRATIO', 'LSTAT', 'CAT.MEDV'), ('ZN', 'INDUS', 'AGE', 'DIS', 'TAX', 'PTRATIO', 'MEDV', 'CAT.MEDV'), ('ZN', 'INDUS', 'AGE', 'DIS', 'TAX', 'LSTAT', 'MEDV', 'CAT.MEDV'), ('ZN', 'INDUS', 'AGE', 'DIS', 'PTRATIO', 'LSTAT', 'MEDV', 'CAT.MEDV'), ('ZN', 'INDUS', 'AGE', 'RAD', 'TAX', 'PTRATIO', 'LSTAT', 'MEDV'), ('ZN', 'INDUS', 'AGE', 'RAD', 'TAX', 'PTRATIO', 'LSTAT', 'CAT.MEDV'), ('ZN', 'INDUS', 'AGE', 'RAD', 'TAX', 'PTRATIO', 'MEDV', 'CAT.MEDV'), ('ZN', 'INDUS', 'AGE', 'RAD', 'TAX', 'LSTAT', 'MEDV', 'CAT.MEDV'), ('ZN', 'INDUS', 'AGE', 'RAD', 'PTRATIO', 'LSTAT', 'MEDV', 'CAT.MEDV'), ('ZN', 'INDUS', 'AGE', 'TAX', 'PTRATIO', 'LSTAT', 'MEDV', 'CAT.MEDV'), ('ZN', 'INDUS', 'DIS', 'RAD', 'TAX', 'PTRATIO', 'LSTAT', 'MEDV'), ('ZN', 'INDUS', 'DIS', 'RAD', 'TAX', 'PTRATIO', 'LSTAT', 'CAT.MEDV'), ('ZN', 'INDUS', 'DIS', 'RAD', 'TAX', 'PTRATIO', 'MEDV', 'CAT.MEDV'), ('ZN', 'INDUS', 'DIS', 'RAD', 'TAX', 'LSTAT', 'MEDV', 'CAT.MEDV'), ('ZN', 'INDUS', 'DIS', 'RAD', 'PTRATIO', 'LSTAT', 'MEDV', 'CAT.MEDV'), ('ZN', 'INDUS', 'DIS', 'TAX', 'PTRATIO', 'LSTAT', 'MEDV', 'CAT.MEDV'), ('ZN', 'INDUS', 'RAD', 'TAX', 'PTRATIO', 'LSTAT', 'MEDV', 'CAT.MEDV'), ('ZN', 'CHAS', 'NOX', 'RM', 'AGE', 'DIS', 'RAD', 'TAX'), ('ZN', 'CHAS', 'NOX', 'RM', 'AGE', 'DIS', 'RAD', 'PTRATIO'), ('ZN', 'CHAS', 'NOX', 'RM', 'AGE', 'DIS', 'RAD', 'LSTAT'), ('ZN', 'CHAS', 'NOX', 'RM', 'AGE', 'DIS', 'RAD', 'MEDV'), ('ZN', 'CHAS', 'NOX', 'RM', 'AGE', 'DIS', 'RAD', 'CAT.MEDV'), ('ZN', 'CHAS', 'NOX', 'RM', 'AGE', 'DIS', 'TAX', 'PTRATIO'), ('ZN', 'CHAS', 'NOX', 'RM', 'AGE', 'DIS', 'TAX', 'LSTAT'), ('ZN', 'CHAS', 'NOX', 'RM', 'AGE', 'DIS', 'TAX', 'MEDV'), ('ZN', 'CHAS', 'NOX', 'RM', 'AGE', 'DIS', 'TAX', 'CAT.MEDV'), ('ZN', 'CHAS', 'NOX', 'RM', 'AGE', 'DIS', 'PTRATIO', 'LSTAT'), ('ZN', 'CHAS', 'NOX', 'RM', 'AGE', 'DIS', 'PTRATIO', 'MEDV'), ('ZN', 'CHAS', 'NOX', 'RM', 'AGE', 'DIS', 'PTRATIO', 'CAT.MEDV'), ('ZN', 'CHAS', 'NOX', 'RM', 'AGE', 'DIS', 'LSTAT', 'MEDV'), ('ZN', 'CHAS', 'NOX', 'RM', 'AGE', 'DIS', 'LSTAT', 'CAT.MEDV'), ('ZN', 'CHAS', 'NOX', 'RM', 'AGE', 'DIS', 'MEDV', 'CAT.MEDV'), ('ZN', 'CHAS', 'NOX', 'RM', 'AGE', 'RAD', 'TAX', 'PTRATIO'), ('ZN', 'CHAS', 'NOX', 'RM', 'AGE', 'RAD', 'TAX', 'LSTAT'), ('ZN', 'CHAS', 'NOX', 'RM', 'AGE', 'RAD', 'TAX', 'MEDV'), ('ZN', 'CHAS', 'NOX', 'RM', 'AGE', 'RAD', 'TAX', 'CAT.MEDV'), ('ZN', 'CHAS', 'NOX', 'RM', 'AGE', 'RAD', 'PTRATIO', 'LSTAT'), ('ZN', 'CHAS', 'NOX', 'RM', 'AGE', 'RAD', 'PTRATIO', 'MEDV'), ('ZN', 'CHAS', 'NOX', 'RM', 'AGE', 'RAD', 'PTRATIO', 'CAT.MEDV'), ('ZN', 'CHAS', 'NOX', 'RM', 'AGE', 'RAD', 'LSTAT', 'MEDV'), ('ZN', 'CHAS', 'NOX', 'RM', 'AGE', 'RAD', 'LSTAT', 'CAT.MEDV'), ('ZN', 'CHAS', 'NOX', 'RM', 'AGE', 'RAD', 'MEDV', 'CAT.MEDV'), ('ZN', 'CHAS', 'NOX', 'RM', 'AGE', 'TAX', 'PTRATIO', 'LSTAT'), ('ZN', 'CHAS', 'NOX', 'RM', 'AGE', 'TAX', 'PTRATIO', 'MEDV'), ('ZN', 'CHAS', 'NOX', 'RM', 'AGE', 'TAX', 'PTRATIO', 'CAT.MEDV'), ('ZN', 'CHAS', 'NOX', 'RM', 'AGE', 'TAX', 'LSTAT', 'MEDV'), ('ZN', 'CHAS', 'NOX', 'RM', 'AGE', 'TAX', 'LSTAT', 'CAT.MEDV'), ('ZN', 'CHAS', 'NOX', 'RM', 'AGE', 'TAX', 'MEDV', 'CAT.MEDV'), ('ZN', 'CHAS', 'NOX', 'RM', 'AGE', 'PTRATIO', 'LSTAT', 'MEDV'), ('ZN', 'CHAS', 'NOX', 'RM', 'AGE', 'PTRATIO', 'LSTAT', 'CAT.MEDV'), ('ZN', 'CHAS', 'NOX', 'RM', 'AGE', 'PTRATIO', 'MEDV', 'CAT.MEDV'), ('ZN', 'CHAS', 'NOX', 'RM', 'AGE', 'LSTAT', 'MEDV', 'CAT.MEDV'), ('ZN', 'CHAS', 'NOX', 'RM', 'DIS', 'RAD', 'TAX', 'PTRATIO'), ('ZN', 'CHAS', 'NOX', 'RM', 'DIS', 'RAD', 'TAX', 'LSTAT'), ('ZN', 'CHAS', 'NOX', 'RM', 'DIS', 'RAD', 'TAX', 'MEDV'), ('ZN', 'CHAS', 'NOX', 'RM', 'DIS', 'RAD', 'TAX', 'CAT.MEDV'), ('ZN', 'CHAS', 'NOX', 'RM', 'DIS', 'RAD', 'PTRATIO', 'LSTAT'), ('ZN', 'CHAS', 'NOX', 'RM', 'DIS', 'RAD', 'PTRATIO', 'MEDV'), ('ZN', 'CHAS', 'NOX', 'RM', 'DIS', 'RAD', 'PTRATIO', 'CAT.MEDV'), ('ZN', 'CHAS', 'NOX', 'RM', 'DIS', 'RAD', 'LSTAT', 'MEDV'), ('ZN', 'CHAS', 'NOX', 'RM', 'DIS', 'RAD', 'LSTAT', 'CAT.MEDV'), ('ZN', 'CHAS', 'NOX', 'RM', 'DIS', 'RAD', 'MEDV', 'CAT.MEDV'), ('ZN', 'CHAS', 'NOX', 'RM', 'DIS', 'TAX', 'PTRATIO', 'LSTAT'), ('ZN', 'CHAS', 'NOX', 'RM', 'DIS', 'TAX', 'PTRATIO', 'MEDV'), ('ZN', 'CHAS', 'NOX', 'RM', 'DIS', 'TAX', 'PTRATIO', 'CAT.MEDV'), ('ZN', 'CHAS', 'NOX', 'RM', 'DIS', 'TAX', 'LSTAT', 'MEDV'), ('ZN', 'CHAS', 'NOX', 'RM', 'DIS', 'TAX', 'LSTAT', 'CAT.MEDV'), ('ZN', 'CHAS', 'NOX', 'RM', 'DIS', 'TAX', 'MEDV', 'CAT.MEDV'), ('ZN', 'CHAS', 'NOX', 'RM', 'DIS', 'PTRATIO', 'LSTAT', 'MEDV'), ('ZN', 'CHAS', 'NOX', 'RM', 'DIS', 'PTRATIO', 'LSTAT', 'CAT.MEDV'), ('ZN', 'CHAS', 'NOX', 'RM', 'DIS', 'PTRATIO', 'MEDV', 'CAT.MEDV'), ('ZN', 'CHAS', 'NOX', 'RM', 'DIS', 'LSTAT', 'MEDV', 'CAT.MEDV'), ('ZN', 'CHAS', 'NOX', 'RM', 'RAD', 'TAX', 'PTRATIO', 'LSTAT'), ('ZN', 'CHAS', 'NOX', 'RM', 'RAD', 'TAX', 'PTRATIO', 'MEDV'), ('ZN', 'CHAS', 'NOX', 'RM', 'RAD', 'TAX', 'PTRATIO', 'CAT.MEDV'), ('ZN', 'CHAS', 'NOX', 'RM', 'RAD', 'TAX', 'LSTAT', 'MEDV'), ('ZN', 'CHAS', 'NOX', 'RM', 'RAD', 'TAX', 'LSTAT', 'CAT.MEDV'), ('ZN', 'CHAS', 'NOX', 'RM', 'RAD', 'TAX', 'MEDV', 'CAT.MEDV'), ('ZN', 'CHAS', 'NOX', 'RM', 'RAD', 'PTRATIO', 'LSTAT', 'MEDV'), ('ZN', 'CHAS', 'NOX', 'RM', 'RAD', 'PTRATIO', 'LSTAT', 'CAT.MEDV'), ('ZN', 'CHAS', 'NOX', 'RM', 'RAD', 'PTRATIO', 'MEDV', 'CAT.MEDV'), ('ZN', 'CHAS', 'NOX', 'RM', 'RAD', 'LSTAT', 'MEDV', 'CAT.MEDV'), ('ZN', 'CHAS', 'NOX', 'RM', 'TAX', 'PTRATIO', 'LSTAT', 'MEDV'), ('ZN', 'CHAS', 'NOX', 'RM', 'TAX', 'PTRATIO', 'LSTAT', 'CAT.MEDV'), ('ZN', 'CHAS', 'NOX', 'RM', 'TAX', 'PTRATIO', 'MEDV', 'CAT.MEDV'), ('ZN', 'CHAS', 'NOX', 'RM', 'TAX', 'LSTAT', 'MEDV', 'CAT.MEDV'), ('ZN', 'CHAS', 'NOX', 'RM', 'PTRATIO', 'LSTAT', 'MEDV', 'CAT.MEDV'), ('ZN', 'CHAS', 'NOX', 'AGE', 'DIS', 'RAD', 'TAX', 'PTRATIO'), ('ZN', 'CHAS', 'NOX', 'AGE', 'DIS', 'RAD', 'TAX', 'LSTAT'), ('ZN', 'CHAS', 'NOX', 'AGE', 'DIS', 'RAD', 'TAX', 'MEDV'), ('ZN', 'CHAS', 'NOX', 'AGE', 'DIS', 'RAD', 'TAX', 'CAT.MEDV'), ('ZN', 'CHAS', 'NOX', 'AGE', 'DIS', 'RAD', 'PTRATIO', 'LSTAT'), ('ZN', 'CHAS', 'NOX', 'AGE', 'DIS', 'RAD', 'PTRATIO', 'MEDV'), ('ZN', 'CHAS', 'NOX', 'AGE', 'DIS', 'RAD', 'PTRATIO', 'CAT.MEDV'), ('ZN', 'CHAS', 'NOX', 'AGE', 'DIS', 'RAD', 'LSTAT', 'MEDV'), ('ZN', 'CHAS', 'NOX', 'AGE', 'DIS', 'RAD', 'LSTAT', 'CAT.MEDV'), ('ZN', 'CHAS', 'NOX', 'AGE', 'DIS', 'RAD', 'MEDV', 'CAT.MEDV'), ('ZN', 'CHAS', 'NOX', 'AGE', 'DIS', 'TAX', 'PTRATIO', 'LSTAT'), ('ZN', 'CHAS', 'NOX', 'AGE', 'DIS', 'TAX', 'PTRATIO', 'MEDV'), ('ZN', 'CHAS', 'NOX', 'AGE', 'DIS', 'TAX', 'PTRATIO', 'CAT.MEDV'), ('ZN', 'CHAS', 'NOX', 'AGE', 'DIS', 'TAX', 'LSTAT', 'MEDV'), ('ZN', 'CHAS', 'NOX', 'AGE', 'DIS', 'TAX', 'LSTAT', 'CAT.MEDV'), ('ZN', 'CHAS', 'NOX', 'AGE', 'DIS', 'TAX', 'MEDV', 'CAT.MEDV'), ('ZN', 'CHAS', 'NOX', 'AGE', 'DIS', 'PTRATIO', 'LSTAT', 'MEDV'), ('ZN', 'CHAS', 'NOX', 'AGE', 'DIS', 'PTRATIO', 'LSTAT', 'CAT.MEDV'), ('ZN', 'CHAS', 'NOX', 'AGE', 'DIS', 'PTRATIO', 'MEDV', 'CAT.MEDV'), ('ZN', 'CHAS', 'NOX', 'AGE', 'DIS', 'LSTAT', 'MEDV', 'CAT.MEDV'), ('ZN', 'CHAS', 'NOX', 'AGE', 'RAD', 'TAX', 'PTRATIO', 'LSTAT'), ('ZN', 'CHAS', 'NOX', 'AGE', 'RAD', 'TAX', 'PTRATIO', 'MEDV'), ('ZN', 'CHAS', 'NOX', 'AGE', 'RAD', 'TAX', 'PTRATIO', 'CAT.MEDV'), ('ZN', 'CHAS', 'NOX', 'AGE', 'RAD', 'TAX', 'LSTAT', 'MEDV'), ('ZN', 'CHAS', 'NOX', 'AGE', 'RAD', 'TAX', 'LSTAT', 'CAT.MEDV'), ('ZN', 'CHAS', 'NOX', 'AGE', 'RAD', 'TAX', 'MEDV', 'CAT.MEDV'), ('ZN', 'CHAS', 'NOX', 'AGE', 'RAD', 'PTRATIO', 'LSTAT', 'MEDV'), ('ZN', 'CHAS', 'NOX', 'AGE', 'RAD', 'PTRATIO', 'LSTAT', 'CAT.MEDV'), ('ZN', 'CHAS', 'NOX', 'AGE', 'RAD', 'PTRATIO', 'MEDV', 'CAT.MEDV'), ('ZN', 'CHAS', 'NOX', 'AGE', 'RAD', 'LSTAT', 'MEDV', 'CAT.MEDV'), ('ZN', 'CHAS', 'NOX', 'AGE', 'TAX', 'PTRATIO', 'LSTAT', 'MEDV'), ('ZN', 'CHAS', 'NOX', 'AGE', 'TAX', 'PTRATIO', 'LSTAT', 'CAT.MEDV'), ('ZN', 'CHAS', 'NOX', 'AGE', 'TAX', 'PTRATIO', 'MEDV', 'CAT.MEDV'), ('ZN', 'CHAS', 'NOX', 'AGE', 'TAX', 'LSTAT', 'MEDV', 'CAT.MEDV'), ('ZN', 'CHAS', 'NOX', 'AGE', 'PTRATIO', 'LSTAT', 'MEDV', 'CAT.MEDV'), ('ZN', 'CHAS', 'NOX', 'DIS', 'RAD', 'TAX', 'PTRATIO', 'LSTAT'), ('ZN', 'CHAS', 'NOX', 'DIS', 'RAD', 'TAX', 'PTRATIO', 'MEDV'), ('ZN', 'CHAS', 'NOX', 'DIS', 'RAD', 'TAX', 'PTRATIO', 'CAT.MEDV'), ('ZN', 'CHAS', 'NOX', 'DIS', 'RAD', 'TAX', 'LSTAT', 'MEDV'), ('ZN', 'CHAS', 'NOX', 'DIS', 'RAD', 'TAX', 'LSTAT', 'CAT.MEDV'), ('ZN', 'CHAS', 'NOX', 'DIS', 'RAD', 'TAX', 'MEDV', 'CAT.MEDV'), ('ZN', 'CHAS', 'NOX', 'DIS', 'RAD', 'PTRATIO', 'LSTAT', 'MEDV'), ('ZN', 'CHAS', 'NOX', 'DIS', 'RAD', 'PTRATIO', 'LSTAT', 'CAT.MEDV'), ('ZN', 'CHAS', 'NOX', 'DIS', 'RAD', 'PTRATIO', 'MEDV', 'CAT.MEDV'), ('ZN', 'CHAS', 'NOX', 'DIS', 'RAD', 'LSTAT', 'MEDV', 'CAT.MEDV'), ('ZN', 'CHAS', 'NOX', 'DIS', 'TAX', 'PTRATIO', 'LSTAT', 'MEDV'), ('ZN', 'CHAS', 'NOX', 'DIS', 'TAX', 'PTRATIO', 'LSTAT', 'CAT.MEDV'), ('ZN', 'CHAS', 'NOX', 'DIS', 'TAX', 'PTRATIO', 'MEDV', 'CAT.MEDV'), ('ZN', 'CHAS', 'NOX', 'DIS', 'TAX', 'LSTAT', 'MEDV', 'CAT.MEDV'), ('ZN', 'CHAS', 'NOX', 'DIS', 'PTRATIO', 'LSTAT', 'MEDV', 'CAT.MEDV'), ('ZN', 'CHAS', 'NOX', 'RAD', 'TAX', 'PTRATIO', 'LSTAT', 'MEDV'), ('ZN', 'CHAS', 'NOX', 'RAD', 'TAX', 'PTRATIO', 'LSTAT', 'CAT.MEDV'), ('ZN', 'CHAS', 'NOX', 'RAD', 'TAX', 'PTRATIO', 'MEDV', 'CAT.MEDV'), ('ZN', 'CHAS', 'NOX', 'RAD', 'TAX', 'LSTAT', 'MEDV', 'CAT.MEDV'), ('ZN', 'CHAS', 'NOX', 'RAD', 'PTRATIO', 'LSTAT', 'MEDV', 'CAT.MEDV'), ('ZN', 'CHAS', 'NOX', 'TAX', 'PTRATIO', 'LSTAT', 'MEDV', 'CAT.MEDV'), ('ZN', 'CHAS', 'RM', 'AGE', 'DIS', 'RAD', 'TAX', 'PTRATIO'), ('ZN', 'CHAS', 'RM', 'AGE', 'DIS', 'RAD', 'TAX', 'LSTAT'), ('ZN', 'CHAS', 'RM', 'AGE', 'DIS', 'RAD', 'TAX', 'MEDV'), ('ZN', 'CHAS', 'RM', 'AGE', 'DIS', 'RAD', 'TAX', 'CAT.MEDV'), ('ZN', 'CHAS', 'RM', 'AGE', 'DIS', 'RAD', 'PTRATIO', 'LSTAT'), ('ZN', 'CHAS', 'RM', 'AGE', 'DIS', 'RAD', 'PTRATIO', 'MEDV'), ('ZN', 'CHAS', 'RM', 'AGE', 'DIS', 'RAD', 'PTRATIO', 'CAT.MEDV'), ('ZN', 'CHAS', 'RM', 'AGE', 'DIS', 'RAD', 'LSTAT', 'MEDV'), ('ZN', 'CHAS', 'RM', 'AGE', 'DIS', 'RAD', 'LSTAT', 'CAT.MEDV'), ('ZN', 'CHAS', 'RM', 'AGE', 'DIS', 'RAD', 'MEDV', 'CAT.MEDV'), ('ZN', 'CHAS', 'RM', 'AGE', 'DIS', 'TAX', 'PTRATIO', 'LSTAT'), ('ZN', 'CHAS', 'RM', 'AGE', 'DIS', 'TAX', 'PTRATIO', 'MEDV'), ('ZN', 'CHAS', 'RM', 'AGE', 'DIS', 'TAX', 'PTRATIO', 'CAT.MEDV'), ('ZN', 'CHAS', 'RM', 'AGE', 'DIS', 'TAX', 'LSTAT', 'MEDV'), ('ZN', 'CHAS', 'RM', 'AGE', 'DIS', 'TAX', 'LSTAT', 'CAT.MEDV'), ('ZN', 'CHAS', 'RM', 'AGE', 'DIS', 'TAX', 'MEDV', 'CAT.MEDV'), ('ZN', 'CHAS', 'RM', 'AGE', 'DIS', 'PTRATIO', 'LSTAT', 'MEDV'), ('ZN', 'CHAS', 'RM', 'AGE', 'DIS', 'PTRATIO', 'LSTAT', 'CAT.MEDV'), ('ZN', 'CHAS', 'RM', 'AGE', 'DIS', 'PTRATIO', 'MEDV', 'CAT.MEDV'), ('ZN', 'CHAS', 'RM', 'AGE', 'DIS', 'LSTAT', 'MEDV', 'CAT.MEDV'), ('ZN', 'CHAS', 'RM', 'AGE', 'RAD', 'TAX', 'PTRATIO', 'LSTAT'), ('ZN', 'CHAS', 'RM', 'AGE', 'RAD', 'TAX', 'PTRATIO', 'MEDV'), ('ZN', 'CHAS', 'RM', 'AGE', 'RAD', 'TAX', 'PTRATIO', 'CAT.MEDV'), ('ZN', 'CHAS', 'RM', 'AGE', 'RAD', 'TAX', 'LSTAT', 'MEDV'), ('ZN', 'CHAS', 'RM', 'AGE', 'RAD', 'TAX', 'LSTAT', 'CAT.MEDV'), ('ZN', 'CHAS', 'RM', 'AGE', 'RAD', 'TAX', 'MEDV', 'CAT.MEDV'), ('ZN', 'CHAS', 'RM', 'AGE', 'RAD', 'PTRATIO', 'LSTAT', 'MEDV'), ('ZN', 'CHAS', 'RM', 'AGE', 'RAD', 'PTRATIO', 'LSTAT', 'CAT.MEDV'), ('ZN', 'CHAS', 'RM', 'AGE', 'RAD', 'PTRATIO', 'MEDV', 'CAT.MEDV'), ('ZN', 'CHAS', 'RM', 'AGE', 'RAD', 'LSTAT', 'MEDV', 'CAT.MEDV'), ('ZN', 'CHAS', 'RM', 'AGE', 'TAX', 'PTRATIO', 'LSTAT', 'MEDV'), ('ZN', 'CHAS', 'RM', 'AGE', 'TAX', 'PTRATIO', 'LSTAT', 'CAT.MEDV'), ('ZN', 'CHAS', 'RM', 'AGE', 'TAX', 'PTRATIO', 'MEDV', 'CAT.MEDV'), ('ZN', 'CHAS', 'RM', 'AGE', 'TAX', 'LSTAT', 'MEDV', 'CAT.MEDV'), ('ZN', 'CHAS', 'RM', 'AGE', 'PTRATIO', 'LSTAT', 'MEDV', 'CAT.MEDV'), ('ZN', 'CHAS', 'RM', 'DIS', 'RAD', 'TAX', 'PTRATIO', 'LSTAT'), ('ZN', 'CHAS', 'RM', 'DIS', 'RAD', 'TAX', 'PTRATIO', 'MEDV'), ('ZN', 'CHAS', 'RM', 'DIS', 'RAD', 'TAX', 'PTRATIO', 'CAT.MEDV'), ('ZN', 'CHAS', 'RM', 'DIS', 'RAD', 'TAX', 'LSTAT', 'MEDV'), ('ZN', 'CHAS', 'RM', 'DIS', 'RAD', 'TAX', 'LSTAT', 'CAT.MEDV'), ('ZN', 'CHAS', 'RM', 'DIS', 'RAD', 'TAX', 'MEDV', 'CAT.MEDV'), ('ZN', 'CHAS', 'RM', 'DIS', 'RAD', 'PTRATIO', 'LSTAT', 'MEDV'), ('ZN', 'CHAS', 'RM', 'DIS', 'RAD', 'PTRATIO', 'LSTAT', 'CAT.MEDV'), ('ZN', 'CHAS', 'RM', 'DIS', 'RAD', 'PTRATIO', 'MEDV', 'CAT.MEDV'), ('ZN', 'CHAS', 'RM', 'DIS', 'RAD', 'LSTAT', 'MEDV', 'CAT.MEDV'), ('ZN', 'CHAS', 'RM', 'DIS', 'TAX', 'PTRATIO', 'LSTAT', 'MEDV'), ('ZN', 'CHAS', 'RM', 'DIS', 'TAX', 'PTRATIO', 'LSTAT', 'CAT.MEDV'), ('ZN', 'CHAS', 'RM', 'DIS', 'TAX', 'PTRATIO', 'MEDV', 'CAT.MEDV'), ('ZN', 'CHAS', 'RM', 'DIS', 'TAX', 'LSTAT', 'MEDV', 'CAT.MEDV'), ('ZN', 'CHAS', 'RM', 'DIS', 'PTRATIO', 'LSTAT', 'MEDV', 'CAT.MEDV'), ('ZN', 'CHAS', 'RM', 'RAD', 'TAX', 'PTRATIO', 'LSTAT', 'MEDV'), ('ZN', 'CHAS', 'RM', 'RAD', 'TAX', 'PTRATIO', 'LSTAT', 'CAT.MEDV'), ('ZN', 'CHAS', 'RM', 'RAD', 'TAX', 'PTRATIO', 'MEDV', 'CAT.MEDV'), ('ZN', 'CHAS', 'RM', 'RAD', 'TAX', 'LSTAT', 'MEDV', 'CAT.MEDV'), ('ZN', 'CHAS', 'RM', 'RAD', 'PTRATIO', 'LSTAT', 'MEDV', 'CAT.MEDV'), ('ZN', 'CHAS', 'RM', 'TAX', 'PTRATIO', 'LSTAT', 'MEDV', 'CAT.MEDV'), ('ZN', 'CHAS', 'AGE', 'DIS', 'RAD', 'TAX', 'PTRATIO', 'LSTAT'), ('ZN', 'CHAS', 'AGE', 'DIS', 'RAD', 'TAX', 'PTRATIO', 'MEDV'), ('ZN', 'CHAS', 'AGE', 'DIS', 'RAD', 'TAX', 'PTRATIO', 'CAT.MEDV'), ('ZN', 'CHAS', 'AGE', 'DIS', 'RAD', 'TAX', 'LSTAT', 'MEDV'), ('ZN', 'CHAS', 'AGE', 'DIS', 'RAD', 'TAX', 'LSTAT', 'CAT.MEDV'), ('ZN', 'CHAS', 'AGE', 'DIS', 'RAD', 'TAX', 'MEDV', 'CAT.MEDV'), ('ZN', 'CHAS', 'AGE', 'DIS', 'RAD', 'PTRATIO', 'LSTAT', 'MEDV'), ('ZN', 'CHAS', 'AGE', 'DIS', 'RAD', 'PTRATIO', 'LSTAT', 'CAT.MEDV'), ('ZN', 'CHAS', 'AGE', 'DIS', 'RAD', 'PTRATIO', 'MEDV', 'CAT.MEDV'), ('ZN', 'CHAS', 'AGE', 'DIS', 'RAD', 'LSTAT', 'MEDV', 'CAT.MEDV'), ('ZN', 'CHAS', 'AGE', 'DIS', 'TAX', 'PTRATIO', 'LSTAT', 'MEDV'), ('ZN', 'CHAS', 'AGE', 'DIS', 'TAX', 'PTRATIO', 'LSTAT', 'CAT.MEDV'), ('ZN', 'CHAS', 'AGE', 'DIS', 'TAX', 'PTRATIO', 'MEDV', 'CAT.MEDV'), ('ZN', 'CHAS', 'AGE', 'DIS', 'TAX', 'LSTAT', 'MEDV', 'CAT.MEDV'), ('ZN', 'CHAS', 'AGE', 'DIS', 'PTRATIO', 'LSTAT', 'MEDV', 'CAT.MEDV'), ('ZN', 'CHAS', 'AGE', 'RAD', 'TAX', 'PTRATIO', 'LSTAT', 'MEDV'), ('ZN', 'CHAS', 'AGE', 'RAD', 'TAX', 'PTRATIO', 'LSTAT', 'CAT.MEDV'), ('ZN', 'CHAS', 'AGE', 'RAD', 'TAX', 'PTRATIO', 'MEDV', 'CAT.MEDV'), ('ZN', 'CHAS', 'AGE', 'RAD', 'TAX', 'LSTAT', 'MEDV', 'CAT.MEDV'), ('ZN', 'CHAS', 'AGE', 'RAD', 'PTRATIO', 'LSTAT', 'MEDV', 'CAT.MEDV'), ('ZN', 'CHAS', 'AGE', 'TAX', 'PTRATIO', 'LSTAT', 'MEDV', 'CAT.MEDV'), ('ZN', 'CHAS', 'DIS', 'RAD', 'TAX', 'PTRATIO', 'LSTAT', 'MEDV'), ('ZN', 'CHAS', 'DIS', 'RAD', 'TAX', 'PTRATIO', 'LSTAT', 'CAT.MEDV'), ('ZN', 'CHAS', 'DIS', 'RAD', 'TAX', 'PTRATIO', 'MEDV', 'CAT.MEDV'), ('ZN', 'CHAS', 'DIS', 'RAD', 'TAX', 'LSTAT', 'MEDV', 'CAT.MEDV'), ('ZN', 'CHAS', 'DIS', 'RAD', 'PTRATIO', 'LSTAT', 'MEDV', 'CAT.MEDV'), ('ZN', 'CHAS', 'DIS', 'TAX', 'PTRATIO', 'LSTAT', 'MEDV', 'CAT.MEDV'), ('ZN', 'CHAS', 'RAD', 'TAX', 'PTRATIO', 'LSTAT', 'MEDV', 'CAT.MEDV'), ('ZN', 'NOX', 'RM', 'AGE', 'DIS', 'RAD', 'TAX', 'PTRATIO'), ('ZN', 'NOX', 'RM', 'AGE', 'DIS', 'RAD', 'TAX', 'LSTAT'), ('ZN', 'NOX', 'RM', 'AGE', 'DIS', 'RAD', 'TAX', 'MEDV'), ('ZN', 'NOX', 'RM', 'AGE', 'DIS', 'RAD', 'TAX', 'CAT.MEDV'), ('ZN', 'NOX', 'RM', 'AGE', 'DIS', 'RAD', 'PTRATIO', 'LSTAT'), ('ZN', 'NOX', 'RM', 'AGE', 'DIS', 'RAD', 'PTRATIO', 'MEDV'), ('ZN', 'NOX', 'RM', 'AGE', 'DIS', 'RAD', 'PTRATIO', 'CAT.MEDV'), ('ZN', 'NOX', 'RM', 'AGE', 'DIS', 'RAD', 'LSTAT', 'MEDV'), ('ZN', 'NOX', 'RM', 'AGE', 'DIS', 'RAD', 'LSTAT', 'CAT.MEDV'), ('ZN', 'NOX', 'RM', 'AGE', 'DIS', 'RAD', 'MEDV', 'CAT.MEDV'), ('ZN', 'NOX', 'RM', 'AGE', 'DIS', 'TAX', 'PTRATIO', 'LSTAT'), ('ZN', 'NOX', 'RM', 'AGE', 'DIS', 'TAX', 'PTRATIO', 'MEDV'), ('ZN', 'NOX', 'RM', 'AGE', 'DIS', 'TAX', 'PTRATIO', 'CAT.MEDV'), ('ZN', 'NOX', 'RM', 'AGE', 'DIS', 'TAX', 'LSTAT', 'MEDV'), ('ZN', 'NOX', 'RM', 'AGE', 'DIS', 'TAX', 'LSTAT', 'CAT.MEDV'), ('ZN', 'NOX', 'RM', 'AGE', 'DIS', 'TAX', 'MEDV', 'CAT.MEDV'), ('ZN', 'NOX', 'RM', 'AGE', 'DIS', 'PTRATIO', 'LSTAT', 'MEDV'), ('ZN', 'NOX', 'RM', 'AGE', 'DIS', 'PTRATIO', 'LSTAT', 'CAT.MEDV'), ('ZN', 'NOX', 'RM', 'AGE', 'DIS', 'PTRATIO', 'MEDV', 'CAT.MEDV'), ('ZN', 'NOX', 'RM', 'AGE', 'DIS', 'LSTAT', 'MEDV', 'CAT.MEDV'), ('ZN', 'NOX', 'RM', 'AGE', 'RAD', 'TAX', 'PTRATIO', 'LSTAT'), ('ZN', 'NOX', 'RM', 'AGE', 'RAD', 'TAX', 'PTRATIO', 'MEDV'), ('ZN', 'NOX', 'RM', 'AGE', 'RAD', 'TAX', 'PTRATIO', 'CAT.MEDV'), ('ZN', 'NOX', 'RM', 'AGE', 'RAD', 'TAX', 'LSTAT', 'MEDV'), ('ZN', 'NOX', 'RM', 'AGE', 'RAD', 'TAX', 'LSTAT', 'CAT.MEDV'), ('ZN', 'NOX', 'RM', 'AGE', 'RAD', 'TAX', 'MEDV', 'CAT.MEDV'), ('ZN', 'NOX', 'RM', 'AGE', 'RAD', 'PTRATIO', 'LSTAT', 'MEDV'), ('ZN', 'NOX', 'RM', 'AGE', 'RAD', 'PTRATIO', 'LSTAT', 'CAT.MEDV'), ('ZN', 'NOX', 'RM', 'AGE', 'RAD', 'PTRATIO', 'MEDV', 'CAT.MEDV'), ('ZN', 'NOX', 'RM', 'AGE', 'RAD', 'LSTAT', 'MEDV', 'CAT.MEDV'), ('ZN', 'NOX', 'RM', 'AGE', 'TAX', 'PTRATIO', 'LSTAT', 'MEDV'), ('ZN', 'NOX', 'RM', 'AGE', 'TAX', 'PTRATIO', 'LSTAT', 'CAT.MEDV'), ('ZN', 'NOX', 'RM', 'AGE', 'TAX', 'PTRATIO', 'MEDV', 'CAT.MEDV'), ('ZN', 'NOX', 'RM', 'AGE', 'TAX', 'LSTAT', 'MEDV', 'CAT.MEDV'), ('ZN', 'NOX', 'RM', 'AGE', 'PTRATIO', 'LSTAT', 'MEDV', 'CAT.MEDV'), ('ZN', 'NOX', 'RM', 'DIS', 'RAD', 'TAX', 'PTRATIO', 'LSTAT'), ('ZN', 'NOX', 'RM', 'DIS', 'RAD', 'TAX', 'PTRATIO', 'MEDV'), ('ZN', 'NOX', 'RM', 'DIS', 'RAD', 'TAX', 'PTRATIO', 'CAT.MEDV'), ('ZN', 'NOX', 'RM', 'DIS', 'RAD', 'TAX', 'LSTAT', 'MEDV'), ('ZN', 'NOX', 'RM', 'DIS', 'RAD', 'TAX', 'LSTAT', 'CAT.MEDV'), ('ZN', 'NOX', 'RM', 'DIS', 'RAD', 'TAX', 'MEDV', 'CAT.MEDV'), ('ZN', 'NOX', 'RM', 'DIS', 'RAD', 'PTRATIO', 'LSTAT', 'MEDV'), ('ZN', 'NOX', 'RM', 'DIS', 'RAD', 'PTRATIO', 'LSTAT', 'CAT.MEDV'), ('ZN', 'NOX', 'RM', 'DIS', 'RAD', 'PTRATIO', 'MEDV', 'CAT.MEDV'), ('ZN', 'NOX', 'RM', 'DIS', 'RAD', 'LSTAT', 'MEDV', 'CAT.MEDV'), ('ZN', 'NOX', 'RM', 'DIS', 'TAX', 'PTRATIO', 'LSTAT', 'MEDV'), ('ZN', 'NOX', 'RM', 'DIS', 'TAX', 'PTRATIO', 'LSTAT', 'CAT.MEDV'), ('ZN', 'NOX', 'RM', 'DIS', 'TAX', 'PTRATIO', 'MEDV', 'CAT.MEDV'), ('ZN', 'NOX', 'RM', 'DIS', 'TAX', 'LSTAT', 'MEDV', 'CAT.MEDV'), ('ZN', 'NOX', 'RM', 'DIS', 'PTRATIO', 'LSTAT', 'MEDV', 'CAT.MEDV'), ('ZN', 'NOX', 'RM', 'RAD', 'TAX', 'PTRATIO', 'LSTAT', 'MEDV'), ('ZN', 'NOX', 'RM', 'RAD', 'TAX', 'PTRATIO', 'LSTAT', 'CAT.MEDV'), ('ZN', 'NOX', 'RM', 'RAD', 'TAX', 'PTRATIO', 'MEDV', 'CAT.MEDV'), ('ZN', 'NOX', 'RM', 'RAD', 'TAX', 'LSTAT', 'MEDV', 'CAT.MEDV'), ('ZN', 'NOX', 'RM', 'RAD', 'PTRATIO', 'LSTAT', 'MEDV', 'CAT.MEDV'), ('ZN', 'NOX', 'RM', 'TAX', 'PTRATIO', 'LSTAT', 'MEDV', 'CAT.MEDV'), ('ZN', 'NOX', 'AGE', 'DIS', 'RAD', 'TAX', 'PTRATIO', 'LSTAT'), ('ZN', 'NOX', 'AGE', 'DIS', 'RAD', 'TAX', 'PTRATIO', 'MEDV'), ('ZN', 'NOX', 'AGE', 'DIS', 'RAD', 'TAX', 'PTRATIO', 'CAT.MEDV'), ('ZN', 'NOX', 'AGE', 'DIS', 'RAD', 'TAX', 'LSTAT', 'MEDV'), ('ZN', 'NOX', 'AGE', 'DIS', 'RAD', 'TAX', 'LSTAT', 'CAT.MEDV'), ('ZN', 'NOX', 'AGE', 'DIS', 'RAD', 'TAX', 'MEDV', 'CAT.MEDV'), ('ZN', 'NOX', 'AGE', 'DIS', 'RAD', 'PTRATIO', 'LSTAT', 'MEDV'), ('ZN', 'NOX', 'AGE', 'DIS', 'RAD', 'PTRATIO', 'LSTAT', 'CAT.MEDV'), ('ZN', 'NOX', 'AGE', 'DIS', 'RAD', 'PTRATIO', 'MEDV', 'CAT.MEDV'), ('ZN', 'NOX', 'AGE', 'DIS', 'RAD', 'LSTAT', 'MEDV', 'CAT.MEDV'), ('ZN', 'NOX', 'AGE', 'DIS', 'TAX', 'PTRATIO', 'LSTAT', 'MEDV'), ('ZN', 'NOX', 'AGE', 'DIS', 'TAX', 'PTRATIO', 'LSTAT', 'CAT.MEDV'), ('ZN', 'NOX', 'AGE', 'DIS', 'TAX', 'PTRATIO', 'MEDV', 'CAT.MEDV'), ('ZN', 'NOX', 'AGE', 'DIS', 'TAX', 'LSTAT', 'MEDV', 'CAT.MEDV'), ('ZN', 'NOX', 'AGE', 'DIS', 'PTRATIO', 'LSTAT', 'MEDV', 'CAT.MEDV'), ('ZN', 'NOX', 'AGE', 'RAD', 'TAX', 'PTRATIO', 'LSTAT', 'MEDV'), ('ZN', 'NOX', 'AGE', 'RAD', 'TAX', 'PTRATIO', 'LSTAT', 'CAT.MEDV'), ('ZN', 'NOX', 'AGE', 'RAD', 'TAX', 'PTRATIO', 'MEDV', 'CAT.MEDV'), ('ZN', 'NOX', 'AGE', 'RAD', 'TAX', 'LSTAT', 'MEDV', 'CAT.MEDV'), ('ZN', 'NOX', 'AGE', 'RAD', 'PTRATIO', 'LSTAT', 'MEDV', 'CAT.MEDV'), ('ZN', 'NOX', 'AGE', 'TAX', 'PTRATIO', 'LSTAT', 'MEDV', 'CAT.MEDV'), ('ZN', 'NOX', 'DIS', 'RAD', 'TAX', 'PTRATIO', 'LSTAT', 'MEDV'), ('ZN', 'NOX', 'DIS', 'RAD', 'TAX', 'PTRATIO', 'LSTAT', 'CAT.MEDV'), ('ZN', 'NOX', 'DIS', 'RAD', 'TAX', 'PTRATIO', 'MEDV', 'CAT.MEDV'), ('ZN', 'NOX', 'DIS', 'RAD', 'TAX', 'LSTAT', 'MEDV', 'CAT.MEDV'), ('ZN', 'NOX', 'DIS', 'RAD', 'PTRATIO', 'LSTAT', 'MEDV', 'CAT.MEDV'), ('ZN', 'NOX', 'DIS', 'TAX', 'PTRATIO', 'LSTAT', 'MEDV', 'CAT.MEDV'), ('ZN', 'NOX', 'RAD', 'TAX', 'PTRATIO', 'LSTAT', 'MEDV', 'CAT.MEDV'), ('ZN', 'RM', 'AGE', 'DIS', 'RAD', 'TAX', 'PTRATIO', 'LSTAT'), ('ZN', 'RM', 'AGE', 'DIS', 'RAD', 'TAX', 'PTRATIO', 'MEDV'), ('ZN', 'RM', 'AGE', 'DIS', 'RAD', 'TAX', 'PTRATIO', 'CAT.MEDV'), ('ZN', 'RM', 'AGE', 'DIS', 'RAD', 'TAX', 'LSTAT', 'MEDV'), ('ZN', 'RM', 'AGE', 'DIS', 'RAD', 'TAX', 'LSTAT', 'CAT.MEDV'), ('ZN', 'RM', 'AGE', 'DIS', 'RAD', 'TAX', 'MEDV', 'CAT.MEDV'), ('ZN', 'RM', 'AGE', 'DIS', 'RAD', 'PTRATIO', 'LSTAT', 'MEDV'), ('ZN', 'RM', 'AGE', 'DIS', 'RAD', 'PTRATIO', 'LSTAT', 'CAT.MEDV'), ('ZN', 'RM', 'AGE', 'DIS', 'RAD', 'PTRATIO', 'MEDV', 'CAT.MEDV'), ('ZN', 'RM', 'AGE', 'DIS', 'RAD', 'LSTAT', 'MEDV', 'CAT.MEDV'), ('ZN', 'RM', 'AGE', 'DIS', 'TAX', 'PTRATIO', 'LSTAT', 'MEDV'), ('ZN', 'RM', 'AGE', 'DIS', 'TAX', 'PTRATIO', 'LSTAT', 'CAT.MEDV'), ('ZN', 'RM', 'AGE', 'DIS', 'TAX', 'PTRATIO', 'MEDV', 'CAT.MEDV'), ('ZN', 'RM', 'AGE', 'DIS', 'TAX', 'LSTAT', 'MEDV', 'CAT.MEDV'), ('ZN', 'RM', 'AGE', 'DIS', 'PTRATIO', 'LSTAT', 'MEDV', 'CAT.MEDV'), ('ZN', 'RM', 'AGE', 'RAD', 'TAX', 'PTRATIO', 'LSTAT', 'MEDV'), ('ZN', 'RM', 'AGE', 'RAD', 'TAX', 'PTRATIO', 'LSTAT', 'CAT.MEDV'), ('ZN', 'RM', 'AGE', 'RAD', 'TAX', 'PTRATIO', 'MEDV', 'CAT.MEDV'), ('ZN', 'RM', 'AGE', 'RAD', 'TAX', 'LSTAT', 'MEDV', 'CAT.MEDV'), ('ZN', 'RM', 'AGE', 'RAD', 'PTRATIO', 'LSTAT', 'MEDV', 'CAT.MEDV'), ('ZN', 'RM', 'AGE', 'TAX', 'PTRATIO', 'LSTAT', 'MEDV', 'CAT.MEDV'), ('ZN', 'RM', 'DIS', 'RAD', 'TAX', 'PTRATIO', 'LSTAT', 'MEDV'), ('ZN', 'RM', 'DIS', 'RAD', 'TAX', 'PTRATIO', 'LSTAT', 'CAT.MEDV'), ('ZN', 'RM', 'DIS', 'RAD', 'TAX', 'PTRATIO', 'MEDV', 'CAT.MEDV'), ('ZN', 'RM', 'DIS', 'RAD', 'TAX', 'LSTAT', 'MEDV', 'CAT.MEDV'), ('ZN', 'RM', 'DIS', 'RAD', 'PTRATIO', 'LSTAT', 'MEDV', 'CAT.MEDV'), ('ZN', 'RM', 'DIS', 'TAX', 'PTRATIO', 'LSTAT', 'MEDV', 'CAT.MEDV'), ('ZN', 'RM', 'RAD', 'TAX', 'PTRATIO', 'LSTAT', 'MEDV', 'CAT.MEDV'), ('ZN', 'AGE', 'DIS', 'RAD', 'TAX', 'PTRATIO', 'LSTAT', 'MEDV'), ('ZN', 'AGE', 'DIS', 'RAD', 'TAX', 'PTRATIO', 'LSTAT', 'CAT.MEDV'), ('ZN', 'AGE', 'DIS', 'RAD', 'TAX', 'PTRATIO', 'MEDV', 'CAT.MEDV'), ('ZN', 'AGE', 'DIS', 'RAD', 'TAX', 'LSTAT', 'MEDV', 'CAT.MEDV'), ('ZN', 'AGE', 'DIS', 'RAD', 'PTRATIO', 'LSTAT', 'MEDV', 'CAT.MEDV'), ('ZN', 'AGE', 'DIS', 'TAX', 'PTRATIO', 'LSTAT', 'MEDV', 'CAT.MEDV'), ('ZN', 'AGE', 'RAD', 'TAX', 'PTRATIO', 'LSTAT', 'MEDV', 'CAT.MEDV'), ('ZN', 'DIS', 'RAD', 'TAX', 'PTRATIO', 'LSTAT', 'MEDV', 'CAT.MEDV'), ('INDUS', 'CHAS', 'NOX', 'RM', 'AGE', 'DIS', 'RAD', 'TAX'), ('INDUS', 'CHAS', 'NOX', 'RM', 'AGE', 'DIS', 'RAD', 'PTRATIO'), ('INDUS', 'CHAS', 'NOX', 'RM', 'AGE', 'DIS', 'RAD', 'LSTAT'), ('INDUS', 'CHAS', 'NOX', 'RM', 'AGE', 'DIS', 'RAD', 'MEDV'), ('INDUS', 'CHAS', 'NOX', 'RM', 'AGE', 'DIS', 'RAD', 'CAT.MEDV'), ('INDUS', 'CHAS', 'NOX', 'RM', 'AGE', 'DIS', 'TAX', 'PTRATIO'), ('INDUS', 'CHAS', 'NOX', 'RM', 'AGE', 'DIS', 'TAX', 'LSTAT'), ('INDUS', 'CHAS', 'NOX', 'RM', 'AGE', 'DIS', 'TAX', 'MEDV'), ('INDUS', 'CHAS', 'NOX', 'RM', 'AGE', 'DIS', 'TAX', 'CAT.MEDV'), ('INDUS', 'CHAS', 'NOX', 'RM', 'AGE', 'DIS', 'PTRATIO', 'LSTAT'), ('INDUS', 'CHAS', 'NOX', 'RM', 'AGE', 'DIS', 'PTRATIO', 'MEDV'), ('INDUS', 'CHAS', 'NOX', 'RM', 'AGE', 'DIS', 'PTRATIO', 'CAT.MEDV'), ('INDUS', 'CHAS', 'NOX', 'RM', 'AGE', 'DIS', 'LSTAT', 'MEDV'), ('INDUS', 'CHAS', 'NOX', 'RM', 'AGE', 'DIS', 'LSTAT', 'CAT.MEDV'), ('INDUS', 'CHAS', 'NOX', 'RM', 'AGE', 'DIS', 'MEDV', 'CAT.MEDV'), ('INDUS', 'CHAS', 'NOX', 'RM', 'AGE', 'RAD', 'TAX', 'PTRATIO'), ('INDUS', 'CHAS', 'NOX', 'RM', 'AGE', 'RAD', 'TAX', 'LSTAT'), ('INDUS', 'CHAS', 'NOX', 'RM', 'AGE', 'RAD', 'TAX', 'MEDV'), ('INDUS', 'CHAS', 'NOX', 'RM', 'AGE', 'RAD', 'TAX', 'CAT.MEDV'), ('INDUS', 'CHAS', 'NOX', 'RM', 'AGE', 'RAD', 'PTRATIO', 'LSTAT'), ('INDUS', 'CHAS', 'NOX', 'RM', 'AGE', 'RAD', 'PTRATIO', 'MEDV'), ('INDUS', 'CHAS', 'NOX', 'RM', 'AGE', 'RAD', 'PTRATIO', 'CAT.MEDV'), ('INDUS', 'CHAS', 'NOX', 'RM', 'AGE', 'RAD', 'LSTAT', 'MEDV'), ('INDUS', 'CHAS', 'NOX', 'RM', 'AGE', 'RAD', 'LSTAT', 'CAT.MEDV'), ('INDUS', 'CHAS', 'NOX', 'RM', 'AGE', 'RAD', 'MEDV', 'CAT.MEDV'), ('INDUS', 'CHAS', 'NOX', 'RM', 'AGE', 'TAX', 'PTRATIO', 'LSTAT'), ('INDUS', 'CHAS', 'NOX', 'RM', 'AGE', 'TAX', 'PTRATIO', 'MEDV'), ('INDUS', 'CHAS', 'NOX', 'RM', 'AGE', 'TAX', 'PTRATIO', 'CAT.MEDV'), ('INDUS', 'CHAS', 'NOX', 'RM', 'AGE', 'TAX', 'LSTAT', 'MEDV'), ('INDUS', 'CHAS', 'NOX', 'RM', 'AGE', 'TAX', 'LSTAT', 'CAT.MEDV'), ('INDUS', 'CHAS', 'NOX', 'RM', 'AGE', 'TAX', 'MEDV', 'CAT.MEDV'), ('INDUS', 'CHAS', 'NOX', 'RM', 'AGE', 'PTRATIO', 'LSTAT', 'MEDV'), ('INDUS', 'CHAS', 'NOX', 'RM', 'AGE', 'PTRATIO', 'LSTAT', 'CAT.MEDV'), ('INDUS', 'CHAS', 'NOX', 'RM', 'AGE', 'PTRATIO', 'MEDV', 'CAT.MEDV'), ('INDUS', 'CHAS', 'NOX', 'RM', 'AGE', 'LSTAT', 'MEDV', 'CAT.MEDV'), ('INDUS', 'CHAS', 'NOX', 'RM', 'DIS', 'RAD', 'TAX', 'PTRATIO'), ('INDUS', 'CHAS', 'NOX', 'RM', 'DIS', 'RAD', 'TAX', 'LSTAT'), ('INDUS', 'CHAS', 'NOX', 'RM', 'DIS', 'RAD', 'TAX', 'MEDV'), ('INDUS', 'CHAS', 'NOX', 'RM', 'DIS', 'RAD', 'TAX', 'CAT.MEDV'), ('INDUS', 'CHAS', 'NOX', 'RM', 'DIS', 'RAD', 'PTRATIO', 'LSTAT'), ('INDUS', 'CHAS', 'NOX', 'RM', 'DIS', 'RAD', 'PTRATIO', 'MEDV'), ('INDUS', 'CHAS', 'NOX', 'RM', 'DIS', 'RAD', 'PTRATIO', 'CAT.MEDV'), ('INDUS', 'CHAS', 'NOX', 'RM', 'DIS', 'RAD', 'LSTAT', 'MEDV'), ('INDUS', 'CHAS', 'NOX', 'RM', 'DIS', 'RAD', 'LSTAT', 'CAT.MEDV'), ('INDUS', 'CHAS', 'NOX', 'RM', 'DIS', 'RAD', 'MEDV', 'CAT.MEDV'), ('INDUS', 'CHAS', 'NOX', 'RM', 'DIS', 'TAX', 'PTRATIO', 'LSTAT'), ('INDUS', 'CHAS', 'NOX', 'RM', 'DIS', 'TAX', 'PTRATIO', 'MEDV'), ('INDUS', 'CHAS', 'NOX', 'RM', 'DIS', 'TAX', 'PTRATIO', 'CAT.MEDV'), ('INDUS', 'CHAS', 'NOX', 'RM', 'DIS', 'TAX', 'LSTAT', 'MEDV'), ('INDUS', 'CHAS', 'NOX', 'RM', 'DIS', 'TAX', 'LSTAT', 'CAT.MEDV'), ('INDUS', 'CHAS', 'NOX', 'RM', 'DIS', 'TAX', 'MEDV', 'CAT.MEDV'), ('INDUS', 'CHAS', 'NOX', 'RM', 'DIS', 'PTRATIO', 'LSTAT', 'MEDV'), ('INDUS', 'CHAS', 'NOX', 'RM', 'DIS', 'PTRATIO', 'LSTAT', 'CAT.MEDV'), ('INDUS', 'CHAS', 'NOX', 'RM', 'DIS', 'PTRATIO', 'MEDV', 'CAT.MEDV'), ('INDUS', 'CHAS', 'NOX', 'RM', 'DIS', 'LSTAT', 'MEDV', 'CAT.MEDV'), ('INDUS', 'CHAS', 'NOX', 'RM', 'RAD', 'TAX', 'PTRATIO', 'LSTAT'), ('INDUS', 'CHAS', 'NOX', 'RM', 'RAD', 'TAX', 'PTRATIO', 'MEDV'), ('INDUS', 'CHAS', 'NOX', 'RM', 'RAD', 'TAX', 'PTRATIO', 'CAT.MEDV'), ('INDUS', 'CHAS', 'NOX', 'RM', 'RAD', 'TAX', 'LSTAT', 'MEDV'), ('INDUS', 'CHAS', 'NOX', 'RM', 'RAD', 'TAX', 'LSTAT', 'CAT.MEDV'), ('INDUS', 'CHAS', 'NOX', 'RM', 'RAD', 'TAX', 'MEDV', 'CAT.MEDV'), ('INDUS', 'CHAS', 'NOX', 'RM', 'RAD', 'PTRATIO', 'LSTAT', 'MEDV'), ('INDUS', 'CHAS', 'NOX', 'RM', 'RAD', 'PTRATIO', 'LSTAT', 'CAT.MEDV'), ('INDUS', 'CHAS', 'NOX', 'RM', 'RAD', 'PTRATIO', 'MEDV', 'CAT.MEDV'), ('INDUS', 'CHAS', 'NOX', 'RM', 'RAD', 'LSTAT', 'MEDV', 'CAT.MEDV'), ('INDUS', 'CHAS', 'NOX', 'RM', 'TAX', 'PTRATIO', 'LSTAT', 'MEDV'), ('INDUS', 'CHAS', 'NOX', 'RM', 'TAX', 'PTRATIO', 'LSTAT', 'CAT.MEDV'), ('INDUS', 'CHAS', 'NOX', 'RM', 'TAX', 'PTRATIO', 'MEDV', 'CAT.MEDV'), ('INDUS', 'CHAS', 'NOX', 'RM', 'TAX', 'LSTAT', 'MEDV', 'CAT.MEDV'), ('INDUS', 'CHAS', 'NOX', 'RM', 'PTRATIO', 'LSTAT', 'MEDV', 'CAT.MEDV'), ('INDUS', 'CHAS', 'NOX', 'AGE', 'DIS', 'RAD', 'TAX', 'PTRATIO'), ('INDUS', 'CHAS', 'NOX', 'AGE', 'DIS', 'RAD', 'TAX', 'LSTAT'), ('INDUS', 'CHAS', 'NOX', 'AGE', 'DIS', 'RAD', 'TAX', 'MEDV'), ('INDUS', 'CHAS', 'NOX', 'AGE', 'DIS', 'RAD', 'TAX', 'CAT.MEDV'), ('INDUS', 'CHAS', 'NOX', 'AGE', 'DIS', 'RAD', 'PTRATIO', 'LSTAT'), ('INDUS', 'CHAS', 'NOX', 'AGE', 'DIS', 'RAD', 'PTRATIO', 'MEDV'), ('INDUS', 'CHAS', 'NOX', 'AGE', 'DIS', 'RAD', 'PTRATIO', 'CAT.MEDV'), ('INDUS', 'CHAS', 'NOX', 'AGE', 'DIS', 'RAD', 'LSTAT', 'MEDV'), ('INDUS', 'CHAS', 'NOX', 'AGE', 'DIS', 'RAD', 'LSTAT', 'CAT.MEDV'), ('INDUS', 'CHAS', 'NOX', 'AGE', 'DIS', 'RAD', 'MEDV', 'CAT.MEDV'), ('INDUS', 'CHAS', 'NOX', 'AGE', 'DIS', 'TAX', 'PTRATIO', 'LSTAT'), ('INDUS', 'CHAS', 'NOX', 'AGE', 'DIS', 'TAX', 'PTRATIO', 'MEDV'), ('INDUS', 'CHAS', 'NOX', 'AGE', 'DIS', 'TAX', 'PTRATIO', 'CAT.MEDV'), ('INDUS', 'CHAS', 'NOX', 'AGE', 'DIS', 'TAX', 'LSTAT', 'MEDV'), ('INDUS', 'CHAS', 'NOX', 'AGE', 'DIS', 'TAX', 'LSTAT', 'CAT.MEDV'), ('INDUS', 'CHAS', 'NOX', 'AGE', 'DIS', 'TAX', 'MEDV', 'CAT.MEDV'), ('INDUS', 'CHAS', 'NOX', 'AGE', 'DIS', 'PTRATIO', 'LSTAT', 'MEDV'), ('INDUS', 'CHAS', 'NOX', 'AGE', 'DIS', 'PTRATIO', 'LSTAT', 'CAT.MEDV'), ('INDUS', 'CHAS', 'NOX', 'AGE', 'DIS', 'PTRATIO', 'MEDV', 'CAT.MEDV'), ('INDUS', 'CHAS', 'NOX', 'AGE', 'DIS', 'LSTAT', 'MEDV', 'CAT.MEDV'), ('INDUS', 'CHAS', 'NOX', 'AGE', 'RAD', 'TAX', 'PTRATIO', 'LSTAT'), ('INDUS', 'CHAS', 'NOX', 'AGE', 'RAD', 'TAX', 'PTRATIO', 'MEDV'), ('INDUS', 'CHAS', 'NOX', 'AGE', 'RAD', 'TAX', 'PTRATIO', 'CAT.MEDV'), ('INDUS', 'CHAS', 'NOX', 'AGE', 'RAD', 'TAX', 'LSTAT', 'MEDV'), ('INDUS', 'CHAS', 'NOX', 'AGE', 'RAD', 'TAX', 'LSTAT', 'CAT.MEDV'), ('INDUS', 'CHAS', 'NOX', 'AGE', 'RAD', 'TAX', 'MEDV', 'CAT.MEDV'), ('INDUS', 'CHAS', 'NOX', 'AGE', 'RAD', 'PTRATIO', 'LSTAT', 'MEDV'), ('INDUS', 'CHAS', 'NOX', 'AGE', 'RAD', 'PTRATIO', 'LSTAT', 'CAT.MEDV'), ('INDUS', 'CHAS', 'NOX', 'AGE', 'RAD', 'PTRATIO', 'MEDV', 'CAT.MEDV'), ('INDUS', 'CHAS', 'NOX', 'AGE', 'RAD', 'LSTAT', 'MEDV', 'CAT.MEDV'), ('INDUS', 'CHAS', 'NOX', 'AGE', 'TAX', 'PTRATIO', 'LSTAT', 'MEDV'), ('INDUS', 'CHAS', 'NOX', 'AGE', 'TAX', 'PTRATIO', 'LSTAT', 'CAT.MEDV'), ('INDUS', 'CHAS', 'NOX', 'AGE', 'TAX', 'PTRATIO', 'MEDV', 'CAT.MEDV'), ('INDUS', 'CHAS', 'NOX', 'AGE', 'TAX', 'LSTAT', 'MEDV', 'CAT.MEDV'), ('INDUS', 'CHAS', 'NOX', 'AGE', 'PTRATIO', 'LSTAT', 'MEDV', 'CAT.MEDV'), ('INDUS', 'CHAS', 'NOX', 'DIS', 'RAD', 'TAX', 'PTRATIO', 'LSTAT'), ('INDUS', 'CHAS', 'NOX', 'DIS', 'RAD', 'TAX', 'PTRATIO', 'MEDV'), ('INDUS', 'CHAS', 'NOX', 'DIS', 'RAD', 'TAX', 'PTRATIO', 'CAT.MEDV'), ('INDUS', 'CHAS', 'NOX', 'DIS', 'RAD', 'TAX', 'LSTAT', 'MEDV'), ('INDUS', 'CHAS', 'NOX', 'DIS', 'RAD', 'TAX', 'LSTAT', 'CAT.MEDV'), ('INDUS', 'CHAS', 'NOX', 'DIS', 'RAD', 'TAX', 'MEDV', 'CAT.MEDV'), ('INDUS', 'CHAS', 'NOX', 'DIS', 'RAD', 'PTRATIO', 'LSTAT', 'MEDV'), ('INDUS', 'CHAS', 'NOX', 'DIS', 'RAD', 'PTRATIO', 'LSTAT', 'CAT.MEDV'), ('INDUS', 'CHAS', 'NOX', 'DIS', 'RAD', 'PTRATIO', 'MEDV', 'CAT.MEDV'), ('INDUS', 'CHAS', 'NOX', 'DIS', 'RAD', 'LSTAT', 'MEDV', 'CAT.MEDV'), ('INDUS', 'CHAS', 'NOX', 'DIS', 'TAX', 'PTRATIO', 'LSTAT', 'MEDV'), ('INDUS', 'CHAS', 'NOX', 'DIS', 'TAX', 'PTRATIO', 'LSTAT', 'CAT.MEDV'), ('INDUS', 'CHAS', 'NOX', 'DIS', 'TAX', 'PTRATIO', 'MEDV', 'CAT.MEDV'), ('INDUS', 'CHAS', 'NOX', 'DIS', 'TAX', 'LSTAT', 'MEDV', 'CAT.MEDV'), ('INDUS', 'CHAS', 'NOX', 'DIS', 'PTRATIO', 'LSTAT', 'MEDV', 'CAT.MEDV'), ('INDUS', 'CHAS', 'NOX', 'RAD', 'TAX', 'PTRATIO', 'LSTAT', 'MEDV'), ('INDUS', 'CHAS', 'NOX', 'RAD', 'TAX', 'PTRATIO', 'LSTAT', 'CAT.MEDV'), ('INDUS', 'CHAS', 'NOX', 'RAD', 'TAX', 'PTRATIO', 'MEDV', 'CAT.MEDV'), ('INDUS', 'CHAS', 'NOX', 'RAD', 'TAX', 'LSTAT', 'MEDV', 'CAT.MEDV'), ('INDUS', 'CHAS', 'NOX', 'RAD', 'PTRATIO', 'LSTAT', 'MEDV', 'CAT.MEDV'), ('INDUS', 'CHAS', 'NOX', 'TAX', 'PTRATIO', 'LSTAT', 'MEDV', 'CAT.MEDV'), ('INDUS', 'CHAS', 'RM', 'AGE', 'DIS', 'RAD', 'TAX', 'PTRATIO'), ('INDUS', 'CHAS', 'RM', 'AGE', 'DIS', 'RAD', 'TAX', 'LSTAT'), ('INDUS', 'CHAS', 'RM', 'AGE', 'DIS', 'RAD', 'TAX', 'MEDV'), ('INDUS', 'CHAS', 'RM', 'AGE', 'DIS', 'RAD', 'TAX', 'CAT.MEDV'), ('INDUS', 'CHAS', 'RM', 'AGE', 'DIS', 'RAD', 'PTRATIO', 'LSTAT'), ('INDUS', 'CHAS', 'RM', 'AGE', 'DIS', 'RAD', 'PTRATIO', 'MEDV'), ('INDUS', 'CHAS', 'RM', 'AGE', 'DIS', 'RAD', 'PTRATIO', 'CAT.MEDV'), ('INDUS', 'CHAS', 'RM', 'AGE', 'DIS', 'RAD', 'LSTAT', 'MEDV'), ('INDUS', 'CHAS', 'RM', 'AGE', 'DIS', 'RAD', 'LSTAT', 'CAT.MEDV'), ('INDUS', 'CHAS', 'RM', 'AGE', 'DIS', 'RAD', 'MEDV', 'CAT.MEDV'), ('INDUS', 'CHAS', 'RM', 'AGE', 'DIS', 'TAX', 'PTRATIO', 'LSTAT'), ('INDUS', 'CHAS', 'RM', 'AGE', 'DIS', 'TAX', 'PTRATIO', 'MEDV'), ('INDUS', 'CHAS', 'RM', 'AGE', 'DIS', 'TAX', 'PTRATIO', 'CAT.MEDV'), ('INDUS', 'CHAS', 'RM', 'AGE', 'DIS', 'TAX', 'LSTAT', 'MEDV'), ('INDUS', 'CHAS', 'RM', 'AGE', 'DIS', 'TAX', 'LSTAT', 'CAT.MEDV'), ('INDUS', 'CHAS', 'RM', 'AGE', 'DIS', 'TAX', 'MEDV', 'CAT.MEDV'), ('INDUS', 'CHAS', 'RM', 'AGE', 'DIS', 'PTRATIO', 'LSTAT', 'MEDV'), ('INDUS', 'CHAS', 'RM', 'AGE', 'DIS', 'PTRATIO', 'LSTAT', 'CAT.MEDV'), ('INDUS', 'CHAS', 'RM', 'AGE', 'DIS', 'PTRATIO', 'MEDV', 'CAT.MEDV'), ('INDUS', 'CHAS', 'RM', 'AGE', 'DIS', 'LSTAT', 'MEDV', 'CAT.MEDV'), ('INDUS', 'CHAS', 'RM', 'AGE', 'RAD', 'TAX', 'PTRATIO', 'LSTAT'), ('INDUS', 'CHAS', 'RM', 'AGE', 'RAD', 'TAX', 'PTRATIO', 'MEDV'), ('INDUS', 'CHAS', 'RM', 'AGE', 'RAD', 'TAX', 'PTRATIO', 'CAT.MEDV'), ('INDUS', 'CHAS', 'RM', 'AGE', 'RAD', 'TAX', 'LSTAT', 'MEDV'), ('INDUS', 'CHAS', 'RM', 'AGE', 'RAD', 'TAX', 'LSTAT', 'CAT.MEDV'), ('INDUS', 'CHAS', 'RM', 'AGE', 'RAD', 'TAX', 'MEDV', 'CAT.MEDV'), ('INDUS', 'CHAS', 'RM', 'AGE', 'RAD', 'PTRATIO', 'LSTAT', 'MEDV'), ('INDUS', 'CHAS', 'RM', 'AGE', 'RAD', 'PTRATIO', 'LSTAT', 'CAT.MEDV'), ('INDUS', 'CHAS', 'RM', 'AGE', 'RAD', 'PTRATIO', 'MEDV', 'CAT.MEDV'), ('INDUS', 'CHAS', 'RM', 'AGE', 'RAD', 'LSTAT', 'MEDV', 'CAT.MEDV'), ('INDUS', 'CHAS', 'RM', 'AGE', 'TAX', 'PTRATIO', 'LSTAT', 'MEDV'), ('INDUS', 'CHAS', 'RM', 'AGE', 'TAX', 'PTRATIO', 'LSTAT', 'CAT.MEDV'), ('INDUS', 'CHAS', 'RM', 'AGE', 'TAX', 'PTRATIO', 'MEDV', 'CAT.MEDV'), ('INDUS', 'CHAS', 'RM', 'AGE', 'TAX', 'LSTAT', 'MEDV', 'CAT.MEDV'), ('INDUS', 'CHAS', 'RM', 'AGE', 'PTRATIO', 'LSTAT', 'MEDV', 'CAT.MEDV'), ('INDUS', 'CHAS', 'RM', 'DIS', 'RAD', 'TAX', 'PTRATIO', 'LSTAT'), ('INDUS', 'CHAS', 'RM', 'DIS', 'RAD', 'TAX', 'PTRATIO', 'MEDV'), ('INDUS', 'CHAS', 'RM', 'DIS', 'RAD', 'TAX', 'PTRATIO', 'CAT.MEDV'), ('INDUS', 'CHAS', 'RM', 'DIS', 'RAD', 'TAX', 'LSTAT', 'MEDV'), ('INDUS', 'CHAS', 'RM', 'DIS', 'RAD', 'TAX', 'LSTAT', 'CAT.MEDV'), ('INDUS', 'CHAS', 'RM', 'DIS', 'RAD', 'TAX', 'MEDV', 'CAT.MEDV'), ('INDUS', 'CHAS', 'RM', 'DIS', 'RAD', 'PTRATIO', 'LSTAT', 'MEDV'), ('INDUS', 'CHAS', 'RM', 'DIS', 'RAD', 'PTRATIO', 'LSTAT', 'CAT.MEDV'), ('INDUS', 'CHAS', 'RM', 'DIS', 'RAD', 'PTRATIO', 'MEDV', 'CAT.MEDV'), ('INDUS', 'CHAS', 'RM', 'DIS', 'RAD', 'LSTAT', 'MEDV', 'CAT.MEDV'), ('INDUS', 'CHAS', 'RM', 'DIS', 'TAX', 'PTRATIO', 'LSTAT', 'MEDV'), ('INDUS', 'CHAS', 'RM', 'DIS', 'TAX', 'PTRATIO', 'LSTAT', 'CAT.MEDV'), ('INDUS', 'CHAS', 'RM', 'DIS', 'TAX', 'PTRATIO', 'MEDV', 'CAT.MEDV'), ('INDUS', 'CHAS', 'RM', 'DIS', 'TAX', 'LSTAT', 'MEDV', 'CAT.MEDV'), ('INDUS', 'CHAS', 'RM', 'DIS', 'PTRATIO', 'LSTAT', 'MEDV', 'CAT.MEDV'), ('INDUS', 'CHAS', 'RM', 'RAD', 'TAX', 'PTRATIO', 'LSTAT', 'MEDV'), ('INDUS', 'CHAS', 'RM', 'RAD', 'TAX', 'PTRATIO', 'LSTAT', 'CAT.MEDV'), ('INDUS', 'CHAS', 'RM', 'RAD', 'TAX', 'PTRATIO', 'MEDV', 'CAT.MEDV'), ('INDUS', 'CHAS', 'RM', 'RAD', 'TAX', 'LSTAT', 'MEDV', 'CAT.MEDV'), ('INDUS', 'CHAS', 'RM', 'RAD', 'PTRATIO', 'LSTAT', 'MEDV', 'CAT.MEDV'), ('INDUS', 'CHAS', 'RM', 'TAX', 'PTRATIO', 'LSTAT', 'MEDV', 'CAT.MEDV'), ('INDUS', 'CHAS', 'AGE', 'DIS', 'RAD', 'TAX', 'PTRATIO', 'LSTAT'), ('INDUS', 'CHAS', 'AGE', 'DIS', 'RAD', 'TAX', 'PTRATIO', 'MEDV'), ('INDUS', 'CHAS', 'AGE', 'DIS', 'RAD', 'TAX', 'PTRATIO', 'CAT.MEDV'), ('INDUS', 'CHAS', 'AGE', 'DIS', 'RAD', 'TAX', 'LSTAT', 'MEDV'), ('INDUS', 'CHAS', 'AGE', 'DIS', 'RAD', 'TAX', 'LSTAT', 'CAT.MEDV'), ('INDUS', 'CHAS', 'AGE', 'DIS', 'RAD', 'TAX', 'MEDV', 'CAT.MEDV'), ('INDUS', 'CHAS', 'AGE', 'DIS', 'RAD', 'PTRATIO', 'LSTAT', 'MEDV'), ('INDUS', 'CHAS', 'AGE', 'DIS', 'RAD', 'PTRATIO', 'LSTAT', 'CAT.MEDV'), ('INDUS', 'CHAS', 'AGE', 'DIS', 'RAD', 'PTRATIO', 'MEDV', 'CAT.MEDV'), ('INDUS', 'CHAS', 'AGE', 'DIS', 'RAD', 'LSTAT', 'MEDV', 'CAT.MEDV'), ('INDUS', 'CHAS', 'AGE', 'DIS', 'TAX', 'PTRATIO', 'LSTAT', 'MEDV'), ('INDUS', 'CHAS', 'AGE', 'DIS', 'TAX', 'PTRATIO', 'LSTAT', 'CAT.MEDV'), ('INDUS', 'CHAS', 'AGE', 'DIS', 'TAX', 'PTRATIO', 'MEDV', 'CAT.MEDV'), ('INDUS', 'CHAS', 'AGE', 'DIS', 'TAX', 'LSTAT', 'MEDV', 'CAT.MEDV'), ('INDUS', 'CHAS', 'AGE', 'DIS', 'PTRATIO', 'LSTAT', 'MEDV', 'CAT.MEDV'), ('INDUS', 'CHAS', 'AGE', 'RAD', 'TAX', 'PTRATIO', 'LSTAT', 'MEDV'), ('INDUS', 'CHAS', 'AGE', 'RAD', 'TAX', 'PTRATIO', 'LSTAT', 'CAT.MEDV'), ('INDUS', 'CHAS', 'AGE', 'RAD', 'TAX', 'PTRATIO', 'MEDV', 'CAT.MEDV'), ('INDUS', 'CHAS', 'AGE', 'RAD', 'TAX', 'LSTAT', 'MEDV', 'CAT.MEDV'), ('INDUS', 'CHAS', 'AGE', 'RAD', 'PTRATIO', 'LSTAT', 'MEDV', 'CAT.MEDV'), ('INDUS', 'CHAS', 'AGE', 'TAX', 'PTRATIO', 'LSTAT', 'MEDV', 'CAT.MEDV'), ('INDUS', 'CHAS', 'DIS', 'RAD', 'TAX', 'PTRATIO', 'LSTAT', 'MEDV'), ('INDUS', 'CHAS', 'DIS', 'RAD', 'TAX', 'PTRATIO', 'LSTAT', 'CAT.MEDV'), ('INDUS', 'CHAS', 'DIS', 'RAD', 'TAX', 'PTRATIO', 'MEDV', 'CAT.MEDV'), ('INDUS', 'CHAS', 'DIS', 'RAD', 'TAX', 'LSTAT', 'MEDV', 'CAT.MEDV'), ('INDUS', 'CHAS', 'DIS', 'RAD', 'PTRATIO', 'LSTAT', 'MEDV', 'CAT.MEDV'), ('INDUS', 'CHAS', 'DIS', 'TAX', 'PTRATIO', 'LSTAT', 'MEDV', 'CAT.MEDV'), ('INDUS', 'CHAS', 'RAD', 'TAX', 'PTRATIO', 'LSTAT', 'MEDV', 'CAT.MEDV'), ('INDUS', 'NOX', 'RM', 'AGE', 'DIS', 'RAD', 'TAX', 'PTRATIO'), ('INDUS', 'NOX', 'RM', 'AGE', 'DIS', 'RAD', 'TAX', 'LSTAT'), ('INDUS', 'NOX', 'RM', 'AGE', 'DIS', 'RAD', 'TAX', 'MEDV'), ('INDUS', 'NOX', 'RM', 'AGE', 'DIS', 'RAD', 'TAX', 'CAT.MEDV'), ('INDUS', 'NOX', 'RM', 'AGE', 'DIS', 'RAD', 'PTRATIO', 'LSTAT'), ('INDUS', 'NOX', 'RM', 'AGE', 'DIS', 'RAD', 'PTRATIO', 'MEDV'), ('INDUS', 'NOX', 'RM', 'AGE', 'DIS', 'RAD', 'PTRATIO', 'CAT.MEDV'), ('INDUS', 'NOX', 'RM', 'AGE', 'DIS', 'RAD', 'LSTAT', 'MEDV'), ('INDUS', 'NOX', 'RM', 'AGE', 'DIS', 'RAD', 'LSTAT', 'CAT.MEDV'), ('INDUS', 'NOX', 'RM', 'AGE', 'DIS', 'RAD', 'MEDV', 'CAT.MEDV'), ('INDUS', 'NOX', 'RM', 'AGE', 'DIS', 'TAX', 'PTRATIO', 'LSTAT'), ('INDUS', 'NOX', 'RM', 'AGE', 'DIS', 'TAX', 'PTRATIO', 'MEDV'), ('INDUS', 'NOX', 'RM', 'AGE', 'DIS', 'TAX', 'PTRATIO', 'CAT.MEDV'), ('INDUS', 'NOX', 'RM', 'AGE', 'DIS', 'TAX', 'LSTAT', 'MEDV'), ('INDUS', 'NOX', 'RM', 'AGE', 'DIS', 'TAX', 'LSTAT', 'CAT.MEDV'), ('INDUS', 'NOX', 'RM', 'AGE', 'DIS', 'TAX', 'MEDV', 'CAT.MEDV'), ('INDUS', 'NOX', 'RM', 'AGE', 'DIS', 'PTRATIO', 'LSTAT', 'MEDV'), ('INDUS', 'NOX', 'RM', 'AGE', 'DIS', 'PTRATIO', 'LSTAT', 'CAT.MEDV'), ('INDUS', 'NOX', 'RM', 'AGE', 'DIS', 'PTRATIO', 'MEDV', 'CAT.MEDV'), ('INDUS', 'NOX', 'RM', 'AGE', 'DIS', 'LSTAT', 'MEDV', 'CAT.MEDV'), ('INDUS', 'NOX', 'RM', 'AGE', 'RAD', 'TAX', 'PTRATIO', 'LSTAT'), ('INDUS', 'NOX', 'RM', 'AGE', 'RAD', 'TAX', 'PTRATIO', 'MEDV'), ('INDUS', 'NOX', 'RM', 'AGE', 'RAD', 'TAX', 'PTRATIO', 'CAT.MEDV'), ('INDUS', 'NOX', 'RM', 'AGE', 'RAD', 'TAX', 'LSTAT', 'MEDV'), ('INDUS', 'NOX', 'RM', 'AGE', 'RAD', 'TAX', 'LSTAT', 'CAT.MEDV'), ('INDUS', 'NOX', 'RM', 'AGE', 'RAD', 'TAX', 'MEDV', 'CAT.MEDV'), ('INDUS', 'NOX', 'RM', 'AGE', 'RAD', 'PTRATIO', 'LSTAT', 'MEDV'), ('INDUS', 'NOX', 'RM', 'AGE', 'RAD', 'PTRATIO', 'LSTAT', 'CAT.MEDV'), ('INDUS', 'NOX', 'RM', 'AGE', 'RAD', 'PTRATIO', 'MEDV', 'CAT.MEDV'), ('INDUS', 'NOX', 'RM', 'AGE', 'RAD', 'LSTAT', 'MEDV', 'CAT.MEDV'), ('INDUS', 'NOX', 'RM', 'AGE', 'TAX', 'PTRATIO', 'LSTAT', 'MEDV'), ('INDUS', 'NOX', 'RM', 'AGE', 'TAX', 'PTRATIO', 'LSTAT', 'CAT.MEDV'), ('INDUS', 'NOX', 'RM', 'AGE', 'TAX', 'PTRATIO', 'MEDV', 'CAT.MEDV'), ('INDUS', 'NOX', 'RM', 'AGE', 'TAX', 'LSTAT', 'MEDV', 'CAT.MEDV'), ('INDUS', 'NOX', 'RM', 'AGE', 'PTRATIO', 'LSTAT', 'MEDV', 'CAT.MEDV'), ('INDUS', 'NOX', 'RM', 'DIS', 'RAD', 'TAX', 'PTRATIO', 'LSTAT'), ('INDUS', 'NOX', 'RM', 'DIS', 'RAD', 'TAX', 'PTRATIO', 'MEDV'), ('INDUS', 'NOX', 'RM', 'DIS', 'RAD', 'TAX', 'PTRATIO', 'CAT.MEDV'), ('INDUS', 'NOX', 'RM', 'DIS', 'RAD', 'TAX', 'LSTAT', 'MEDV'), ('INDUS', 'NOX', 'RM', 'DIS', 'RAD', 'TAX', 'LSTAT', 'CAT.MEDV'), ('INDUS', 'NOX', 'RM', 'DIS', 'RAD', 'TAX', 'MEDV', 'CAT.MEDV'), ('INDUS', 'NOX', 'RM', 'DIS', 'RAD', 'PTRATIO', 'LSTAT', 'MEDV'), ('INDUS', 'NOX', 'RM', 'DIS', 'RAD', 'PTRATIO', 'LSTAT', 'CAT.MEDV'), ('INDUS', 'NOX', 'RM', 'DIS', 'RAD', 'PTRATIO', 'MEDV', 'CAT.MEDV'), ('INDUS', 'NOX', 'RM', 'DIS', 'RAD', 'LSTAT', 'MEDV', 'CAT.MEDV'), ('INDUS', 'NOX', 'RM', 'DIS', 'TAX', 'PTRATIO', 'LSTAT', 'MEDV'), ('INDUS', 'NOX', 'RM', 'DIS', 'TAX', 'PTRATIO', 'LSTAT', 'CAT.MEDV'), ('INDUS', 'NOX', 'RM', 'DIS', 'TAX', 'PTRATIO', 'MEDV', 'CAT.MEDV'), ('INDUS', 'NOX', 'RM', 'DIS', 'TAX', 'LSTAT', 'MEDV', 'CAT.MEDV'), ('INDUS', 'NOX', 'RM', 'DIS', 'PTRATIO', 'LSTAT', 'MEDV', 'CAT.MEDV'), ('INDUS', 'NOX', 'RM', 'RAD', 'TAX', 'PTRATIO', 'LSTAT', 'MEDV'), ('INDUS', 'NOX', 'RM', 'RAD', 'TAX', 'PTRATIO', 'LSTAT', 'CAT.MEDV'), ('INDUS', 'NOX', 'RM', 'RAD', 'TAX', 'PTRATIO', 'MEDV', 'CAT.MEDV'), ('INDUS', 'NOX', 'RM', 'RAD', 'TAX', 'LSTAT', 'MEDV', 'CAT.MEDV'), ('INDUS', 'NOX', 'RM', 'RAD', 'PTRATIO', 'LSTAT', 'MEDV', 'CAT.MEDV'), ('INDUS', 'NOX', 'RM', 'TAX', 'PTRATIO', 'LSTAT', 'MEDV', 'CAT.MEDV'), ('INDUS', 'NOX', 'AGE', 'DIS', 'RAD', 'TAX', 'PTRATIO', 'LSTAT'), ('INDUS', 'NOX', 'AGE', 'DIS', 'RAD', 'TAX', 'PTRATIO', 'MEDV'), ('INDUS', 'NOX', 'AGE', 'DIS', 'RAD', 'TAX', 'PTRATIO', 'CAT.MEDV'), ('INDUS', 'NOX', 'AGE', 'DIS', 'RAD', 'TAX', 'LSTAT', 'MEDV'), ('INDUS', 'NOX', 'AGE', 'DIS', 'RAD', 'TAX', 'LSTAT', 'CAT.MEDV'), ('INDUS', 'NOX', 'AGE', 'DIS', 'RAD', 'TAX', 'MEDV', 'CAT.MEDV'), ('INDUS', 'NOX', 'AGE', 'DIS', 'RAD', 'PTRATIO', 'LSTAT', 'MEDV'), ('INDUS', 'NOX', 'AGE', 'DIS', 'RAD', 'PTRATIO', 'LSTAT', 'CAT.MEDV'), ('INDUS', 'NOX', 'AGE', 'DIS', 'RAD', 'PTRATIO', 'MEDV', 'CAT.MEDV'), ('INDUS', 'NOX', 'AGE', 'DIS', 'RAD', 'LSTAT', 'MEDV', 'CAT.MEDV'), ('INDUS', 'NOX', 'AGE', 'DIS', 'TAX', 'PTRATIO', 'LSTAT', 'MEDV'), ('INDUS', 'NOX', 'AGE', 'DIS', 'TAX', 'PTRATIO', 'LSTAT', 'CAT.MEDV'), ('INDUS', 'NOX', 'AGE', 'DIS', 'TAX', 'PTRATIO', 'MEDV', 'CAT.MEDV'), ('INDUS', 'NOX', 'AGE', 'DIS', 'TAX', 'LSTAT', 'MEDV', 'CAT.MEDV'), ('INDUS', 'NOX', 'AGE', 'DIS', 'PTRATIO', 'LSTAT', 'MEDV', 'CAT.MEDV'), ('INDUS', 'NOX', 'AGE', 'RAD', 'TAX', 'PTRATIO', 'LSTAT', 'MEDV'), ('INDUS', 'NOX', 'AGE', 'RAD', 'TAX', 'PTRATIO', 'LSTAT', 'CAT.MEDV'), ('INDUS', 'NOX', 'AGE', 'RAD', 'TAX', 'PTRATIO', 'MEDV', 'CAT.MEDV'), ('INDUS', 'NOX', 'AGE', 'RAD', 'TAX', 'LSTAT', 'MEDV', 'CAT.MEDV'), ('INDUS', 'NOX', 'AGE', 'RAD', 'PTRATIO', 'LSTAT', 'MEDV', 'CAT.MEDV'), ('INDUS', 'NOX', 'AGE', 'TAX', 'PTRATIO', 'LSTAT', 'MEDV', 'CAT.MEDV'), ('INDUS', 'NOX', 'DIS', 'RAD', 'TAX', 'PTRATIO', 'LSTAT', 'MEDV'), ('INDUS', 'NOX', 'DIS', 'RAD', 'TAX', 'PTRATIO', 'LSTAT', 'CAT.MEDV'), ('INDUS', 'NOX', 'DIS', 'RAD', 'TAX', 'PTRATIO', 'MEDV', 'CAT.MEDV'), ('INDUS', 'NOX', 'DIS', 'RAD', 'TAX', 'LSTAT', 'MEDV', 'CAT.MEDV'), ('INDUS', 'NOX', 'DIS', 'RAD', 'PTRATIO', 'LSTAT', 'MEDV', 'CAT.MEDV'), ('INDUS', 'NOX', 'DIS', 'TAX', 'PTRATIO', 'LSTAT', 'MEDV', 'CAT.MEDV'), ('INDUS', 'NOX', 'RAD', 'TAX', 'PTRATIO', 'LSTAT', 'MEDV', 'CAT.MEDV'), ('INDUS', 'RM', 'AGE', 'DIS', 'RAD', 'TAX', 'PTRATIO', 'LSTAT'), ('INDUS', 'RM', 'AGE', 'DIS', 'RAD', 'TAX', 'PTRATIO', 'MEDV'), ('INDUS', 'RM', 'AGE', 'DIS', 'RAD', 'TAX', 'PTRATIO', 'CAT.MEDV'), ('INDUS', 'RM', 'AGE', 'DIS', 'RAD', 'TAX', 'LSTAT', 'MEDV'), ('INDUS', 'RM', 'AGE', 'DIS', 'RAD', 'TAX', 'LSTAT', 'CAT.MEDV'), ('INDUS', 'RM', 'AGE', 'DIS', 'RAD', 'TAX', 'MEDV', 'CAT.MEDV'), ('INDUS', 'RM', 'AGE', 'DIS', 'RAD', 'PTRATIO', 'LSTAT', 'MEDV'), ('INDUS', 'RM', 'AGE', 'DIS', 'RAD', 'PTRATIO', 'LSTAT', 'CAT.MEDV'), ('INDUS', 'RM', 'AGE', 'DIS', 'RAD', 'PTRATIO', 'MEDV', 'CAT.MEDV'), ('INDUS', 'RM', 'AGE', 'DIS', 'RAD', 'LSTAT', 'MEDV', 'CAT.MEDV'), ('INDUS', 'RM', 'AGE', 'DIS', 'TAX', 'PTRATIO', 'LSTAT', 'MEDV'), ('INDUS', 'RM', 'AGE', 'DIS', 'TAX', 'PTRATIO', 'LSTAT', 'CAT.MEDV'), ('INDUS', 'RM', 'AGE', 'DIS', 'TAX', 'PTRATIO', 'MEDV', 'CAT.MEDV'), ('INDUS', 'RM', 'AGE', 'DIS', 'TAX', 'LSTAT', 'MEDV', 'CAT.MEDV'), ('INDUS', 'RM', 'AGE', 'DIS', 'PTRATIO', 'LSTAT', 'MEDV', 'CAT.MEDV'), ('INDUS', 'RM', 'AGE', 'RAD', 'TAX', 'PTRATIO', 'LSTAT', 'MEDV'), ('INDUS', 'RM', 'AGE', 'RAD', 'TAX', 'PTRATIO', 'LSTAT', 'CAT.MEDV'), ('INDUS', 'RM', 'AGE', 'RAD', 'TAX', 'PTRATIO', 'MEDV', 'CAT.MEDV'), ('INDUS', 'RM', 'AGE', 'RAD', 'TAX', 'LSTAT', 'MEDV', 'CAT.MEDV'), ('INDUS', 'RM', 'AGE', 'RAD', 'PTRATIO', 'LSTAT', 'MEDV', 'CAT.MEDV'), ('INDUS', 'RM', 'AGE', 'TAX', 'PTRATIO', 'LSTAT', 'MEDV', 'CAT.MEDV'), ('INDUS', 'RM', 'DIS', 'RAD', 'TAX', 'PTRATIO', 'LSTAT', 'MEDV'), ('INDUS', 'RM', 'DIS', 'RAD', 'TAX', 'PTRATIO', 'LSTAT', 'CAT.MEDV'), ('INDUS', 'RM', 'DIS', 'RAD', 'TAX', 'PTRATIO', 'MEDV', 'CAT.MEDV'), ('INDUS', 'RM', 'DIS', 'RAD', 'TAX', 'LSTAT', 'MEDV', 'CAT.MEDV'), ('INDUS', 'RM', 'DIS', 'RAD', 'PTRATIO', 'LSTAT', 'MEDV', 'CAT.MEDV'), ('INDUS', 'RM', 'DIS', 'TAX', 'PTRATIO', 'LSTAT', 'MEDV', 'CAT.MEDV'), ('INDUS', 'RM', 'RAD', 'TAX', 'PTRATIO', 'LSTAT', 'MEDV', 'CAT.MEDV'), ('INDUS', 'AGE', 'DIS', 'RAD', 'TAX', 'PTRATIO', 'LSTAT', 'MEDV'), ('INDUS', 'AGE', 'DIS', 'RAD', 'TAX', 'PTRATIO', 'LSTAT', 'CAT.MEDV'), ('INDUS', 'AGE', 'DIS', 'RAD', 'TAX', 'PTRATIO', 'MEDV', 'CAT.MEDV'), ('INDUS', 'AGE', 'DIS', 'RAD', 'TAX', 'LSTAT', 'MEDV', 'CAT.MEDV'), ('INDUS', 'AGE', 'DIS', 'RAD', 'PTRATIO', 'LSTAT', 'MEDV', 'CAT.MEDV'), ('INDUS', 'AGE', 'DIS', 'TAX', 'PTRATIO', 'LSTAT', 'MEDV', 'CAT.MEDV'), ('INDUS', 'AGE', 'RAD', 'TAX', 'PTRATIO', 'LSTAT', 'MEDV', 'CAT.MEDV'), ('INDUS', 'DIS', 'RAD', 'TAX', 'PTRATIO', 'LSTAT', 'MEDV', 'CAT.MEDV'), ('CHAS', 'NOX', 'RM', 'AGE', 'DIS', 'RAD', 'TAX', 'PTRATIO'), ('CHAS', 'NOX', 'RM', 'AGE', 'DIS', 'RAD', 'TAX', 'LSTAT'), ('CHAS', 'NOX', 'RM', 'AGE', 'DIS', 'RAD', 'TAX', 'MEDV'), ('CHAS', 'NOX', 'RM', 'AGE', 'DIS', 'RAD', 'TAX', 'CAT.MEDV'), ('CHAS', 'NOX', 'RM', 'AGE', 'DIS', 'RAD', 'PTRATIO', 'LSTAT'), ('CHAS', 'NOX', 'RM', 'AGE', 'DIS', 'RAD', 'PTRATIO', 'MEDV'), ('CHAS', 'NOX', 'RM', 'AGE', 'DIS', 'RAD', 'PTRATIO', 'CAT.MEDV'), ('CHAS', 'NOX', 'RM', 'AGE', 'DIS', 'RAD', 'LSTAT', 'MEDV'), ('CHAS', 'NOX', 'RM', 'AGE', 'DIS', 'RAD', 'LSTAT', 'CAT.MEDV'), ('CHAS', 'NOX', 'RM', 'AGE', 'DIS', 'RAD', 'MEDV', 'CAT.MEDV'), ('CHAS', 'NOX', 'RM', 'AGE', 'DIS', 'TAX', 'PTRATIO', 'LSTAT'), ('CHAS', 'NOX', 'RM', 'AGE', 'DIS', 'TAX', 'PTRATIO', 'MEDV'), ('CHAS', 'NOX', 'RM', 'AGE', 'DIS', 'TAX', 'PTRATIO', 'CAT.MEDV'), ('CHAS', 'NOX', 'RM', 'AGE', 'DIS', 'TAX', 'LSTAT', 'MEDV'), ('CHAS', 'NOX', 'RM', 'AGE', 'DIS', 'TAX', 'LSTAT', 'CAT.MEDV'), ('CHAS', 'NOX', 'RM', 'AGE', 'DIS', 'TAX', 'MEDV', 'CAT.MEDV'), ('CHAS', 'NOX', 'RM', 'AGE', 'DIS', 'PTRATIO', 'LSTAT', 'MEDV'), ('CHAS', 'NOX', 'RM', 'AGE', 'DIS', 'PTRATIO', 'LSTAT', 'CAT.MEDV'), ('CHAS', 'NOX', 'RM', 'AGE', 'DIS', 'PTRATIO', 'MEDV', 'CAT.MEDV'), ('CHAS', 'NOX', 'RM', 'AGE', 'DIS', 'LSTAT', 'MEDV', 'CAT.MEDV'), ('CHAS', 'NOX', 'RM', 'AGE', 'RAD', 'TAX', 'PTRATIO', 'LSTAT'), ('CHAS', 'NOX', 'RM', 'AGE', 'RAD', 'TAX', 'PTRATIO', 'MEDV'), ('CHAS', 'NOX', 'RM', 'AGE', 'RAD', 'TAX', 'PTRATIO', 'CAT.MEDV'), ('CHAS', 'NOX', 'RM', 'AGE', 'RAD', 'TAX', 'LSTAT', 'MEDV'), ('CHAS', 'NOX', 'RM', 'AGE', 'RAD', 'TAX', 'LSTAT', 'CAT.MEDV'), ('CHAS', 'NOX', 'RM', 'AGE', 'RAD', 'TAX', 'MEDV', 'CAT.MEDV'), ('CHAS', 'NOX', 'RM', 'AGE', 'RAD', 'PTRATIO', 'LSTAT', 'MEDV'), ('CHAS', 'NOX', 'RM', 'AGE', 'RAD', 'PTRATIO', 'LSTAT', 'CAT.MEDV'), ('CHAS', 'NOX', 'RM', 'AGE', 'RAD', 'PTRATIO', 'MEDV', 'CAT.MEDV'), ('CHAS', 'NOX', 'RM', 'AGE', 'RAD', 'LSTAT', 'MEDV', 'CAT.MEDV'), ('CHAS', 'NOX', 'RM', 'AGE', 'TAX', 'PTRATIO', 'LSTAT', 'MEDV'), ('CHAS', 'NOX', 'RM', 'AGE', 'TAX', 'PTRATIO', 'LSTAT', 'CAT.MEDV'), ('CHAS', 'NOX', 'RM', 'AGE', 'TAX', 'PTRATIO', 'MEDV', 'CAT.MEDV'), ('CHAS', 'NOX', 'RM', 'AGE', 'TAX', 'LSTAT', 'MEDV', 'CAT.MEDV'), ('CHAS', 'NOX', 'RM', 'AGE', 'PTRATIO', 'LSTAT', 'MEDV', 'CAT.MEDV'), ('CHAS', 'NOX', 'RM', 'DIS', 'RAD', 'TAX', 'PTRATIO', 'LSTAT'), ('CHAS', 'NOX', 'RM', 'DIS', 'RAD', 'TAX', 'PTRATIO', 'MEDV'), ('CHAS', 'NOX', 'RM', 'DIS', 'RAD', 'TAX', 'PTRATIO', 'CAT.MEDV'), ('CHAS', 'NOX', 'RM', 'DIS', 'RAD', 'TAX', 'LSTAT', 'MEDV'), ('CHAS', 'NOX', 'RM', 'DIS', 'RAD', 'TAX', 'LSTAT', 'CAT.MEDV'), ('CHAS', 'NOX', 'RM', 'DIS', 'RAD', 'TAX', 'MEDV', 'CAT.MEDV'), ('CHAS', 'NOX', 'RM', 'DIS', 'RAD', 'PTRATIO', 'LSTAT', 'MEDV'), ('CHAS', 'NOX', 'RM', 'DIS', 'RAD', 'PTRATIO', 'LSTAT', 'CAT.MEDV'), ('CHAS', 'NOX', 'RM', 'DIS', 'RAD', 'PTRATIO', 'MEDV', 'CAT.MEDV'), ('CHAS', 'NOX', 'RM', 'DIS', 'RAD', 'LSTAT', 'MEDV', 'CAT.MEDV'), ('CHAS', 'NOX', 'RM', 'DIS', 'TAX', 'PTRATIO', 'LSTAT', 'MEDV'), ('CHAS', 'NOX', 'RM', 'DIS', 'TAX', 'PTRATIO', 'LSTAT', 'CAT.MEDV'), ('CHAS', 'NOX', 'RM', 'DIS', 'TAX', 'PTRATIO', 'MEDV', 'CAT.MEDV'), ('CHAS', 'NOX', 'RM', 'DIS', 'TAX', 'LSTAT', 'MEDV', 'CAT.MEDV'), ('CHAS', 'NOX', 'RM', 'DIS', 'PTRATIO', 'LSTAT', 'MEDV', 'CAT.MEDV'), ('CHAS', 'NOX', 'RM', 'RAD', 'TAX', 'PTRATIO', 'LSTAT', 'MEDV'), ('CHAS', 'NOX', 'RM', 'RAD', 'TAX', 'PTRATIO', 'LSTAT', 'CAT.MEDV'), ('CHAS', 'NOX', 'RM', 'RAD', 'TAX', 'PTRATIO', 'MEDV', 'CAT.MEDV'), ('CHAS', 'NOX', 'RM', 'RAD', 'TAX', 'LSTAT', 'MEDV', 'CAT.MEDV'), ('CHAS', 'NOX', 'RM', 'RAD', 'PTRATIO', 'LSTAT', 'MEDV', 'CAT.MEDV'), ('CHAS', 'NOX', 'RM', 'TAX', 'PTRATIO', 'LSTAT', 'MEDV', 'CAT.MEDV'), ('CHAS', 'NOX', 'AGE', 'DIS', 'RAD', 'TAX', 'PTRATIO', 'LSTAT'), ('CHAS', 'NOX', 'AGE', 'DIS', 'RAD', 'TAX', 'PTRATIO', 'MEDV'), ('CHAS', 'NOX', 'AGE', 'DIS', 'RAD', 'TAX', 'PTRATIO', 'CAT.MEDV'), ('CHAS', 'NOX', 'AGE', 'DIS', 'RAD', 'TAX', 'LSTAT', 'MEDV'), ('CHAS', 'NOX', 'AGE', 'DIS', 'RAD', 'TAX', 'LSTAT', 'CAT.MEDV'), ('CHAS', 'NOX', 'AGE', 'DIS', 'RAD', 'TAX', 'MEDV', 'CAT.MEDV'), ('CHAS', 'NOX', 'AGE', 'DIS', 'RAD', 'PTRATIO', 'LSTAT', 'MEDV'), ('CHAS', 'NOX', 'AGE', 'DIS', 'RAD', 'PTRATIO', 'LSTAT', 'CAT.MEDV'), ('CHAS', 'NOX', 'AGE', 'DIS', 'RAD', 'PTRATIO', 'MEDV', 'CAT.MEDV'), ('CHAS', 'NOX', 'AGE', 'DIS', 'RAD', 'LSTAT', 'MEDV', 'CAT.MEDV'), ('CHAS', 'NOX', 'AGE', 'DIS', 'TAX', 'PTRATIO', 'LSTAT', 'MEDV'), ('CHAS', 'NOX', 'AGE', 'DIS', 'TAX', 'PTRATIO', 'LSTAT', 'CAT.MEDV'), ('CHAS', 'NOX', 'AGE', 'DIS', 'TAX', 'PTRATIO', 'MEDV', 'CAT.MEDV'), ('CHAS', 'NOX', 'AGE', 'DIS', 'TAX', 'LSTAT', 'MEDV', 'CAT.MEDV'), ('CHAS', 'NOX', 'AGE', 'DIS', 'PTRATIO', 'LSTAT', 'MEDV', 'CAT.MEDV'), ('CHAS', 'NOX', 'AGE', 'RAD', 'TAX', 'PTRATIO', 'LSTAT', 'MEDV'), ('CHAS', 'NOX', 'AGE', 'RAD', 'TAX', 'PTRATIO', 'LSTAT', 'CAT.MEDV'), ('CHAS', 'NOX', 'AGE', 'RAD', 'TAX', 'PTRATIO', 'MEDV', 'CAT.MEDV'), ('CHAS', 'NOX', 'AGE', 'RAD', 'TAX', 'LSTAT', 'MEDV', 'CAT.MEDV'), ('CHAS', 'NOX', 'AGE', 'RAD', 'PTRATIO', 'LSTAT', 'MEDV', 'CAT.MEDV'), ('CHAS', 'NOX', 'AGE', 'TAX', 'PTRATIO', 'LSTAT', 'MEDV', 'CAT.MEDV'), ('CHAS', 'NOX', 'DIS', 'RAD', 'TAX', 'PTRATIO', 'LSTAT', 'MEDV'), ('CHAS', 'NOX', 'DIS', 'RAD', 'TAX', 'PTRATIO', 'LSTAT', 'CAT.MEDV'), ('CHAS', 'NOX', 'DIS', 'RAD', 'TAX', 'PTRATIO', 'MEDV', 'CAT.MEDV'), ('CHAS', 'NOX', 'DIS', 'RAD', 'TAX', 'LSTAT', 'MEDV', 'CAT.MEDV'), ('CHAS', 'NOX', 'DIS', 'RAD', 'PTRATIO', 'LSTAT', 'MEDV', 'CAT.MEDV'), ('CHAS', 'NOX', 'DIS', 'TAX', 'PTRATIO', 'LSTAT', 'MEDV', 'CAT.MEDV'), ('CHAS', 'NOX', 'RAD', 'TAX', 'PTRATIO', 'LSTAT', 'MEDV', 'CAT.MEDV'), ('CHAS', 'RM', 'AGE', 'DIS', 'RAD', 'TAX', 'PTRATIO', 'LSTAT'), ('CHAS', 'RM', 'AGE', 'DIS', 'RAD', 'TAX', 'PTRATIO', 'MEDV'), ('CHAS', 'RM', 'AGE', 'DIS', 'RAD', 'TAX', 'PTRATIO', 'CAT.MEDV'), ('CHAS', 'RM', 'AGE', 'DIS', 'RAD', 'TAX', 'LSTAT', 'MEDV'), ('CHAS', 'RM', 'AGE', 'DIS', 'RAD', 'TAX', 'LSTAT', 'CAT.MEDV'), ('CHAS', 'RM', 'AGE', 'DIS', 'RAD', 'TAX', 'MEDV', 'CAT.MEDV'), ('CHAS', 'RM', 'AGE', 'DIS', 'RAD', 'PTRATIO', 'LSTAT', 'MEDV'), ('CHAS', 'RM', 'AGE', 'DIS', 'RAD', 'PTRATIO', 'LSTAT', 'CAT.MEDV'), ('CHAS', 'RM', 'AGE', 'DIS', 'RAD', 'PTRATIO', 'MEDV', 'CAT.MEDV'), ('CHAS', 'RM', 'AGE', 'DIS', 'RAD', 'LSTAT', 'MEDV', 'CAT.MEDV'), ('CHAS', 'RM', 'AGE', 'DIS', 'TAX', 'PTRATIO', 'LSTAT', 'MEDV'), ('CHAS', 'RM', 'AGE', 'DIS', 'TAX', 'PTRATIO', 'LSTAT', 'CAT.MEDV'), ('CHAS', 'RM', 'AGE', 'DIS', 'TAX', 'PTRATIO', 'MEDV', 'CAT.MEDV'), ('CHAS', 'RM', 'AGE', 'DIS', 'TAX', 'LSTAT', 'MEDV', 'CAT.MEDV'), ('CHAS', 'RM', 'AGE', 'DIS', 'PTRATIO', 'LSTAT', 'MEDV', 'CAT.MEDV'), ('CHAS', 'RM', 'AGE', 'RAD', 'TAX', 'PTRATIO', 'LSTAT', 'MEDV'), ('CHAS', 'RM', 'AGE', 'RAD', 'TAX', 'PTRATIO', 'LSTAT', 'CAT.MEDV'), ('CHAS', 'RM', 'AGE', 'RAD', 'TAX', 'PTRATIO', 'MEDV', 'CAT.MEDV'), ('CHAS', 'RM', 'AGE', 'RAD', 'TAX', 'LSTAT', 'MEDV', 'CAT.MEDV'), ('CHAS', 'RM', 'AGE', 'RAD', 'PTRATIO', 'LSTAT', 'MEDV', 'CAT.MEDV'), ('CHAS', 'RM', 'AGE', 'TAX', 'PTRATIO', 'LSTAT', 'MEDV', 'CAT.MEDV'), ('CHAS', 'RM', 'DIS', 'RAD', 'TAX', 'PTRATIO', 'LSTAT', 'MEDV'), ('CHAS', 'RM', 'DIS', 'RAD', 'TAX', 'PTRATIO', 'LSTAT', 'CAT.MEDV'), ('CHAS', 'RM', 'DIS', 'RAD', 'TAX', 'PTRATIO', 'MEDV', 'CAT.MEDV'), ('CHAS', 'RM', 'DIS', 'RAD', 'TAX', 'LSTAT', 'MEDV', 'CAT.MEDV'), ('CHAS', 'RM', 'DIS', 'RAD', 'PTRATIO', 'LSTAT', 'MEDV', 'CAT.MEDV'), ('CHAS', 'RM', 'DIS', 'TAX', 'PTRATIO', 'LSTAT', 'MEDV', 'CAT.MEDV'), ('CHAS', 'RM', 'RAD', 'TAX', 'PTRATIO', 'LSTAT', 'MEDV', 'CAT.MEDV'), ('CHAS', 'AGE', 'DIS', 'RAD', 'TAX', 'PTRATIO', 'LSTAT', 'MEDV'), ('CHAS', 'AGE', 'DIS', 'RAD', 'TAX', 'PTRATIO', 'LSTAT', 'CAT.MEDV'), ('CHAS', 'AGE', 'DIS', 'RAD', 'TAX', 'PTRATIO', 'MEDV', 'CAT.MEDV'), ('CHAS', 'AGE', 'DIS', 'RAD', 'TAX', 'LSTAT', 'MEDV', 'CAT.MEDV'), ('CHAS', 'AGE', 'DIS', 'RAD', 'PTRATIO', 'LSTAT', 'MEDV', 'CAT.MEDV'), ('CHAS', 'AGE', 'DIS', 'TAX', 'PTRATIO', 'LSTAT', 'MEDV', 'CAT.MEDV'), ('CHAS', 'AGE', 'RAD', 'TAX', 'PTRATIO', 'LSTAT', 'MEDV', 'CAT.MEDV'), ('CHAS', 'DIS', 'RAD', 'TAX', 'PTRATIO', 'LSTAT', 'MEDV', 'CAT.MEDV'), ('NOX', 'RM', 'AGE', 'DIS', 'RAD', 'TAX', 'PTRATIO', 'LSTAT'), ('NOX', 'RM', 'AGE', 'DIS', 'RAD', 'TAX', 'PTRATIO', 'MEDV'), ('NOX', 'RM', 'AGE', 'DIS', 'RAD', 'TAX', 'PTRATIO', 'CAT.MEDV'), ('NOX', 'RM', 'AGE', 'DIS', 'RAD', 'TAX', 'LSTAT', 'MEDV'), ('NOX', 'RM', 'AGE', 'DIS', 'RAD', 'TAX', 'LSTAT', 'CAT.MEDV'), ('NOX', 'RM', 'AGE', 'DIS', 'RAD', 'TAX', 'MEDV', 'CAT.MEDV'), ('NOX', 'RM', 'AGE', 'DIS', 'RAD', 'PTRATIO', 'LSTAT', 'MEDV'), ('NOX', 'RM', 'AGE', 'DIS', 'RAD', 'PTRATIO', 'LSTAT', 'CAT.MEDV'), ('NOX', 'RM', 'AGE', 'DIS', 'RAD', 'PTRATIO', 'MEDV', 'CAT.MEDV'), ('NOX', 'RM', 'AGE', 'DIS', 'RAD', 'LSTAT', 'MEDV', 'CAT.MEDV'), ('NOX', 'RM', 'AGE', 'DIS', 'TAX', 'PTRATIO', 'LSTAT', 'MEDV'), ('NOX', 'RM', 'AGE', 'DIS', 'TAX', 'PTRATIO', 'LSTAT', 'CAT.MEDV'), ('NOX', 'RM', 'AGE', 'DIS', 'TAX', 'PTRATIO', 'MEDV', 'CAT.MEDV'), ('NOX', 'RM', 'AGE', 'DIS', 'TAX', 'LSTAT', 'MEDV', 'CAT.MEDV'), ('NOX', 'RM', 'AGE', 'DIS', 'PTRATIO', 'LSTAT', 'MEDV', 'CAT.MEDV'), ('NOX', 'RM', 'AGE', 'RAD', 'TAX', 'PTRATIO', 'LSTAT', 'MEDV'), ('NOX', 'RM', 'AGE', 'RAD', 'TAX', 'PTRATIO', 'LSTAT', 'CAT.MEDV'), ('NOX', 'RM', 'AGE', 'RAD', 'TAX', 'PTRATIO', 'MEDV', 'CAT.MEDV'), ('NOX', 'RM', 'AGE', 'RAD', 'TAX', 'LSTAT', 'MEDV', 'CAT.MEDV'), ('NOX', 'RM', 'AGE', 'RAD', 'PTRATIO', 'LSTAT', 'MEDV', 'CAT.MEDV'), ('NOX', 'RM', 'AGE', 'TAX', 'PTRATIO', 'LSTAT', 'MEDV', 'CAT.MEDV'), ('NOX', 'RM', 'DIS', 'RAD', 'TAX', 'PTRATIO', 'LSTAT', 'MEDV'), ('NOX', 'RM', 'DIS', 'RAD', 'TAX', 'PTRATIO', 'LSTAT', 'CAT.MEDV'), ('NOX', 'RM', 'DIS', 'RAD', 'TAX', 'PTRATIO', 'MEDV', 'CAT.MEDV'), ('NOX', 'RM', 'DIS', 'RAD', 'TAX', 'LSTAT', 'MEDV', 'CAT.MEDV'), ('NOX', 'RM', 'DIS', 'RAD', 'PTRATIO', 'LSTAT', 'MEDV', 'CAT.MEDV'), ('NOX', 'RM', 'DIS', 'TAX', 'PTRATIO', 'LSTAT', 'MEDV', 'CAT.MEDV'), ('NOX', 'RM', 'RAD', 'TAX', 'PTRATIO', 'LSTAT', 'MEDV', 'CAT.MEDV'), ('NOX', 'AGE', 'DIS', 'RAD', 'TAX', 'PTRATIO', 'LSTAT', 'MEDV'), ('NOX', 'AGE', 'DIS', 'RAD', 'TAX', 'PTRATIO', 'LSTAT', 'CAT.MEDV'), ('NOX', 'AGE', 'DIS', 'RAD', 'TAX', 'PTRATIO', 'MEDV', 'CAT.MEDV'), ('NOX', 'AGE', 'DIS', 'RAD', 'TAX', 'LSTAT', 'MEDV', 'CAT.MEDV'), ('NOX', 'AGE', 'DIS', 'RAD', 'PTRATIO', 'LSTAT', 'MEDV', 'CAT.MEDV'), ('NOX', 'AGE', 'DIS', 'TAX', 'PTRATIO', 'LSTAT', 'MEDV', 'CAT.MEDV'), ('NOX', 'AGE', 'RAD', 'TAX', 'PTRATIO', 'LSTAT', 'MEDV', 'CAT.MEDV'), ('NOX', 'DIS', 'RAD', 'TAX', 'PTRATIO', 'LSTAT', 'MEDV', 'CAT.MEDV'), ('RM', 'AGE', 'DIS', 'RAD', 'TAX', 'PTRATIO', 'LSTAT', 'MEDV'), ('RM', 'AGE', 'DIS', 'RAD', 'TAX', 'PTRATIO', 'LSTAT', 'CAT.MEDV'), ('RM', 'AGE', 'DIS', 'RAD', 'TAX', 'PTRATIO', 'MEDV', 'CAT.MEDV'), ('RM', 'AGE', 'DIS', 'RAD', 'TAX', 'LSTAT', 'MEDV', 'CAT.MEDV'), ('RM', 'AGE', 'DIS', 'RAD', 'PTRATIO', 'LSTAT', 'MEDV', 'CAT.MEDV'), ('RM', 'AGE', 'DIS', 'TAX', 'PTRATIO', 'LSTAT', 'MEDV', 'CAT.MEDV'), ('RM', 'AGE', 'RAD', 'TAX', 'PTRATIO', 'LSTAT', 'MEDV', 'CAT.MEDV'), ('RM', 'DIS', 'RAD', 'TAX', 'PTRATIO', 'LSTAT', 'MEDV', 'CAT.MEDV'), ('AGE', 'DIS', 'RAD', 'TAX', 'PTRATIO', 'LSTAT', 'MEDV', 'CAT.MEDV')]\n"
     ]
    }
   ],
   "source": [
    "from itertools import combinations\n",
    "pre = []\n",
    "print list(combinations(bostonhousing.columns.values,8))"
   ]
  },
  {
   "cell_type": "code",
   "execution_count": 158,
   "metadata": {
    "collapsed": false
   },
   "outputs": [
    {
     "name": "stdout",
     "output_type": "stream",
     "text": [
      "[ 9 13  2 10  7  8  1 11  5  3 12  4  6]\n",
      "[-0.          0.         -3.62396823 -0.         -0.          0.00536367\n",
      "  2.68207401 -0.         -1.35589213 -0.        ]\n",
      "[-0.95600217  0.87904702 -4.06155843 -0.4421693   0.34556464  0.78788987\n",
      "  2.78167572 -1.18586585 -1.61616177 -2.53213834]\n"
     ]
    }
   ],
   "source": [
    "columns = list(set(bostonhousing.columns.values)-set(['MEDV',]))\n",
    "X,Xt,y,yt = sklearn.cross_validation.train_test_split(bostonhousing[columns],bostonhousing.MEDV,test_size=0.2)\n",
    "\n",
    "estimator = sklearn.svm.SVR(kernel='linear')\n",
    "\n",
    "rfe = sklearn.feature_selection.RFE(estimator,1,1)\n",
    "rfe = rfe.fit(X,y)\n",
    "print rfe.ranking_\n",
    "\n",
    "\n",
    "scaler = sklearn.preprocessing.StandardScaler()\n",
    "columns = list(set(bostonhousing.columns.values)-set(['MEDV','CAT.MEDV','NOX','TAX']))\n",
    "for col in columns:\n",
    "    bostonhousing[col] = scaler.fit_transform(bostonhousing[col])\n",
    "\n",
    "model = sklearn.linear_model.Lasso().fit(bostonhousing[columns],bostonhousing.MEDV)\n",
    "print model.coef_\n",
    "model = sklearn.linear_model.Ridge().fit(bostonhousing[columns],bostonhousing.MEDV)\n",
    "print model.coef_\n",
    "#model = sklearn.pipeline.Pipeline([('norm',sklearn.preprocessing.StandardScaler()),('feature_selection',sklearn.feature_selection.RFE()),('lr',sklearn.linear_model.LinearRegression(n_jobs=-1))])\n",
    "#parameters = {'feature_selection__k':range(1,len(bostonhousing.columns.values)-1)}\n",
    "#grid_search = sklearn.grid_search.GridSearchCV(model,parameters,cv=5,n_jobs=4,scoring='mean_squared_error')\n",
    "#grid_search.fit(X,y)\n",
    "#grid_search.grid_scores_"
   ]
  },
  {
   "cell_type": "markdown",
   "metadata": {},
   "source": [
    "So the problem says to choose the top three models but it does not say what it's based on. So from what I can see, it looks like there should be a 20% cross validation set and then an 80% training set. I am assuming that the best model should be determined in terms of accuracy on the training set data.\n",
    "\n",
    "Note: The reason that values are negative is because this was purposefully done so that the output can be used for maximization given some hyperparamters.\n",
    "\n",
    "## Note\n",
    "at point72, Kai showed you lasso and how you could show the incremental change in accuracy as you added more features..."
   ]
  },
  {
   "cell_type": "markdown",
   "metadata": {},
   "source": [
    "## Question 7.3"
   ]
  },
  {
   "cell_type": "markdown",
   "metadata": {},
   "source": [
    "### Question 7.3 (a)"
   ]
  },
  {
   "cell_type": "code",
   "execution_count": 146,
   "metadata": {
    "collapsed": false
   },
   "outputs": [
    {
     "data": {
      "text/html": [
       "<div>\n",
       "<table border=\"1\" class=\"dataframe\">\n",
       "  <thead>\n",
       "    <tr style=\"text-align: right;\">\n",
       "      <th></th>\n",
       "      <th>CRIM</th>\n",
       "      <th>ZN</th>\n",
       "      <th>INDUS</th>\n",
       "      <th>CHAS</th>\n",
       "      <th>NOX</th>\n",
       "      <th>RM</th>\n",
       "      <th>AGE</th>\n",
       "      <th>DIS</th>\n",
       "      <th>RAD</th>\n",
       "      <th>TAX</th>\n",
       "      <th>PTRATIO</th>\n",
       "      <th>LSTAT</th>\n",
       "      <th>MEDV</th>\n",
       "      <th>CAT.MEDV</th>\n",
       "    </tr>\n",
       "  </thead>\n",
       "  <tbody>\n",
       "    <tr>\n",
       "      <th>0</th>\n",
       "      <td>0.00632</td>\n",
       "      <td>18.0</td>\n",
       "      <td>2.31</td>\n",
       "      <td>0</td>\n",
       "      <td>0.538</td>\n",
       "      <td>6.575</td>\n",
       "      <td>65.2</td>\n",
       "      <td>4.0900</td>\n",
       "      <td>1</td>\n",
       "      <td>296</td>\n",
       "      <td>15.3</td>\n",
       "      <td>4.98</td>\n",
       "      <td>24.0</td>\n",
       "      <td>0</td>\n",
       "    </tr>\n",
       "    <tr>\n",
       "      <th>1</th>\n",
       "      <td>0.02731</td>\n",
       "      <td>0.0</td>\n",
       "      <td>7.07</td>\n",
       "      <td>0</td>\n",
       "      <td>0.469</td>\n",
       "      <td>6.421</td>\n",
       "      <td>78.9</td>\n",
       "      <td>4.9671</td>\n",
       "      <td>2</td>\n",
       "      <td>242</td>\n",
       "      <td>17.8</td>\n",
       "      <td>9.14</td>\n",
       "      <td>21.6</td>\n",
       "      <td>0</td>\n",
       "    </tr>\n",
       "    <tr>\n",
       "      <th>2</th>\n",
       "      <td>0.02729</td>\n",
       "      <td>0.0</td>\n",
       "      <td>7.07</td>\n",
       "      <td>0</td>\n",
       "      <td>0.469</td>\n",
       "      <td>7.185</td>\n",
       "      <td>61.1</td>\n",
       "      <td>4.9671</td>\n",
       "      <td>2</td>\n",
       "      <td>242</td>\n",
       "      <td>17.8</td>\n",
       "      <td>4.03</td>\n",
       "      <td>34.7</td>\n",
       "      <td>1</td>\n",
       "    </tr>\n",
       "    <tr>\n",
       "      <th>3</th>\n",
       "      <td>0.03237</td>\n",
       "      <td>0.0</td>\n",
       "      <td>2.18</td>\n",
       "      <td>0</td>\n",
       "      <td>0.458</td>\n",
       "      <td>6.998</td>\n",
       "      <td>45.8</td>\n",
       "      <td>6.0622</td>\n",
       "      <td>3</td>\n",
       "      <td>222</td>\n",
       "      <td>18.7</td>\n",
       "      <td>2.94</td>\n",
       "      <td>33.4</td>\n",
       "      <td>1</td>\n",
       "    </tr>\n",
       "    <tr>\n",
       "      <th>4</th>\n",
       "      <td>0.06905</td>\n",
       "      <td>0.0</td>\n",
       "      <td>2.18</td>\n",
       "      <td>0</td>\n",
       "      <td>0.458</td>\n",
       "      <td>7.147</td>\n",
       "      <td>54.2</td>\n",
       "      <td>6.0622</td>\n",
       "      <td>3</td>\n",
       "      <td>222</td>\n",
       "      <td>18.7</td>\n",
       "      <td>5.33</td>\n",
       "      <td>36.2</td>\n",
       "      <td>1</td>\n",
       "    </tr>\n",
       "  </tbody>\n",
       "</table>\n",
       "</div>"
      ],
      "text/plain": [
       "      CRIM    ZN  INDUS  CHAS    NOX     RM   AGE     DIS  RAD  TAX  PTRATIO  \\\n",
       "0  0.00632  18.0   2.31     0  0.538  6.575  65.2  4.0900    1  296     15.3   \n",
       "1  0.02731   0.0   7.07     0  0.469  6.421  78.9  4.9671    2  242     17.8   \n",
       "2  0.02729   0.0   7.07     0  0.469  7.185  61.1  4.9671    2  242     17.8   \n",
       "3  0.03237   0.0   2.18     0  0.458  6.998  45.8  6.0622    3  222     18.7   \n",
       "4  0.06905   0.0   2.18     0  0.458  7.147  54.2  6.0622    3  222     18.7   \n",
       "\n",
       "   LSTAT  MEDV  CAT.MEDV  \n",
       "0   4.98  24.0         0  \n",
       "1   9.14  21.6         0  \n",
       "2   4.03  34.7         1  \n",
       "3   2.94  33.4         1  \n",
       "4   5.33  36.2         1  "
      ]
     },
     "execution_count": 146,
     "metadata": {},
     "output_type": "execute_result"
    }
   ],
   "source": [
    "bostonhousing = pd.read_csv('BostonHousing.csv',sep=',',header=0)\n",
    "bostonhousing.head()"
   ]
  },
  {
   "cell_type": "code",
   "execution_count": 147,
   "metadata": {
    "collapsed": false
   },
   "outputs": [
    {
     "name": "stdout",
     "output_type": "stream",
     "text": [
      "       CRIM        ZN     INDUS      CHAS       NOX        RM       AGE  \\\n",
      "0 -0.419782  0.284830 -1.287909 -0.272599 -0.144217  0.413672 -0.120013   \n",
      "1 -0.417339 -0.487722 -0.593381 -0.272599 -0.740262  0.194274  0.367166   \n",
      "2 -0.417342 -0.487722 -0.593381 -0.272599 -0.740262  1.282714 -0.265812   \n",
      "3 -0.416750 -0.487722 -1.306878 -0.272599 -0.835284  1.016303 -0.809889   \n",
      "4 -0.412482 -0.487722 -1.306878 -0.272599 -0.835284  1.228577 -0.511180   \n",
      "\n",
      "        DIS       RAD       TAX   PTRATIO     LSTAT  MEDV  CAT.MEDV  \n",
      "0  0.140214 -0.982843 -0.666608 -1.459000 -1.075562  24.0         0  \n",
      "1  0.557160 -0.867883 -0.987329 -0.303094 -0.492439  21.6         0  \n",
      "2  0.557160 -0.867883 -0.987329 -0.303094 -1.208727  34.7         1  \n",
      "3  1.077737 -0.752922 -1.106115  0.113032 -1.361517  33.4         1  \n",
      "4  1.077737 -0.752922 -1.106115  0.113032 -1.026501  36.2         1  \n"
     ]
    }
   ],
   "source": [
    "scaler = sklearn.preprocessing.StandardScaler()\n",
    "columns = list(set(bostonhousing.columns.values)-set(['MEDV','CAT.MEDV']))\n",
    "for col in columns:\n",
    "    bostonhousing[col] = scaler.fit_transform(bostonhousing[col])\n",
    "\n",
    "print bostonhousing.head()\n",
    "\n",
    "X,Xt,y,yt = sklearn.cross_validation.train_test_split(bostonhousing[columns],bostonhousing.MEDV,test_size=0.4)"
   ]
  },
  {
   "cell_type": "code",
   "execution_count": 148,
   "metadata": {
    "collapsed": false
   },
   "outputs": [
    {
     "name": "stdout",
     "output_type": "stream",
     "text": [
      "For k =  1 , R^2 value is: 0.716571804077\n",
      "For k =  2 , R^2 value is: 0.750704983174\n",
      "For k =  3 , R^2 value is: 0.771524349417\n",
      "For k =  4 , R^2 value is: 0.763921437598\n",
      "For k =  5 , R^2 value is: 0.74303223538\n"
     ]
    }
   ],
   "source": [
    "for i in range(1,6):\n",
    "    knn_model = sklearn.neighbors.KNeighborsRegressor(n_neighbors=i)\n",
    "    knn_model.fit(X,y)\n",
    "    print \"For k = \",i,\", R^2 value is:\",knn_model.score(Xt,yt)"
   ]
  },
  {
   "cell_type": "markdown",
   "metadata": {},
   "source": [
    "Using 12 variables, it looks like k = 2 has the best performance with respect to R^2 value. This means that the prediction is based on the bucket/leaf that is indicated from the closest 2 observations."
   ]
  },
  {
   "cell_type": "markdown",
   "metadata": {},
   "source": [
    "###  Question 7.3 (b)"
   ]
  },
  {
   "cell_type": "code",
   "execution_count": 150,
   "metadata": {
    "collapsed": false
   },
   "outputs": [
    {
     "name": "stdout",
     "output_type": "stream",
     "text": [
      "For k = 2 , predicted value is: [ 16.85]\n"
     ]
    }
   ],
   "source": [
    "query = pd.DataFrame([[0.2,0,7,0,0.538,6,62,4.7,4,307,21,10]],columns=list(bostonhousing.columns.values[:12]))\n",
    "knn_model = sklearn.neighbors.KNeighborsRegressor(n_neighbors=2)\n",
    "knn_model.fit(X,y)\n",
    "print \"For k =\",2,\", predicted value is:\",knn_model.predict(query)"
   ]
  },
  {
   "cell_type": "markdown",
   "metadata": {},
   "source": [
    "### Question 7.3 (c)"
   ]
  },
  {
   "cell_type": "code",
   "execution_count": null,
   "metadata": {
    "collapsed": true
   },
   "outputs": [],
   "source": []
  },
  {
   "cell_type": "markdown",
   "metadata": {},
   "source": [
    "### Question 7.3 (d)"
   ]
  },
  {
   "cell_type": "code",
   "execution_count": 25,
   "metadata": {
    "collapsed": false
   },
   "outputs": [
    {
     "name": "stdout",
     "output_type": "stream",
     "text": [
      "       CRIM        ZN     INDUS  CHAS       NOX        RM       AGE       DIS  \\\n",
      "0 -0.419782  0.284830 -1.287909     0 -0.144217  0.413672 -0.120013  0.140214   \n",
      "1 -0.417339 -0.487722 -0.593381     0 -0.740262  0.194274  0.367166  0.557160   \n",
      "2 -0.417342 -0.487722 -0.593381     0 -0.740262  1.282714 -0.265812  0.557160   \n",
      "3 -0.416750 -0.487722 -1.306878     0 -0.835284  1.016303 -0.809889  1.077737   \n",
      "4 -0.412482 -0.487722 -1.306878     0 -0.835284  1.228577 -0.511180  1.077737   \n",
      "\n",
      "        RAD       TAX   PTRATIO     LSTAT  MEDV  CAT.MEDV  \n",
      "0 -0.982843 -0.666608 -1.459000 -1.075562  24.0         0  \n",
      "1 -0.867883 -0.987329 -0.303094 -0.492439  21.6         0  \n",
      "2 -0.867883 -0.987329 -0.303094 -1.208727  34.7         1  \n",
      "3 -0.752922 -1.106115  0.113032 -1.361517  33.4         1  \n",
      "4 -0.752922 -1.106115  0.113032 -1.026501  36.2         1   \n",
      "\n",
      "For k =  1 , R^2 value is: 0.685683797456\n",
      "For k =  2 , R^2 value is: 0.679607961431\n",
      "For k =  3 , R^2 value is: 0.701437820157\n",
      "For k =  4 , R^2 value is: 0.671866732788\n",
      "For k =  5 , R^2 value is: 0.661333406413\n",
      "\n",
      "For k = 2 , predicted value is: [ 16.38]\n"
     ]
    }
   ],
   "source": [
    "bostonhousing = pd.read_csv('BostonHousing.csv',sep=',',header=0)\n",
    "scaler = sklearn.preprocessing.StandardScaler()\n",
    "continuous_columns = list(set(bostonhousing.columns.values)-set(['CHAS','MEDV','CAT.MEDV',]))\n",
    "for col in continuous_columns:\n",
    "    bostonhousing[col] = scaler.fit_transform(bostonhousing[col])\n",
    "\n",
    "print bostonhousing.head(),\"\\n\"\n",
    "\n",
    "X,Xt,y,yt = sklearn.cross_validation.train_test_split(bostonhousing[columns],bostonhousing.MEDV,test_size=0.4)\n",
    "\n",
    "for i in range(1,6):\n",
    "    knn_model = sklearn.neighbors.KNeighborsRegressor(n_neighbors=i)\n",
    "    knn_model = knn_model.fit(X,y)\n",
    "    print \"For k = \",i,\", R^2 value is:\",knn_model.score(Xt,yt)\n",
    "    \n",
    "print \"\\nFor k =\",2,\", predicted value is:\",knn_model.predict(query)"
   ]
  },
  {
   "cell_type": "markdown",
   "metadata": {},
   "source": [
    "# Are there any non-continuous/discrete data that is not the Charles River variable?"
   ]
  },
  {
   "cell_type": "markdown",
   "metadata": {},
   "source": [
    "###  Question 7.3 (e)\n",
    "The disadvantage of using the k-NN prediction is that "
   ]
  },
  {
   "cell_type": "markdown",
   "metadata": {},
   "source": [
    "## Question 8.2"
   ]
  },
  {
   "cell_type": "markdown",
   "metadata": {},
   "source": [
    "### Question 8.2 (a)"
   ]
  },
  {
   "cell_type": "code",
   "execution_count": 63,
   "metadata": {
    "collapsed": false
   },
   "outputs": [
    {
     "data": {
      "text/html": [
       "<div>\n",
       "<table border=\"1\" class=\"dataframe\">\n",
       "  <thead>\n",
       "    <tr style=\"text-align: right;\">\n",
       "      <th></th>\n",
       "      <th>HOUR_I_R</th>\n",
       "      <th>ALCHL_I</th>\n",
       "      <th>ALIGN_I</th>\n",
       "      <th>STRATUM_R</th>\n",
       "      <th>WRK_ZONE</th>\n",
       "      <th>WKDY_I_R</th>\n",
       "      <th>INT_HWY</th>\n",
       "      <th>LGTCON_I_R</th>\n",
       "      <th>MANCOL_I_R</th>\n",
       "      <th>PED_ACC_R</th>\n",
       "      <th>...</th>\n",
       "      <th>TRAF_CON_R</th>\n",
       "      <th>TRAF_WAY</th>\n",
       "      <th>VEH_INVL</th>\n",
       "      <th>WEATHER_R</th>\n",
       "      <th>INJURY_CRASH</th>\n",
       "      <th>NO_INJ_I</th>\n",
       "      <th>PRPTYDMG_CRASH</th>\n",
       "      <th>FATALITIES</th>\n",
       "      <th>MAX_SEV_IR</th>\n",
       "      <th>INJURY</th>\n",
       "    </tr>\n",
       "  </thead>\n",
       "  <tbody>\n",
       "    <tr>\n",
       "      <th>0</th>\n",
       "      <td>0</td>\n",
       "      <td>2</td>\n",
       "      <td>2</td>\n",
       "      <td>1</td>\n",
       "      <td>0</td>\n",
       "      <td>1</td>\n",
       "      <td>0</td>\n",
       "      <td>3</td>\n",
       "      <td>0</td>\n",
       "      <td>0</td>\n",
       "      <td>...</td>\n",
       "      <td>0</td>\n",
       "      <td>3</td>\n",
       "      <td>1</td>\n",
       "      <td>1</td>\n",
       "      <td>1</td>\n",
       "      <td>1</td>\n",
       "      <td>0</td>\n",
       "      <td>0</td>\n",
       "      <td>1</td>\n",
       "      <td>True</td>\n",
       "    </tr>\n",
       "    <tr>\n",
       "      <th>1</th>\n",
       "      <td>1</td>\n",
       "      <td>2</td>\n",
       "      <td>1</td>\n",
       "      <td>0</td>\n",
       "      <td>0</td>\n",
       "      <td>1</td>\n",
       "      <td>1</td>\n",
       "      <td>3</td>\n",
       "      <td>2</td>\n",
       "      <td>0</td>\n",
       "      <td>...</td>\n",
       "      <td>0</td>\n",
       "      <td>3</td>\n",
       "      <td>2</td>\n",
       "      <td>2</td>\n",
       "      <td>0</td>\n",
       "      <td>0</td>\n",
       "      <td>1</td>\n",
       "      <td>0</td>\n",
       "      <td>0</td>\n",
       "      <td>False</td>\n",
       "    </tr>\n",
       "    <tr>\n",
       "      <th>2</th>\n",
       "      <td>1</td>\n",
       "      <td>2</td>\n",
       "      <td>1</td>\n",
       "      <td>0</td>\n",
       "      <td>0</td>\n",
       "      <td>1</td>\n",
       "      <td>0</td>\n",
       "      <td>3</td>\n",
       "      <td>2</td>\n",
       "      <td>0</td>\n",
       "      <td>...</td>\n",
       "      <td>1</td>\n",
       "      <td>2</td>\n",
       "      <td>2</td>\n",
       "      <td>2</td>\n",
       "      <td>0</td>\n",
       "      <td>0</td>\n",
       "      <td>1</td>\n",
       "      <td>0</td>\n",
       "      <td>0</td>\n",
       "      <td>False</td>\n",
       "    </tr>\n",
       "    <tr>\n",
       "      <th>3</th>\n",
       "      <td>1</td>\n",
       "      <td>2</td>\n",
       "      <td>1</td>\n",
       "      <td>1</td>\n",
       "      <td>0</td>\n",
       "      <td>0</td>\n",
       "      <td>0</td>\n",
       "      <td>3</td>\n",
       "      <td>2</td>\n",
       "      <td>0</td>\n",
       "      <td>...</td>\n",
       "      <td>1</td>\n",
       "      <td>2</td>\n",
       "      <td>2</td>\n",
       "      <td>1</td>\n",
       "      <td>0</td>\n",
       "      <td>0</td>\n",
       "      <td>1</td>\n",
       "      <td>0</td>\n",
       "      <td>0</td>\n",
       "      <td>False</td>\n",
       "    </tr>\n",
       "    <tr>\n",
       "      <th>4</th>\n",
       "      <td>1</td>\n",
       "      <td>1</td>\n",
       "      <td>1</td>\n",
       "      <td>0</td>\n",
       "      <td>0</td>\n",
       "      <td>1</td>\n",
       "      <td>0</td>\n",
       "      <td>3</td>\n",
       "      <td>2</td>\n",
       "      <td>0</td>\n",
       "      <td>...</td>\n",
       "      <td>0</td>\n",
       "      <td>2</td>\n",
       "      <td>3</td>\n",
       "      <td>1</td>\n",
       "      <td>0</td>\n",
       "      <td>0</td>\n",
       "      <td>1</td>\n",
       "      <td>0</td>\n",
       "      <td>0</td>\n",
       "      <td>False</td>\n",
       "    </tr>\n",
       "  </tbody>\n",
       "</table>\n",
       "<p>5 rows × 25 columns</p>\n",
       "</div>"
      ],
      "text/plain": [
       "   HOUR_I_R  ALCHL_I  ALIGN_I  STRATUM_R  WRK_ZONE  WKDY_I_R  INT_HWY  \\\n",
       "0         0        2        2          1         0         1        0   \n",
       "1         1        2        1          0         0         1        1   \n",
       "2         1        2        1          0         0         1        0   \n",
       "3         1        2        1          1         0         0        0   \n",
       "4         1        1        1          0         0         1        0   \n",
       "\n",
       "   LGTCON_I_R  MANCOL_I_R  PED_ACC_R   ...    TRAF_CON_R  TRAF_WAY  VEH_INVL  \\\n",
       "0           3           0          0   ...             0         3         1   \n",
       "1           3           2          0   ...             0         3         2   \n",
       "2           3           2          0   ...             1         2         2   \n",
       "3           3           2          0   ...             1         2         2   \n",
       "4           3           2          0   ...             0         2         3   \n",
       "\n",
       "   WEATHER_R  INJURY_CRASH  NO_INJ_I  PRPTYDMG_CRASH  FATALITIES  MAX_SEV_IR  \\\n",
       "0          1             1         1               0           0           1   \n",
       "1          2             0         0               1           0           0   \n",
       "2          2             0         0               1           0           0   \n",
       "3          1             0         0               1           0           0   \n",
       "4          1             0         0               1           0           0   \n",
       "\n",
       "   INJURY  \n",
       "0    True  \n",
       "1   False  \n",
       "2   False  \n",
       "3   False  \n",
       "4   False  \n",
       "\n",
       "[5 rows x 25 columns]"
      ]
     },
     "execution_count": 63,
     "metadata": {},
     "output_type": "execute_result"
    }
   ],
   "source": [
    "accidents = pd.read_csv('Accidents.csv',sep=',',header=0)\n",
    "accidents['INJURY'] = accidents.MAX_SEV_IR.apply(lambda x: x>0)\n",
    "accidents.head()"
   ]
  },
  {
   "cell_type": "code",
   "execution_count": 65,
   "metadata": {
    "collapsed": false
   },
   "outputs": [
    {
     "name": "stdout",
     "output_type": "stream",
     "text": [
      " Probability of injury given crash:  0.508783159093\n"
     ]
    }
   ],
   "source": [
    "print \"Probability of injury given crash: \",len(accidents[accidents.INJURY==True])/float(len(accidents))"
   ]
  },
  {
   "cell_type": "markdown",
   "metadata": {},
   "source": [
    "Given that the probability is over 50%, without further knowledge we assume that there is an injury."
   ]
  },
  {
   "cell_type": "markdown",
   "metadata": {},
   "source": [
    "### Question 8.2 (b) i.    NEEDS TO BE LOOKED AT AGAIN"
   ]
  },
  {
   "cell_type": "code",
   "execution_count": 66,
   "metadata": {
    "collapsed": false
   },
   "outputs": [
    {
     "data": {
      "text/html": [
       "<div>\n",
       "<table border=\"1\" class=\"dataframe\">\n",
       "  <thead>\n",
       "    <tr style=\"text-align: right;\">\n",
       "      <th></th>\n",
       "      <th>WEATHER_R</th>\n",
       "      <th>TRAF_CON_R</th>\n",
       "    </tr>\n",
       "  </thead>\n",
       "  <tbody>\n",
       "    <tr>\n",
       "      <th>count</th>\n",
       "      <td>12.000000</td>\n",
       "      <td>12.000000</td>\n",
       "    </tr>\n",
       "    <tr>\n",
       "      <th>mean</th>\n",
       "      <td>1.583333</td>\n",
       "      <td>0.333333</td>\n",
       "    </tr>\n",
       "    <tr>\n",
       "      <th>std</th>\n",
       "      <td>0.514929</td>\n",
       "      <td>0.651339</td>\n",
       "    </tr>\n",
       "    <tr>\n",
       "      <th>min</th>\n",
       "      <td>1.000000</td>\n",
       "      <td>0.000000</td>\n",
       "    </tr>\n",
       "    <tr>\n",
       "      <th>25%</th>\n",
       "      <td>1.000000</td>\n",
       "      <td>0.000000</td>\n",
       "    </tr>\n",
       "    <tr>\n",
       "      <th>50%</th>\n",
       "      <td>2.000000</td>\n",
       "      <td>0.000000</td>\n",
       "    </tr>\n",
       "    <tr>\n",
       "      <th>75%</th>\n",
       "      <td>2.000000</td>\n",
       "      <td>0.250000</td>\n",
       "    </tr>\n",
       "    <tr>\n",
       "      <th>max</th>\n",
       "      <td>2.000000</td>\n",
       "      <td>2.000000</td>\n",
       "    </tr>\n",
       "  </tbody>\n",
       "</table>\n",
       "</div>"
      ],
      "text/plain": [
       "       WEATHER_R  TRAF_CON_R\n",
       "count  12.000000   12.000000\n",
       "mean    1.583333    0.333333\n",
       "std     0.514929    0.651339\n",
       "min     1.000000    0.000000\n",
       "25%     1.000000    0.000000\n",
       "50%     2.000000    0.000000\n",
       "75%     2.000000    0.250000\n",
       "max     2.000000    2.000000"
      ]
     },
     "execution_count": 66,
     "metadata": {},
     "output_type": "execute_result"
    }
   ],
   "source": [
    "q82bi = accidents[['WEATHER_R','TRAF_CON_R','INJURY']].head(12)\n",
    "q82bi.describe()"
   ]
  },
  {
   "cell_type": "markdown",
   "metadata": {},
   "source": [
    "Taking a preliminary look."
   ]
  },
  {
   "cell_type": "code",
   "execution_count": 67,
   "metadata": {
    "collapsed": false
   },
   "outputs": [
    {
     "data": {
      "text/plain": [
       "<matplotlib.axes._subplots.AxesSubplot at 0xf588240>"
      ]
     },
     "execution_count": 67,
     "metadata": {},
     "output_type": "execute_result"
    },
    {
     "data": {
      "image/png": "[encoded data removed]",
      "text/plain": [
       "<matplotlib.figure.Figure at 0xf298f98>"
      ]
     },
     "metadata": {},
     "output_type": "display_data"
    }
   ],
   "source": [
    "fig, axs = plt.subplots(1,2)\n",
    "q82bi.WEATHER_R.value_counts('INJURY').plot(kind='bar',title='WEATHER_R vs. INJURY',ax=axs[0],figsize=(16,6))\n",
    "q82bi.TRAF_CON_R.value_counts('INJURY').plot(kind='bar',title='TRAF_CON_R vs. INJURY',ax=axs[1],figsize=(16,6))"
   ]
  },
  {
   "cell_type": "markdown",
   "metadata": {},
   "source": [
    "### Question 8.2 (b) ii."
   ]
  },
  {
   "cell_type": "code",
   "execution_count": 178,
   "metadata": {
    "collapsed": false
   },
   "outputs": [
    {
     "name": "stdout",
     "output_type": "stream",
     "text": [
      "For WEATHER_R: 1 and TRAF_CON_R: 0,  we get:  0.503111033214\n",
      "For WEATHER_R: 1 and TRAF_CON_R: 1,  we get:  0.553423927525\n",
      "For WEATHER_R: 1 and TRAF_CON_R: 2,  we get:  0.531550068587\n",
      "For WEATHER_R: 2 and TRAF_CON_R: 0,  we get:  0.443616253907\n",
      "For WEATHER_R: 2 and TRAF_CON_R: 1,  we get:  0.500894454383\n",
      "For WEATHER_R: 2 and TRAF_CON_R: 2,  we get:  0.430294906166\n"
     ]
    }
   ],
   "source": [
    "injuries = accidents[accidents.INJURY==True]\n",
    "prob_df = np.zeros((12,3))\n",
    "count = 0\n",
    "for val1 in sorted(pd.unique(injuries['WEATHER_R'])):\n",
    "    weather_adjusted = injuries[injuries.WEATHER_R==val1]\n",
    "    weather_adjusted2 = accidents[accidents.WEATHER_R==val1]\n",
    "    for val2 in sorted(pd.unique(injuries['TRAF_CON_R'])):\n",
    "        traf_adjusted = weather_adjusted[weather_adjusted.TRAF_CON_R==val2]\n",
    "        traf_adjusted2 = weather_adjusted2[weather_adjusted2.TRAF_CON_R==val2]\n",
    "        print \"For WEATHER_R: %s and TRAF_CON_R: %s,\" % (val1,val2),\" we get: \",len(traf_adjusted)/float(len(traf_adjusted2)) \n",
    "        prob_df[count][2] = (len(traf_adjusted)/float(len(traf_adjusted2)))\n",
    "        prob_df[count][1] = val2\n",
    "        prob_df[count][0] = val1\n",
    "        count+=1\n",
    "prob_df = pd.DataFrame(prob_df,columns=['WEATHER_R','TRAF_CON_R','INJURY_PROB'])"
   ]
  },
  {
   "cell_type": "markdown",
   "metadata": {},
   "source": [
    "Do we make these predictions based on the bayesian values on the entire table or just the 12?"
   ]
  },
  {
   "cell_type": "markdown",
   "metadata": {},
   "source": [
    "### Question 8.2 (b) iii."
   ]
  },
  {
   "cell_type": "code",
   "execution_count": 179,
   "metadata": {
    "collapsed": false
   },
   "outputs": [
    {
     "name": "stdout",
     "output_type": "stream",
     "text": [
      "   WEATHER_R  TRAF_CON_R INJURY  INJURY_PROB\n",
      "0          1           0   True     0.503111\n",
      "1          2           0  False     0.443616\n",
      "2          2           1  False     0.500894\n",
      "3          1           1  False     0.553424\n",
      "4          1           0  False     0.503111\n"
     ]
    }
   ],
   "source": [
    "new_df = pd.merge(q82bi,prob_df,on=['WEATHER_R','TRAF_CON_R'],how='left')\n",
    "print new_df.head()"
   ]
  },
  {
   "cell_type": "code",
   "execution_count": 186,
   "metadata": {
    "collapsed": false
   },
   "outputs": [
    {
     "name": "stdout",
     "output_type": "stream",
     "text": [
      "   INJURY Prediction\n",
      "0    True       True\n",
      "1   False      False\n",
      "2   False       True\n",
      "3   False       True\n",
      "4   False       True\n",
      "5    True      False\n",
      "6   False      False\n",
      "7    True       True\n",
      "8   False      False\n",
      "9   False      False\n",
      "10  False      False\n",
      "11  False       True \n",
      "\n",
      "Confusion Matrix: \n",
      "[[5 4]\n",
      " [1 2]]\n",
      "Accuracy:  0.583333333333\n",
      "F1 Score:  0.666666666667\n"
     ]
    }
   ],
   "source": [
    "new_df['Prediction'] = new_df.INJURY_PROB.apply(lambda x: x>0.50)\n",
    "print new_df[['INJURY','Prediction']],\"\\n\"\n",
    "conf_mat = sklearn.metrics.confusion_matrix(new_df.INJURY,new_df.Prediction)\n",
    "print \"Confusion Matrix: \\n\",conf_mat\n",
    "print \"Accuracy: \",(conf_mat[0][0]+conf_mat[1][1])/float(12)\n",
    "print \"F1 Score: \", (2*conf_mat[0][0])/float(2*conf_mat[0][0]+conf_mat[1][0]+conf_mat[0][1])"
   ]
  },
  {
   "cell_type": "markdown",
   "metadata": {},
   "source": [
    "## WHAT ARE VALUE LABELS?"
   ]
  },
  {
   "cell_type": "markdown",
   "metadata": {},
   "source": [
    "### Question 8.2 (b) iv."
   ]
  },
  {
   "cell_type": "code",
   "execution_count": 189,
   "metadata": {
    "collapsed": false
   },
   "outputs": [
    {
     "name": "stdout",
     "output_type": "stream",
     "text": [
      "WEATHER_R = 1 injury probability:  0.872984810363\n",
      "TRAF_CON_R = 1 injury probability:  0.219644021992\n",
      "Multiply these two to get the naive Bayes conditional probability for given both: 0.191745894886\n"
     ]
    }
   ],
   "source": [
    "weather_probability = len(injuries[injuries.WEATHER_R==1])/float(len(injuries))\n",
    "traf_con_probability = len(injuries[injuries.TRAF_CON_R==1])/float(len(injuries))\n",
    "print \"WEATHER_R = 1 injury probability: \",weather_probability\n",
    "print \"TRAF_CON_R = 1 injury probability: \",traf_con_probability\n",
    "print \"Multiply these two to get the naive Bayes conditional probability for given both:\", weather_probability*traf_con_probability"
   ]
  },
  {
   "cell_type": "markdown",
   "metadata": {},
   "source": [
    "# DOUBLE CHECK TO MAKE SURE THIS IS BEING DONE RIGHT"
   ]
  },
  {
   "cell_type": "markdown",
   "metadata": {},
   "source": [
    "### Question 8.2 (b) v."
   ]
  },
  {
   "cell_type": "code",
   "execution_count": 192,
   "metadata": {
    "collapsed": false
   },
   "outputs": [
    {
     "name": "stdout",
     "output_type": "stream",
     "text": [
      "The mean accuracy value is:  0.872984810363\n"
     ]
    }
   ],
   "source": [
    "gnb = sklearn.naive_bayes.GaussianNB()\n",
    "gnb.fit(accidents[['WEATHER_R','TRAF_CON_R']],accidents['INJURY'])\n",
    "print \"The mean accuracy value is: \",gnb.score(injuries[['WEATHER_R','TRAF_CON_R']],injuries['INJURY'])"
   ]
  },
  {
   "cell_type": "markdown",
   "metadata": {},
   "source": [
    "### Question 8.2 (c) i."
   ]
  },
  {
   "cell_type": "code",
   "execution_count": 193,
   "metadata": {
    "collapsed": true
   },
   "outputs": [],
   "source": [
    "#is this a reiteration of the first question?"
   ]
  },
  {
   "cell_type": "markdown",
   "metadata": {},
   "source": [
    "### Question 8.2 (c) ii."
   ]
  },
  {
   "cell_type": "code",
   "execution_count": null,
   "metadata": {
    "collapsed": true
   },
   "outputs": [],
   "source": []
  },
  {
   "cell_type": "markdown",
   "metadata": {},
   "source": [
    "### Question 8.2 (c) iii."
   ]
  },
  {
   "cell_type": "code",
   "execution_count": null,
   "metadata": {
    "collapsed": true
   },
   "outputs": [],
   "source": []
  },
  {
   "cell_type": "markdown",
   "metadata": {},
   "source": [
    "### Question 8.2 (c) iv."
   ]
  },
  {
   "cell_type": "code",
   "execution_count": null,
   "metadata": {
    "collapsed": true
   },
   "outputs": [],
   "source": []
  },
  {
   "cell_type": "markdown",
   "metadata": {},
   "source": [
    "### Question 8.2 (c) v."
   ]
  },
  {
   "cell_type": "code",
   "execution_count": null,
   "metadata": {
    "collapsed": true
   },
   "outputs": [],
   "source": []
  },
  {
   "cell_type": "markdown",
   "metadata": {},
   "source": [
    "### Question 8.2 (c) vi."
   ]
  },
  {
   "cell_type": "code",
   "execution_count": null,
   "metadata": {
    "collapsed": true
   },
   "outputs": [],
   "source": []
  },
  {
   "cell_type": "markdown",
   "metadata": {},
   "source": [
    "## Question 9.3"
   ]
  },
  {
   "cell_type": "markdown",
   "metadata": {},
   "source": [
    "### Question 9.3 (a) i."
   ]
  },
  {
   "cell_type": "code",
   "execution_count": 80,
   "metadata": {
    "collapsed": false
   },
   "outputs": [
    {
     "data": {
      "text/html": [
       "<div>\n",
       "<table border=\"1\" class=\"dataframe\">\n",
       "  <thead>\n",
       "    <tr style=\"text-align: right;\">\n",
       "      <th></th>\n",
       "      <th>﻿Id</th>\n",
       "      <th>Model</th>\n",
       "      <th>Price</th>\n",
       "      <th>Age_08_04</th>\n",
       "      <th>Mfg_Month</th>\n",
       "      <th>Mfg_Year</th>\n",
       "      <th>KM</th>\n",
       "      <th>Fuel_Type</th>\n",
       "      <th>HP</th>\n",
       "      <th>Met_Color</th>\n",
       "      <th>...</th>\n",
       "      <th>Powered_Windows</th>\n",
       "      <th>Power_Steering</th>\n",
       "      <th>Radio</th>\n",
       "      <th>Mistlamps</th>\n",
       "      <th>Sport_Model</th>\n",
       "      <th>Backseat_Divider</th>\n",
       "      <th>Metallic_Rim</th>\n",
       "      <th>Radio_cassette</th>\n",
       "      <th>Tow_Bar</th>\n",
       "      <th>Validation</th>\n",
       "    </tr>\n",
       "  </thead>\n",
       "  <tbody>\n",
       "    <tr>\n",
       "      <th>0</th>\n",
       "      <td>1</td>\n",
       "      <td>TOYOTA Corolla 2.0 D4D HATCHB TERRA 2/3-Doors</td>\n",
       "      <td>13500</td>\n",
       "      <td>23</td>\n",
       "      <td>10</td>\n",
       "      <td>2002</td>\n",
       "      <td>46986</td>\n",
       "      <td>Diesel</td>\n",
       "      <td>90</td>\n",
       "      <td>1</td>\n",
       "      <td>...</td>\n",
       "      <td>1</td>\n",
       "      <td>1</td>\n",
       "      <td>0</td>\n",
       "      <td>0</td>\n",
       "      <td>0</td>\n",
       "      <td>1</td>\n",
       "      <td>0</td>\n",
       "      <td>0</td>\n",
       "      <td>0</td>\n",
       "      <td>Validation</td>\n",
       "    </tr>\n",
       "    <tr>\n",
       "      <th>1</th>\n",
       "      <td>2</td>\n",
       "      <td>TOYOTA Corolla 2.0 D4D HATCHB TERRA 2/3-Doors</td>\n",
       "      <td>13750</td>\n",
       "      <td>23</td>\n",
       "      <td>10</td>\n",
       "      <td>2002</td>\n",
       "      <td>72937</td>\n",
       "      <td>Diesel</td>\n",
       "      <td>90</td>\n",
       "      <td>1</td>\n",
       "      <td>...</td>\n",
       "      <td>0</td>\n",
       "      <td>1</td>\n",
       "      <td>0</td>\n",
       "      <td>0</td>\n",
       "      <td>0</td>\n",
       "      <td>1</td>\n",
       "      <td>0</td>\n",
       "      <td>0</td>\n",
       "      <td>0</td>\n",
       "      <td>Validation</td>\n",
       "    </tr>\n",
       "    <tr>\n",
       "      <th>2</th>\n",
       "      <td>3</td>\n",
       "      <td>TOYOTA Corolla 2.0 D4D HATCHB TERRA 2/3-Doors</td>\n",
       "      <td>13950</td>\n",
       "      <td>24</td>\n",
       "      <td>9</td>\n",
       "      <td>2002</td>\n",
       "      <td>41711</td>\n",
       "      <td>Diesel</td>\n",
       "      <td>90</td>\n",
       "      <td>1</td>\n",
       "      <td>...</td>\n",
       "      <td>0</td>\n",
       "      <td>1</td>\n",
       "      <td>0</td>\n",
       "      <td>0</td>\n",
       "      <td>0</td>\n",
       "      <td>1</td>\n",
       "      <td>0</td>\n",
       "      <td>0</td>\n",
       "      <td>0</td>\n",
       "      <td>Training</td>\n",
       "    </tr>\n",
       "    <tr>\n",
       "      <th>3</th>\n",
       "      <td>4</td>\n",
       "      <td>TOYOTA Corolla 2.0 D4D HATCHB TERRA 2/3-Doors</td>\n",
       "      <td>14950</td>\n",
       "      <td>26</td>\n",
       "      <td>7</td>\n",
       "      <td>2002</td>\n",
       "      <td>48000</td>\n",
       "      <td>Diesel</td>\n",
       "      <td>90</td>\n",
       "      <td>0</td>\n",
       "      <td>...</td>\n",
       "      <td>0</td>\n",
       "      <td>1</td>\n",
       "      <td>0</td>\n",
       "      <td>0</td>\n",
       "      <td>0</td>\n",
       "      <td>1</td>\n",
       "      <td>0</td>\n",
       "      <td>0</td>\n",
       "      <td>0</td>\n",
       "      <td>Training</td>\n",
       "    </tr>\n",
       "    <tr>\n",
       "      <th>4</th>\n",
       "      <td>5</td>\n",
       "      <td>TOYOTA Corolla 2.0 D4D HATCHB SOL 2/3-Doors</td>\n",
       "      <td>13750</td>\n",
       "      <td>30</td>\n",
       "      <td>3</td>\n",
       "      <td>2002</td>\n",
       "      <td>38500</td>\n",
       "      <td>Diesel</td>\n",
       "      <td>90</td>\n",
       "      <td>0</td>\n",
       "      <td>...</td>\n",
       "      <td>1</td>\n",
       "      <td>1</td>\n",
       "      <td>0</td>\n",
       "      <td>1</td>\n",
       "      <td>0</td>\n",
       "      <td>1</td>\n",
       "      <td>0</td>\n",
       "      <td>0</td>\n",
       "      <td>0</td>\n",
       "      <td>Validation</td>\n",
       "    </tr>\n",
       "  </tbody>\n",
       "</table>\n",
       "<p>5 rows × 39 columns</p>\n",
       "</div>"
      ],
      "text/plain": [
       "   ﻿Id                                           Model  Price  Age_08_04  \\\n",
       "0    1   TOYOTA Corolla 2.0 D4D HATCHB TERRA 2/3-Doors  13500         23   \n",
       "1    2   TOYOTA Corolla 2.0 D4D HATCHB TERRA 2/3-Doors  13750         23   \n",
       "2    3   TOYOTA Corolla 2.0 D4D HATCHB TERRA 2/3-Doors  13950         24   \n",
       "3    4   TOYOTA Corolla 2.0 D4D HATCHB TERRA 2/3-Doors  14950         26   \n",
       "4    5     TOYOTA Corolla 2.0 D4D HATCHB SOL 2/3-Doors  13750         30   \n",
       "\n",
       "   Mfg_Month  Mfg_Year     KM Fuel_Type  HP  Met_Color     ...      \\\n",
       "0         10      2002  46986    Diesel  90          1     ...       \n",
       "1         10      2002  72937    Diesel  90          1     ...       \n",
       "2          9      2002  41711    Diesel  90          1     ...       \n",
       "3          7      2002  48000    Diesel  90          0     ...       \n",
       "4          3      2002  38500    Diesel  90          0     ...       \n",
       "\n",
       "  Powered_Windows  Power_Steering  Radio  Mistlamps  Sport_Model  \\\n",
       "0               1               1      0          0            0   \n",
       "1               0               1      0          0            0   \n",
       "2               0               1      0          0            0   \n",
       "3               0               1      0          0            0   \n",
       "4               1               1      0          1            0   \n",
       "\n",
       "   Backseat_Divider  Metallic_Rim  Radio_cassette  Tow_Bar  Validation  \n",
       "0                 1             0               0        0  Validation  \n",
       "1                 1             0               0        0  Validation  \n",
       "2                 1             0               0        0    Training  \n",
       "3                 1             0               0        0    Training  \n",
       "4                 1             0               0        0  Validation  \n",
       "\n",
       "[5 rows x 39 columns]"
      ]
     },
     "execution_count": 80,
     "metadata": {},
     "output_type": "execute_result"
    }
   ],
   "source": [
    "toyota = pd.read_csv('ToyotaCorolla.csv',sep=',',header=0)\n",
    "toyota.head()"
   ]
  },
  {
   "cell_type": "code",
   "execution_count": 87,
   "metadata": {
    "collapsed": false
   },
   "outputs": [
    {
     "name": "stdout",
     "output_type": "stream",
     "text": [
      "Train:  718 CV:  430 Test:  288\n"
     ]
    }
   ],
   "source": [
    "predictors = ['Age_08_04','KM','Fuel_Type','HP','Automatic','Doors','Quarterly_Tax','Mfg_Guarantee',\n",
    "              'Guarantee_Period','Airco','Automatic_airco','CD_Player','Powered_Windows','Sport_Model','Tow_Bar']\n",
    "predicted = ['Price']\n",
    "train_X,cv_X,train_Y,cv_Y = sklearn.cross_validation.train_test_split(toyota[predictors],toyota[predicted],test_size=0.5)\n",
    "cv_X,test_X,cv_Y,test_Y = sklearn.cross_validation.train_test_split(cv_X,cv_Y,test_size=0.4)\n",
    "print \"Train: \",len(train_Y),\"CV: \",len(cv_Y),\"Test: \",len(test_Y)"
   ]
  },
  {
   "cell_type": "code",
   "execution_count": 81,
   "metadata": {
    "collapsed": false
   },
   "outputs": [
    {
     "name": "stdout",
     "output_type": "stream",
     "text": [
      "﻿Id\n",
      "Model\n",
      "Price\n",
      "Age_08_04\n",
      "Mfg_Month\n",
      "Mfg_Year\n",
      "KM\n",
      "Fuel_Type\n",
      "HP\n",
      "Met_Color\n",
      "Color\n",
      "Automatic\n",
      "CC\n",
      "Doors\n",
      "Cylinders\n",
      "Gears\n",
      "Quarterly_Tax\n",
      "Weight\n",
      "Mfg_Guarantee\n",
      "BOVAG_Guarantee\n",
      "Guarantee_Period\n",
      "ABS\n",
      "Airbag_1\n",
      "Airbag_2\n",
      "Airco\n",
      "Automatic_airco\n",
      "Boardcomputer\n",
      "CD_Player\n",
      "Central_Lock\n",
      "Powered_Windows\n",
      "Power_Steering\n",
      "Radio\n",
      "Mistlamps\n",
      "Sport_Model\n",
      "Backseat_Divider\n",
      "Metallic_Rim\n",
      "Radio_cassette\n",
      "Tow_Bar\n",
      "Validation\n"
     ]
    }
   ],
   "source": [
    "for col in toyota.columns.values: print col"
   ]
  },
  {
   "cell_type": "code",
   "execution_count": 82,
   "metadata": {
    "collapsed": false
   },
   "outputs": [
    {
     "data": {
      "text/plain": [
       "﻿Id                  int64\n",
       "Model               object\n",
       "Price                int64\n",
       "Age_08_04            int64\n",
       "Mfg_Month            int64\n",
       "Mfg_Year             int64\n",
       "KM                   int64\n",
       "Fuel_Type           object\n",
       "HP                   int64\n",
       "Met_Color            int64\n",
       "Color               object\n",
       "Automatic            int64\n",
       "CC                   int64\n",
       "Doors                int64\n",
       "Cylinders            int64\n",
       "Gears                int64\n",
       "Quarterly_Tax        int64\n",
       "Weight               int64\n",
       "Mfg_Guarantee        int64\n",
       "BOVAG_Guarantee      int64\n",
       "Guarantee_Period     int64\n",
       "ABS                  int64\n",
       "Airbag_1             int64\n",
       "Airbag_2             int64\n",
       "Airco                int64\n",
       "Automatic_airco      int64\n",
       "Boardcomputer        int64\n",
       "CD_Player            int64\n",
       "Central_Lock         int64\n",
       "Powered_Windows      int64\n",
       "Power_Steering       int64\n",
       "Radio                int64\n",
       "Mistlamps            int64\n",
       "Sport_Model          int64\n",
       "Backseat_Divider     int64\n",
       "Metallic_Rim         int64\n",
       "Radio_cassette       int64\n",
       "Tow_Bar              int64\n",
       "Validation          object\n",
       "dtype: object"
      ]
     },
     "execution_count": 82,
     "metadata": {},
     "output_type": "execute_result"
    }
   ],
   "source": [
    "toyota.dtypes"
   ]
  },
  {
   "cell_type": "code",
   "execution_count": 162,
   "metadata": {
    "collapsed": false
   },
   "outputs": [],
   "source": [
    "toyota.Fuel_Type = sklearn.preprocessing.LabelEncoder().fit_transform(toyota.Fuel_Type)\n",
    "\n",
    "model = sklearn.tree.DecisionTreeRegressor() #the minimum number of samples for a leaf is \n",
    "#automatically set to 1 here\n",
    "model = model.fit(train_X,train_Y)"
   ]
  },
  {
   "cell_type": "markdown",
   "metadata": {},
   "source": [
    "Answer: Intuitively, as we make more splits, you are going to see an improvement in the training, validaiton, and test sets. However, over time, since the splits are being done with respect to the training data, we will notice improvements in RSquare and RMSE initially for all 3. But, as the tree starts to overfit the training data, we notice that the improvements reverse and start to hurt the accuracy of the model given that the model is not being trained on the held out examples in the cross validation or test set."
   ]
  },
  {
   "cell_type": "markdown",
   "metadata": {},
   "source": [
    "## it says split 1, double check to make sure you did that right."
   ]
  },
  {
   "cell_type": "markdown",
   "metadata": {},
   "source": [
    "### Question 9.3 (a) ii."
   ]
  },
  {
   "cell_type": "code",
   "execution_count": 167,
   "metadata": {
    "collapsed": false
   },
   "outputs": [
    {
     "name": "stdout",
     "output_type": "stream",
     "text": [
      "\n",
      "Training R^2:  1.0\n",
      "Training RMSE:  0.0\n",
      "Cross Validation R^2:  0.83000114637\n",
      "Cross Validation RMSE:  1472.1687269\n",
      "Test R^2:  0.811726566633\n",
      "Test RMSE:  1536.25375305\n"
     ]
    }
   ],
   "source": [
    "print \"\\nTraining R^2: \",model.score(train_X,train_Y)\n",
    "pred_train = model.predict(train_X)\n",
    "print \"Training RMSE: \",np.sqrt(sklearn.metrics.mean_squared_error(train_Y,pred_train))\n",
    "\n",
    "print \"Cross Validation R^2: \",model.score(cv_X,cv_Y)\n",
    "pred_cv = model.predict(cv_X)\n",
    "print \"Cross Validation RMSE: \",np.sqrt(sklearn.metrics.mean_squared_error(cv_Y,pred_cv))\n",
    "\n",
    "print \"Test R^2: \",model.score(test_X,test_Y)\n",
    "pred_test = model.predict(test_X)\n",
    "print \"Test RMSE: \",np.sqrt(sklearn.metrics.mean_squared_error(test_Y,pred_test))\n"
   ]
  },
  {
   "cell_type": "markdown",
   "metadata": {},
   "source": [
    "The tree gets to the point where there is one value in each bucket. So it makes sense that the RMSE and R^2 is perfect because the tree is overfit at this point. So the test set performance is wildly different. The validation set is a lot closer to the test set because the model has not seen the validation set either and the tree has not been pruned using the validation set. So, the error is very similar to the test R^2 and RMSE."
   ]
  },
  {
   "cell_type": "markdown",
   "metadata": {},
   "source": [
    "### Question 9.3 (a) iii."
   ]
  },
  {
   "cell_type": "code",
   "execution_count": 111,
   "metadata": {
    "collapsed": false
   },
   "outputs": [
    {
     "name": "stdout",
     "output_type": "stream",
     "text": [
      "('Age_08_04', 0.83701456101571803)\n",
      "('KM', 0.056385106740197519)\n",
      "('HP', 0.044914445971050612)\n",
      "('Quarterly_Tax', 0.020782531935002384)\n",
      "('Automatic_airco', 0.0076851801096969128)\n",
      "('Doors', 0.0072136204728791512)\n",
      "('Airco', 0.0064297558168447374)\n",
      "('Powered_Windows', 0.0048661075394338385)\n",
      "('Tow_Bar', 0.0036172757982181158)\n",
      "('Mfg_Guarantee', 0.0029381752617290463)\n",
      "('CD_Player', 0.0023236480480727227)\n",
      "('Automatic', 0.0019107128325424345)\n",
      "('Sport_Model', 0.0015581695388026478)\n",
      "('Guarantee_Period', 0.001491803534171069)\n",
      "('Fuel_Type', 0.00086890538564100329)\n"
     ]
    }
   ],
   "source": [
    "for i in range(len(predictors)):\n",
    "    print sorted(zip(predictors,model.feature_importances_),\n",
    "                 key = lambda t: t[1],reverse=True)[i]"
   ]
  },
  {
   "cell_type": "markdown",
   "metadata": {},
   "source": [
    "### Question 9.3 (a) iv."
   ]
  },
  {
   "cell_type": "code",
   "execution_count": 131,
   "metadata": {
    "collapsed": false,
    "scrolled": true
   },
   "outputs": [
    {
     "name": "stdout",
     "output_type": "stream",
     "text": [
      "0.94816522708\n",
      "0.848708575649\n",
      "0.866119127706\n"
     ]
    }
   ],
   "source": [
    "params ={'model__max_depth' : range(2,20),\n",
    "         'model__min_samples_leaf': range(2,10),\n",
    "        'model__min_impurity_split' : [1e-7,1e-6,1e-5,1e-4,1e-3]}\n",
    "tree2 = sklearn.tree.DecisionTreeRegressor()\n",
    "pipe = sklearn.pipeline.Pipeline([('model',tree2)])#,('cv',sklearn.model_selection.cross_val_score())])\n",
    "search = sklearn.grid_search.GridSearchCV(pipe,params)\n",
    "search.fit(train_X,train_Y)\n",
    "print search.score(train_X,train_Y)\n",
    "print search.score(cv_X,cv_Y)\n",
    "print search.score(test_X,test_Y)"
   ]
  },
  {
   "cell_type": "markdown",
   "metadata": {},
   "source": [
    "# call in rpy2 and prune trees in R to show output\n",
    "\n",
    "So a potential alternative is to run a gridsearch that seeks to maximize the cross validation score based on varying max_depth or max_leaf_node or min split size. Then, have that model returned. Since sklearn does not support pruning. \n",
    "\n",
    "Pruning is a technique in machine learning that reduces the size of decision trees by removing sections of the tree that provide little power to classify instances. Pruning reduces the complexity of the final classifier, and hence improves predictive accuracy by the reduction of overfitting.\n",
    "\n",
    "So something that we could also look at is the min_impurity variable which is something we could set. If the impurity is bad, then we know that the predictive ability is bad and instead of doing this in top-down AND then bottom-up sequence, we could simply does this on the way as we go top-down in decision tree creation."
   ]
  },
  {
   "cell_type": "markdown",
   "metadata": {},
   "source": [
    "### Question 9.3 (a) v."
   ]
  },
  {
   "cell_type": "code",
   "execution_count": null,
   "metadata": {
    "collapsed": true
   },
   "outputs": [],
   "source": []
  },
  {
   "cell_type": "markdown",
   "metadata": {},
   "source": [
    "### Question 9.3 (a) vi."
   ]
  },
  {
   "cell_type": "code",
   "execution_count": null,
   "metadata": {
    "collapsed": true
   },
   "outputs": [],
   "source": []
  },
  {
   "cell_type": "markdown",
   "metadata": {},
   "source": [
    "### Question 9.3 (a) vii."
   ]
  },
  {
   "cell_type": "code",
   "execution_count": null,
   "metadata": {
    "collapsed": true
   },
   "outputs": [],
   "source": []
  }
 ],
 "metadata": {
  "kernelspec": {
   "display_name": "Python 2",
   "language": "python",
   "name": "python2"
  },
  "language_info": {
   "codemirror_mode": {
    "name": "ipython",
    "version": 2
   },
   "file_extension": ".py",
   "mimetype": "text/x-python",
   "name": "python",
   "nbconvert_exporter": "python",
   "pygments_lexer": "ipython2",
   "version": "2.7.11"
  }
 },
 "nbformat": 4,
 "nbformat_minor": 0
}
