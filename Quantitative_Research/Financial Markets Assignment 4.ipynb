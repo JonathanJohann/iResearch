{
 "cells": [
  {
   "cell_type": "code",
   "execution_count": 1,
   "metadata": {
    "collapsed": true
   },
   "outputs": [],
   "source": [
    "import os,pandas as pd,numpy as np,matplotlib.pyplot as plt\n",
    "from sklearn.decomposition import PCA\n",
    "from sklearn.linear_model import LinearRegression\n",
    "%matplotlib inline"
   ]
  },
  {
   "cell_type": "code",
   "execution_count": 2,
   "metadata": {
    "collapsed": false
   },
   "outputs": [],
   "source": [
    "yields = pd.read_csv(\"HW4_yields.csv\",sep=',',header=0)\n",
    "factors = pd.read_csv(\"HW4_Factors.csv\",sep=',',header=0)\n",
    "pimco = pd.read_csv(\"HW4_PIMCO.csv\",sep=',',header=0)\n",
    "treasury = pd.read_csv(\"HW4_Treasury.csv\",sep=',',header=0)\n",
    "credit = pd.read_csv(\"HW4_Credit.csv\",sep=',',header=0)"
   ]
  },
  {
   "cell_type": "markdown",
   "metadata": {},
   "source": [
    "# Part 1: Understanding PIMCO Returns"
   ]
  },
  {
   "cell_type": "markdown",
   "metadata": {},
   "source": [
    "#### Question 1: Still need the t-stat"
   ]
  },
  {
   "cell_type": "code",
   "execution_count": 3,
   "metadata": {
    "collapsed": false
   },
   "outputs": [
    {
     "name": "stdout",
     "output_type": "stream",
     "text": [
      "The mean return for PIMCO is:  0.00699131785714\n",
      "The standard deviation of returns for PIMCO is:  0.0124822380286\n"
     ]
    },
    {
     "data": {
      "image/png": "[encoded data removed]",
      "text/plain": [
       "<matplotlib.figure.Figure at 0xaa31cf8>"
      ]
     },
     "metadata": {},
     "output_type": "display_data"
    }
   ],
   "source": [
    "pimco['return'].plot(kind='hist',title='PIMCO monthly returns')\n",
    "print \"The mean return for PIMCO is: \",pimco['return'].mean()\n",
    "print \"The standard deviation of returns for PIMCO is: \",pimco['return'].std()"
   ]
  },
  {
   "cell_type": "markdown",
   "metadata": {},
   "source": [
    "#### Question 2: t-stat's required"
   ]
  },
  {
   "cell_type": "code",
   "execution_count": 31,
   "metadata": {
    "collapsed": false
   },
   "outputs": [
    {
     "name": "stdout",
     "output_type": "stream",
     "text": [
      "For the US Stock (CRSP Value-Weighted):\n",
      "Beta is:  0.0427853211093\n",
      "Alpha is:  0.00347062593574\n",
      "The R^2 is:  0.025315756498 \n",
      "\n",
      "LinearRegression(copy_X=True, fit_intercept=True, n_jobs=1, normalize=False)\n",
      "For the US Aggregate Bond:\n",
      "Beta is:  1.03705427256\n",
      "Alpha is:  0.000782969460732\n",
      "The R^2 is:  0.904696154796\n"
     ]
    }
   ],
   "source": [
    "q2 = pd.merge(factors,pimco,on=['year','month'],how='left')\n",
    "q2['y'] = q2['return'] - q2['Rf']\n",
    "q2['b1'] = q2['US Stock (CRSP Value-Weighted)'] - q2['Rf']\n",
    "q2['b2'] = q2['US Aggregate Bond'] - q2['Rf']\n",
    "\n",
    "from sklearn.linear_model import LinearRegression\n",
    "\n",
    "model1 = LinearRegression()\n",
    "model1.fit(q2.b1.reshape((280,1)),q2.y)\n",
    "print \"For the US Stock (CRSP Value-Weighted):\"\n",
    "print \"Beta is: \",model1.coef_[0]\n",
    "print \"Alpha is: \",model1.intercept_\n",
    "print \"The R^2 is: \",model1.score(q2['b1'].reshape((280,1)),q2['y']),\"\\n\"\n",
    "\n",
    "model2 = LinearRegression()\n",
    "model2.fit(q2['b2'].reshape((280,1)),q2['y'])\n",
    "print model2.fit(q2['b2'].reshape((280,1)),q2['y'])\n",
    "print \"For the US Aggregate Bond:\"\n",
    "print \"Beta is: \",model2.coef_[0]\n",
    "print \"Alpha is: \",model2.intercept_\n",
    "print \"The R^2 is: \",model2.score(q2['b2'].reshape((280,1)),q2['y'])"
   ]
  },
  {
   "cell_type": "markdown",
   "metadata": {},
   "source": [
    "#### Question 3: Still require t-stats and explanation"
   ]
  },
  {
   "cell_type": "code",
   "execution_count": 5,
   "metadata": {
    "collapsed": false
   },
   "outputs": [
    {
     "name": "stdout",
     "output_type": "stream",
     "text": [
      "Barclays US Treasury 2yr\n",
      "Mean:  0.00462723053571\n",
      "Std:  0.00568652252488 \n",
      "\n",
      " Barclays US Treasury 5yr\n",
      "Mean:  0.00566011325\n",
      "Std:  0.0135224636511 \n",
      "\n",
      " Barclays US Treasury 10yr\n",
      "Mean:  0.00601839536429\n",
      "Std:  0.0212795808302 \n",
      "\n",
      " Barclays US Treasury 30yr\n",
      "Mean:  0.00712134668214\n",
      "Std:  0.0342851203816 \n",
      "\n"
     ]
    }
   ],
   "source": [
    "for col in treasury.columns.values[2:]:\n",
    "    print col    \n",
    "    print \"Mean: \",treasury[col].mean()\n",
    "    print \"Std: \",treasury[col].std(),\"\\n\""
   ]
  },
  {
   "cell_type": "markdown",
   "metadata": {},
   "source": [
    "#### Question 4: Needs more analysis"
   ]
  },
  {
   "cell_type": "code",
   "execution_count": 6,
   "metadata": {
    "collapsed": false
   },
   "outputs": [
    {
     "name": "stdout",
     "output_type": "stream",
     "text": [
      "Beta is:  [ 1.1045935  -0.49543031  0.67896917 -0.07855911]\n",
      "Alpha is:  0.00185300116162\n"
     ]
    }
   ],
   "source": [
    "q4 = pd.merge(pimco,treasury,on=['year','month'],how='left')\n",
    "q4 = pd.merge(q4,factors,on=['year','month'],how='left')\n",
    "q4['y'] = q4['return'] - q4['Rf']\n",
    "q4['b1'] = q4['Barclays US Treasury 2yr'] - q4['Rf']\n",
    "q4['b2'] = q4[' Barclays US Treasury 5yr'] - q4['Rf']\n",
    "q4['b3'] = q4[' Barclays US Treasury 10yr'] - q4['Rf']\n",
    "q4['b4'] = q4[' Barclays US Treasury 30yr'] - q4['Rf']\n",
    "\n",
    "model3 = LinearRegression()\n",
    "model3.fit(q4[['b1','b2','b3','b4']],q4.y)\n",
    "print \"Beta is: \",model3.coef_\n",
    "print \"Alpha is: \",model3.intercept_"
   ]
  },
  {
   "cell_type": "markdown",
   "metadata": {},
   "source": [
    "#### Question 5"
   ]
  },
  {
   "cell_type": "code",
   "execution_count": 7,
   "metadata": {
    "collapsed": false
   },
   "outputs": [
    {
     "data": {
      "text/html": [
       "<div>\n",
       "<table border=\"1\" class=\"dataframe\">\n",
       "  <thead>\n",
       "    <tr style=\"text-align: right;\">\n",
       "      <th></th>\n",
       "      <th>Barclays US Treasury 2yr</th>\n",
       "      <th>Barclays US Treasury 5yr</th>\n",
       "      <th>Barclays US Treasury 10yr</th>\n",
       "      <th>Barclays US Treasury 30yr</th>\n",
       "    </tr>\n",
       "  </thead>\n",
       "  <tbody>\n",
       "    <tr>\n",
       "      <th>Barclays US Treasury 2yr</th>\n",
       "      <td>1.000000</td>\n",
       "      <td>0.924646</td>\n",
       "      <td>0.816338</td>\n",
       "      <td>0.670405</td>\n",
       "    </tr>\n",
       "    <tr>\n",
       "      <th>Barclays US Treasury 5yr</th>\n",
       "      <td>0.924646</td>\n",
       "      <td>1.000000</td>\n",
       "      <td>0.952755</td>\n",
       "      <td>0.830665</td>\n",
       "    </tr>\n",
       "    <tr>\n",
       "      <th>Barclays US Treasury 10yr</th>\n",
       "      <td>0.816338</td>\n",
       "      <td>0.952755</td>\n",
       "      <td>1.000000</td>\n",
       "      <td>0.939611</td>\n",
       "    </tr>\n",
       "    <tr>\n",
       "      <th>Barclays US Treasury 30yr</th>\n",
       "      <td>0.670405</td>\n",
       "      <td>0.830665</td>\n",
       "      <td>0.939611</td>\n",
       "      <td>1.000000</td>\n",
       "    </tr>\n",
       "  </tbody>\n",
       "</table>\n",
       "</div>"
      ],
      "text/plain": [
       "                            Barclays US Treasury 2yr  \\\n",
       "Barclays US Treasury 2yr                    1.000000   \n",
       " Barclays US Treasury 5yr                   0.924646   \n",
       " Barclays US Treasury 10yr                  0.816338   \n",
       " Barclays US Treasury 30yr                  0.670405   \n",
       "\n",
       "                             Barclays US Treasury 5yr  \\\n",
       "Barclays US Treasury 2yr                     0.924646   \n",
       " Barclays US Treasury 5yr                    1.000000   \n",
       " Barclays US Treasury 10yr                   0.952755   \n",
       " Barclays US Treasury 30yr                   0.830665   \n",
       "\n",
       "                             Barclays US Treasury 10yr  \\\n",
       "Barclays US Treasury 2yr                      0.816338   \n",
       " Barclays US Treasury 5yr                     0.952755   \n",
       " Barclays US Treasury 10yr                    1.000000   \n",
       " Barclays US Treasury 30yr                    0.939611   \n",
       "\n",
       "                             Barclays US Treasury 30yr  \n",
       "Barclays US Treasury 2yr                      0.670405  \n",
       " Barclays US Treasury 5yr                     0.830665  \n",
       " Barclays US Treasury 10yr                    0.939611  \n",
       " Barclays US Treasury 30yr                    1.000000  "
      ]
     },
     "execution_count": 7,
     "metadata": {},
     "output_type": "execute_result"
    }
   ],
   "source": [
    "treasury[list(treasury.columns.values[2:])].corr()"
   ]
  },
  {
   "cell_type": "markdown",
   "metadata": {
    "collapsed": true
   },
   "source": [
    "#### Question 6 isn't a question but Question 7 is."
   ]
  },
  {
   "cell_type": "code",
   "execution_count": 8,
   "metadata": {
    "collapsed": false
   },
   "outputs": [
    {
     "data": {
      "text/html": [
       "<div>\n",
       "<table border=\"1\" class=\"dataframe\">\n",
       "  <thead>\n",
       "    <tr style=\"text-align: right;\">\n",
       "      <th></th>\n",
       "      <th>Barclays US Treasury 2yr</th>\n",
       "      <th>Barclays US Treasury 5yr</th>\n",
       "      <th>Barclays US Treasury 10yr</th>\n",
       "      <th>Barclays US Treasury 30yr</th>\n",
       "    </tr>\n",
       "  </thead>\n",
       "  <tbody>\n",
       "    <tr>\n",
       "      <th>Barclays US Treasury 2yr</th>\n",
       "      <td>0.000032</td>\n",
       "      <td>0.000071</td>\n",
       "      <td>0.000099</td>\n",
       "      <td>0.000131</td>\n",
       "    </tr>\n",
       "    <tr>\n",
       "      <th>Barclays US Treasury 5yr</th>\n",
       "      <td>0.000071</td>\n",
       "      <td>0.000183</td>\n",
       "      <td>0.000274</td>\n",
       "      <td>0.000385</td>\n",
       "    </tr>\n",
       "    <tr>\n",
       "      <th>Barclays US Treasury 10yr</th>\n",
       "      <td>0.000099</td>\n",
       "      <td>0.000274</td>\n",
       "      <td>0.000453</td>\n",
       "      <td>0.000686</td>\n",
       "    </tr>\n",
       "    <tr>\n",
       "      <th>Barclays US Treasury 30yr</th>\n",
       "      <td>0.000131</td>\n",
       "      <td>0.000385</td>\n",
       "      <td>0.000686</td>\n",
       "      <td>0.001175</td>\n",
       "    </tr>\n",
       "  </tbody>\n",
       "</table>\n",
       "</div>"
      ],
      "text/plain": [
       "                            Barclays US Treasury 2yr  \\\n",
       "Barclays US Treasury 2yr                    0.000032   \n",
       " Barclays US Treasury 5yr                   0.000071   \n",
       " Barclays US Treasury 10yr                  0.000099   \n",
       " Barclays US Treasury 30yr                  0.000131   \n",
       "\n",
       "                             Barclays US Treasury 5yr  \\\n",
       "Barclays US Treasury 2yr                     0.000071   \n",
       " Barclays US Treasury 5yr                    0.000183   \n",
       " Barclays US Treasury 10yr                   0.000274   \n",
       " Barclays US Treasury 30yr                   0.000385   \n",
       "\n",
       "                             Barclays US Treasury 10yr  \\\n",
       "Barclays US Treasury 2yr                      0.000099   \n",
       " Barclays US Treasury 5yr                     0.000274   \n",
       " Barclays US Treasury 10yr                    0.000453   \n",
       " Barclays US Treasury 30yr                    0.000686   \n",
       "\n",
       "                             Barclays US Treasury 30yr  \n",
       "Barclays US Treasury 2yr                      0.000131  \n",
       " Barclays US Treasury 5yr                     0.000385  \n",
       " Barclays US Treasury 10yr                    0.000686  \n",
       " Barclays US Treasury 30yr                    0.001175  "
      ]
     },
     "execution_count": 8,
     "metadata": {},
     "output_type": "execute_result"
    }
   ],
   "source": [
    "treasury[list(treasury.columns.values[2:])].cov()"
   ]
  },
  {
   "cell_type": "markdown",
   "metadata": {},
   "source": [
    "#### Question 8"
   ]
  },
  {
   "cell_type": "code",
   "execution_count": 36,
   "metadata": {
    "collapsed": false
   },
   "outputs": [
    {
     "name": "stdout",
     "output_type": "stream",
     "text": [
      "[  1.75067938e-03   8.31706894e-05   1.82347486e-06   7.81005826e-06]\n",
      "[[ 0.10230838  0.34782077 -0.68793983 -0.6287229 ]\n",
      " [ 0.29080538  0.63264996  0.64704558 -0.31067391]\n",
      " [ 0.49749406  0.43529463 -0.32432089  0.67663447]\n",
      " [ 0.81084208 -0.53785995  0.05372858 -0.22439926]]\n"
     ]
    }
   ],
   "source": [
    "w, v = np.linalg.eig(treasury[treasury.columns.values[2:]].cov().as_matrix())\n",
    "print w\n",
    "print v"
   ]
  },
  {
   "cell_type": "code",
   "execution_count": null,
   "metadata": {
    "collapsed": true
   },
   "outputs": [],
   "source": []
  },
  {
   "cell_type": "code",
   "execution_count": null,
   "metadata": {
    "collapsed": true
   },
   "outputs": [],
   "source": []
  },
  {
   "cell_type": "markdown",
   "metadata": {},
   "source": [
    "#### Question 10"
   ]
  },
  {
   "cell_type": "code",
   "execution_count": 48,
   "metadata": {
    "collapsed": false
   },
   "outputs": [
    {
     "name": "stdout",
     "output_type": "stream",
     "text": [
      "The variance is:  0.00175067937895\n",
      "The eigenvalue is also:  0.00175067937895\n"
     ]
    }
   ],
   "source": [
    "treasury['PC1'] = v[0][0] * treasury['Barclays US Treasury 2yr'] + v[1][0] * treasury[' Barclays US Treasury 5yr'] + v[2][0] * treasury[' Barclays US Treasury 10yr'] + v[3][0] * treasury[' Barclays US Treasury 30yr']\n",
    "print \"The variance is: \",treasury.PC1.var()\n",
    "print \"The eigenvalue is also: \",w[0]"
   ]
  },
  {
   "cell_type": "code",
   "execution_count": null,
   "metadata": {
    "collapsed": true
   },
   "outputs": [],
   "source": []
  },
  {
   "cell_type": "code",
   "execution_count": null,
   "metadata": {
    "collapsed": true
   },
   "outputs": [],
   "source": []
  },
  {
   "cell_type": "markdown",
   "metadata": {},
   "source": [
    "#### Question 12"
   ]
  },
  {
   "cell_type": "code",
   "execution_count": 49,
   "metadata": {
    "collapsed": false
   },
   "outputs": [
    {
     "name": "stdout",
     "output_type": "stream",
     "text": [
      "The variance is:  8.31706894409e-05\n",
      "The eigenvalue is also:  8.31706894409e-05\n"
     ]
    }
   ],
   "source": [
    "treasury['PC2'] = v[0][1] * treasury['Barclays US Treasury 2yr'] + v[1][1] * treasury[' Barclays US Treasury 5yr'] + v[2][1] * treasury[' Barclays US Treasury 10yr'] + v[3][1] * treasury[' Barclays US Treasury 30yr']\n",
    "print \"The variance is: \",treasury.PC2.var()\n",
    "print \"The eigenvalue is also: \",w[1]"
   ]
  },
  {
   "cell_type": "markdown",
   "metadata": {},
   "source": [
    "#### Question 13: Still need to divide by sum G and sum D"
   ]
  },
  {
   "cell_type": "code",
   "execution_count": 50,
   "metadata": {
    "collapsed": false
   },
   "outputs": [
    {
     "data": {
      "text/html": [
       "<div>\n",
       "<table border=\"1\" class=\"dataframe\">\n",
       "  <thead>\n",
       "    <tr style=\"text-align: right;\">\n",
       "      <th></th>\n",
       "      <th>PC1</th>\n",
       "      <th>PC2</th>\n",
       "    </tr>\n",
       "  </thead>\n",
       "  <tbody>\n",
       "    <tr>\n",
       "      <th>PC1</th>\n",
       "      <td>1.000000e+00</td>\n",
       "      <td>6.665416e-16</td>\n",
       "    </tr>\n",
       "    <tr>\n",
       "      <th>PC2</th>\n",
       "      <td>6.665416e-16</td>\n",
       "      <td>1.000000e+00</td>\n",
       "    </tr>\n",
       "  </tbody>\n",
       "</table>\n",
       "</div>"
      ],
      "text/plain": [
       "              PC1           PC2\n",
       "PC1  1.000000e+00  6.665416e-16\n",
       "PC2  6.665416e-16  1.000000e+00"
      ]
     },
     "execution_count": 50,
     "metadata": {},
     "output_type": "execute_result"
    }
   ],
   "source": [
    "treasury[['PC1','PC2']].corr()"
   ]
  },
  {
   "cell_type": "code",
   "execution_count": null,
   "metadata": {
    "collapsed": true
   },
   "outputs": [],
   "source": []
  },
  {
   "cell_type": "markdown",
   "metadata": {},
   "source": [
    "# Part 2: The Vasicek Model"
   ]
  },
  {
   "cell_type": "markdown",
   "metadata": {},
   "source": [
    "### Question 1: Estimation using Time-Series Data"
   ]
  },
  {
   "cell_type": "code",
   "execution_count": 10,
   "metadata": {
    "collapsed": false
   },
   "outputs": [],
   "source": [
    "yields['forward'] = yields.yield3mo.shift(1)"
   ]
  },
  {
   "cell_type": "code",
   "execution_count": 11,
   "metadata": {
    "collapsed": false
   },
   "outputs": [
    {
     "data": {
      "text/html": [
       "<div>\n",
       "<table border=\"1\" class=\"dataframe\">\n",
       "  <thead>\n",
       "    <tr style=\"text-align: right;\">\n",
       "      <th></th>\n",
       "      <th>date</th>\n",
       "      <th>yield3mo</th>\n",
       "      <th>yield1</th>\n",
       "      <th>yield2</th>\n",
       "      <th>yield3</th>\n",
       "      <th>yield4</th>\n",
       "      <th>yield5</th>\n",
       "      <th>forward</th>\n",
       "    </tr>\n",
       "  </thead>\n",
       "  <tbody>\n",
       "    <tr>\n",
       "      <th>650</th>\n",
       "      <td>20060831</td>\n",
       "      <td>0.048762</td>\n",
       "      <td>0.048095</td>\n",
       "      <td>0.045986</td>\n",
       "      <td>0.045298</td>\n",
       "      <td>0.045212</td>\n",
       "      <td>0.045231</td>\n",
       "      <td>0.049400</td>\n",
       "    </tr>\n",
       "    <tr>\n",
       "      <th>651</th>\n",
       "      <td>20060929</td>\n",
       "      <td>0.047408</td>\n",
       "      <td>0.047513</td>\n",
       "      <td>0.044983</td>\n",
       "      <td>0.044409</td>\n",
       "      <td>0.044199</td>\n",
       "      <td>0.044132</td>\n",
       "      <td>0.048762</td>\n",
       "    </tr>\n",
       "    <tr>\n",
       "      <th>652</th>\n",
       "      <td>20061031</td>\n",
       "      <td>0.049181</td>\n",
       "      <td>0.047389</td>\n",
       "      <td>0.045222</td>\n",
       "      <td>0.044352</td>\n",
       "      <td>0.044055</td>\n",
       "      <td>0.044026</td>\n",
       "      <td>0.047408</td>\n",
       "    </tr>\n",
       "    <tr>\n",
       "      <th>653</th>\n",
       "      <td>20061130</td>\n",
       "      <td>0.048781</td>\n",
       "      <td>0.046931</td>\n",
       "      <td>0.044457</td>\n",
       "      <td>0.043328</td>\n",
       "      <td>0.042935</td>\n",
       "      <td>0.042906</td>\n",
       "      <td>0.049181</td>\n",
       "    </tr>\n",
       "    <tr>\n",
       "      <th>654</th>\n",
       "      <td>20061229</td>\n",
       "      <td>0.048676</td>\n",
       "      <td>0.048190</td>\n",
       "      <td>0.046082</td>\n",
       "      <td>0.045423</td>\n",
       "      <td>0.045203</td>\n",
       "      <td>0.045184</td>\n",
       "      <td>0.048781</td>\n",
       "    </tr>\n",
       "  </tbody>\n",
       "</table>\n",
       "</div>"
      ],
      "text/plain": [
       "         date  yield3mo    yield1    yield2    yield3    yield4    yield5  \\\n",
       "650  20060831  0.048762  0.048095  0.045986  0.045298  0.045212  0.045231   \n",
       "651  20060929  0.047408  0.047513  0.044983  0.044409  0.044199  0.044132   \n",
       "652  20061031  0.049181  0.047389  0.045222  0.044352  0.044055  0.044026   \n",
       "653  20061130  0.048781  0.046931  0.044457  0.043328  0.042935  0.042906   \n",
       "654  20061229  0.048676  0.048190  0.046082  0.045423  0.045203  0.045184   \n",
       "\n",
       "      forward  \n",
       "650  0.049400  \n",
       "651  0.048762  \n",
       "652  0.047408  \n",
       "653  0.049181  \n",
       "654  0.048781  "
      ]
     },
     "execution_count": 11,
     "metadata": {},
     "output_type": "execute_result"
    }
   ],
   "source": [
    "yields.tail()"
   ]
  },
  {
   "cell_type": "markdown",
   "metadata": {},
   "source": [
    "#### Question 1: Part (a)"
   ]
  },
  {
   "cell_type": "code",
   "execution_count": 12,
   "metadata": {
    "collapsed": false
   },
   "outputs": [
    {
     "name": "stdout",
     "output_type": "stream",
     "text": [
      "Beta is:  1.0\n",
      "Alpha is:  6.93889390391e-18\n"
     ]
    }
   ],
   "source": [
    "model4 = LinearRegression()\n",
    "model4.fit(yields.yield3mo[:-1].reshape((654,1)),yields.forward[1:])\n",
    "print \"Beta is: \",model4.coef_[0]\n",
    "print \"Alpha is: \",model4.intercept_"
   ]
  },
  {
   "cell_type": "markdown",
   "metadata": {},
   "source": [
    "#### Question 1: Part (b)"
   ]
  },
  {
   "cell_type": "code",
   "execution_count": 13,
   "metadata": {
    "collapsed": false
   },
   "outputs": [
    {
     "name": "stdout",
     "output_type": "stream",
     "text": [
      "The mean for 3 month yield return is:  0.0499693177328\n"
     ]
    }
   ],
   "source": [
    "print \"The mean for 3 month yield return is: \",yields.yield3mo.mean()"
   ]
  },
  {
   "cell_type": "code",
   "execution_count": 23,
   "metadata": {
    "collapsed": true
   },
   "outputs": [],
   "source": [
    "yields['y'] = yields['forward'] - yields['yield3mo']\n",
    "yields['val'] = ((yields['yield3mo'] * -1) + yields.yield3mo.mean())*(1/12.0)"
   ]
  },
  {
   "cell_type": "code",
   "execution_count": 51,
   "metadata": {
    "collapsed": false
   },
   "outputs": [
    {
     "name": "stdout",
     "output_type": "stream",
     "text": [
      "k value is:  0.160404979981\n",
      "The sigma value for volatility of 3-month treasury rates is:  0.0270439622119\n"
     ]
    }
   ],
   "source": [
    "model5 = LinearRegression()\n",
    "model5.fit(yields.val[1:].reshape((654,1)),yields.y[1:])\n",
    "print \"k value is: \",model5.coef_[0]"
   ]
  },
  {
   "cell_type": "markdown",
   "metadata": {},
   "source": [
    "#### Question 1: Part (c)"
   ]
  },
  {
   "cell_type": "code",
   "execution_count": 52,
   "metadata": {
    "collapsed": false
   },
   "outputs": [
    {
     "name": "stdout",
     "output_type": "stream",
     "text": [
      "The sigma value for volatility of 3-month treasury rates is:  0.0270439622119\n"
     ]
    }
   ],
   "source": [
    "print \"The sigma value for volatility of 3-month treasury rates is: \",yields.yield3mo.std()"
   ]
  },
  {
   "cell_type": "markdown",
   "metadata": {},
   "source": [
    "### Question 2: Bond Valuation"
   ]
  },
  {
   "cell_type": "code",
   "execution_count": null,
   "metadata": {
    "collapsed": true
   },
   "outputs": [],
   "source": []
  }
 ],
 "metadata": {
  "kernelspec": {
   "display_name": "Python 2",
   "language": "python",
   "name": "python2"
  },
  "language_info": {
   "codemirror_mode": {
    "name": "ipython",
    "version": 2
   },
   "file_extension": ".py",
   "mimetype": "text/x-python",
   "name": "python",
   "nbconvert_exporter": "python",
   "pygments_lexer": "ipython2",
   "version": "2.7.11"
  }
 },
 "nbformat": 4,
 "nbformat_minor": 0
}
