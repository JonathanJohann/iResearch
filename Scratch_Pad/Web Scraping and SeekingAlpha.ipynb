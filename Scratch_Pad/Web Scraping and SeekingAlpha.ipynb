{
 "cells": [
  {
   "cell_type": "markdown",
   "metadata": {},
   "source": [
    "# Beautiful Soup and SeekingAlpha\n",
    "\n",
    "So, I really want to be able to apply what I've learned in data science to finance. Therefore, I thought that scraping SeekingAlpha to see how generated articles might impact their prices. Of course, this would be a much larger project and I might not attend to it immediately; but I'd still like to try out scraping websites with BeautifulSoup. So here's a start:\n",
    "\n",
    "PS: If you're interested in getting better at scraping websites, this was a great start and an inspiration for me. http://web.stanford.edu/~zlotnick/TextAsData/Web_Scraping_with_Beautiful_Soup.html"
   ]
  },
  {
   "cell_type": "code",
   "execution_count": 4,
   "metadata": {
    "collapsed": false
   },
   "outputs": [],
   "source": [
    "from bs4 import BeautifulSoup\n",
    "import urllib\n",
    "r = urllib.urlopen('http://seekingalpha.com/stock-ideas').read()\n",
    "soup = BeautifulSoup(r,\"html\")"
   ]
  },
  {
   "cell_type": "code",
   "execution_count": 5,
   "metadata": {
    "collapsed": false
   },
   "outputs": [
    {
     "name": "stdout",
     "output_type": "stream",
     "text": [
      "<class 'bs4.BeautifulSoup'>\n",
      "<!DOCTYPE html>\n",
      "<html itemscope=\"\" itemtype=\"http://schema.org/WebPage\" lang=\"en\">\n",
      " <head>\n",
      "  <meta charset=\"utf-8\"/>\n",
      "  <meta content=\"IE=edge\" http-equiv=\"X-UA-Compatible\"/>\n",
      "  <meta content=\"width=device-width\" name=\"viewport\"/>\n",
      "  <link href=\"https://staticseekingalpha.a.ssl.fastly.net\" rel=\"dns-prefetch\"/>\n",
      "  <link href=\"https://staticseekingalpha1.a.ssl.fastly.net\" rel=\"dns-prefetch\"/>\n",
      "  <link href=\"https://staticseekingalpha2.a.ssl.fastly.net\" rel=\"dns-prefetch\"/>\n",
      "  <link href=\"https://staticseekingalpha3.a.ssl.fastly.net\" rel=\"dns-prefetch\"/>\n",
      "  <link href=\"http://www.googletagservices.com\" rel=\"dns-prefetch\"/>\n",
      "  <link href=\"//partner.googleadservices.com\" rel=\"dns-prefetch\"/>\n",
      "  <link href=\"//ad.doubleclick.net\" rel=\"dns-prefetch\"/>\n",
      "  <link href=\"//tpc.googlesyndication.com\" rel=\"dns-prefetch\"/>\n",
      "  <link href=\"//pagead2.googlesyndication.com\" rel=\"dns-prefetch\"/>\n",
      "  <link href=\"//api.petametrics.com\" rel=\"dns-prefetch\"/>\n",
      "  <link href=\"//cdn.krxd.net\" rel=\"dns-prefetch\"/>\n",
      "  <link href=\"\n"
     ]
    }
   ],
   "source": [
    "print type(soup)\n",
    "\n",
    "print soup.prettify()[0:1000]"
   ]
  },
  {
   "cell_type": "code",
   "execution_count": 8,
   "metadata": {
    "collapsed": false,
    "scrolled": true
   },
   "outputs": [],
   "source": [
    "from IPython.display import HTML\n",
    "#HTML('http://seekingalpha.com/stock-ideas')    "
   ]
  },
  {
   "cell_type": "markdown",
   "metadata": {},
   "source": [
    "So if you unsuppress the comment, you get an idea of what the web page looks like. For now, I've suppressed the output due to the fact that it covered or caused iPython to not show the rest of the notebook."
   ]
  },
  {
   "cell_type": "code",
   "execution_count": 7,
   "metadata": {
    "collapsed": false,
    "scrolled": false
   },
   "outputs": [
    {
     "data": {
      "text/plain": [
       "<li article_id=\"4026061\" class=\"article media\"><div class=\"media-left\"><a href=\"/author/dhierin-bechai/articles\"><img height=\"40\" src=\"https://staticseekingalpha.a.ssl.fastly.net/images/users_profile/009/932/311/medium_pic.png?1465608472\" width=\"40\"/></a></div><div class=\"media-body\"><a class=\"a-title\" href=\"/article/4026061-look-boeings-commercial-orders-deliveries-october-2016\" sasource=\"list_1\">A Look At Boeing's Commercial Orders And Deliveries In October 2016</a><div class=\"a-info\"><span><a href=\"/symbol/BA\" title=\"The Boeing Company\">BA</a></span> <span class=\"bullet\">\\u2022</span> <span>Today, 8:15 PM</span> <span class=\"bullet\">\\u2022</span> <a href=\"/author/dhierin-bechai/articles\">Dhierin Bechai</a></div></div></li>"
      ]
     },
     "execution_count": 7,
     "metadata": {},
     "output_type": "execute_result"
    }
   ],
   "source": [
    "letters = soup.find_all(\"li\",class_=\"article media\")\n",
    "letters[0]"
   ]
  },
  {
   "cell_type": "markdown",
   "metadata": {},
   "source": [
    "I did a little digging around on the website and it looks like \"article media\" is the class where all of the research reports are coming from. Since the page is a list of stock pitches, I realized pretty quickly that I needed to use the \"li\" class. Of course, people can use other things like \"ul\", etc. But these ideas gave me a starting point. (Also helped that I had to know a little html to create this website.)"
   ]
  },
  {
   "cell_type": "code",
   "execution_count": null,
   "metadata": {
    "collapsed": true
   },
   "outputs": [],
   "source": []
  }
 ],
 "metadata": {
  "kernelspec": {
   "display_name": "Python 2",
   "language": "python",
   "name": "python2"
  },
  "language_info": {
   "codemirror_mode": {
    "name": "ipython",
    "version": 2
   },
   "file_extension": ".py",
   "mimetype": "text/x-python",
   "name": "python",
   "nbconvert_exporter": "python",
   "pygments_lexer": "ipython2",
   "version": "2.7.11"
  }
 },
 "nbformat": 4,
 "nbformat_minor": 0
}
